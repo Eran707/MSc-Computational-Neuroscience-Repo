{
  "nbformat": 4,
  "nbformat_minor": 0,
  "metadata": {
    "kernelspec": {
      "name": "python3",
      "display_name": "Python 3"
    },
    "language_info": {
      "codemirror_mode": {
        "name": "ipython",
        "version": 3
      },
      "file_extension": ".py",
      "mimetype": "text/x-python",
      "name": "python",
      "nbconvert_exporter": "python",
      "pygments_lexer": "ipython3",
      "version": "3.7.1"
    },
    "colab": {
      "name": "Copy of Single Compartment model.ipynb",
      "provenance": [],
      "toc_visible": true,
      "include_colab_link": true
    },
    "accelerator": "GPU"
  },
  "cells": [
    {
      "cell_type": "markdown",
      "metadata": {
        "id": "view-in-github",
        "colab_type": "text"
      },
      "source": [
        "<a href=\"https://colab.research.google.com/github/Eran707/MSc-Computational-Neuroscience-Repo/blob/master/V3_Single_Compartment_model.ipynb\" target=\"_parent\"><img src=\"https://colab.research.google.com/assets/colab-badge.svg\" alt=\"Open In Colab\"/></a>"
      ]
    },
    {
      "cell_type": "markdown",
      "metadata": {
        "id": "Ws7sj99GPFLG",
        "colab_type": "text"
      },
      "source": [
        "# Single compartment pump leak model\n",
        "\n",
        "Coded by Eran Shorer (piggybacking on Kira Dusterwald and Alan Kay)"
      ]
    },
    {
      "cell_type": "markdown",
      "metadata": {
        "id": "Gy8QPBq9PFLI",
        "colab_type": "text"
      },
      "source": [
        "## Introduction\n",
        "\n",
        "Herein I attempt to model the dynamics of a single neuron with emphasis Chloride homeostasis to better understand processes occuring in epilepsy. \n",
        "\n",
        "A Neuron is a type of cell in the nervous system that is able to communicate with other neurons via electrochemical signals. \n",
        "The trillions of communications that occur in the brain give rise to complex animal behaviours.\n",
        "Errors in this signalling pathway therefore can lead disorders in the nervous system.\n",
        "To understand how a network of cells function we can start off by understanding the dynamics of a single neuron. \n",
        "\n",
        "\n",
        "\n"
      ]
    },
    {
      "cell_type": "markdown",
      "metadata": {
        "id": "mvsT0QVmUIch",
        "colab_type": "text"
      },
      "source": [
        "![alt text](https://drive.google.com/uc?id=1GT7WU9e0qYCdLHlDstU_SonNyBc5PP3b)"
      ]
    },
    {
      "cell_type": "markdown",
      "metadata": {
        "id": "81kk5xaMWQZ_",
        "colab_type": "text"
      },
      "source": [
        "Above we have the cell body of a single neuron. \n",
        "\n",
        "(A) Ions:\n",
        "\n",
        "\n",
        "*   Sodium (Na), charge of +1\n",
        "*   Potassium (K), charge of +1\n",
        "*   Chloride (Cl), charge of -1\n",
        "*   Impermeant anions (X) charge of z\n",
        "\n",
        "(B) ATPase: \n",
        "\n",
        "ATP dependant Sodium Potassium Pump which pumps 3 Na out of the neuron for every 2 K it pumps in.\n",
        "\n",
        "(C) KCC2:\n",
        "\n",
        "Potassium-Chloride Cotransporter 2. Pumps out potassium and chloride.\n",
        "\n"
      ]
    },
    {
      "cell_type": "markdown",
      "metadata": {
        "id": "S2qrKey9PFLI",
        "colab_type": "text"
      },
      "source": [
        "## Module installation:\n",
        "\n",
        "numpy - for mathematical operations\n",
        "matplotlib - for graphing\n",
        "seaborn - for graphing"
      ]
    },
    {
      "cell_type": "code",
      "metadata": {
        "id": "pmknOJZnPFLJ",
        "colab_type": "code",
        "outputId": "05225bad-cd7e-4820-e627-402fa5b31aec",
        "colab": {
          "base_uri": "https://localhost:8080/",
          "height": 35
        }
      },
      "source": [
        "import numpy as np\n",
        "import matplotlib.pyplot as plt\n",
        "import seaborn as sns\n",
        "print('modules installed')"
      ],
      "execution_count": 7,
      "outputs": [
        {
          "output_type": "stream",
          "text": [
            "modules installed\n"
          ],
          "name": "stdout"
        }
      ]
    },
    {
      "cell_type": "markdown",
      "metadata": {
        "id": "Y3tSOQIMPFLU",
        "colab_type": "text"
      },
      "source": [
        "## Constants:\n",
        "\n",
        "R = Gas Constant\n",
        "F = Faradays Constant\n",
        "T = Temperature in Kelvin\n",
        "RTF is used as a combined variable\n"
      ]
    },
    {
      "cell_type": "code",
      "metadata": {
        "id": "LG87vNA9PFLV",
        "colab_type": "code",
        "outputId": "c02d9662-1f03-4924-c463-3d89f4405250",
        "colab": {
          "base_uri": "https://localhost:8080/",
          "height": 35
        }
      },
      "source": [
        "R = 8.31466  # J/(Kelvin.mol) #Universal Gas Constant\n",
        "F = 96485.33 #C/mol # Faraday Constant in Volts\n",
        "T = 310.15   #Kelvin # Absolute temperature (37C)\n",
        "RTF = R*T/F  # J/C\n",
        "print('Constants set')"
      ],
      "execution_count": 8,
      "outputs": [
        {
          "output_type": "stream",
          "text": [
            "Constants set\n"
          ],
          "name": "stdout"
        }
      ]
    },
    {
      "cell_type": "markdown",
      "metadata": {
        "id": "ajykeC2DPFLc",
        "colab_type": "text"
      },
      "source": [
        "## Parameters:\n",
        "\n",
        "### Cellular dimensions\n",
        "We will be using a sphere as the model of the cell. \n",
        "The area of the sphere (SA) will be fixed but the volume (w) will change based on the osmotic properties of the cell.\n",
        "C_m refers to the membrane capacitance and the FinvCSA is a composite parameter.\n"
      ]
    },
    {
      "cell_type": "markdown",
      "metadata": {
        "id": "Op90SBN-PFLd",
        "colab_type": "text"
      },
      "source": [
        "![alt text](https://drive.google.com/uc?id=1G0SIsSn9tm8BjiREZz3ttojXAurrEjkj)"
      ]
    },
    {
      "cell_type": "code",
      "metadata": {
        "id": "doGHcTBkPFLd",
        "colab_type": "code",
        "colab": {}
      },
      "source": [
        "rad = 5*1e-5            #Radius of the single compartment (um converted to dm)\n",
        "w = (4/3)*np.pi*rad**3  #L #Volume of a single compartment (Sphere)\n",
        "SA = 4*np.pi*rad**2     #dm^2 #Surface area of a sphere \n",
        "C_m = 1e-4              #(F/dm^2) #Unit of membrane capacitance\n",
        "FinvCSA = F/(C_m*SA)"
      ],
      "execution_count": 0,
      "outputs": []
    },
    {
      "cell_type": "markdown",
      "metadata": {
        "id": "R83FAfcDPFLh",
        "colab_type": "text"
      },
      "source": [
        "Q: Why are we using a sphere and not a cylinder?\n"
      ]
    },
    {
      "cell_type": "markdown",
      "metadata": {
        "id": "FWfK2WrvPFLh",
        "colab_type": "text"
      },
      "source": [
        "### Ionic properties \n",
        "\n",
        "Here I will define the baseline Osmolarity and hence calculate the concentrations of the ions of interest (Na+, K+, Cl-, and X(impermeant anions)). Both the extracellular and intracellular osmolarities are calculated here.\n",
        "We start by setting the osmolarity to be 300 x 10^-3 Molar. \n",
        "Omsols of negative and positive ions must be 150 X10^-3 Molar respectively. "
      ]
    },
    {
      "cell_type": "code",
      "metadata": {
        "id": "5sItYXg0PFLi",
        "colab_type": "code",
        "outputId": "7af49854-d588-4bfe-93df-6db5ee4f2d18",
        "colab": {
          "base_uri": "https://localhost:8080/",
          "height": 272
        }
      },
      "source": [
        "OsmolO = 300e-3     #M #Fixed osmolarity\n",
        "\n",
        "ConcO_K = 3e-3      #M \n",
        "ConcO_X = 0         #M #No anions outside cell\n",
        "zO_X = 0            #charge of extracellular anions\n",
        "ConcO_Cl=(OsmolO-ConcO_X)/2 # calc clo from charge and osmotic balance \n",
        "ConcO_Na = ConcO_Cl-ConcO_K-ConcO_X*zO_X # calc nao \n",
        "\n",
        "ConcI_X = 50*1e-3   #Concentration of intracellular anion (M)\n",
        "ConcI_Cl = (OsmolO - 2*ConcI_X)/2\n",
        "ConcI_Na = 0.8*(OsmolO-ConcI_Cl-ConcI_X)\n",
        "ConcI_K = 0.2*(OsmolO-ConcI_Cl-ConcI_X)\n",
        "\n",
        "print(\"Extracellular concentrations: (Molar)\")\n",
        "print(\"---------------------\")\n",
        "print('Na: ',ConcO_Na)\n",
        "print('K: ',ConcO_K)\n",
        "print('Cl: ', ConcO_Cl)\n",
        "print('X: ', ConcO_X)\n",
        "print(\"\")\n",
        "print(\"Intracellular concentrations: (Molar)\")\n",
        "print(\"---------------------\")\n",
        "print('Na: ',ConcI_Na)\n",
        "print('K: ',ConcI_K)\n",
        "print('Cl: ', ConcI_Cl)\n",
        "print('X: ', ConcI_X)\n",
        "print(\"\")"
      ],
      "execution_count": 3,
      "outputs": [
        {
          "output_type": "stream",
          "text": [
            "Extracellular concentrations: (Molar)\n",
            "---------------------\n",
            "Na:  0.147\n",
            "K:  0.003\n",
            "Cl:  0.15\n",
            "X:  0\n",
            "\n",
            "Intracellular concentrations: (Molar)\n",
            "---------------------\n",
            "Na:  0.12000000000000002\n",
            "K:  0.030000000000000006\n",
            "Cl:  0.09999999999999999\n",
            "X:  0.05\n",
            "\n"
          ],
          "name": "stdout"
        }
      ]
    },
    {
      "cell_type": "markdown",
      "metadata": {
        "id": "05TAiS_1PFLl",
        "colab_type": "text"
      },
      "source": [
        "### Channel and pump properties"
      ]
    },
    {
      "cell_type": "code",
      "metadata": {
        "id": "zRYCMoWKPFLm",
        "colab_type": "code",
        "colab": {
          "base_uri": "https://localhost:8080/",
          "height": 264
        },
        "outputId": "97030823-a05f-41f9-e285-081396ecaec7"
      },
      "source": [
        "g_Na = 0.01*0.1/F # S/dm2 #Na Leak conductance ### Not too sure why I need to / by F (according to Kira and Alan)\n",
        "g_K = 0.3*0.1/F     # S/dm2 #K Leak conductance\n",
        "g_Cl = 0.2*0.1/F   # S/dm2 #Cl Leak conductance\n",
        "\n",
        "curr = -0*5e-8; #Baseline no current injected\n",
        "p = 0.5e-4/F # Alan's pump rate (C/dm^2)\n",
        "g_KCC2 = 2e-3/F #KCC2 conductance from Kira's code"
      ],
      "execution_count": 4,
      "outputs": [
        {
          "output_type": "error",
          "ename": "NameError",
          "evalue": "ignored",
          "traceback": [
            "\u001b[0;31m---------------------------------------------------------------------------\u001b[0m",
            "\u001b[0;31mNameError\u001b[0m                                 Traceback (most recent call last)",
            "\u001b[0;32m<ipython-input-4-8ff0755fe87f>\u001b[0m in \u001b[0;36m<module>\u001b[0;34m()\u001b[0m\n\u001b[0;32m----> 1\u001b[0;31m \u001b[0mg_Na\u001b[0m \u001b[0;34m=\u001b[0m \u001b[0;36m0.01\u001b[0m\u001b[0;34m*\u001b[0m\u001b[0;36m0.1\u001b[0m\u001b[0;34m/\u001b[0m\u001b[0mF\u001b[0m \u001b[0;31m# S/dm2 #Na Leak conductance ### Not too sure why I need to / by F (according to Kira and Alan)\u001b[0m\u001b[0;34m\u001b[0m\u001b[0;34m\u001b[0m\u001b[0m\n\u001b[0m\u001b[1;32m      2\u001b[0m \u001b[0mg_K\u001b[0m \u001b[0;34m=\u001b[0m \u001b[0;36m0.3\u001b[0m\u001b[0;34m*\u001b[0m\u001b[0;36m0.1\u001b[0m\u001b[0;34m/\u001b[0m\u001b[0mF\u001b[0m     \u001b[0;31m# S/dm2 #K Leak conductance\u001b[0m\u001b[0;34m\u001b[0m\u001b[0;34m\u001b[0m\u001b[0m\n\u001b[1;32m      3\u001b[0m \u001b[0mg_Cl\u001b[0m \u001b[0;34m=\u001b[0m \u001b[0;36m0.2\u001b[0m\u001b[0;34m*\u001b[0m\u001b[0;36m0.1\u001b[0m\u001b[0;34m/\u001b[0m\u001b[0mF\u001b[0m   \u001b[0;31m# S/dm2 #Cl Leak conductance\u001b[0m\u001b[0;34m\u001b[0m\u001b[0;34m\u001b[0m\u001b[0m\n\u001b[1;32m      4\u001b[0m \u001b[0;34m\u001b[0m\u001b[0m\n\u001b[1;32m      5\u001b[0m \u001b[0mcurr\u001b[0m \u001b[0;34m=\u001b[0m \u001b[0;34m-\u001b[0m\u001b[0;36m0\u001b[0m\u001b[0;34m*\u001b[0m\u001b[0;36m5e-8\u001b[0m\u001b[0;34m;\u001b[0m \u001b[0;31m#Baseline no current injected\u001b[0m\u001b[0;34m\u001b[0m\u001b[0;34m\u001b[0m\u001b[0m\n",
            "\u001b[0;31mNameError\u001b[0m: name 'F' is not defined"
          ]
        }
      ]
    },
    {
      "cell_type": "markdown",
      "metadata": {
        "id": "EdJ8d_JePFLt",
        "colab_type": "text"
      },
      "source": [
        "## Variable initialization:\n"
      ]
    },
    {
      "cell_type": "markdown",
      "metadata": {
        "id": "bB9YOHsSPFLu",
        "colab_type": "text"
      },
      "source": [
        "### Timing related variables"
      ]
    },
    {
      "cell_type": "code",
      "metadata": {
        "id": "K28cMJpbPFLw",
        "colab_type": "code",
        "outputId": "0dc5579a-6acd-4be5-c4f1-01e6e31a7f5c",
        "colab": {
          "base_uri": "https://localhost:8080/",
          "height": 90
        }
      },
      "source": [
        "#### - Timing related variables\n",
        "t = 1               # real time in seconds\n",
        "totalt = 10000          # total time\n",
        "dt = 1e-3           # time step\n",
        "t_on = 0            # time when the ATPase is switched on\n",
        "t_off = 5000        # time when the ATPase is switched off\n",
        "totalsteps = round(totalt/dt)  # total number of time steps\n",
        "sw = 0              # 0 = switch off; 1 = switch on\n",
        "ctr = 1     # counter for plotting \n",
        "n = 200     # number of plot points\n",
        "ts = totalt/n   # time interval for plotting\n",
        "\n",
        "print('Simulation will run for ',totalt,' seconds') \n",
        "print('The timestep will be', dt, 'seconds')\n",
        "print('The ATPase pump is switched on at', t_on, 'seconds')\n",
        "print('The ATPase pump is switched off at', t_off, 'seconds')"
      ],
      "execution_count": 7,
      "outputs": [
        {
          "output_type": "stream",
          "text": [
            "Simulation will run for  10000  seconds\n",
            "The timestep will be 0.001 seconds\n",
            "The ATPase pump is switched on at 0 seconds\n",
            "The ATPase pump is switched off at 5000 seconds\n"
          ],
          "name": "stdout"
        }
      ]
    },
    {
      "cell_type": "markdown",
      "metadata": {
        "id": "jz-2lIASPFL5",
        "colab_type": "text"
      },
      "source": [
        "### Array initialization"
      ]
    },
    {
      "cell_type": "code",
      "metadata": {
        "id": "yaU2liVHPFL5",
        "colab_type": "code",
        "outputId": "2bc86992-7c8f-436c-ab0a-ae1866d4bfcd",
        "colab": {
          "base_uri": "https://localhost:8080/",
          "height": 35
        }
      },
      "source": [
        "Na_Arr = []\n",
        "K_Arr = []\n",
        "Cl_Arr = []\n",
        "X_Arr = []\n",
        "Vm_Arr = []\n",
        "t_Arr = []           \n",
        "w_Arr = []\n",
        "\n",
        "print('All arrays are empty to begin with')"
      ],
      "execution_count": 8,
      "outputs": [
        {
          "output_type": "stream",
          "text": [
            "All arrays are empty to begin with\n"
          ],
          "name": "stdout"
        }
      ]
    },
    {
      "cell_type": "markdown",
      "metadata": {
        "id": "nIZd5eeGPFL9",
        "colab_type": "text"
      },
      "source": [
        "# Simulation "
      ]
    },
    {
      "cell_type": "markdown",
      "metadata": {
        "id": "-oq69c-Q2JAE",
        "colab_type": "text"
      },
      "source": [
        "In order to calculate how the system changes with time I use a use a Euler approach with the following differential equaitons"
      ]
    },
    {
      "cell_type": "markdown",
      "metadata": {
        "id": "3mZGfAfu03o9",
        "colab_type": "text"
      },
      "source": [
        "**Calculating the membrane voltage change:**\n",
        "\n",
        "\\begin{equation}\n",
        "\\frac{\\delta V_{m}}{\\delta t}= \\frac{F}{C_{m} SA} \\times w \\times ([Na] + [K] - [Cl] + z[X]) \\\\\n",
        "\\end{equation}\n",
        "\n",
        "**Calculating the KCC2 Pump rate**\n",
        "\n",
        "\\begin{align}\n",
        "E_{K} &= RTF \\times log(\\frac{[K]_{o}}{[K]_{i}})\\\\\n",
        "E_{Cl} &= RTF \\times log(\\frac{[Cl]_{o}}{[Cl]_{i}})\\\\\n",
        "J_{KCC2} &= g_{KCC2}\\times(E_{K}-E_{Cl})\\\\\n",
        "\\nonumber\n",
        "\\end{align}\n",
        "\n",
        "**Calculating changes to intracellular ion concentrations**\n",
        "\\begin{align}\n",
        "\\frac{\\delta [Na]}{\\delta t}&= -\\dfrac{SA}{w}\\times(g_{Na} \\times(V_{m} - \\dfrac{RT}{F} log(\\dfrac{[Na]_{o}}{[Na]_{i}}) + 3J_{p}) \\\\\n",
        "\\frac{\\delta [K]}{\\delta t}&= -\\dfrac{SA}{w} \\times (g_{K} \\times (V_{m} - \\dfrac{RT}{F} log(\\dfrac{[K]_{o}}{[K]_{i}}) + 2J_{p} - J_{KCC2}) \\\\\n",
        "\\frac{\\delta [Cl]}{\\delta t}&= \\dfrac{SA}{w} \\times  (g_{Cl} \\times(V_{m} - \\dfrac{RT}{F} log(\\dfrac{[Cl]_{o}}{[Cl]_{i}}) - J_{KCC2}) \\\\\n",
        "\\nonumber\n",
        "\\end{align}\n",
        "\n",
        "\n"
      ]
    },
    {
      "cell_type": "markdown",
      "metadata": {
        "id": "vJ35WdSsPFL-",
        "colab_type": "text"
      },
      "source": [
        "### Calculating the starting voltage"
      ]
    },
    {
      "cell_type": "code",
      "metadata": {
        "id": "CwZHjax4PFMA",
        "colab_type": "code",
        "outputId": "99673dd6-98e8-462c-b012-5c68ba02d982",
        "colab": {
          "base_uri": "https://localhost:8080/",
          "height": 35
        }
      },
      "source": [
        "Vm = FinvCSA*w*(ConcI_Na+ConcI_K-ConcI_Cl-ConcI_X) \n",
        "print('Starting voltage of', Vm, 'mV')"
      ],
      "execution_count": 9,
      "outputs": [
        {
          "output_type": "stream",
          "text": [
            "Starting voltage of 4.4633431210231817e-13 mV\n"
          ],
          "name": "stdout"
        }
      ]
    },
    {
      "cell_type": "markdown",
      "metadata": {
        "id": "Q_vtV14HPFMG",
        "colab_type": "text"
      },
      "source": [
        "### Looping through time"
      ]
    },
    {
      "cell_type": "code",
      "metadata": {
        "id": "wimk7aA5PFMH",
        "colab_type": "code",
        "colab": {}
      },
      "source": [
        "for i in range(1,totalsteps):  #note tit = total number of timesteps\n",
        "     \n",
        "    #Determining switch position of ATPase\n",
        "    if (t<t_off) & (t>t_on): \n",
        "        sw=1 \n",
        "    else: \n",
        "        sw=0\n",
        "            \n",
        "    # Voltage Calculation \n",
        "    Vm = FinvCSA*w*(ConcI_Na+ConcI_K-ConcI_Cl-ConcI_X)\n",
        "    \n",
        "    # KCC2 pump rate calculation \n",
        "    EK = RTF*np.log(ConcO_K/ConcI_K)\n",
        "    ECl = RTF*np.log(ConcO_Cl/ConcI_Cl)\n",
        "    JKCC2 = g_KCC2*(EK-ECl)\n",
        "        \n",
        "    #Incrementing Ion concentration    \n",
        "    d_Na = -dt*SA*(1/w)*(g_Na*(Vm-RTF*np.log(ConcO_Na/ConcI_Na)) + sw*3*p) \n",
        "    d_K = -dt*SA*(1/w)*(g_K*(Vm-RTF*np.log(ConcO_K/ConcI_K))-JKCC2+sw*2*p+sw*curr) \n",
        "    d_Cl = dt*SA*(1/w)*(g_Cl*(Vm+RTF*np.log(ConcO_Cl/ConcI_Cl))+JKCC2)\n",
        "    ConcI_Na += d_Na    \n",
        "    ConcI_K += d_K\n",
        "    ConcI_Cl += d_Cl      \n",
        "     \n",
        "    #Osmolarity and volume adjustments\n",
        "    OsmolI = ConcI_Na+ConcI_K+ConcI_Cl+ConcI_X\n",
        "    w2 = w*(OsmolI/OsmolO)\n",
        "    \n",
        "    #Adjusting Concentrations based on new volumes\n",
        "    ConcI_Na *= w/w2\n",
        "    ConcI_K *= w/w2\n",
        "    ConcI_Cl *= w/w2\n",
        "    ConcI_X *= w/w2\n",
        "    \n",
        "    #Updating Arrays and counters\n",
        "    w = w2\n",
        "    \n",
        "    if t >= ctr*ts :\n",
        "        Vm_Arr.append(Vm*1e3)\n",
        "        K_Arr.append(ConcI_K*1e3)\n",
        "        Na_Arr.append(ConcI_Na*1e3)\n",
        "        Cl_Arr.append(ConcI_Cl*1e3)\n",
        "        X_Arr.append(ConcI_X*1e3)\n",
        "        w_Arr.append(100*(1e5)*((3/(4*np.pi))*w)**(1/3))\n",
        "        t_Arr.append(t)\n",
        "        ctr += 1\n",
        "    \n",
        "        \n",
        "    t = t+dt      "
      ],
      "execution_count": 0,
      "outputs": []
    },
    {
      "cell_type": "markdown",
      "metadata": {
        "id": "4_QinnFXPFMO",
        "colab_type": "text"
      },
      "source": [
        "## Plotting results"
      ]
    },
    {
      "cell_type": "code",
      "metadata": {
        "id": "hTyBmq1aPFMP",
        "colab_type": "code",
        "outputId": "fff39688-76a3-4942-8a7f-34111f568573",
        "colab": {
          "base_uri": "https://localhost:8080/",
          "height": 295
        }
      },
      "source": [
        "plt.plot(t_Arr,Na_Arr,label =\"Na\")\n",
        "plt.plot(t_Arr,Cl_Arr,label=\"Cl\")\n",
        "plt.plot(t_Arr,K_Arr,label=\"K\")\n",
        "plt.plot(t_Arr,X_Arr,label=\"X\")\n",
        "plt.title(\"Ionic concentration changes\")\n",
        "plt.xlabel(\"Time (s)\")\n",
        "plt.ylabel(\"Intracellular ionic concentrations (M)\")\n",
        "plt.legend(loc = 'upper right')\n",
        "sns.despine()\n",
        "\n"
      ],
      "execution_count": 13,
      "outputs": [
        {
          "output_type": "display_data",
          "data": {
            "image/png": "[encoded data removed]",
            "text/plain": [
              "<Figure size 432x288 with 1 Axes>"
            ]
          },
          "metadata": {
            "tags": []
          }
        }
      ]
    },
    {
      "cell_type": "code",
      "metadata": {
        "id": "aDrrhoJ0PFMS",
        "colab_type": "code",
        "colab": {}
      },
      "source": [
        ""
      ],
      "execution_count": 0,
      "outputs": []
    }
  ]
}