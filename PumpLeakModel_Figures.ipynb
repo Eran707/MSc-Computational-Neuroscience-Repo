{
  "nbformat": 4,
  "nbformat_minor": 0,
  "metadata": {
    "colab": {
      "name": "PumpLeakModel_Figures",
      "provenance": [],
      "collapsed_sections": [],
      "include_colab_link": true
    },
    "kernelspec": {
      "display_name": "Python 3",
      "language": "python",
      "name": "python3"
    },
    "language_info": {
      "codemirror_mode": {
        "name": "ipython",
        "version": 3
      },
      "file_extension": ".py",
      "mimetype": "text/x-python",
      "name": "python",
      "nbconvert_exporter": "python",
      "pygments_lexer": "ipython3",
      "version": "3.7.1"
    },
    "accelerator": "GPU"
  },
  "cells": [
    {
      "cell_type": "markdown",
      "metadata": {
        "id": "view-in-github",
        "colab_type": "text"
      },
      "source": [
        "<a href=\"https://colab.research.google.com/github/Eran707/MSc-Computational-Neuroscience-Repo/blob/master/PumpLeakModel_Figures.ipynb\" target=\"_parent\"><img src=\"https://colab.research.google.com/assets/colab-badge.svg\" alt=\"Open In Colab\"/></a>"
      ]
    },
    {
      "cell_type": "markdown",
      "metadata": {
        "id": "mj-_TjQYSXgJ",
        "colab_type": "text"
      },
      "source": [
        "# Understanding the Single Compartment Pump Leak Model"
      ]
    },
    {
      "cell_type": "code",
      "metadata": {
        "colab_type": "code",
        "id": "uVYUSjVw9RjJ",
        "colab": {
          "base_uri": "https://localhost:8080/",
          "height": 404
        },
        "outputId": "14a4d572-7a01-4724-a29b-dd855d062954"
      },
      "source": [
        "import matplotlib.pyplot as plt\n",
        "import seaborn as sns\n",
        "from Graphing import clcolor, kcolor, xcolor,nacolor\n",
        "import Class_Single_Compartment_PLM as PLM"
      ],
      "execution_count": 1,
      "outputs": [
        {
          "output_type": "stream",
          "text": [
            "/usr/local/lib/python3.6/dist-packages/statsmodels/tools/_testing.py:19: FutureWarning: pandas.util.testing is deprecated. Use the functions in the public API at pandas.testing instead.\n",
            "  import pandas.util.testing as tm\n"
          ],
          "name": "stderr"
        },
        {
          "output_type": "error",
          "ename": "ModuleNotFoundError",
          "evalue": "ignored",
          "traceback": [
            "\u001b[0;31m---------------------------------------------------------------------------\u001b[0m",
            "\u001b[0;31mModuleNotFoundError\u001b[0m                       Traceback (most recent call last)",
            "\u001b[0;32m<ipython-input-1-5e50db6a21ca>\u001b[0m in \u001b[0;36m<module>\u001b[0;34m()\u001b[0m\n\u001b[1;32m      1\u001b[0m \u001b[0;32mimport\u001b[0m \u001b[0mmatplotlib\u001b[0m\u001b[0;34m.\u001b[0m\u001b[0mpyplot\u001b[0m \u001b[0;32mas\u001b[0m \u001b[0mplt\u001b[0m\u001b[0;34m\u001b[0m\u001b[0;34m\u001b[0m\u001b[0m\n\u001b[1;32m      2\u001b[0m \u001b[0;32mimport\u001b[0m \u001b[0mseaborn\u001b[0m \u001b[0;32mas\u001b[0m \u001b[0msns\u001b[0m\u001b[0;34m\u001b[0m\u001b[0;34m\u001b[0m\u001b[0m\n\u001b[0;32m----> 3\u001b[0;31m \u001b[0;32mfrom\u001b[0m \u001b[0mGraphing\u001b[0m \u001b[0;32mimport\u001b[0m \u001b[0mclcolor\u001b[0m\u001b[0;34m,\u001b[0m \u001b[0mkcolor\u001b[0m\u001b[0;34m,\u001b[0m \u001b[0mxcolor\u001b[0m\u001b[0;34m,\u001b[0m\u001b[0mnacolor\u001b[0m\u001b[0;34m\u001b[0m\u001b[0;34m\u001b[0m\u001b[0m\n\u001b[0m\u001b[1;32m      4\u001b[0m \u001b[0;32mimport\u001b[0m \u001b[0mClass_Single_Compartment_PLM\u001b[0m \u001b[0;32mas\u001b[0m \u001b[0mPLM\u001b[0m\u001b[0;34m\u001b[0m\u001b[0;34m\u001b[0m\u001b[0m\n",
            "\u001b[0;31mModuleNotFoundError\u001b[0m: No module named 'Graphing'",
            "",
            "\u001b[0;31m---------------------------------------------------------------------------\u001b[0;32m\nNOTE: If your import is failing due to a missing package, you can\nmanually install dependencies using either !pip or !apt.\n\nTo view examples of installing some common dependencies, click the\n\"Open Examples\" button below.\n\u001b[0;31m---------------------------------------------------------------------------\u001b[0m\n"
          ]
        }
      ]
    },
    {
      "cell_type": "markdown",
      "metadata": {
        "id": "JISs9dULSh9C",
        "colab_type": "text"
      },
      "source": [
        "The Pump Leak Model (PLM) is coded for in a sepate python module imported as PLM. Here I will discuss the results of the model, rather than the model itself."
      ]
    },
    {
      "cell_type": "markdown",
      "metadata": {
        "id": "GsI5M2d4R1Ka",
        "colab_type": "text"
      },
      "source": [
        "## Figure 1B"
      ]
    },
    {
      "cell_type": "code",
      "metadata": {
        "id": "1oYQafS0Rqv1",
        "colab_type": "code",
        "colab": {}
      },
      "source": [
        "def F1b(init_cl=[1e-3,15e-3,50e-3,90e-3]):\n",
        "    \n",
        "    Figure_1 = plt.figure()\n",
        "    \n",
        "    Subplot_1 = Figure_1.add_subplot(2,1,1)\n",
        "    Subplot_2 = Figure_1.add_subplot(2,1,2)\n",
        "    Subplot_1.set_ylabel = '[Cl-] (mM)'\n",
        "    Subplot_2.set_ylabel = 'Volume (pL)'\n",
        "    Subplot_1.set_axis_off\n",
        "    sns.despine\n",
        "    \n",
        "    for i in range(len(init_cl)):\n",
        "        Fig1B_Sim = PLM.SingleCompartment_PumpLeak()\n",
        "        Fig1B_Sim.Set_Concentrations(Cl=[init_cl[i],119e-3],K=[0,3.5e-3])\n",
        "        Fig1B_Sim.Set_LeakConductances()\n",
        "        Fig1B_Sim.Initialize_Arrays()\n",
        "        Fig1B_Sim.Set_NaKATPase_Properties(time_off=1000000,time_on=0)\n",
        "        Fig1B_Sim.Set_KCC2_Properties()\n",
        "        Fig1B_Sim.Set_Timing(duration = 5000 ,time_step = 1e-3)\n",
        "        Fig1B_Sim.Simulate_PLM()\n",
        "        if i ==0:\n",
        "            Subplot_1.plot(Fig1B_Sim.t_arr,Fig1B_Sim.cl_arr,color=clcolor,ls='solid')\n",
        "            Subplot_2.plot(Fig1B_Sim.t_arr,Fig1B_Sim.volume_arr,color='k',ls='solid')\n",
        "        else: \n",
        "            Subplot_1.plot(Fig1B_Sim.t_arr,Fig1B_Sim.cl_arr,color=clcolor,ls='--')\n",
        "            Subplot_2.plot(Fig1B_Sim.t_arr,Fig1B_Sim.volume_arr,color='k',ls='--')\n",
        "       \n",
        "\n",
        "F1b()"
      ],
      "execution_count": 0,
      "outputs": []
    },
    {
      "cell_type": "markdown",
      "metadata": {
        "id": "HJfQwzMbTx22",
        "colab_type": "text"
      },
      "source": [
        "### F1B Interpretation:\n",
        "\n",
        "Whatever initial value of intracellular chloride we start off with, the model converges to a value of 5.2mM, with the volume also always converges to 2pL. Both these values are biorealistic. Therefore, the model appears robust, and biologically plausible. "
      ]
    },
    {
      "cell_type": "markdown",
      "metadata": {
        "id": "mm691B4IR5_t",
        "colab_type": "text"
      },
      "source": [
        "## Figure 1C\n"
      ]
    },
    {
      "cell_type": "code",
      "metadata": {
        "id": "vKMmMT5oR9dc",
        "colab_type": "code",
        "colab": {
          "base_uri": "https://localhost:8080/",
          "height": 316
        },
        "outputId": "0dfb4775-cdf7-4cf0-d32a-fafd1cce662d"
      },
      "source": [
        "def F1c():\n",
        "    \n",
        "      \n",
        "    Fig1C_Sim = PLM.SingleCompartment_PumpLeak()\n",
        "    Fig1C_Sim.Set_Concentrations()\n",
        "    Fig1C_Sim.Set_LeakConductances()\n",
        "    Fig1C_Sim.Set_NaKATPase_Properties(time_off=3000,time_on=9000,switch_at_start='on')\n",
        "    Fig1C_Sim.Set_KCC2_Properties()\n",
        "    Fig1C_Sim.Set_Timing(duration = 12000 ,time_step = 1e-3)\n",
        "    Fig1C_Sim.Simulate_PLM()\n",
        "    \n",
        "    Figure_1C, (ax1,ax2,ax3) = plt.subplots(nrows=3, ncols=1, sharex='all')\n",
        "    \n",
        "    ax1.plot(Fig1C_Sim.t_arr,Fig1C_Sim.cl_arr,color=clcolor,ls='solid',label='[Cl]')\n",
        "    ax1.plot(Fig1C_Sim.t_arr,Fig1C_Sim.k_arr,color=kcolor,ls='solid', label='[K]')\n",
        "    ax1.plot(Fig1C_Sim.t_arr,Fig1C_Sim.na_arr,color=nacolor,ls='solid', label = '[Na]')\n",
        "    ax1.plot(Fig1C_Sim.t_arr,Fig1C_Sim.x_arr,color=xcolor,ls='solid', label ='[X]')\n",
        "    ax1.set_ylabel('Concentrations(mM)')\n",
        "    ax1.legend()\n",
        "    \n",
        "\n",
        "    ax2.plot(Fig1C_Sim.t_arr,Fig1C_Sim.e_cl_arr,color=clcolor,ls='solid', label='ECl')\n",
        "    ax2.plot(Fig1C_Sim.t_arr,Fig1C_Sim.e_k_arr,color=kcolor,ls='solid',label='EK')\n",
        "    ax2.plot(Fig1C_Sim.t_arr,Fig1C_Sim.vm_arr,color='k',ls='solid', label='Vm')\n",
        "    ax2.set_ylabel('Voltages (mV)')\n",
        "    ax2.legend()\n",
        "\n",
        "    ax3.plot(Fig1C_Sim.t_arr,Fig1C_Sim.volume_arr,color='k',ls='solid', label='Volume')\n",
        "    ax3.set_ylabel('Volume (pL)')\n",
        "    ax3.set_xlabel('Time (ms)')\n",
        "    ax3.legend()\n",
        "    sns.despine()   \n",
        "\n",
        "F1c()"
      ],
      "execution_count": 2,
      "outputs": [
        {
          "output_type": "error",
          "ename": "NameError",
          "evalue": "ignored",
          "traceback": [
            "\u001b[0;31m---------------------------------------------------------------------------\u001b[0m",
            "\u001b[0;31mNameError\u001b[0m                                 Traceback (most recent call last)",
            "\u001b[0;32m<ipython-input-2-9eaabb552066>\u001b[0m in \u001b[0;36m<module>\u001b[0;34m()\u001b[0m\n\u001b[1;32m     32\u001b[0m     \u001b[0msns\u001b[0m\u001b[0;34m.\u001b[0m\u001b[0mdespine\u001b[0m\u001b[0;34m(\u001b[0m\u001b[0;34m)\u001b[0m\u001b[0;34m\u001b[0m\u001b[0;34m\u001b[0m\u001b[0m\n\u001b[1;32m     33\u001b[0m \u001b[0;34m\u001b[0m\u001b[0m\n\u001b[0;32m---> 34\u001b[0;31m \u001b[0mF1c\u001b[0m\u001b[0;34m(\u001b[0m\u001b[0;34m)\u001b[0m\u001b[0;34m\u001b[0m\u001b[0;34m\u001b[0m\u001b[0m\n\u001b[0m",
            "\u001b[0;32m<ipython-input-2-9eaabb552066>\u001b[0m in \u001b[0;36mF1c\u001b[0;34m()\u001b[0m\n\u001b[1;32m      2\u001b[0m \u001b[0;34m\u001b[0m\u001b[0m\n\u001b[1;32m      3\u001b[0m \u001b[0;34m\u001b[0m\u001b[0m\n\u001b[0;32m----> 4\u001b[0;31m     \u001b[0mFig1C_Sim\u001b[0m \u001b[0;34m=\u001b[0m \u001b[0mPLM\u001b[0m\u001b[0;34m.\u001b[0m\u001b[0mSingleCompartment_PumpLeak\u001b[0m\u001b[0;34m(\u001b[0m\u001b[0;34m)\u001b[0m\u001b[0;34m\u001b[0m\u001b[0;34m\u001b[0m\u001b[0m\n\u001b[0m\u001b[1;32m      5\u001b[0m     \u001b[0mFig1C_Sim\u001b[0m\u001b[0;34m.\u001b[0m\u001b[0mSet_Concentrations\u001b[0m\u001b[0;34m(\u001b[0m\u001b[0;34m)\u001b[0m\u001b[0;34m\u001b[0m\u001b[0;34m\u001b[0m\u001b[0m\n\u001b[1;32m      6\u001b[0m     \u001b[0mFig1C_Sim\u001b[0m\u001b[0;34m.\u001b[0m\u001b[0mSet_LeakConductances\u001b[0m\u001b[0;34m(\u001b[0m\u001b[0;34m)\u001b[0m\u001b[0;34m\u001b[0m\u001b[0;34m\u001b[0m\u001b[0m\n",
            "\u001b[0;31mNameError\u001b[0m: name 'PLM' is not defined"
          ]
        }
      ]
    },
    {
      "cell_type": "markdown",
      "metadata": {
        "colab_type": "text",
        "id": "oY9wkyPrUNmu"
      },
      "source": [
        "### F1C Interpretation:\n",
        "\n",
        "Here we show the importance of the Na/K-ATPase in establishing the steady state of the cell. To start the simulation we use the steady state values that we can get from Kira's analytical solution. When we run the model with these values, understably, no values change (there is no ion flux at steady state). However, when we turn the Na/K-ATPase off, Na can't leave the cell other than via its leak channel, consequently causing the cell to swell. Other ions, as well as membrane potentials become deranged when the ATPase is turned off. \n",
        "Once the pump is turned back on the steady state values return. \n",
        "This finding highlights the importance of the Na/K-ATPase in establishing the steady state of the PLM. "
      ]
    },
    {
      "cell_type": "markdown",
      "metadata": {
        "id": "XcBNscbKR-5D",
        "colab_type": "text"
      },
      "source": [
        "## Figure 1D\n"
      ]
    },
    {
      "cell_type": "code",
      "metadata": {
        "id": "tm3m0LpbSMVH",
        "colab_type": "code",
        "colab": {}
      },
      "source": [
        "def F1d(rates=[-7,-3,-1,1]):\n",
        "        \n",
        "    na_arr = []\n",
        "    k_arr =[]\n",
        "    cl_arr =[]\n",
        "    x_arr =[]\n",
        "    vm_arr =[]\n",
        "    w_arr =[]\n",
        "    \n",
        "    \n",
        "    for i in range(len(rates)):       \n",
        "                      \n",
        "        Fig1D_Sim = PLM.SingleCompartment_PumpLeak()\n",
        "        Fig1D_Sim.Set_Concentrations()\n",
        "        Fig1D_Sim.Set_LeakConductances()\n",
        "        Fig1D_Sim.Set_NaKATPase_Properties(ATP_pump_rate = rates[i],time_off=1000000,time_on=0,switch_at_start='on')\n",
        "        Fig1D_Sim.Set_KCC2_Properties()\n",
        "        Fig1D_Sim.Set_Timing(duration = 1200 ,time_step = 1e-3)\n",
        "        Fig1D_Sim.Simulate_PLM()\n",
        "        na_arr.append(Fig1D_Sim.na_arr[-1]) \n",
        "        k_arr.append(Fig1D_Sim.k_arr[-1]) \n",
        "        cl_arr.append(Fig1D_Sim.cl_arr[-1]) \n",
        "        x_arr.append(Fig1D_Sim.x_arr[-1]) \n",
        "        vm_arr.append(Fig1D_Sim.vm_arr[-1]) \n",
        "        w_arr.append(Fig1D_Sim.volume_arr[-1]) \n",
        "        \n",
        "    Figure_1D, (ax1,ax2,ax3) = plt.subplots(nrows=3, ncols=1, sharex='all')\n",
        "        \n",
        "    ax1.plot(rates,cl_arr,color=clcolor,ls='solid',label='[Cl]')\n",
        "    ax1.plot(rates,k_arr,color=kcolor,ls='solid', label='[K]')\n",
        "    ax1.plot(rates,na_arr,color=nacolor,ls='solid', label = '[Na]')\n",
        "    ax1.plot(rates,x_arr,color=xcolor,ls='solid', label ='[X]')\n",
        "    ax1.set_ylabel('Concentrations(mM)')\n",
        "    #ax1.legend()\n",
        "        \n",
        "    ax2.plot(rates,vm_arr,color='k',ls='solid', label='Vm')\n",
        "    ax2.set_ylabel('Voltages (mV)')\n",
        "    #ax2.legend()\n",
        "    \n",
        "    ax3.plot(rates,w_arr,color='k',ls='solid', label='Volume')\n",
        "    ax3.set_ylabel('Volume (pL)')\n",
        "    ax3.set_xlabel('NA/K ATPase pump rate constant')\n",
        "    #ax3.legend()\n",
        "    sns.despine()   "
      ],
      "execution_count": 0,
      "outputs": []
    },
    {
      "cell_type": "markdown",
      "metadata": {
        "colab_type": "text",
        "id": "roy_cINyVV7h"
      },
      "source": [
        "### F1D Interpretation:\n",
        "\n",
        "Here we examine the affect of the ATPase pump rate on the system. \n",
        "At slow pump rates, the system is unable to pump out sufficient Na from the cell to maintain a biologically realistic resting potential and cell volume.\n",
        "Once the pump rate approach 0.1 however, further increases to the pump rate have minimal impact on the system. "
      ]
    },
    {
      "cell_type": "code",
      "metadata": {
        "id": "ZsHdGYB5V2Es",
        "colab_type": "code",
        "colab": {}
      },
      "source": [
        ""
      ],
      "execution_count": 0,
      "outputs": []
    }
  ]
}