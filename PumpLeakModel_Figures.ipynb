{
  "nbformat": 4,
  "nbformat_minor": 0,
  "metadata": {
    "colab": {
      "name": "PumpLeakModel_Figures",
      "provenance": [],
      "collapsed_sections": [],
      "include_colab_link": true
    },
    "kernelspec": {
      "display_name": "Python 3",
      "language": "python",
      "name": "python3"
    },
    "language_info": {
      "codemirror_mode": {
        "name": "ipython",
        "version": 3
      },
      "file_extension": ".py",
      "mimetype": "text/x-python",
      "name": "python",
      "nbconvert_exporter": "python",
      "pygments_lexer": "ipython3",
      "version": "3.7.1"
    },
    "accelerator": "GPU"
  },
  "cells": [
    {
      "cell_type": "markdown",
      "metadata": {
        "id": "view-in-github",
        "colab_type": "text"
      },
      "source": [
        "<a href=\"https://colab.research.google.com/github/Eran707/MSc-Computational-Neuroscience-Repo/blob/master/PumpLeakModel_Figures.ipynb\" target=\"_parent\"><img src=\"https://colab.research.google.com/assets/colab-badge.svg\" alt=\"Open In Colab\"/></a>"
      ]
    },
    {
      "cell_type": "markdown",
      "metadata": {
        "id": "mj-_TjQYSXgJ",
        "colab_type": "text"
      },
      "source": [
        "# Understanding the Single Compartment Pump Leak Model"
      ]
    },
    {
      "cell_type": "code",
      "metadata": {
        "colab_type": "code",
        "id": "uVYUSjVw9RjJ",
        "colab": {}
      },
      "source": [
        "import matplotlib.pyplot as plt\n",
        "import seaborn as sns\n",
        "from Graphing import clcolor, kcolor, xcolor,nacolor\n",
        "import Class_Single_Compartment_PLM as PLM"
      ],
      "execution_count": 0,
      "outputs": []
    },
    {
      "cell_type": "markdown",
      "metadata": {
        "id": "JISs9dULSh9C",
        "colab_type": "text"
      },
      "source": [
        "The Pump Leak Model (PLM) is coded for in a sepate python module imported as PLM. Here I will discuss the results of the model, rather than the model itself."
      ]
    },
    {
      "cell_type": "markdown",
      "metadata": {
        "id": "GsI5M2d4R1Ka",
        "colab_type": "text"
      },
      "source": [
        "## Figure 1B"
      ]
    },
    {
      "cell_type": "code",
      "metadata": {
        "id": "1oYQafS0Rqv1",
        "colab_type": "code",
        "colab": {},
        "outputId": "2a456142-1d25-4d21-8ffc-620144ed107f"
      },
      "source": [
        "def F1b(init_cl=[1e-3,15e-3,50e-3,90e-3]):\n",
        "    \n",
        "    Figure_1 = plt.figure()\n",
        "    \n",
        "    Subplot_1 = Figure_1.add_subplot(2,1,1)\n",
        "    Subplot_2 = Figure_1.add_subplot(2,1,2)\n",
        "    Subplot_1.set_ylabel = '[Cl-] (mM)'\n",
        "    Subplot_2.set_ylabel = 'Volume (pL)'\n",
        "    Subplot_1.set_axis_off\n",
        "    sns.despine\n",
        "    \n",
        "    for i in range(len(init_cl)):\n",
        "        Fig1B_Sim = PLM.SingleCompartment_PumpLeak()\n",
        "        Fig1B_Sim.Set_Concentrations(Cl=[init_cl[i],119e-3],K=[0,3.5e-3])\n",
        "        Fig1B_Sim.Set_LeakConductances()\n",
        "        Fig1B_Sim.Initialize_Arrays()\n",
        "        Fig1B_Sim.Set_NaKATPase_Properties(time_off=1000000,time_on=0)\n",
        "        Fig1B_Sim.Set_KCC2_Properties()\n",
        "        Fig1B_Sim.Set_Timing(duration = 5000 ,time_step = 1e-3)\n",
        "        Fig1B_Sim.Simulate_PLM()\n",
        "        if i ==0:\n",
        "            Subplot_1.plot(Fig1B_Sim.t_arr,Fig1B_Sim.cl_arr,color=clcolor,ls='solid')\n",
        "            Subplot_2.plot(Fig1B_Sim.t_arr,Fig1B_Sim.volume_arr,color='k',ls='solid')\n",
        "        else: \n",
        "            Subplot_1.plot(Fig1B_Sim.t_arr,Fig1B_Sim.cl_arr,color=clcolor,ls='--')\n",
        "            Subplot_2.plot(Fig1B_Sim.t_arr,Fig1B_Sim.volume_arr,color='k',ls='--')\n",
        "       \n",
        "\n",
        "F1b()"
      ],
      "execution_count": 0,
      "outputs": [
        {
          "output_type": "display_data",
          "data": {
            "image/png": "[encoded data removed]",
            "text/plain": [
              "<Figure size 432x288 with 2 Axes>"
            ]
          },
          "metadata": {
            "tags": [],
            "needs_background": "light"
          }
        }
      ]
    },
    {
      "cell_type": "markdown",
      "metadata": {
        "id": "mm691B4IR5_t",
        "colab_type": "text"
      },
      "source": [
        "## Figure 1C\n"
      ]
    },
    {
      "cell_type": "code",
      "metadata": {
        "id": "vKMmMT5oR9dc",
        "colab_type": "code",
        "colab": {}
      },
      "source": [
        "def F1c():\n",
        "    \n",
        "      \n",
        "    Fig1C_Sim = PLM.SingleCompartment_PumpLeak()\n",
        "    Fig1C_Sim.Set_Concentrations()\n",
        "    Fig1C_Sim.Set_LeakConductances()\n",
        "    Fig1C_Sim.Set_NaKATPase_Properties(time_off=3000,time_on=9000,switch_at_start='on')\n",
        "    Fig1C_Sim.Set_KCC2_Properties()\n",
        "    Fig1C_Sim.Set_Timing(duration = 12000 ,time_step = 1e-3)\n",
        "    Fig1C_Sim.Simulate_PLM()\n",
        "    \n",
        "    Figure_1C, (ax1,ax2,ax3) = plt.subplots(nrows=3, ncols=1, sharex='all')\n",
        "    \n",
        "    ax1.plot(Fig1C_Sim.t_arr,Fig1C_Sim.cl_arr,color=clcolor,ls='solid',label='[Cl]')\n",
        "    ax1.plot(Fig1C_Sim.t_arr,Fig1C_Sim.k_arr,color=kcolor,ls='solid', label='[K]')\n",
        "    ax1.plot(Fig1C_Sim.t_arr,Fig1C_Sim.na_arr,color=nacolor,ls='solid', label = '[Na]')\n",
        "    ax1.plot(Fig1C_Sim.t_arr,Fig1C_Sim.x_arr,color=xcolor,ls='solid', label ='[X]')\n",
        "    ax1.set_ylabel('Concentrations(mM)')\n",
        "    ax1.legend()\n",
        "    \n",
        "\n",
        "    ax2.plot(Fig1C_Sim.t_arr,Fig1C_Sim.e_cl_arr,color=clcolor,ls='solid', label='ECl')\n",
        "    ax2.plot(Fig1C_Sim.t_arr,Fig1C_Sim.e_k_arr,color=kcolor,ls='solid',label='EK')\n",
        "    ax2.plot(Fig1C_Sim.t_arr,Fig1C_Sim.vm_arr,color='k',ls='solid', label='Vm')\n",
        "    ax2.set_ylabel('Voltages (mV)')\n",
        "    ax2.legend()\n",
        "\n",
        "    ax3.plot(Fig1C_Sim.t_arr,Fig1C_Sim.volume_arr,color='k',ls='solid', label='Volume')\n",
        "    ax3.set_ylabel('Volume (pL)')\n",
        "    ax3.set_xlabel('Time (ms)')\n",
        "    ax3.legend()\n",
        "    sns.despine()   \n",
        "\n",
        "F1c()"
      ],
      "execution_count": 0,
      "outputs": []
    },
    {
      "cell_type": "markdown",
      "metadata": {
        "id": "XcBNscbKR-5D",
        "colab_type": "text"
      },
      "source": [
        "## Figure 1D\n"
      ]
    },
    {
      "cell_type": "code",
      "metadata": {
        "id": "tm3m0LpbSMVH",
        "colab_type": "code",
        "colab": {}
      },
      "source": [
        "def F1d(rates=[-7,-3,-1,1]):\n",
        "        \n",
        "    na_arr = []\n",
        "    k_arr =[]\n",
        "    cl_arr =[]\n",
        "    x_arr =[]\n",
        "    vm_arr =[]\n",
        "    w_arr =[]\n",
        "    \n",
        "    \n",
        "    for i in range(len(rates)):       \n",
        "                      \n",
        "        Fig1D_Sim = PLM.SingleCompartment_PumpLeak()\n",
        "        Fig1D_Sim.Set_Concentrations()\n",
        "        Fig1D_Sim.Set_LeakConductances()\n",
        "        Fig1D_Sim.Set_NaKATPase_Properties(ATP_pump_rate = rates[i],time_off=1000000,time_on=0,switch_at_start='on')\n",
        "        Fig1D_Sim.Set_KCC2_Properties()\n",
        "        Fig1D_Sim.Set_Timing(duration = 1200 ,time_step = 1e-3)\n",
        "        Fig1D_Sim.Simulate_PLM()\n",
        "        na_arr.append(Fig1D_Sim.na_arr[-1]) \n",
        "        k_arr.append(Fig1D_Sim.k_arr[-1]) \n",
        "        cl_arr.append(Fig1D_Sim.cl_arr[-1]) \n",
        "        x_arr.append(Fig1D_Sim.x_arr[-1]) \n",
        "        vm_arr.append(Fig1D_Sim.vm_arr[-1]) \n",
        "        w_arr.append(Fig1D_Sim.volume_arr[-1]) \n",
        "        \n",
        "    Figure_1D, (ax1,ax2,ax3) = plt.subplots(nrows=3, ncols=1, sharex='all')\n",
        "        \n",
        "    ax1.plot(rates,cl_arr,color=clcolor,ls='solid',label='[Cl]')\n",
        "    ax1.plot(rates,k_arr,color=kcolor,ls='solid', label='[K]')\n",
        "    ax1.plot(rates,na_arr,color=nacolor,ls='solid', label = '[Na]')\n",
        "    ax1.plot(rates,x_arr,color=xcolor,ls='solid', label ='[X]')\n",
        "    ax1.set_ylabel('Concentrations(mM)')\n",
        "    #ax1.legend()\n",
        "        \n",
        "    ax2.plot(rates,vm_arr,color='k',ls='solid', label='Vm')\n",
        "    ax2.set_ylabel('Voltages (mV)')\n",
        "    #ax2.legend()\n",
        "    \n",
        "    ax3.plot(rates,w_arr,color='k',ls='solid', label='Volume')\n",
        "    ax3.set_ylabel('Volume (pL)')\n",
        "    ax3.set_xlabel('NA/K ATPase pump rate constant')\n",
        "    #ax3.legend()\n",
        "    sns.despine()   "
      ],
      "execution_count": 0,
      "outputs": []
    }
  ]
}