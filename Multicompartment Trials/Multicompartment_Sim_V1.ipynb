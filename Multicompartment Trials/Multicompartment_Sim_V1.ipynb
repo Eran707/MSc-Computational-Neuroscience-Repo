{
<<<<<<< Updated upstream
 "nbformat": 4,
 "nbformat_minor": 0,
 "metadata": {
  "colab": {
   "name": "Multicompartment Sim V1.ipynb",
   "provenance": [],
   "authorship_tag": "ABX9TyNvA/g06WRyf+z+DY1D61E0",
   "include_colab_link": true
  },
  "kernelspec": {
   "name": "python3",
   "language": "python",
   "display_name": "Python 3"
  }
 },
=======
>>>>>>> Stashed changes
 "cells": [
  {
   "cell_type": "markdown",
   "metadata": {
<<<<<<< Updated upstream
    "id": "view-in-github",
    "colab_type": "text"
=======
    "colab_type": "text",
    "id": "view-in-github"
>>>>>>> Stashed changes
   },
   "source": [
    "<a href=\"https://colab.research.google.com/github/Eran707/MSc-Computational-Neuroscience-Repo/blob/master/Multicompartment_Sim_V1.ipynb\" target=\"_parent\"><img src=\"https://colab.research.google.com/assets/colab-badge.svg\" alt=\"Open In Colab\"/></a>"
   ]
  },
  {
   "cell_type": "markdown",
   "metadata": {
    "id": "wOh7eT3qJET3"
   },
   "source": [
<<<<<<< Updated upstream
    "# **Multicompartment simulation V1**\r\n",
    "\r\n",
    "Eran Frank Shorer\r\n",
    "\r\n",
    "\r\n"
=======
    "# **Multicompartment simulation V1**\n",
    "\n",
    "Eran Frank Shorer"
>>>>>>> Stashed changes
   ]
  },
  {
   "cell_type": "markdown",
   "metadata": {
    "id": "D1Rx72GZLHeg"
   },
   "source": [
<<<<<<< Updated upstream
    "## **Import classes and modules** \r\n"
=======
    "## **Import classes and modules** \n"
>>>>>>> Stashed changes
   ]
  },
  {
   "cell_type": "code",
<<<<<<< Updated upstream
=======
   "execution_count": 1,
>>>>>>> Stashed changes
   "metadata": {
    "colab": {
     "base_uri": "https://localhost:8080/",
     "height": 367
    },
    "id": "NvJTcjQCJKbg",
    "outputId": "7183f5e7-ee74-4e38-d5d4-b0a87a8ba314"
   },
<<<<<<< Updated upstream
   "source": [
    "import common\r\n",
    "import constants\r\n",
    "import compartment\r\n",
    "import electrodiffusion\r\n",
    "import numpy as np\r\n",
    "import matplotlib.pyplot as plt\r\n",
    "import seaborn as sns \r\n"
   ],
   "execution_count": null,
   "outputs": [
    {
     "output_type": "error",
     "ename": "ModuleNotFoundError",
     "evalue": "ignored",
     "traceback": [
      "\u001B[0;31m---------------------------------------------------------------------------\u001B[0m",
      "\u001B[0;31mModuleNotFoundError\u001B[0m                       Traceback (most recent call last)",
      "\u001B[0;32m<ipython-input-4-a19664a79984>\u001B[0m in \u001B[0;36m<module>\u001B[0;34m()\u001B[0m\n\u001B[0;32m----> 1\u001B[0;31m \u001B[0;32mimport\u001B[0m \u001B[0mcommon\u001B[0m\u001B[0;34m\u001B[0m\u001B[0;34m\u001B[0m\u001B[0m\n\u001B[0m\u001B[1;32m      2\u001B[0m \u001B[0;32mimport\u001B[0m \u001B[0mconstants\u001B[0m\u001B[0;34m\u001B[0m\u001B[0;34m\u001B[0m\u001B[0m\n\u001B[1;32m      3\u001B[0m \u001B[0;32mimport\u001B[0m \u001B[0mcompartment\u001B[0m\u001B[0;34m\u001B[0m\u001B[0;34m\u001B[0m\u001B[0m\n\u001B[1;32m      4\u001B[0m \u001B[0;32mimport\u001B[0m \u001B[0melectrodiffusion\u001B[0m\u001B[0;34m\u001B[0m\u001B[0;34m\u001B[0m\u001B[0m\n\u001B[1;32m      5\u001B[0m \u001B[0;32mimport\u001B[0m \u001B[0mnumpy\u001B[0m \u001B[0;32mas\u001B[0m \u001B[0mnp\u001B[0m\u001B[0;34m\u001B[0m\u001B[0;34m\u001B[0m\u001B[0m\n",
      "\u001B[0;31mModuleNotFoundError\u001B[0m: No module named 'common'",
      "",
      "\u001B[0;31m---------------------------------------------------------------------------\u001B[0;32m\nNOTE: If your import is failing due to a missing package, you can\nmanually install dependencies using either !pip or !apt.\n\nTo view examples of installing some common dependencies, click the\n\"Open Examples\" button below.\n\u001B[0;31m---------------------------------------------------------------------------\u001B[0m\n"
     ]
    }
=======
   "outputs": [],
   "source": [
    "import common\n",
    "import constants\n",
    "import compartment\n",
    "import electrodiffusion\n",
    "import numpy as np\n",
    "import matplotlib.pyplot as plt\n",
    "import seaborn as sns \n"
   ]
  },
  {
   "cell_type": "code",
   "execution_count": null,
   "metadata": {
    "id": "IMeIADkyHtLK"
   },
   "outputs": [],
   "source": []
  },
  {
   "cell_type": "markdown",
   "metadata": {
    "id": "J3jjSLF4Lhuf"
   },
   "source": [
    "## **Set simulation parameters**"
   ]
  },
  {
   "cell_type": "markdown",
   "metadata": {
    "id": "8EvQGJHdLq4u"
   },
   "source": [
    "## *A) Timing*"
   ]
  },
  {
   "cell_type": "code",
   "execution_count": 2,
   "metadata": {
    "id": "SDuN6AyqJc63"
   },
   "outputs": [],
   "source": [
    "dt= 1e-3 # 1ms time steps \n",
    "total_t= 1200 #s"
   ]
  },
  {
   "cell_type": "markdown",
   "metadata": {
    "id": "7OExdRbPxshW",
    "pycharm": {
     "name": "#%% md\n"
    }
   },
   "source": [
    "## Compartment parameters"
>>>>>>> Stashed changes
   ]
  },
  {
   "cell_type": "code",
<<<<<<< Updated upstream
   "metadata": {
    "id": "IMeIADkyHtLK"
   },
   "source": [
    ""
   ],
   "execution_count": null,
   "outputs": []
  },
  {
   "cell_type": "markdown",
   "metadata": {
    "id": "J3jjSLF4Lhuf"
   },
   "source": [
    "## **Set simulation parameters**"
   ]
  },
  {
   "cell_type": "markdown",
   "metadata": {
    "id": "8EvQGJHdLq4u"
   },
   "source": [
    "## *A) Timing*"
   ]
  },
  {
   "cell_type": "code",
   "metadata": {
    "id": "SDuN6AyqJc63"
   },
   "source": [
    "dt= 1e-3 # 1ms time steps \r\n",
    "total_t= 1200 #s"
   ],
   "execution_count": null,
   "outputs": []
  },
  {
   "cell_type": "markdown",
   "metadata": {
    "id": "7OExdRbPxshW"
   },
   "source": [
    "## Compartment parameters"
   ]
  },
  {
   "cell_type": "code",
   "metadata": {
    "colab": {
     "base_uri": "https://localhost:8080/",
     "height": 163
    },
    "id": "1-v1SmMkLweq",
    "outputId": "0fd598cb-2073-4022-f60f-e7eeeee4d907"
   },
   "source": [
    "comp_1 = Compartment(name=\"comp_1\")"
   ],
   "execution_count": null,
   "outputs": [
    {
     "output_type": "error",
     "ename": "NameError",
     "evalue": "ignored",
     "traceback": [
      "\u001B[0;31m---------------------------------------------------------------------------\u001B[0m",
      "\u001B[0;31mNameError\u001B[0m                                 Traceback (most recent call last)",
      "\u001B[0;32m<ipython-input-2-01963386adf8>\u001B[0m in \u001B[0;36m<module>\u001B[0;34m()\u001B[0m\n\u001B[0;32m----> 1\u001B[0;31m \u001B[0mcomp_1\u001B[0m \u001B[0;34m=\u001B[0m \u001B[0mCompartment\u001B[0m\u001B[0;34m(\u001B[0m\u001B[0mname\u001B[0m\u001B[0;34m=\u001B[0m\u001B[0;34m\"comp_1\"\u001B[0m\u001B[0;34m)\u001B[0m\u001B[0;34m\u001B[0m\u001B[0;34m\u001B[0m\u001B[0m\n\u001B[0m",
      "\u001B[0;31mNameError\u001B[0m: name 'Compartment' is not defined"
     ]
    }
   ]
  },
  {
   "cell_type": "code",
   "metadata": {
    "id": "y_tTzubJxzoc"
   },
   "source": [
    ""
   ],
   "execution_count": null,
   "outputs": []
  }
 ]
=======
   "execution_count": null,
   "outputs": [],
   "source": [
    "comp_1 = compartment.Compartment(\"comp_1\")\n",
    "comp_2 = compartment.Compartment(\"comp_2\")"
   ],
   "metadata": {
    "collapsed": false,
    "pycharm": {
     "name": "#%%\n"
    }
   }
  },
  {
   "cell_type": "code",
   "execution_count": null,
   "outputs": [],
   "source": [
    "comp_1.set_ion_properties()\n",
    "comp_2.set_ion_properties()\n",
    "\n",
    "for t in total_t:\n",
    "    comp_1.step(dt)\n",
    "    comp_2.step(dt)\n",
    "    comp_1.update_volumes()\n",
    "    comp_2.update_volumes()\n",
    "    comp_1.update_arrays()\n",
    "    comp_2.update_arrays()\n",
    "    t += dt\n",
    "    \n",
    "\n",
    "    \n",
    "\n",
    "\n"
   ],
   "metadata": {
    "collapsed": false,
    "pycharm": {
     "name": "#%%\n"
    }
   }
  },
  {
   "cell_type": "code",
   "execution_count": null,
   "outputs": [],
   "source": [
    "\n"
   ],
   "metadata": {
    "collapsed": false,
    "pycharm": {
     "name": "#%%\n"
    }
   }
  }
 ],
 "metadata": {
  "colab": {
   "authorship_tag": "ABX9TyNvA/g06WRyf+z+DY1D61E0",
   "include_colab_link": true,
   "name": "Multicompartment Sim V1.ipynb",
   "provenance": []
  },
  "kernelspec": {
   "display_name": "Python 3",
   "language": "python",
   "name": "python3"
  },
  "language_info": {
   "codemirror_mode": {
    "name": "ipython",
    "version": 3
   },
   "file_extension": ".py",
   "mimetype": "text/x-python",
   "name": "python",
   "nbconvert_exporter": "python",
   "pygments_lexer": "ipython3",
   "version": "3.8.3"
  },
  "pycharm": {
   "stem_cell": {
    "cell_type": "raw",
    "source": [],
    "metadata": {
     "collapsed": false
    }
   }
  }
 },
 "nbformat": 4,
 "nbformat_minor": 1
>>>>>>> Stashed changes
}