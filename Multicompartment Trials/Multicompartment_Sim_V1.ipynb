{
 "cells": [
  {
   "cell_type": "markdown",
   "metadata": {
    "colab_type": "text",
    "id": "view-in-github"
   },
   "source": [
    "<a href=\"https://colab.research.google.com/github/Eran707/MSc-Computational-Neuroscience-Repo/blob/master/Multicompartment_Sim_V1.ipynb\" target=\"_parent\"><img src=\"https://colab.research.google.com/assets/colab-badge.svg\" alt=\"Open In Colab\"/></a>"
   ]
  },
  {
   "cell_type": "markdown",
   "metadata": {
    "id": "wOh7eT3qJET3"
   },
   "source": [
    "# **Neural Multicompartment Simulator**\n",
    "\n",
    "**Eran Frank Shorer**\n",
    "\n",
    "**MSc Computational Neuroscience**\n",
    "\n",
    "**\"Investigating the effects of impermeant anions on the electrical and computational properties of neurons\"**\n",
    "\n",
    "\n"
   ]
  },
  {
   "cell_type": "markdown",
   "metadata": {},
   "source": [
    "## Instructions:\n",
    "\n",
    "This jupyter notebook consists of cells. Some cells are plain text, while others are code. \n",
    "\n",
    "Press Shift-Enter simultaneously, or click the cell and press the play button in the main toolbar above to run the cell. \n",
    "\n",
    "The output of the cell should be displayed below the cell. \n",
    "\n"
   ]
  },
  {
   "cell_type": "markdown",
   "metadata": {
    "id": "D1Rx72GZLHeg"
   },
   "source": [
    "## **Import classes and modules** \n"
   ]
  },
  {
   "cell_type": "code",
   "execution_count": 52,
   "metadata": {
    "colab": {
     "base_uri": "https://localhost:8080/",
     "height": 367
    },
    "id": "NvJTcjQCJKbg",
    "outputId": "7183f5e7-ee74-4e38-d5d4-b0a87a8ba314",
    "tags": [
     "hide-input"
    ]
   },
   "outputs": [
    {
     "name": "stdout",
     "output_type": "stream",
     "text": [
      "All relevant classes imported\n"
     ]
    }
   ],
   "source": [
    "from ipywidgets import widgets, Layout, interact, interactive, interactive_output\n",
    "from IPython.display import display\n",
    "import common\n",
    "import constants\n",
    "import compartment\n",
    "import electrodiffusion\n",
    "import numpy as np\n",
    "import matplotlib.pyplot as plt\n",
    "import seaborn as sns \n",
    "print(\"All relevant classes imported\")\n"
   ]
  },
  {
   "cell_type": "markdown",
   "metadata": {
    "id": "J3jjSLF4Lhuf"
   },
   "source": [
    "## **Set simulation parameters**"
   ]
  },
  {
   "cell_type": "markdown",
   "metadata": {
    "id": "7OExdRbPxshW"
   },
   "source": [
    "## *A) Compartment parameters*"
   ]
  },
  {
   "cell_type": "markdown",
   "metadata": {},
   "source": [
    "### A1) Set compartment parameters:"
   ]
  },
  {
   "cell_type": "code",
   "execution_count": 56,
   "metadata": {
    "scrolled": false
   },
   "outputs": [
    {
     "data": {
      "application/vnd.jupyter.widget-view+json": {
       "model_id": "6f50a5cf4d374553983b7ec5922f4dcd",
       "version_major": 2,
       "version_minor": 0
      },
      "text/plain": [
       "Output()"
      ]
     },
     "metadata": {},
     "output_type": "display_data"
    },
    {
     "data": {
      "application/vnd.jupyter.widget-view+json": {
       "model_id": "167399c7a3ee4eda83c02feefd83783f",
       "version_major": 2,
       "version_minor": 0
      },
      "text/plain": [
       "VBox(children=(HBox(children=(Label(value='Compartment Name: '), Text(value='Comp1'))), HBox(children=(Label(v…"
      ]
     },
     "metadata": {},
     "output_type": "display_data"
    }
   ],
   "source": [
    "txt_name = widgets.Text(value=\"Comp1\")\n",
    "lbl_name = widgets.Label(value =\"Compartment Name: \")\n",
    "name_box = widgets.HBox(children = [lbl_name,txt_name])\n",
    "\n",
    "lbl_rad = widgets.Label(value = \"Compartment Radius (um): \")\n",
    "sldr_rad = widgets.FloatSlider(value=5, min=1, max=11.0, step=0.5, disabled=False, continuous_update=False,\n",
    "    orientation='horizontal', readout=True, readout_format='.1f')\n",
    "rad_box = widgets.HBox(children = [lbl_rad,sldr_rad])\n",
    "\n",
    "lbl_len = widgets.Label(value = \"Compartment Length (um): \")\n",
    "sldr_len = widgets.FloatSlider(value=100, min=50, max=200, step=20, disabled=False, continuous_update=False,\n",
    "    orientation='horizontal', readout=True, readout_format='.1f')\n",
    "len_box = widgets.HBox(children = [lbl_len,sldr_len])\n",
    "\n",
    "lbl_nai = widgets.Label(value = \"Na+ concentration (mM): \")\n",
    "sldr_nai = widgets.FloatSlider(value=14, min=0, max=100, step=10, disabled=False, continuous_update=False,\n",
    "    orientation='horizontal', readout=True, readout_format='.1f')\n",
    "hbox_nai = widgets.HBox(children = [lbl_nai,sldr_nai])\n",
    "\n",
    "lbl_ki = widgets.Label(value = \"K+ concentration (mM): \")\n",
    "sldr_ki = widgets.FloatSlider(value=122, min=0, max=250, step=5, disabled=False, continuous_update=False,\n",
    "    orientation='horizontal', readout=True, readout_format='.1f')\n",
    "hbox_ki = widgets.HBox(children = [lbl_ki,sldr_ki])\n",
    "\n",
    "lbl_cli = widgets.Label(value = \"Cl- concentration (mM): \")\n",
    "sldr_cli = widgets.FloatSlider(value=5, min=0, max=50, step=5, disabled=False, continuous_update=False,\n",
    "    orientation='horizontal', readout=True, readout_format='.1f')\n",
    "hbox_cli = widgets.HBox(children = [lbl_cli,sldr_cli])\n",
    "\n",
    "lbl_xi = widgets.Label(value = \"Impermeant anion concentration (mM): \")\n",
    "sldr_xi = widgets.FloatSlider(value=150, min=0, max=300, step=10, disabled=False, continuous_update=False,\n",
    "    orientation='horizontal', readout=True, readout_format='.1f')\n",
    "hbox_xi = widgets.HBox(children = [lbl_xi,sldr_xi])\n",
    "\n",
    "lbl_zi = widgets.Label(value = \"Impermeant anion average charge: \")\n",
    "sldr_zi = widgets.FloatSlider(value=-0.85, min=-10, max=10, step=0.5, disabled=False, continuous_update=False,\n",
    "    orientation='horizontal', readout=True, readout_format='.1f')\n",
    "hbox_zi = widgets.HBox(children = [lbl_zi,sldr_zi])\n",
    "\n",
    "\n",
    "\n",
    "global name, comp_arr\n",
    "name = txt_name.value\n",
    "comp_arr =[]\n",
    "\n",
    "output = widgets.Output()\n",
    "\n",
    "\n",
    "btn_new_comp = widgets.Button(description = \"Create Compartment\",button_style =\"success\")\n",
    "\n",
    "\n",
    "def new_comp_clicked(b):\n",
    "    \n",
    "    name = txt_name.value\n",
    "    new_comp = compartment.Compartment(name,radius=sldr_rad.value*1e-5, length=sldr_len.value*1e-5)\n",
    "    new_comp.set_ion_properties(na_i=sldr_nai.value*1e-3, k_i = sldr_ki.value*1e-3, cl_i=sldr_cli.value*1e-3,x_i=sldr_xi.value*1e-3, z_i=sldr_zi.value)\n",
    "    comp_arr.append(new_comp)\n",
    "    with output:\n",
    "        print(\"Compartment: (\"+ new_comp.name +\") created\" )\n",
    "\n",
    "      \n",
    "btn_new_comp.on_click(new_comp_clicked)\n",
    "\n",
    "\n",
    "vbox_grand = widgets.VBox(children = [name_box,rad_box,len_box, hbox_nai,hbox_ki,hbox_cli,hbox_xi,hbox_zi,btn_new_comp], layout=Layout(border =\"solid\"))\n",
    "\n",
    "display(output,vbox_grand)\n",
    "\n",
    "\n",
    "\n",
    "\n",
    "\n"
   ]
  },
  {
   "cell_type": "code",
   "execution_count": 58,
   "metadata": {},
   "outputs": [
    {
     "name": "stdout",
     "output_type": "stream",
     "text": [
      "Comp1: 0.06 Molar\n",
      "Comp2: 0.06 Molar\n",
      "Comp3: 0.06 Molar\n"
     ]
    }
   ],
   "source": [
    "x = 0\n",
    "for i in comp_arr:\n",
    "    print(comp_arr[x].name + \": \" + str(comp_arr[x].na_i)+ \" Molar\")\n",
    "    x += 1"
   ]
  },
  {
   "cell_type": "markdown",
   "metadata": {},
   "source": [
    "### A2) Review compartments"
   ]
  },
  {
   "cell_type": "code",
   "execution_count": 59,
   "metadata": {},
   "outputs": [
    {
     "data": {
      "application/vnd.jupyter.widget-view+json": {
       "model_id": "9e069aba1d454ff8939971ebd7955141",
       "version_major": 2,
       "version_minor": 0
      },
      "text/plain": [
       "Tab(children=(VBox(children=(HBox(children=(Label(value='Name'), Text(value='Comp1'))), HBox(children=(Label(v…"
      ]
     },
     "metadata": {},
     "output_type": "display_data"
    }
   ],
   "source": [
    "tabs =[]\n",
    "children =[]\n",
    "aa = 0\n",
    "m =0\n",
    "for a in comp_arr:\n",
    "    tabs.append(comp_arr[aa].name)\n",
    "    lbl_name = widgets.Label(value = \"Name\")\n",
    "    txt_name = widgets.Text(value = comp_arr[aa].name)\n",
    "    hbox_name = widgets.HBox(children =[lbl_name,txt_name])\n",
    "    lbl_rad = widgets.Label(value = \"Radius\")\n",
    "    txt_rad = widgets.Text(value = str(comp_arr[aa].radius))\n",
    "    hbox_rad = widgets.HBox(children =[lbl_rad,txt_rad])\n",
    "    lbl_len = widgets.Label(value = \"Length\")\n",
    "    txt_len = widgets.Text(value = str(comp_arr[aa].length))\n",
    "    hbox_len = widgets.HBox(children =[lbl_len,txt_len])\n",
    "    lbl_nai = widgets.Label(value = \"Na+ mM\")\n",
    "    txt_nai = widgets.Text(value = str(comp_arr[aa].na_i))\n",
    "    hbox_nai = widgets.HBox(children =[lbl_nai,txt_nai])\n",
    "    lbl_ki = widgets.Label(value = \"K+ mM\")\n",
    "    txt_ki = widgets.Text(value = str(comp_arr[aa].k_i))\n",
    "    hbox_ki = widgets.HBox(children =[lbl_ki,txt_ki])\n",
    "    lbl_cli = widgets.Label(value = \"Cl- mM\")\n",
    "    txt_cli = widgets.Text(value = str(comp_arr[aa].cl_i))\n",
    "    hbox_cli = widgets.HBox(children =[lbl_cli,txt_cli])\n",
    "    lbl_xi = widgets.Label(value = \"Impermeants mM\")\n",
    "    txt_xi = widgets.Text(value = str(comp_arr[aa].x_i))\n",
    "    hbox_xi = widgets.HBox(children =[lbl_xi,txt_xi])\n",
    "    lbl_zi = widgets.Label(value = \"Impermeant charge\")\n",
    "    txt_zi = widgets.Text(value = str(comp_arr[aa].z_i))\n",
    "    hbox_zi = widgets.HBox(children =[lbl_zi,txt_zi])\n",
    "    vbox_comp = widgets.VBox(children =[hbox_name, hbox_rad,hbox_len,hbox_nai,hbox_ki,hbox_cli,hbox_xi,hbox_zi])\n",
    "    children.append(vbox_comp)\n",
    "    aa +=1\n",
    "\n",
    "    \n",
    "    \n",
    "comp_tab = widgets.Tab()\n",
    "comp_tab.children = children\n",
    "\n",
    "bb= 0\n",
    "for b in comp_arr:\n",
    "    comp_tab.set_title(bb,tabs[bb])\n",
    "    bb +=1\n",
    "\n",
    "display(comp_tab)\n",
    "\n",
    "#tab_contents = ['C0', 'C1', 'C2', 'C3', 'C4']\n",
    "#children = [widgets.Text(description=name) for name in tab_contents]\n",
    "#tab = widgets.Tab()\n",
    "#tab.children = children\n",
    "#for i in range(len(children)):\n",
    "    #tab.set_title(i, str(i))\n",
    "#tab\"\"\"\"\"\""
   ]
  },
  {
   "cell_type": "markdown",
   "metadata": {
    "id": "8EvQGJHdLq4u"
   },
   "source": [
    "## *B) Timing*"
   ]
  },
  {
   "cell_type": "code",
   "execution_count": 60,
   "metadata": {
    "id": "SDuN6AyqJc63"
   },
   "outputs": [
    {
     "data": {
      "application/vnd.jupyter.widget-view+json": {
       "model_id": "b2cded29d9c84a328d94f25ca435c3b6",
       "version_major": 2,
       "version_minor": 0
      },
      "text/plain": [
       "VBox(children=(HBox(children=(Label(value='Set the simulation run time (minutes):'), FloatSlider(value=3.0, co…"
      ]
     },
     "metadata": {},
     "output_type": "display_data"
    }
   ],
   "source": [
    "lbl_total_t = widgets.Label(value=\"Set the simulation run time (minutes):\")\n",
    "sldr_total_t = widgets.FloatSlider(value=3, min=1, max=20, step=0.5, disabled=False, continuous_update=False, orientation='horizontal',\n",
    "    readout=True, readout_format='.1f')\n",
    "HBox_total_t = widgets.HBox(children = [lbl_total_t,sldr_total_t])\n",
    "\n",
    "lbl_dt = widgets.Label(value=\"Set the simulation time step (milliseconds):\")\n",
    "sldr_dt = widgets.FloatSlider(value=1, min=1, max=10, step=0.5, disabled=False, continuous_update=False, orientation='horizontal',\n",
    "    readout=True, readout_format='.1f')\n",
    "HBox_dt = widgets.HBox(children = [lbl_dt,sldr_dt])\n",
    "\n",
    "dt= sldr_dt.value*1e-3 # 1ms time steps \n",
    "total_t= sldr_total_t.value *60 #s\n",
    "\n",
    "run_t = 0 #current simulation timing\n",
    "t_arr = [0]\n",
    "\n",
    "\n",
    "widgets.VBox([HBox_total_t,HBox_dt], layout=Layout(border='solid'))\n",
    "\n",
    "\n",
    "#print(\"Set total simulation time (minutes):\")\n",
    "\n",
    "#print(\"Set time step (milliseconds):\")\n"
   ]
  },
  {
   "cell_type": "code",
   "execution_count": 19,
   "metadata": {
    "colab": {
     "base_uri": "https://localhost:8080/",
     "height": 163
    },
    "id": "1-v1SmMkLweq",
    "outputId": "0fd598cb-2073-4022-f60f-e7eeeee4d907"
   },
   "outputs": [],
   "source": [
    "comp_1 = compartment.Compartment(\"comp_1\")\n",
    "comp_1.set_ion_properties()\n",
    "comp_2 = compartment.Compartment(\"comp_2\")\n",
    "comp_2.set_ion_properties()\n",
    "ed_1_2 = electrodiffusion.Electrodiffusion(comp_1,comp_2)"
   ]
  },
  {
   "cell_type": "markdown",
   "metadata": {
    "id": "y_tTzubJxzoc",
    "pycharm": {
     "name": "#%% md\n"
    }
   },
   "source": [
    "## **Run Simulation**"
   ]
  },
  {
   "cell_type": "code",
   "execution_count": 13,
   "metadata": {
    "jupyter": {
     "outputs_hidden": false
    },
    "pycharm": {
     "name": "#%%\n"
    }
   },
   "outputs": [
    {
     "ename": "TypeError",
     "evalue": "'dict_keys' object is not subscriptable",
     "output_type": "error",
     "traceback": [
      "\u001B[1;31m---------------------------------------------------------------------------\u001B[0m",
      "\u001B[1;31mTypeError\u001B[0m                                 Traceback (most recent call last)",
      "\u001B[1;32m<ipython-input-13-b27d637144e3>\u001B[0m in \u001B[0;36m<module>\u001B[1;34m\u001B[0m\n\u001B[0;32m      5\u001B[0m     \u001B[0mcomp_1_ed_dict\u001B[0m \u001B[1;33m=\u001B[0m \u001B[0mcomp_1\u001B[0m\u001B[1;33m.\u001B[0m\u001B[0mget_ed_dict\u001B[0m\u001B[1;33m(\u001B[0m\u001B[1;33m)\u001B[0m\u001B[1;33m\u001B[0m\u001B[1;33m\u001B[0m\u001B[0m\n\u001B[0;32m      6\u001B[0m     \u001B[0mcomp_2_ed_dict\u001B[0m \u001B[1;33m=\u001B[0m \u001B[0mcomp_2\u001B[0m\u001B[1;33m.\u001B[0m\u001B[0mget_ed_dict\u001B[0m\u001B[1;33m(\u001B[0m\u001B[1;33m)\u001B[0m\u001B[1;33m\u001B[0m\u001B[1;33m\u001B[0m\u001B[0m\n\u001B[1;32m----> 7\u001B[1;33m     \u001B[0med_conc_changes\u001B[0m \u001B[1;33m=\u001B[0m \u001B[0med_1_2\u001B[0m\u001B[1;33m.\u001B[0m\u001B[0mcalc_ed\u001B[0m\u001B[1;33m(\u001B[0m\u001B[0mdt\u001B[0m\u001B[1;33m,\u001B[0m\u001B[0mcomp_1_ed_dict\u001B[0m\u001B[1;33m,\u001B[0m\u001B[0mcomp_2_ed_dict\u001B[0m\u001B[1;33m)\u001B[0m\u001B[1;33m\u001B[0m\u001B[1;33m\u001B[0m\u001B[0m\n\u001B[0m\u001B[0;32m      8\u001B[0m     \u001B[0mcomp_1\u001B[0m\u001B[1;33m.\u001B[0m\u001B[0med_update\u001B[0m\u001B[1;33m(\u001B[0m\u001B[0med_conc_changes\u001B[0m\u001B[1;33m)\u001B[0m\u001B[1;33m\u001B[0m\u001B[1;33m\u001B[0m\u001B[0m\n\u001B[0;32m      9\u001B[0m     \u001B[1;32mfor\u001B[0m \u001B[0mj\u001B[0m \u001B[1;32min\u001B[0m \u001B[0med_conc_changes\u001B[0m\u001B[1;33m:\u001B[0m\u001B[1;33m\u001B[0m\u001B[1;33m\u001B[0m\u001B[0m\n",
      "\u001B[1;32mD:\\Academics\\MSc\\MSc_Chloride signalling in Epilepsy\\Code\\MSc-Computational-Neuroscience-Repo\\Multicompartment Trials\\electrodiffusion.py\u001B[0m in \u001B[0;36mcalc_ed\u001B[1;34m(self, dt, comp_a_ed_dict, comp_b_ed_dict)\u001B[0m\n\u001B[0;32m     66\u001B[0m         \u001B[0mions\u001B[0m \u001B[1;33m=\u001B[0m \u001B[0mlist\u001B[0m\u001B[1;33m(\u001B[0m\u001B[0mself\u001B[0m\u001B[1;33m.\u001B[0m\u001B[0med_change\u001B[0m\u001B[1;33m)\u001B[0m\u001B[1;33m\u001B[0m\u001B[1;33m\u001B[0m\u001B[0m\n\u001B[0;32m     67\u001B[0m         \u001B[0mi\u001B[0m \u001B[1;33m=\u001B[0m \u001B[1;36m0\u001B[0m\u001B[1;33m\u001B[0m\u001B[1;33m\u001B[0m\u001B[0m\n\u001B[1;32m---> 68\u001B[1;33m         \u001B[1;32mfor\u001B[0m \u001B[0mi\u001B[0m \u001B[1;32min\u001B[0m \u001B[1;36m3\u001B[0m\u001B[1;33m:\u001B[0m\u001B[1;33m\u001B[0m\u001B[1;33m\u001B[0m\u001B[0m\n\u001B[0m\u001B[0;32m     69\u001B[0m             \u001B[0mion\u001B[0m \u001B[1;33m=\u001B[0m \u001B[0mions\u001B[0m\u001B[1;33m[\u001B[0m\u001B[0mi\u001B[0m\u001B[1;33m]\u001B[0m\u001B[1;33m\u001B[0m\u001B[1;33m\u001B[0m\u001B[0m\n\u001B[0;32m     70\u001B[0m             \u001B[0mself\u001B[0m\u001B[1;33m.\u001B[0m\u001B[0med_change\u001B[0m\u001B[1;33m[\u001B[0m\u001B[0mion\u001B[0m\u001B[1;33m]\u001B[0m \u001B[1;33m+=\u001B[0m \u001B[0mself\u001B[0m\u001B[1;33m.\u001B[0m\u001B[0mcalc_drift\u001B[0m\u001B[1;33m(\u001B[0m\u001B[0mion\u001B[0m\u001B[1;33m,\u001B[0m\u001B[0mcomp_a_ed_dict\u001B[0m\u001B[1;33m[\u001B[0m\u001B[0mion\u001B[0m\u001B[1;33m]\u001B[0m\u001B[1;33m,\u001B[0m\u001B[0mcomp_b_ed_dict\u001B[0m\u001B[1;33m[\u001B[0m\u001B[0mion\u001B[0m\u001B[1;33m]\u001B[0m\u001B[1;33m,\u001B[0m\u001B[0mdV\u001B[0m\u001B[1;33m)\u001B[0m\u001B[1;33m\u001B[0m\u001B[1;33m\u001B[0m\u001B[0m\n",
      "\u001B[1;31mTypeError\u001B[0m: 'dict_keys' object is not subscriptable"
     ]
    }
   ],
   "source": [
    "while run_t < total_t:\n",
    "\n",
    "    \n",
    "    # will need to loop through comp_arr to update all these values\n",
    "    \n",
    "    \n",
    "    comp_1.step(dt)\n",
    "    comp_2.step(dt)\n",
    "    comp_1_ed_dict = comp_1.get_ed_dict()\n",
    "    comp_2_ed_dict = comp_2.get_ed_dict()\n",
    "    ed_conc_changes = ed_1_2.calc_ed(dt,comp_1_ed_dict,comp_2_ed_dict)\n",
    "    comp_1.ed_update(ed_conc_changes)\n",
    "    for j in ed_conc_changes:\n",
    "        ed_conc_changes[j] *= -1\n",
    "    comp_2.ed_update(ed_conc_changes)\n",
    "    comp_1.update_volumes()\n",
    "    comp_1.update_arrays()\n",
    "    run_t += dt\n",
    "    t_arr.append(run_t)\n",
    "\n"
   ]
  },
  {
   "cell_type": "code",
   "execution_count": null,
   "metadata": {
    "jupyter": {
     "outputs_hidden": false
    },
    "pycharm": {
     "name": "#%%\n"
    }
   },
   "outputs": [],
   "source": []
  }
 ],
 "metadata": {
  "colab": {
   "authorship_tag": "ABX9TyNvA/g06WRyf+z+DY1D61E0",
   "include_colab_link": true,
   "name": "Multicompartment Sim V1.ipynb",
   "provenance": []
  },
  "kernelspec": {
   "display_name": "Python 3",
   "language": "python",
   "name": "python3"
  },
  "language_info": {
   "codemirror_mode": {
    "name": "ipython",
    "version": 3
   },
   "file_extension": ".py",
   "mimetype": "text/x-python",
   "name": "python",
   "nbconvert_exporter": "python",
   "pygments_lexer": "ipython3",
   "version": "3.8.3"
  }
 },
 "nbformat": 4,
 "nbformat_minor": 4
}