{
 "cells": [
  {
   "cell_type": "markdown",
   "metadata": {
    "colab_type": "text",
    "extensions": {
     "jupyter_dashboards": {
      "version": 1,
      "views": {
       "grid_default": {},
       "report_default": {}
      }
     }
    },
    "id": "view-in-github"
   },
   "source": [
    "<a href=\"https://colab.research.google.com/github/Eran707/MSc-Computational-Neuroscience-Repo/blob/master/Multicompartment_Sim_V1.ipynb\" target=\"_parent\"><img src=\"https://colab.research.google.com/assets/colab-badge.svg\" alt=\"Open In Colab\"/></a>"
   ]
  },
  {
   "cell_type": "markdown",
   "metadata": {
    "extensions": {
     "jupyter_dashboards": {
      "version": 1,
      "views": {
       "grid_default": {},
       "report_default": {}
      }
     }
    },
    "id": "wOh7eT3qJET3"
   },
   "source": [
    "# **Neural Multicompartment Simulator**\n",
    "\n",
    "**Eran Frank Shorer**\n",
    "\n",
    "**MSc Computational Neuroscience**\n",
    "\n",
    "**\"Investigating the effects of impermeant anions on the electrical and computational properties of neurons\"**\n",
    "\n",
    "\n"
   ]
  },
  {
   "cell_type": "markdown",
   "metadata": {
    "extensions": {
     "jupyter_dashboards": {
      "version": 1,
      "views": {
       "grid_default": {},
       "report_default": {}
      }
     }
    }
   },
   "source": [
    "## Instructions:\n",
    "\n",
    "This jupyter notebook consists of cells. Some cells are plain text, while others are code. \n",
    "\n",
    "Press Shift-Enter simultaneously, or click the cell and press the play button in the main toolbar above to run the cell. \n",
    "\n",
    "The output of the cell should be displayed below the cell. \n",
    "\n"
   ]
  },
  {
   "cell_type": "markdown",
   "metadata": {
    "extensions": {
     "jupyter_dashboards": {
      "version": 1,
      "views": {
       "grid_default": {},
       "report_default": {}
      }
     }
    },
    "id": "D1Rx72GZLHeg"
   },
   "source": [
    "## **Import classes and modules** \n"
   ]
  },
  {
   "cell_type": "code",
<<<<<<< Updated upstream
   "execution_count": 155,
=======
   "execution_count": 1,
>>>>>>> Stashed changes
   "metadata": {
    "colab": {
     "base_uri": "https://localhost:8080/",
     "height": 367
    },
    "extensions": {
     "jupyter_dashboards": {
      "version": 1,
      "views": {
       "grid_default": {},
       "report_default": {}
      }
     }
    },
    "id": "NvJTcjQCJKbg",
    "outputId": "7183f5e7-ee74-4e38-d5d4-b0a87a8ba314",
    "tags": [
     "hide-input"
    ]
   },
   "outputs": [
    {
     "name": "stdout",
     "output_type": "stream",
     "text": [
      "All relevant classes imported\n"
     ]
    }
   ],
   "source": [
    "import pandas as pd\n",
    "\n",
    "try:\n",
    "    from ipywidgets import widgets, Layout, interact, interactive, interactive_output, Dropdown\n",
    "    from IPython.display import display\n",
    "    import bqplot as bqp\n",
    "    from bqplot import pyplot as plt # bqplot is a plotting for jupyter\n",
    "    import matplotlib.pyplot as mplt\n",
    "    import common\n",
    "    import constants\n",
    "    import compartment\n",
    "    import electrodiffusion\n",
    "    import numpy as np\n",
    "    import random\n",
    "    import seaborn as sns \n",
    "    import pandas as pd\n",
    "    import graphing as gr\n",
    "    #!pip install viola\n",
    "    ########## Modules required for artist drawing on matplotlib\n",
    "    import matplotlib.path as mpath\n",
    "    import matplotlib.lines as mlines\n",
    "    import matplotlib.patches as mpatches\n",
    "    from matplotlib.collections import PatchCollection\n",
    "    \n",
    "  \n",
    "    \n",
    "    \n",
    "except ModuleNotFoundError:\n",
    "        print(\"A class you are trying to import is not present in the directory\")\n",
    "    \n",
    "except Exception:\n",
    "        print(\"Something went wrong - modules have not been imported\")\n",
    "\n",
    "else: \n",
    "        print(\"All relevant classes imported\")\n",
    "    \n",
    "\n",
    "\n",
    "\n"
   ]
  },
  {
   "cell_type": "markdown",
   "metadata": {
    "extensions": {
     "jupyter_dashboards": {
      "version": 1,
      "views": {
       "grid_default": {},
       "report_default": {}
      }
     }
    },
    "id": "J3jjSLF4Lhuf"
   },
   "source": [
    "## **Set simulation parameters**"
   ]
  },
  {
   "cell_type": "markdown",
   "metadata": {
    "extensions": {
     "jupyter_dashboards": {
      "version": 1,
      "views": {
       "grid_default": {},
       "report_default": {}
      }
     }
    },
    "id": "7OExdRbPxshW"
   },
   "source": [
    "\n",
    "## *A) Compartment parameters*"
   ]
  },
  {
   "cell_type": "markdown",
   "metadata": {
    "extensions": {
     "jupyter_dashboards": {
      "version": 1,
      "views": {
       "grid_default": {},
       "report_default": {}
      }
     }
    }
   },
   "source": [
    "### A1) Set compartment parameters:"
   ]
  },
  {
   "cell_type": "code",
   "execution_count": 187,
   "metadata": {
    "extensions": {
     "jupyter_dashboards": {
      "version": 1,
      "views": {
       "grid_default": {},
       "report_default": {}
      }
     }
    }
   },
   "outputs": [
    {
     "data": {
      "application/vnd.jupyter.widget-view+json": {
<<<<<<< Updated upstream
       "model_id": "a7f377d04944417c862e38c42d3423d6",
=======
       "model_id": "38e922da907646c98c125aad2dd60f7c",
>>>>>>> Stashed changes
       "version_major": 2,
       "version_minor": 0
      },
      "text/plain": [
       "Output()"
      ]
     },
     "metadata": {},
     "output_type": "display_data"
    },
    {
     "data": {
      "application/vnd.jupyter.widget-view+json": {
<<<<<<< Updated upstream
       "model_id": "1004b1192f984c298db8391800fb8a27",
=======
       "model_id": "734965e8c04343e0a0217ee607e0cb31",
>>>>>>> Stashed changes
       "version_major": 2,
       "version_minor": 0
      },
      "text/plain": [
       "VBox(children=(HBox(children=(Label(value='Compartment Name: '), Text(value='Comp1'))), HBox(children=(Label(v…"
      ]
     },
     "metadata": {},
     "output_type": "display_data"
    }
   ],
   "source": [
    "### WIDGET INITIALIZATION ################################################################################\n",
    "txt_name = widgets.Text(value=\"Comp1\")\n",
    "lbl_name = widgets.Label(value =\"Compartment Name: \")\n",
    "name_box = widgets.HBox(children = [lbl_name,txt_name])\n",
    "\n",
    "\n",
    "lbl_rad = widgets.Label(value = \"Compartment Radius (um): \")\n",
    "sldr_rad = widgets.FloatSlider(value=5, min=1, max=11.0, step=0.5, disabled=False, continuous_update=False,\n",
    "    orientation='horizontal', readout=True, readout_format='.1f')\n",
    "rad_box = widgets.HBox(children = [lbl_rad,sldr_rad])\n",
    "\n",
    "lbl_len = widgets.Label(value = \"Compartment Length (um): \")\n",
    "sldr_len = widgets.FloatSlider(value=100, min=50, max=200, step=20, disabled=False, continuous_update=False,\n",
    "    orientation='horizontal', readout=True, readout_format='.1f')\n",
    "len_box = widgets.HBox(children = [lbl_len,sldr_len])\n",
    "\n",
    "lbl_nai = widgets.Label(value = \"Na+ concentration (mM): \")\n",
    "sldr_nai = widgets.FloatSlider(value=14, min=0, max=100, step=10, disabled=False, continuous_update=False,\n",
    "    orientation='horizontal', readout=True, readout_format='.1f')\n",
    "hbox_nai = widgets.HBox(children = [lbl_nai,sldr_nai])\n",
    "\n",
    "lbl_ki = widgets.Label(value = \"K+ concentration (mM): \")\n",
    "sldr_ki = widgets.FloatSlider(value=122, min=0, max=250, step=5, disabled=False, continuous_update=False,\n",
    "    orientation='horizontal', readout=True, readout_format='.1f')\n",
    "hbox_ki = widgets.HBox(children = [lbl_ki,sldr_ki])\n",
    "\n",
    "lbl_cli = widgets.Label(value = \"Cl- concentration (mM): \")\n",
    "sldr_cli = widgets.FloatSlider(value=5, min=0, max=50, step=5, disabled=False, continuous_update=False,\n",
    "    orientation='horizontal', readout=True, readout_format='.1f')\n",
    "hbox_cli = widgets.HBox(children = [lbl_cli,sldr_cli])\n",
    "\n",
    "lbl_xi = widgets.Label(value = \"Impermeant anion concentration (mM): \")\n",
    "sldr_xi = widgets.FloatSlider(value=150, min=0, max=300, step=10, disabled=False, continuous_update=False,\n",
    "    orientation='horizontal', readout=True, readout_format='.1f')\n",
    "hbox_xi = widgets.HBox(children = [lbl_xi,sldr_xi])\n",
    "\n",
    "lbl_zi = widgets.Label(value = \"Impermeant anion average charge: \")\n",
    "sldr_zi = widgets.FloatSlider(value=-0.85, min=-3, max=0, step=0.05, disabled=False, continuous_update=False,\n",
    "    orientation='horizontal', readout=True, readout_format='.1f')\n",
    "hbox_zi = widgets.HBox(children = [lbl_zi,sldr_zi])\n",
    "\n",
    "########################################################################################################\n",
    "\n",
    "\n",
    "global name, comp_arr, df_sim\n",
    "\n",
    "\n",
    "#CREATION OF THE PANDAS DATA FRAME THAT WILL KEEP TRACK OF ALL THE VARIABLES IN REAL TIME\n",
    "df_sim = pd.DataFrame()\n",
    "\n",
    "comp_arr =[]\n",
    "\n",
    "output1 = widgets.Output()\n",
    "\n",
    "\n",
    "btn_new_comp = widgets.Button(description = \"Create Compartment\",button_style =\"success\")\n",
    "btn_defaults = widgets.Button(description = \"Reset to defaults\")\n",
    "hbox_btns = widgets.HBox(children = [btn_new_comp, btn_defaults])\n",
    "\n",
    "\n",
    "\n",
    "def new_comp_clicked(b):\n",
    "    \n",
    "    name = txt_name.value\n",
    "    for j in range (len(comp_arr)):\n",
    "        if name == comp_arr[j].name:\n",
    "            txt_name.color = 'red'\n",
    "            raise Exception(\"Two compartments cannot have the same name\")\n",
    "    new_comp = compartment.Compartment(name,radius=sldr_rad.value*1e-5, length=sldr_len.value*1e-5)\n",
    "    new_comp.set_ion_properties(na_i=sldr_nai.value*1e-3, k_i = sldr_ki.value*1e-3, cl_i=sldr_cli.value*1e-3,x_i=sldr_xi.value*1e-3, z_i=sldr_zi.value)\n",
    "    comp_arr.append(new_comp)\n",
    "    arr_df = new_comp.get_df_array()\n",
    "    df_sim[name] = arr_df\n",
    "    df_sim.index = ['Radius', 'Length', 'Volume', 'Na_i', 'K_i', 'Cl_i', 'X_i', 'z_i', 'ATPase pump rate','KCC2 pump rate','Vm', 'Ek', 'ECl']\n",
    "    with output1:\n",
    "        print(\"Compartment: (\"+ new_comp.name +\") created\" )\n",
    "        print(new_comp.get_df_array())\n",
    "      \n",
    "btn_new_comp.on_click(new_comp_clicked)\n",
    "\n",
    "def btn_defaults_clicked(b):\n",
    "    \n",
    "    \n",
    "    sldr_rad.value=5\n",
    "    sldr_len.value = 100\n",
    "    sldr_nai.value= 14\n",
    "    sldr_ki.value = 122\n",
    "    sldr_cli.value = 5\n",
    "    sldr_xi.value = 150\n",
    "    sldr_zi.value = -0.85\n",
    "    \n",
    "btn_defaults.on_click(btn_defaults_clicked)\n",
    "\n",
    "\n",
    "vbox_grand = widgets.VBox(children = [name_box,rad_box,len_box, hbox_nai,hbox_ki,hbox_cli,hbox_xi,hbox_zi,hbox_btns], layout=Layout(border =\"solid\"))\n",
    "\n",
    "display(output1,vbox_grand)\n",
    "\n",
    "\n",
    "\n",
    "\n",
    "\n"
   ]
  },
  {
   "cell_type": "markdown",
   "metadata": {
    "extensions": {
     "jupyter_dashboards": {
      "version": 1,
      "views": {
       "grid_default": {},
       "report_default": {}
      }
     }
    }
   },
   "source": [
    "### A2) Review & edit compartments"
   ]
  },
  {
   "cell_type": "code",
   "execution_count": 188,
   "metadata": {
    "extensions": {
     "jupyter_dashboards": {
      "version": 1,
      "views": {
       "grid_default": {},
       "report_default": {}
      }
     }
    }
   },
   "outputs": [
    {
     "data": {
      "application/vnd.jupyter.widget-view+json": {
<<<<<<< Updated upstream
       "model_id": "3148982c76154a1da483d3561775680e",
=======
       "model_id": "d77d9c6a97ac4060918638edc87d2db7",
>>>>>>> Stashed changes
       "version_major": 2,
       "version_minor": 0
      },
      "text/plain": [
       "Button(button_style='success', description='Review compartments', style=ButtonStyle())"
      ]
     },
     "metadata": {},
     "output_type": "display_data"
    },
    {
     "data": {
      "application/vnd.jupyter.widget-view+json": {
<<<<<<< Updated upstream
       "model_id": "45ed2e18831249f2a55ad7bb27eaaefc",
=======
       "model_id": "c56bc454a80c43bbaaeb53b10d46f9ef",
>>>>>>> Stashed changes
       "version_major": 2,
       "version_minor": 0
      },
      "text/plain": [
       "Output()"
      ]
     },
     "metadata": {},
     "output_type": "display_data"
    },
    {
     "data": {
      "application/vnd.jupyter.widget-view+json": {
<<<<<<< Updated upstream
       "model_id": "eba2007085a04cbc87ce2ffb61b1b52d",
=======
       "model_id": "e0fb2a43f0324743b31d8a1ea497b114",
>>>>>>> Stashed changes
       "version_major": 2,
       "version_minor": 0
      },
      "text/plain": [
       "Button(button_style='success', description='Edit compartments', style=ButtonStyle())"
      ]
     },
     "metadata": {},
     "output_type": "display_data"
    },
    {
     "data": {
      "application/vnd.jupyter.widget-view+json": {
<<<<<<< Updated upstream
       "model_id": "62783218250c488a96eaf4a68f8290a1",
=======
       "model_id": "113e4c5065f84c51926f5df32c4078d4",
>>>>>>> Stashed changes
       "version_major": 2,
       "version_minor": 0
      },
      "text/plain": [
       "Output()"
      ]
     },
     "metadata": {},
     "output_type": "display_data"
    }
   ],
   "source": [
    "btn_review = widgets.Button(description = \"Review compartments\", button_style =\"success\")\n",
    "output2 = widgets.Output()\n",
    "display(btn_review,output2)\n",
    "\n",
    "def btn_review_clicked(b):\n",
    "    output2.clear_output()\n",
    "    with output2:\n",
    "        display(df_sim)\n",
    "\n",
    "        \n",
    "btn_review.on_click(btn_review_clicked)       \n",
    "\n",
    "\n",
    "\n",
    "\n",
    "btn_edit = widgets.Button(description = \"Edit compartments\", button_style =\"success\")\n",
    "output3 = widgets.Output()\n",
    "display(btn_edit,output3)\n",
    "\n",
    "btn_save_edit = widgets.Button(description = \"Save change\", button_style =\"success\",visible='false')\n",
    "\n",
    "\n",
    "def btn_edit_clicked(b):\n",
    "    \n",
    "    output3.clear_output()\n",
    "    opts_comp =[]\n",
    "    for i in range(len(comp_arr)):\n",
    "        opts_comp.append(comp_arr[i].name)\n",
    "\n",
    "    global drp_comp,drp_param,txt_new_val\n",
    "    drp_comp=widgets.Dropdown(options=opts_comp,description='Compartment:',visible='false')\n",
    "    opts_param=df_sim.index.array[0:10]\n",
    "    drp_param=widgets.Dropdown(options=opts_param, description='Parameter:', visible='false')\n",
    "\n",
    "    txt_new_val=widgets.Text(value='', description='New value:', visible='false')\n",
    "     \n",
    "\n",
    "    \n",
    "    drp_param.visible =\"true\"\n",
    "    drp_comp.visible =\"true\"\n",
    "    txt_new_val.visible=\"true\"\n",
    "    btn_save_edit.visible ='true'\n",
    "    \n",
    "    with output3:\n",
    "        display(drp_comp,drp_param,txt_new_val,btn_save_edit)\n",
    "  \n",
    "\n",
    "\n",
    "\n",
    "\n",
    "btn_edit.on_click(btn_edit_clicked)\n",
    "\n",
    "\n",
    "\n",
    "\n",
    "def btn_save_edit_clicked(b):\n",
    "    comp = drp_comp.value\n",
    "    param = drp_param.value\n",
    "    change = txt_new_val.value\n",
    "    \n",
    "    df_sim.loc[param,comp] = change\n",
    "    output2.clear_output()\n",
    "    output3.clear_output()\n",
    "    with output3:\n",
    "        display(df_sim)\n",
    "\n",
    "btn_save_edit.on_click(btn_save_edit_clicked)  \n",
    "\n"
   ]
  },
  {
   "cell_type": "markdown",
   "metadata": {
    "extensions": {
     "jupyter_dashboards": {
      "version": 1,
      "views": {
       "grid_default": {},
       "report_default": {}
      }
     }
    }
   },
   "source": [
    "### A3) Multicompartment visualization\n"
   ]
  },
  {
   "cell_type": "code",
   "execution_count": 189,
   "metadata": {
    "extensions": {
     "jupyter_dashboards": {
      "version": 1,
      "views": {
       "grid_default": {},
       "report_default": {}
      }
     }
    }
   },
   "outputs": [
    {
     "data": {
      "application/vnd.jupyter.widget-view+json": {
<<<<<<< Updated upstream
       "model_id": "21654e1c767b48a39abefa7aee6d08c4",
=======
       "model_id": "6e19453a4d7e4add9f72b57834afb99a",
>>>>>>> Stashed changes
       "version_major": 2,
       "version_minor": 0
      },
      "text/plain": [
       "Button(button_style='success', description='Visualize compartments', style=ButtonStyle())"
      ]
     },
     "metadata": {},
     "output_type": "display_data"
    },
    {
     "data": {
      "application/vnd.jupyter.widget-view+json": {
<<<<<<< Updated upstream
       "model_id": "de1f3e621ae14d13ba0527471d623f26",
=======
       "model_id": "36acabaae25f4c66867fd277fa8b5cd3",
>>>>>>> Stashed changes
       "version_major": 2,
       "version_minor": 0
      },
      "text/plain": [
       "Output()"
      ]
     },
     "metadata": {},
     "output_type": "display_data"
    }
   ],
   "source": [
    "btn_visualize = widgets.Button(description = \"Visualize compartments\",button_style =\"success\")\n",
    "\n",
    "output4 = widgets.Output()\n",
    "display(btn_visualize,output4)\n",
    "\n",
    "\n",
    "\n",
    "\n",
    "\n",
    "\n",
    "def btn_visualize_clicked(b):\n",
    "    \n",
    "    \n",
    "    output4.clear_output(\n",
    "    ) \n",
    "   \n",
    "    for i in range(df_sim.shape[1]):\n",
    "        \n",
    "        hgt = str(df_sim.loc['Length',comp_arr[i].name] *80000)+\"px\"\n",
    "        wdth = str(df_sim.loc['Radius',comp_arr[i].name]*5000000)+\"px\"\n",
    "        btn = widgets.Button(layout=Layout(height = hgt, width =wdth,border=\"solid\"), disabled =True,description =comp_arr[i].name)\n",
    "        btn.style.button_color = 'brown'\n",
    "        with output4:\n",
    "            display(btn)\n",
    "        \n",
    "\n",
    "            \n",
    "\n",
    "btn_visualize.on_click(btn_visualize_clicked)\n",
    "\n",
    "\n",
    "\n",
    "\n"
   ]
  },
  {
   "cell_type": "markdown",
   "metadata": {
    "extensions": {
     "jupyter_dashboards": {
      "version": 1,
      "views": {
       "grid_default": {},
       "report_default": {}
      }
     }
    },
    "id": "8EvQGJHdLq4u"
   },
   "source": [
    "## *B) Timing*"
   ]
  },
  {
   "cell_type": "code",
<<<<<<< Updated upstream
   "execution_count": 190,
=======
   "execution_count": 5,
>>>>>>> Stashed changes
   "metadata": {
    "extensions": {
     "jupyter_dashboards": {
      "version": 1,
      "views": {
       "grid_default": {},
       "report_default": {}
      }
     }
    },
    "id": "SDuN6AyqJc63"
   },
   "outputs": [
    {
     "data": {
      "application/vnd.jupyter.widget-view+json": {
<<<<<<< Updated upstream
       "model_id": "6315d96f622345a2b9d2861472e6e6b3",
=======
       "model_id": "82c2c2d6ecb14d51b4681492bf40b6fd",
>>>>>>> Stashed changes
       "version_major": 2,
       "version_minor": 0
      },
      "text/plain": [
       "VBox(children=(HBox(children=(Label(value='Set the simulation run time (minutes):'), FloatSlider(value=1.0, co…"
      ]
     },
     "metadata": {},
     "output_type": "display_data"
    }
   ],
   "source": [
    "global total_t,dt,t_arr\n",
    "\n",
    "### TOTAL TIME\n",
    "lbl_total_t = widgets.Label(value=\"Set the simulation run time (minutes):\")\n",
    "\n",
    "sldr_total_t = widgets.FloatSlider(value=1, min=0.5, max=20, step=0.5, disabled=False, continuous_update=False, orientation='horizontal',\n",
    "    readout=True, readout_format='.1f')\n",
    "HBox_total_t = widgets.HBox(children = [lbl_total_t,sldr_total_t])\n",
    "\n",
    "\n",
    "### TIME STEP\n",
    "lbl_dt = widgets.Label(value=\"Set the simulation time step (milliseconds):\")\n",
    "sldr_dt = widgets.FloatSlider(value=1, min=1, max=5, step=0.2, disabled=False, continuous_update=False, orientation='horizontal',\n",
    "    readout=True, readout_format='.1f')\n",
    "HBox_dt = widgets.HBox(children = [lbl_dt,sldr_dt])\n",
    "\n",
    "    \n",
    "t_arr = [0]\n",
    "\n",
    "\n",
    "vbox_t = widgets.VBox([HBox_total_t,HBox_dt], layout=Layout(border='solid'))\n",
    "\n",
    "\n",
    "\n",
    "display(vbox_t)\n",
    "\n",
    "\n",
    "#print(\"Set total simulation time (minutes):\")\n",
    "\n",
    "#print(\"Set time step (milliseconds):\")\n",
    "\n"
   ]
  },
  {
   "cell_type": "markdown",
   "metadata": {
    "extensions": {
     "jupyter_dashboards": {
      "version": 1,
      "views": {
       "grid_default": {},
       "report_default": {}
      }
     }
    },
    "id": "y_tTzubJxzoc",
    "pycharm": {
     "name": "#%% md\n"
    }
   },
   "source": [
    "## *C) Run Simulation*"
   ]
  },
  {
   "cell_type": "code",
<<<<<<< Updated upstream
   "execution_count": 191,
=======
   "execution_count": 6,
>>>>>>> Stashed changes
   "metadata": {
    "extensions": {
     "jupyter_dashboards": {
      "version": 1,
      "views": {
       "grid_default": {},
       "report_default": {}
      }
     }
    },
    "jupyter": {
     "outputs_hidden": false
    },
    "pycharm": {
     "name": "#%%\n"
    }
   },
   "outputs": [
    {
     "data": {
      "application/vnd.jupyter.widget-view+json": {
<<<<<<< Updated upstream
       "model_id": "b7e7831f0bf64b9fb7edf81f3b60c89e",
=======
       "model_id": "0212eddccc7b406ba14e8bbd87dafd02",
>>>>>>> Stashed changes
       "version_major": 2,
       "version_minor": 0
      },
      "text/plain": [
       "Output()"
      ]
     },
     "metadata": {},
     "output_type": "display_data"
    },
    {
     "data": {
      "application/vnd.jupyter.widget-view+json": {
<<<<<<< Updated upstream
       "model_id": "5bbc0a277cac46a19b6c482ed85d9498",
=======
       "model_id": "e87853408c4041e28ce24a49903f2bcc",
>>>>>>> Stashed changes
       "version_major": 2,
       "version_minor": 0
      },
      "text/plain": [
       "Output()"
      ]
     },
     "metadata": {},
     "output_type": "display_data"
    },
    {
     "data": {
      "application/vnd.jupyter.widget-view+json": {
<<<<<<< Updated upstream
       "model_id": "2f2180ea7f224b82936f8bba50bbee50",
=======
       "model_id": "c587c2e99e8b4a6e92db446921d5634a",
>>>>>>> Stashed changes
       "version_major": 2,
       "version_minor": 0
      },
      "text/plain": [
       "Button(button_style='danger', description='Run Simulation', style=ButtonStyle())"
      ]
     },
     "metadata": {},
     "output_type": "display_data"
    }
   ],
   "source": [
    "\n",
    "btn_sim = widgets.Button(description =\"Run Simulation\", button_style=\"Danger\",disabled=False)\n",
    "output5 = widgets.Output()\n",
    "output6 = widgets.Output()\n",
    "output7 = widgets.Output()\n",
    "display(output6, output7, btn_sim)\n",
    "\n",
    "global SIM_OVER\n",
    "SIM_OVER = False\n",
    "\n",
    "def btn_sim_clicked(b):\n",
    "  \n",
    "    \n",
    "    ###ESTABLISHING ELECTRODIFFUSION LINK\n",
    "    \n",
    "    global ed_arr\n",
    "    ed_arr = [] # array of all the electro-diffusion links between the compartments\n",
    "    ed_dict_arr = [] # array of all the electro-diffusion dictionaries (constantly changing)\n",
    "    ed_conc_changes_arr = []\n",
    "    for e in range(len(comp_arr)-1):\n",
    "        ed_arr.append(electrodiffusion.Electrodiffusion(comp_arr[e],comp_arr[e+1]))\n",
    "    with output5:\n",
    "        print(\"All compartments successfully linked\")\n",
    "    \n",
    "    ##########\n",
    "    \n",
    "    \n",
    "    \n",
    "    \n",
    "    global dt,total_t\n",
    "    dt=sldr_dt.value*1e-3\n",
    "    total_t= sldr_total_t.value *60\n",
    "    interval = total_t/dt\n",
    "    run_t=0\n",
    "  \n",
    "    prg = widgets.FloatProgress(description='Simulating...', min=0,step=dt,max=total_t,value=0,continuous_update=True)\n",
    "    with output6:\n",
    "        display(prg)\n",
    "    \n",
    "    ED_ON = True\n",
    "    \n",
    "\n",
    "    while run_t < total_t:\n",
    "\n",
    "        \n",
    "        if ED_ON:\n",
    "\n",
    "            ed_dict_arr = []  # array of all the electro-diffusion dictionaries (constantly changing)\n",
    "            ed_conc_changes_arr = []\n",
    "\n",
    "\n",
    "            for a in range(len(comp_arr)):\n",
    "                comp_arr[a].step(dt)  # step for each compartment\n",
    "                ed_dict_arr.append(comp_arr[a].get_ed_dict())  # electrodiffusion dictionary for each compartment\n",
    "\n",
    "            for b in range(len(comp_arr) - 1):\n",
    "                ed_conc_changes_arr.append(\n",
    "                    ed_arr[b].calc_ed(dt, ed_dict_arr[b], ed_dict_arr[b + 1]))  # makes an array of all the ED conc changes\n",
    "\n",
    "            for c in range(len(comp_arr) - 1):\n",
    "                comp_arr[c].ed_update(ed_conc_changes_arr[c],\n",
    "                                      \"positive\")  # appending the electrodiffusion concentrations for each compartment\n",
    "                comp_arr[c + 1].ed_update(ed_conc_changes_arr[c], \"negative\")\n",
    "\n",
    "            for d in range(len(comp_arr)):\n",
    "                comp_arr[d].update_volumes()  # updates of the volumes, arrays, and dataframe for each compartment\n",
    "                if run_t != 0:\n",
    "                    comp_arr[d].update_arrays()\n",
    "                df_sim[comp_arr[d].name] = comp_arr[d].get_df_array()\n",
    "            \n",
    "            if run_t != 0:\n",
    "                t_arr.append(run_t)\n",
    "                \n",
    "            run_t += dt\n",
    "            prg.value += dt  \n",
    "\n",
    "        else: # if you want to run with normal diffusion not ED\n",
    "            for a in range(len(comp_arr)):\n",
    "                comp_arr[a].step(dt)\n",
    "                comp_arr[a].update_volumes()  # updates of the volumes, arrays, and dataframe for each compartment\n",
    "                comp_arr[a].update_arrays()\n",
    "                df_sim[comp_arr[a].name] = comp_arr[d].get_df_array()\n",
    "    \n",
    "       \n",
    "    SIM_OVER = True\n",
    "    btn_sim.disabled=True\n",
    "    lbl_finalvals = widgets.Label(value=\"Final Values:\")\n",
    "    with output7:  \n",
    "        print(\"Simulation complete!\")\n",
    "        display(lbl_finalvals,df_sim)\n",
    "        \n",
    "        \n",
    "\n",
    "\n",
    "\n",
    "\n",
    "        \n",
    "btn_sim.on_click(btn_sim_clicked)  \n",
    "\n"
   ]
  },
  {
   "cell_type": "markdown",
   "metadata": {
    "extensions": {
     "jupyter_dashboards": {
      "version": 1,
      "views": {
       "grid_default": {},
       "report_default": {}
      }
     }
    },
    "jupyter": {
     "outputs_hidden": false
    },
    "pycharm": {
     "name": "#%%\n"
    }
   },
   "source": [
    "## 4) Graphing\n"
   ]
  },
  {
   "cell_type": "code",
<<<<<<< Updated upstream
   "execution_count": 192,
=======
   "execution_count": 7,
>>>>>>> Stashed changes
   "metadata": {
    "extensions": {
     "jupyter_dashboards": {
      "version": 1,
      "views": {
       "grid_default": {},
       "report_default": {}
      }
     }
    }
   },
   "outputs": [
    {
<<<<<<< Updated upstream
     "data": {
      "application/vnd.jupyter.widget-view+json": {
       "model_id": "beea38a3e6c24ee08ce183efc3b17ad4",
       "version_major": 2,
       "version_minor": 0
      },
      "text/plain": [
       "HBox(children=(VBox(children=(Dropdown(description='Compartment:', options=('ALL COMPARTMENTS', 'Comp1', 'Comp…"
      ]
     },
     "metadata": {},
     "output_type": "display_data"
    },
    {
     "data": {
      "application/vnd.jupyter.widget-view+json": {
       "model_id": "b70810f0404a4e09a385e9b7fff86120",
       "version_major": 2,
       "version_minor": 0
      },
      "text/plain": [
       "Button(button_style='success', description='Graph it!', style=ButtonStyle())"
      ]
     },
     "metadata": {},
     "output_type": "display_data"
    },
    {
     "data": {
      "application/vnd.jupyter.widget-view+json": {
       "model_id": "8a839c88af564e239fc24e7151b44f80",
       "version_major": 2,
       "version_minor": 0
      },
      "text/plain": [
       "Output()"
      ]
     },
     "metadata": {},
     "output_type": "display_data"
=======
     "ename": "NameError",
     "evalue": "name 'dt' is not defined",
     "output_type": "error",
     "traceback": [
      "\u001b[1;31m---------------------------------------------------------------------------\u001b[0m",
      "\u001b[1;31mNameError\u001b[0m                                 Traceback (most recent call last)",
      "\u001b[1;32m<ipython-input-7-75816b888ff2>\u001b[0m in \u001b[0;36m<module>\u001b[1;34m\u001b[0m\n\u001b[0;32m     26\u001b[0m \u001b[0mintervals\u001b[0m \u001b[1;33m=\u001b[0m \u001b[0mlen\u001b[0m\u001b[1;33m(\u001b[0m\u001b[0mt_arr\u001b[0m\u001b[1;33m)\u001b[0m \u001b[1;31m#amount of time points simulated\u001b[0m\u001b[1;33m\u001b[0m\u001b[1;33m\u001b[0m\u001b[0m\n\u001b[0;32m     27\u001b[0m \u001b[1;33m\u001b[0m\u001b[0m\n\u001b[1;32m---> 28\u001b[1;33m \u001b[0msldr_start\u001b[0m \u001b[1;33m=\u001b[0m \u001b[0mwidgets\u001b[0m\u001b[1;33m.\u001b[0m\u001b[0mFloatSlider\u001b[0m\u001b[1;33m(\u001b[0m\u001b[0mdescription\u001b[0m\u001b[1;33m=\u001b[0m\u001b[1;34m'Start time (s)'\u001b[0m\u001b[1;33m,\u001b[0m\u001b[0mmin\u001b[0m\u001b[1;33m=\u001b[0m\u001b[1;36m0\u001b[0m\u001b[1;33m,\u001b[0m\u001b[0mstep\u001b[0m\u001b[1;33m=\u001b[0m\u001b[0mdt\u001b[0m\u001b[1;33m,\u001b[0m\u001b[0mmax\u001b[0m\u001b[1;33m=\u001b[0m\u001b[0mtotal_t\u001b[0m\u001b[1;33m,\u001b[0m \u001b[0mvalue\u001b[0m\u001b[1;33m=\u001b[0m\u001b[1;36m20\u001b[0m\u001b[1;33m)\u001b[0m\u001b[1;33m\u001b[0m\u001b[1;33m\u001b[0m\u001b[0m\n\u001b[0m\u001b[0;32m     29\u001b[0m \u001b[0msldr_bins\u001b[0m \u001b[1;33m=\u001b[0m \u001b[0mwidgets\u001b[0m\u001b[1;33m.\u001b[0m\u001b[0mFloatSlider\u001b[0m\u001b[1;33m(\u001b[0m\u001b[0mdescription\u001b[0m\u001b[1;33m=\u001b[0m\u001b[1;34m'Bins'\u001b[0m\u001b[1;33m,\u001b[0m\u001b[0mmin\u001b[0m\u001b[1;33m=\u001b[0m\u001b[1;36m50\u001b[0m\u001b[1;33m,\u001b[0m\u001b[0mstep\u001b[0m\u001b[1;33m=\u001b[0m\u001b[1;36m50\u001b[0m\u001b[1;33m,\u001b[0m\u001b[0mmax\u001b[0m\u001b[1;33m=\u001b[0m\u001b[0mintervals\u001b[0m\u001b[1;33m,\u001b[0m \u001b[0mvalue\u001b[0m\u001b[1;33m=\u001b[0m\u001b[1;36m1000\u001b[0m\u001b[1;33m)\u001b[0m\u001b[1;33m\u001b[0m\u001b[1;33m\u001b[0m\u001b[0m\n\u001b[0;32m     30\u001b[0m \u001b[1;33m\u001b[0m\u001b[0m\n",
      "\u001b[1;31mNameError\u001b[0m: name 'dt' is not defined"
     ]
>>>>>>> Stashed changes
    }
   ],
   "source": [
    "\n",
    "SIM_OVER == True ## * Just for testing purposes\n",
    "\n",
    "#graphing module can onlt be accessed once the simulation is complete\n",
    "\n",
    "    ##### User interface:\n",
    "    \n",
    "drp_comp = widgets.Dropdown(description='Compartment:')\n",
    "\n",
    "options_drp_comp = []\n",
    "options_drp_comp.append('ALL COMPARTMENTS')\n",
    "for i in range(len(comp_arr)):\n",
    "    options_drp_comp.append(comp_arr[i].name)\n",
    "\n",
    "drp_comp.options = options_drp_comp    \n",
    "\n",
    "\n",
    "\n",
    "drp_param = widgets.Dropdown(description='Parameter:')\n",
    "options_drp_param = ['Membrane Potential (Vm)','Cl- Reversal Potential (E-Cl)', 'K+ Reversal Potential (E-K)',''\n",
    "                        ,'Volume (pL)','',\n",
    "                         'All ion concentrations','Na+ Conc.','K+ Conc.','Cl- Conc.','Impermeant anion Conc.']\n",
    "\n",
    "\n",
    "drp_param.options = options_drp_param\n",
    "\n",
    "intervals = len(t_arr) #amount of time points simulated\n",
    "\n",
    "sldr_start = widgets.FloatSlider(description='Start time (s)',min=0,step=dt,max=total_t, value=20)\n",
    "sldr_bins = widgets.FloatSlider(description='Bins',min=50,step=50,max=intervals, value=1000)\n",
    "\n",
    "\n",
    "\n",
    "\n",
    "hbox_graph = widgets.HBox()\n",
    "vbox_graph1 = widgets.VBox()\n",
    "vbox_graph2 = widgets.VBox()\n",
    "vbox_graph1.children =[drp_comp,drp_param]\n",
    "vbox_graph2.children =[sldr_start,sldr_bins]\n",
    "hbox_graph.children = [vbox_graph1,vbox_graph2]\n",
    "\n",
    "btn_main_graph = widgets.Button(description='Graph it!',button_style='success')\n",
    "output10 = widgets.Output()\n",
    "display(hbox_graph,btn_main_graph,output10)\n",
    "\n",
    "number_of_colors = len(comp_arr)\n",
    "\n",
    "color_arr = [\"#\"+''.join([random.choice('0123456789ABCDEF') for j in range(6)])\n",
    "             for i in range(number_of_colors)]\n",
    "\n",
    "def plot_main_graph(param='',comp_num=0,all_comps =False,jump=1):\n",
    "    \n",
    "        \n",
    "        \n",
    "        \n",
    "       \n",
    "        \n",
    "        \n",
    "        start_t = int(sldr_start.value * 1000)\n",
    "        x_arr = t_arr \n",
    "    \n",
    "        bins = sldr_bins.value #bins required\n",
    "        jump = round(intervals/bins)\n",
    "        \n",
    "        x_sc = bqp.LinearScale()\n",
    "        y_sc = bqp.LinearScale()\n",
    "        col_sc = bqp.ColorScale(scheme=\"RdYlGn\")\n",
    "        ax_x = bqp.Axis(scale = x_sc, label=\"Time(s)\", min= start_t, max=t_arr[-1])\n",
    "        ax_y = bqp.Axis(scale = y_sc, label=param, orientation='vertical', side='left')\n",
    "        \n",
    "        \n",
    "        \n",
    "        if all_comps == True:\n",
    "                      \n",
    "            m_arr = []\n",
    "            output10.clear_output()\n",
    "                   \n",
    "         \n",
    "            \n",
    "            for i in range(len(comp_arr)):\n",
    "                \n",
    "                col = color_arr[i]\n",
    "                \n",
    "                f1_title = \"All Compartments\"+\" : \" + \"Time (s) vs \" + drp_param.value \n",
    "                \n",
    "                if param == 'Membrane Potential (Vm)':\n",
    "                    m_arr.append(bqp.Lines(x= t_arr[start_t:-1:jump],y= comp_arr[i].v_arr[start_t:-1:jump],colors = [col], \n",
    "                       display_legend=True,labels= ['Vm - '+comp_arr[i].name], scales = {'x': x_sc, \"y\": y_sc}))\n",
    "                    \n",
    "                elif param == 'Cl- Reversal Potential (E-Cl)':\n",
    "                    m_arr.append(bqp.Lines(x= t_arr[start_t:-1:jump],y= comp_arr[i].E_cl_arr[start_t:-1:jump], colors = [col],  \n",
    "                       display_legend=True,labels= ['E-Cl - '+comp_arr[i].name], scales = {'x': x_sc, \"y\": y_sc}))\n",
    "                    \n",
    "                elif param == 'K+ Reversal Potential (E-K)':\n",
    "                    m_arr.append(bqp.Lines(x= t_arr[start_t:-1:jump],y= comp_arr[i].E_k_arr[start_t:-1:jump], colors = [col],  \n",
    "                       display_legend=True,labels= ['E-K - '+comp_arr[i].name], scales = {'x': x_sc, \"y\": y_sc}))\n",
    "                    \n",
    "                elif param == 'Volume (pL)':\n",
    "                    m_arr.append(bqp.Lines(x= t_arr[start_t:-1:jump],y= comp_arr[i].w_arr[start_t:-1:jump], colors = [col],  \n",
    "                       display_legend=True,labels= ['Vol. - '+comp_arr[i].name ], scales = {'x': x_sc, \"y\": y_sc}))\n",
    "                    \n",
    "                elif param == 'Na+ Conc.':\n",
    "                    m_arr.append(bqp.Lines(x= t_arr[start_t:-1:jump],y= comp_arr[i].na_arr[start_t:-1:jump], colors = [col],  \n",
    "                       display_legend=True,labels= ['Na+ - '+comp_arr[i].name], scales = {'x': x_sc, \"y\": y_sc}))\n",
    "                    \n",
    "                elif param == 'K+ Conc.':\n",
    "                    m_arr.append(bqp.Lines(x= t_arr[start_t:-1:jump],y= comp_arr[i].k_arr[start_t:-1:jump],colors = [col],  \n",
    "                       display_legend=True,labels= ['K+ - '+comp_arr[i].name], scales = {'x': x_sc, \"y\": y_sc}))\n",
    "                    \n",
    "                elif param == 'Cl- Conc.':\n",
    "                    m_arr.append(bqp.Lines(x= t_arr[start_t:-1:jump],y= comp_arr[i].cl_arr[start_t:-1:jump],colors = [col],  \n",
    "                       display_legend=True,labels= ['Cl- - '+comp_arr[i].name], scales = {'x': x_sc, \"y\": y_sc}))\n",
    "                    \n",
    "                elif param == 'Impermeant anion Conc.':\n",
    "                    m_arr.append(bqp.Lines(x= t_arr[start_t:-1:jump],y= comp_arr[i].x_arr[start_t:-1:jump], colors = [col], \n",
    "                       display_legend=True,labels= ['X -'+comp_arr[i].name], scales = {'x': x_sc, \"y\": y_sc}))        \n",
    "            \n",
    "                \n",
    "                \n",
    "                       \n",
    "                \n",
    "            f1 = bqp.Figure(title = f1_title, marks=m_arr, axes=[ax_x, ax_y],legend_location='top-right',scales={'x': x_sc, 'color': col_sc, 'y': y_sc})\n",
    "    \n",
    "            f1.layout.height = '600px'\n",
    "            f1.layout.width = '800px'\n",
    "            output10.clear_output()\n",
    "            with output10:    \n",
    "                display(f1)\n",
    "        \n",
    "        \n",
    "        if all_comps == False:            \n",
    "            \n",
    "            f1_title = comp_arr[comp_num].name+\" : \" + \"Time (s) vs \" + drp_param.value \n",
    "\n",
    "            if param == 'Membrane Potential (Vm)':\n",
    "                \n",
    "                m1 = bqp.Lines(x= t_arr[start_t:-1:jump],y= comp_arr[comp_num].v_arr[start_t:-1:jump],colors = ['#000000'], \n",
    "                       display_legend=True,labels= ['Vm'], scales = {'x': x_sc, \"y\": y_sc})\n",
    "                \n",
    "            elif param == 'Cl- Reversal Potential (E-Cl)':\n",
    "                \n",
    "                m1 = bqp.Lines(x= t_arr[start_t:-1:jump],y= comp_arr[comp_num].E_cl_arr[start_t:-1:jump],colors = ['#000000'], \n",
    "                       display_legend=True,labels= ['E-Cl'], scales = {'x': x_sc, \"y\": y_sc})\n",
    "                \n",
    "            elif param == 'K+ Reversal Potential (E-K)':\n",
    "                \n",
    "                m1 = bqp.Lines(x= t_arr[start_t:-1:jump],y= comp_arr[comp_num].E_k_arr[start_t:-1:jump],colors =['#000000'], \n",
    "                       display_legend=True,labels= ['E-K'], scales = {'x': x_sc, \"y\": y_sc})\n",
    "                 \n",
    "            elif param == 'Volume (pL)':\n",
    "                \n",
    "                m1 = bqp.Lines(x= t_arr[start_t:-1:jump],y= comp_arr[comp_num].w_arr[start_t:-1:jump],colors = ['#000000'], \n",
    "                       display_legend=True,labels= ['Vol.'], scales = {'x': x_sc, \"y\": y_sc})\n",
    "                \n",
    "            elif param == 'Na+ Conc.':\n",
    "                \n",
    "                m1 = bqp.Lines(x= t_arr[start_t:-1:jump],y= comp_arr[comp_num].na_arr[start_t:-1:jump],colors = ['#e7298a'], \n",
    "                       display_legend=True,labels= ['Na+'], scales = {'x': x_sc, \"y\": y_sc})\n",
    "                \n",
    "            elif param == 'K+ Conc.':\n",
    "                \n",
    "                m1 = bqp.Lines(x= t_arr[start_t:-1:jump],y= comp_arr[comp_num].k_arr[start_t:-1:jump],colors = ['#7570b3'], \n",
    "                       display_legend=True,labels= ['K+'], scales = {'x': x_sc, \"y\": y_sc}) \n",
    "             \n",
    "            elif param == 'Cl- Conc.':\n",
    "                \n",
    "                m1 = bqp.Lines(x= t_arr[start_t:-1:jump],y= comp_arr[comp_num].cl_arr[start_t:-1:jump],colors = ['#1b9e77'], \n",
    "                       display_legend=True,labels= ['Cl-'], scales = {'x': x_sc, \"y\": y_sc}) \n",
    "                \n",
    "            elif param == 'Impermeant anion Conc.':\n",
    "                \n",
    "                m1 = bqp.Lines(x= t_arr[start_t:-1:jump],y= comp_arr[comp_num].x_arr[start_t:-1:jump],colors = ['#000000'], \n",
    "                       display_legend=True,labels= ['X'], scales = {'x': x_sc, \"y\": y_sc}) \n",
    "                \n",
    "            elif param == 'All ion concentrations':\n",
    "                \n",
    "                m1 = []\n",
    "                \n",
    "                a1 = bqp.Lines(x= t_arr[start_t:-1:jump],y= comp_arr[comp_num].na_arr[start_t:-1:jump],colors = ['#e7298a'], \n",
    "                       display_legend=True,labels= ['Na+'], scales = {'x': x_sc, \"y\": y_sc})\n",
    "                \n",
    "                a2 = bqp.Lines(x= t_arr[start_t:-1:jump],y= comp_arr[comp_num].k_arr[start_t:-1:jump],colors = ['#7570b3'], \n",
    "                       display_legend=True,labels= ['K+'], scales = {'x': x_sc, \"y\": y_sc}) \n",
    "                \n",
    "                \n",
    "                a3 = bqp.Lines(x= t_arr[start_t:-1:jump],y= comp_arr[comp_num].cl_arr[start_t:-1:jump],colors = ['#1b9e77'], \n",
    "                       display_legend=True,labels= ['Cl-'], scales = {'x': x_sc, \"y\": y_sc})\n",
    "                \n",
    "                a4 = bqp.Lines(x= t_arr[start_t:-1:jump],y= comp_arr[comp_num].x_arr[start_t:-1:jump],colors = ['#000000'], \n",
    "                       display_legend=True,labels= ['X'], scales = {'x': x_sc, \"y\": y_sc}) \n",
    "                \n",
    "                m1 = [a1,a2,a3,a4]\n",
    "                \n",
    "                \n",
    "                f1_title = comp_arr[comp_num].name + \": all ion concentrations vs time\"\n",
    "                f1 = bqp.Figure(title = f1_title, marks=m1, axes=[ax_x, ax_y],legend_location='top-right')\n",
    "                f1.layout.height = '600px'\n",
    "                f1.layout.width = '800px'\n",
    "                output10.clear_output()\n",
    "                with output10:    \n",
    "                    display(f1)\n",
    "                return\n",
    "            \n",
    "    \n",
    "    \n",
    "            f1 = bqp.Figure(title = f1_title, marks=[m1], axes=[ax_x, ax_y],legend_location='top-right')\n",
    "    \n",
    "            f1.layout.height = '600px'\n",
    "            f1.layout.width = '800px'\n",
    "            output10.clear_output()\n",
    "            with output10:    \n",
    "                display(f1)\n",
    "\n",
    "            \n",
    "            \n",
    "        \n",
    "                \n",
    "                \n",
    "            \n",
    "\n",
    "        #####\n",
    "\n",
    "\n",
    "def btn_main_graph_clicked(b):\n",
    "    \n",
    "    \n",
    "    start_t = int(sldr_start.value * 1000)\n",
    "    x_arr = t_arr \n",
    "    \n",
    "    bins = sldr_bins.value #bins required\n",
    "\n",
    "    jump = round(intervals/bins)\n",
    "    \n",
    "    \n",
    "    \n",
    "    if drp_comp.value == 'ALL COMPARTMENTS':\n",
    "    \n",
    "            param = drp_param.value\n",
    "            plot_main_graph(param,all_comps=True,jump=jump)\n",
    "\n",
    "    \n",
    "    elif drp_comp.value != 'ALL COMPARTMENTS':\n",
    "        \n",
    "        \n",
    "        for i in range(len(comp_arr)):\n",
    "            if (drp_comp.value == comp_arr[i].name):\n",
    "                comp_num = i\n",
    "\n",
    "        param = drp_param.value\n",
    "        plot_main_graph(param,comp_num,all_comps=False,jump=jump)\n",
    "\n",
    "    \n",
    "    \n",
    "    #if drp_comp != 'ALL COMPARTMENTS':\n",
    "           \n",
    "        \n",
    "btn_main_graph.on_click(btn_main_graph_clicked)\n",
    "\n",
    "#print(y_arr)\n",
    "\n",
    "        \n",
    "        \n"
   ]
  },
  {
   "cell_type": "markdown",
   "metadata": {
    "extensions": {
     "jupyter_dashboards": {
      "version": 1,
      "views": {
       "grid_default": {},
       "report_default": {}
      }
     }
    }
   },
   "source": [
    "### 4.2 Boundary dynamics\n",
    "\n",
    "Boundaries refer to the area between adjacent compartments. //\n",
    "In non-isopotential neurons there must be a steady state (non-zero) flux of ions between compartments.\n",
    "Negative values = ions entering the compartment.\n",
    "Positive values = ions entering compartment"
   ]
  },
  {
   "cell_type": "code",
<<<<<<< Updated upstream
   "execution_count": 183,
=======
   "execution_count": 11,
>>>>>>> Stashed changes
   "metadata": {
    "extensions": {
     "jupyter_dashboards": {
      "version": 1,
      "views": {
       "grid_default": {},
       "report_default": {}
      }
     }
    }
   },
   "outputs": [
    {
     "data": {
      "application/vnd.jupyter.widget-view+json": {
<<<<<<< Updated upstream
       "model_id": "7cf3c90abb7f472eba0e27ef0f22b256",
=======
       "model_id": "f69eaf176009420e858fc393fc6e59c3",
>>>>>>> Stashed changes
       "version_major": 2,
       "version_minor": 0
      },
      "text/plain": [
       "Output()"
      ]
     },
     "metadata": {},
     "output_type": "display_data"
    },
    {
     "data": {
      "application/vnd.jupyter.widget-view+json": {
<<<<<<< Updated upstream
       "model_id": "2b43e0d2d3e848d18739c2b1235e2c6c",
=======
       "model_id": "baee4eeb30b94adea25e12e4040d6b4f",
>>>>>>> Stashed changes
       "version_major": 2,
       "version_minor": 0
      },
      "text/plain": [
       "VBox(children=(HBox(children=(Output(), Output())), HBox(children=(Output(), Output()))))"
      ]
     },
     "metadata": {},
     "output_type": "display_data"
<<<<<<< Updated upstream
=======
    },
    {
     "name": "stdout",
     "output_type": "stream",
     "text": [
      "180.0\n"
     ]
>>>>>>> Stashed changes
    }
   ],
   "source": [
    "drp_bound = widgets.Dropdown(description=\"Boundary:\")\n",
    "btn_bound = widgets.Button(description = \"Graph Boundary\")\n",
    "sldr_start2 = widgets.FloatSlider(description='Start time (s)',min=0,step=dt,max=total_t, value=20)\n",
    "\n",
    "\n",
    "hbox_bound = widgets.HBox()\n",
    "vbox_bound1 = widgets.VBox()\n",
    "vbox_bound2 = widgets.VBox()\n",
    "vbox_bound1.children =[drp_bound,btn_bound]\n",
    "vbox_bound2.children =[sldr_start2]\n",
    "hbox_bound.children = [vbox_bound1,vbox_bound2]\n",
    "\n",
    "\n",
    "output_bound_setting = widgets.Output()\n",
    "\n",
    "\n",
    "hbox_graph1 = widgets.HBox()\n",
    "hbox_graph2 = widgets.HBox()\n",
    "output_graph1 = widgets.Output()\n",
    "output_graph2 = widgets.Output()\n",
    "output_graph3 = widgets.Output()\n",
    "output_graph4 = widgets.Output()\n",
    "vbox_graph = widgets.VBox()\n",
    "hbox_graph1.children = [output_graph1,output_graph2]\n",
    "hbox_graph2.children = [output_graph3,output_graph4]\n",
    "vbox_graph.children = [hbox_graph1, hbox_graph2]\n",
    "\n",
    "with output_bound_setting:\n",
    "    display(hbox_bound)\n",
    "\n",
    "    \n",
    "bound_list = []\n",
    "\n",
    "for i in range(len(ed_arr)):\n",
    "    bound_list.append(ed_arr[i].name)\n",
    "    \n",
    "drp_bound.options = bound_list\n",
    "\n",
    "\n",
    "\n",
    "def btn_bound_clicked(b):\n",
    "    \n",
    "    \n",
    "    for i in range(len(ed_arr)):\n",
    "        if drp_bound.value == ed_arr[i].name:\n",
    "            bound_num = i\n",
    "    \n",
    "    \n",
    "    start_t = int(sldr_start2.value * 1000)\n",
    "    x_arr = t_arr \n",
    "    \n",
    "    \n",
    "   \n",
    "    \n",
    "    \n",
    "    bound = ed_arr[bound_num].name\n",
    "    compA = ed_arr[bound_num].comp_a\n",
    "    compB = ed_arr[bound_num].comp_b\n",
    "    \n",
    "    \n",
    "    \n",
    "    \n",
    "    output_graph1.clear_output()\n",
    "    output_graph2.clear_output()\n",
    "    output_graph3.clear_output()\n",
    "    output_graph4.clear_output()\n",
    "    \n",
    "    #\n",
    "    \n",
    "    ##### Graph 1: compA - ion changes via channels\n",
    "    \n",
    "    \n",
    "    #fig1_A.title = compA.name + \" [Ion] changes across membrane\"\n",
    "    #tlbr1A = bqp.Toolbar(fig1_A)\n",
    "    \n",
    "    x_sc = bqp.LinearScale()\n",
    "    y_sc = bqp.LinearScale()\n",
    "    \n",
    "    plt1A1 = bqp.Lines(x= t_arr[start_t:-1],y=compA.d_na_arr[start_t:-1],colors = ['#e7298a'], \n",
    "                       display_legend=True,labels= ['d-Na'], scales = {'x': x_sc, \"y\": y_sc})\n",
    "    plt1A2 = bqp.Lines(x= t_arr[start_t:-1],y=compA.d_k_arr[start_t:-1], colors = ['#7570b3'],\n",
    "                       display_legend =True, labels = ['d-K'], scales = {'x': x_sc, \"y\": y_sc})\n",
    "    plt1A3 = bqp.Lines(x= t_arr[start_t:-1],y=compA.d_cl_arr[start_t:-1], colors = ['#1b9e77'],\n",
    "                       display_legend = True, labels =['d-Cl'], scales = {'x': x_sc, \"y\": y_sc})\n",
    "    ax_x = bqp.Axis(scale = x_sc, label=\"Time(s)\", min= start_t, max=t_arr[-1])\n",
    "    ax_y = bqp.Axis(scale = y_sc, label=\"Concentration (mM)\", orientation='vertical', side='left')\n",
    "    \n",
    "    fig1_A = bqp.Figure(title = compA.name + \" [Ion] changes across membrane\", \n",
    "                        marks=[plt1A1,plt1A2,plt1A3], axes=[ax_x, ax_y],legend_location='bottom-right')\n",
    "    fig1_A.layout.height = '500px'\n",
    "    fig1_A.layout.width = '400px'\n",
    "  \n",
    "    with output_graph1:    \n",
    "        display(fig1_A)\n",
    "        \n",
    "        \n",
    "    x_sc = bqp.LinearScale()\n",
    "    y_sc = bqp.LinearScale()\n",
    "    \n",
    "    plt1B1 = bqp.Lines(x= t_arr[start_t:-1],y=compB.d_na_arr[start_t:-1],colors = ['#e7298a'], \n",
    "                       display_legend=True,labels= ['d-Na'], scales = {'x': x_sc, \"y\": y_sc})\n",
    "    plt1B2 = bqp.Lines(x= t_arr[start_t:-1],y= compB.d_k_arr[start_t:-1], colors = ['#7570b3'],\n",
    "                       display_legend =True, labels = ['d-K'], scales = {'x': x_sc, \"y\": y_sc})\n",
    "    plt1B3 = bqp.Lines(x= t_arr[start_t:-1],y= compB.d_cl_arr[start_t:-1], colors = ['#1b9e77'],\n",
    "                       display_legend = True, labels =['d-Cl'], scales = {'x': x_sc, \"y\": y_sc})\n",
    "    ax_x = bqp.Axis(scale = x_sc, label=\"Time(s)\", min= start_t, max=t_arr[-1])\n",
    "    ax_y = bqp.Axis(scale = y_sc, label=\"Concentration (mM)\", orientation='vertical', side='left')\n",
    "    \n",
    "    fig1_B = bqp.Figure(title = compB.name + \" [Ion] changes across membrane\", \n",
    "                        marks=[plt1B1,plt1B2,plt1B3], axes=[ax_x, ax_y],legend_location='bottom-right')\n",
    "    fig1_B.layout.height = '500px'\n",
    "    fig1_B.layout.width = '400px'\n",
    "  \n",
    "    with output_graph2:    \n",
    "        display(fig1_B)    \n",
    "        \n",
    "    \n",
    "    x_sc = bqp.LinearScale()\n",
    "    y_sc = bqp.LinearScale()\n",
    "    \n",
    "    plt2A1 = bqp.Lines(x= t_arr[start_t:-1],y= ed_arr[bound_num].bound_na_arr[start_t:-1],colors = ['#e7298a'], line_style = 'dashed',\n",
    "                       display_legend=True,labels= ['Na'], scales = {'x': x_sc, \"y\": y_sc})\n",
    "    plt2A2 = bqp.Lines(x= t_arr[start_t:-1],y= ed_arr[bound_num].bound_k_arr[start_t:-1], colors = ['#7570b3'], line_style = 'dashed',\n",
    "                       display_legend =True, labels = ['K'], scales = {'x': x_sc, \"y\": y_sc})\n",
    "    plt2A3 = bqp.Lines(x= t_arr[start_t:-1],y= ed_arr[bound_num].bound_cl_arr[start_t:-1], colors = ['#1b9e77'], line_style = 'dashed',\n",
    "                       display_legend = True, labels =['Cl'], scales = {'x': x_sc, \"y\": y_sc})\n",
    "    ax_x = bqp.Axis(scale = x_sc, label=\"Time(s)\", min= start_t, max=t_arr[-1])\n",
    "    ax_y = bqp.Axis(scale = y_sc, label=\"Concentration (mM)\", orientation='vertical', side='left')\n",
    "    \n",
    "    fig2_A = bqp.Figure(title = compA.name + \" [Ion] changes across compartment\", \n",
    "                        marks=[plt2A1,plt2A2,plt2A3], axes=[ax_x, ax_y],legend_location='bottom-right')\n",
    "    fig2_A.layout.height = '500px'\n",
    "    fig2_A.layout.width = '400px'\n",
    "  \n",
    "    with output_graph3:    \n",
    "        display(fig2_A)\n",
    "    \n",
    "    \n",
    "\n",
    "    x_sc = bqp.LinearScale()\n",
    "    y_sc = bqp.LinearScale()\n",
    "    \n",
    "    temp_na_arr =[]\n",
    "    temp_k_arr=[]\n",
    "    temp_cl_arr=[]\n",
    "    for i in range(len(ed_arr[bound_num].bound_na_arr)):\n",
    "        temp_na_arr.append(-1*ed_arr[bound_num].bound_na_arr[i])\n",
    "        temp_k_arr.append(-1*ed_arr[bound_num].bound_k_arr[i])\n",
    "        temp_cl_arr.append(-1*ed_arr[bound_num].bound_cl_arr[i])\n",
    "    \n",
    "    plt2B1 = bqp.Lines(x= t_arr[start_t:-1],y= temp_na_arr[start_t:-1],colors = ['#e7298a'], line_style = 'dashed',\n",
    "                       display_legend=True,labels= ['Na'], scales = {'x': x_sc, \"y\": y_sc})\n",
    "    plt2B2 = bqp.Lines(x= t_arr[start_t:-1],y= temp_k_arr[start_t:-1], colors = ['#7570b3'], line_style = 'dashed',\n",
    "                       display_legend =True, labels = ['K'], scales = {'x': x_sc, \"y\": y_sc})\n",
    "    plt2B3 = bqp.Lines(x= t_arr[start_t:-1],y= temp_cl_arr[start_t:-1], colors = ['#1b9e77'], line_style = 'dashed',\n",
    "                       display_legend = True, labels =['Cl'], scales = {'x': x_sc, \"y\": y_sc})\n",
    "    ax_x = bqp.Axis(scale = x_sc, label=\"Time(s)\", min= start_t, max=t_arr[-1])\n",
    "    ax_y = bqp.Axis(scale = y_sc, label=\"Concentration (mM)\", orientation='vertical', side='left')\n",
    "    \n",
    "    fig2_B = bqp.Figure(title = compB.name + \" [Ion] changes across compartment\", \n",
    "                        marks=[plt2B1,plt2B2,plt2B3], axes=[ax_x, ax_y],legend_location='bottom-right')\n",
    "    fig2_B.layout.height = '500px'\n",
    "    fig2_B.layout.width = '400px'\n",
    "    \n",
    "  \n",
    "    with output_graph4:    \n",
    "        display(fig2_B)\n",
    "    \n",
    "\n",
    "        \n",
    "\n",
    "btn_bound.on_click(btn_bound_clicked)  \n",
    "    \n",
    "    \n",
    "display(output_bound_setting,vbox_graph)\n",
    "\n",
    "\n",
    "#print(ed_arr[0].bound_na_arr)"
   ]
  },
  {
   "cell_type": "markdown",
   "metadata": {},
   "source": [
    "### Ionic Heatmap"
   ]
  },
  {
   "cell_type": "code",
<<<<<<< Updated upstream
   "execution_count": 184,
=======
   "execution_count": 12,
>>>>>>> Stashed changes
   "metadata": {
    "extensions": {
     "jupyter_dashboards": {
      "version": 1,
      "views": {
       "grid_default": {},
       "report_default": {}
      }
     }
    }
   },
   "outputs": [
    {
     "data": {
      "application/vnd.jupyter.widget-view+json": {
<<<<<<< Updated upstream
       "model_id": "35264df2ba0041d38307dbfd5d9a3c53",
=======
       "model_id": "12c128f0e822452883fae0dc29824279",
>>>>>>> Stashed changes
       "version_major": 2,
       "version_minor": 0
      },
      "text/plain": [
       "Dropdown(description='Ion:', options=('Na', 'K', 'Cl', 'X'), value='Na')"
      ]
     },
     "metadata": {},
     "output_type": "display_data"
    },
    {
     "data": {
      "application/vnd.jupyter.widget-view+json": {
<<<<<<< Updated upstream
       "model_id": "1a49f56a6a374f25a5347ff207227934",
=======
       "model_id": "ea6066b1ccc6456ea4b82fb8e6b80232",
>>>>>>> Stashed changes
       "version_major": 2,
       "version_minor": 0
      },
      "text/plain": [
       "IntSlider(value=20, description='Bins', min=5, step=2)"
      ]
     },
     "metadata": {},
     "output_type": "display_data"
    },
    {
     "data": {
      "application/vnd.jupyter.widget-view+json": {
<<<<<<< Updated upstream
       "model_id": "d2143a9b46374495809417bc1089ae2e",
=======
       "model_id": "dbd34d8693f9479c801a9da2a55248bc",
>>>>>>> Stashed changes
       "version_major": 2,
       "version_minor": 0
      },
      "text/plain": [
       "Button(description='Show Heat Map', style=ButtonStyle())"
      ]
     },
     "metadata": {},
     "output_type": "display_data"
    },
    {
<<<<<<< Updated upstream
     "data": {
      "application/vnd.jupyter.widget-view+json": {
       "model_id": "b951fb39649e48ec8abe7c31ed2baab0",
=======
     "name": "stdout",
     "output_type": "stream",
     "text": [
      "9000\n",
      "180.0\n"
     ]
    },
    {
     "data": {
      "application/vnd.jupyter.widget-view+json": {
       "model_id": "7761ff176ef548d4be3d875aa98a361f",
       "version_major": 2,
       "version_minor": 0
      },
      "text/plain": [
       "Output()"
      ]
     },
     "metadata": {},
     "output_type": "display_data"
    },
    {
     "data": {
      "image/png": "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\n",
      "text/plain": [
       "<Figure size 432x288 with 2 Axes>"
      ]
     },
     "metadata": {
      "needs_background": "light"
     },
     "output_type": "display_data"
    },
    {
     "name": "stdout",
     "output_type": "stream",
     "text": [
      "9000\n",
      "180.0\n"
     ]
    },
    {
     "data": {
      "application/vnd.jupyter.widget-view+json": {
       "model_id": "7761ff176ef548d4be3d875aa98a361f",
>>>>>>> Stashed changes
       "version_major": 2,
       "version_minor": 0
      },
      "text/plain": [
       "Output()"
      ]
     },
     "metadata": {},
     "output_type": "display_data"
<<<<<<< Updated upstream
=======
    },
    {
     "data": {
      "image/png": "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\n",
      "text/plain": [
       "<Figure size 432x288 with 2 Axes>"
      ]
     },
     "metadata": {
      "needs_background": "light"
     },
     "output_type": "display_data"
    },
    {
     "name": "stdout",
     "output_type": "stream",
     "text": [
      "9000\n",
      "180.0\n"
     ]
    },
    {
     "data": {
      "application/vnd.jupyter.widget-view+json": {
       "model_id": "7761ff176ef548d4be3d875aa98a361f",
       "version_major": 2,
       "version_minor": 0
      },
      "text/plain": [
       "Output()"
      ]
     },
     "metadata": {},
     "output_type": "display_data"
    },
    {
     "data": {
      "image/png": "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\n",
      "text/plain": [
       "<Figure size 432x288 with 2 Axes>"
      ]
     },
     "metadata": {
      "needs_background": "light"
     },
     "output_type": "display_data"
    },
    {
     "name": "stdout",
     "output_type": "stream",
     "text": [
      "9000\n",
      "180.0\n"
     ]
    },
    {
     "data": {
      "application/vnd.jupyter.widget-view+json": {
       "model_id": "7761ff176ef548d4be3d875aa98a361f",
       "version_major": 2,
       "version_minor": 0
      },
      "text/plain": [
       "Output()"
      ]
     },
     "metadata": {},
     "output_type": "display_data"
    },
    {
     "data": {
      "image/png": "iVBORw0KGgoAAAANSUhEUgAAAWAAAAELCAYAAADnUlzVAAAAOXRFWHRTb2Z0d2FyZQBNYXRwbG90bGliIHZlcnNpb24zLjMuMiwgaHR0cHM6Ly9tYXRwbG90bGliLm9yZy8vihELAAAACXBIWXMAAAsTAAALEwEAmpwYAAAkWElEQVR4nO3debxcVZnu8d9zEgPYDowGGTSRobmCyEVAL9KSoC1RTBg6jAo0IqGVxhEFmr430t3pm4SAStsoURADAh1GAwREGgQHIEGGkEhoAwikGYJgS19lEPLeP9Y+pChqV+2qU+PO8+WzP6lau9691jnUeWvV2muvrYjAzMy6b6jXDTAzW1s5AZuZ9YgTsJlZjzgBm5n1iBOwmVmPOAGbmfXI6C7UEXOOuKSpgBPmHcisD32vqZgTbzgKgFl7ndtc3I2fbCmm2bpaiRmO60b7RlJXv7evm3X1e/u6WVeL7VNTQTVM0ccKz61dEFePuL6R6EYCNjPrmqEB+mLvBGxmpSL1tFPbFCdgMysV94DNzHpklEb1ugmFOQGbWakMeQjCzKw35CEIM7PecA/YzKxHfBLOzKxHfBLOzKxHPARhZtYjPglnZtYjQ3ICNjPrCY18PZ+ucQI2s1JxD9jMrEdG4VkQZmY94VkQZmY94gsxzMx6xOsBm5n1iHvAZmY94kuRzcx6xCfhzMx6xJcim5n1iC/EMDPrkSFfimxm1htaG3rAkraLiOXtbIyZ2UiNHqBZECP5qLg+b4ekaZLukHTH3LlzR1CFmVlz1MR/vVa3ByzpzLxdwPp5cRExFxjOvDHnZ5e01Dgzs6YN9T6xFtVoCOIo4EvACzX2Hdr+5piZjVCJ5gEvBpZGxC+qd0j6akdaZGY2AipRD3gq8HytHRExvv3NMTMboQHqAdc9CRcRz0TEHwEkjZG0o6R3SRrTneaZmTVp9FDxrQFJ50paJWlpVfnxku6XtEzS7IrykyWtyPbt3bCpRX4eSfsA3wYeIJ2AGy/p2Ii4tki8mVm3tHk5yvOAbwLzKo4/EdgX2DEiXpD0lqz8ncAhwPbAZsANkraNiJfzDl50HvDpwMSIWJFVtBVwDeAEbGb9pY1jwBFxi6RxVcWfBmZGxAvZa1Zl5fsCF2flD0laAewG3Jrb1ILtWDWcfDMPAqvyXmxm1jNS8a012wJ/Iel2STdL2jUr3xx4tOJ1K7OyXEV7wMskLQTmAwEcCCyWdABARFzeTOvNzDqmiR6wpGnAtIqiudl1DPWMBjYA3gfsCsyX9A6oeWVHNDpQEesCTwJ7Zs+fAjYEJmcVOAGbWV/QqOKXIlddNFbUSuDyiAhgkaTVwMZZ+ZYVr9sCeKzegQol4Ig4qskGmpn1RufnAV8J7AX8RNK2wBjgt8AC4EJJZ5BOwm0DLKp3oKKzIMYDxwPjKmMiYkrzbTcz66A2zoKQdBEwAdhY0kpgOnAucG42Ne1F4MisN7xM0nzgV8BLwHH1ZkBA8SGIK4FzgKuA1S38HGZm3dHeWRB5Sy58Iuf1M4AZRY9fNAE/HxF5C/OYmfWNMt6W/huSppOWoHxlYZ6IuLMjrTIza1WJ1oIY9i7gcNLA8/AQRGTPzcz6x6jy3RFjf+AdEfFiJxtjZjZiJewB30NagN1Xv5lZXyvjGPBYYLmkxbx6DNjT0Mysv5SwBzy9o60wM2uXsvWAI+JmSWNJ1z0DLKpYAcjMrH8MUA+40OlCSQeRLqk7EDgIuF3S1E42zMysFRo1VHjrtaJDEKcAuw73eiVtAtwAXNqphpmZtWSAesBFE/BQ1ZDD0xRfS9jMrHvKNgYMXCfpR8BF2fODgYWdaZKZ2QgMUA9YaRGfnJ3S1sDYiPh5tvj6HqRFh38H/CAiHihQR90Fic3MKow4e87a87uFc86JN3+qp9m6UQ/468DfwSt3vbgcQNIu2b7JHWybmVnz+uDkWlGNEvC4iFhSXRgRd9S4UV2uKfpYU41aEFcz8399u6mYk279G4CW4rpR14ja9/6zm4v5+bGprhbiWorZo7kbCpz0s3QHmFbiulrXB77TXMwtx7QUA5SyrlbbN2IDNATRKAGvW2ffeu1siJlZWwxO/m04k2GxpNd8LEk6GvhlZ5pkZjYCnb8rcts06gF/HrhC0sdZk3B3Id0Daf8OtsvMrCUqyxBERDwJ7C5pIrBDVnxNRNzY8ZaZmbVicPJv4bUgbgJu6nBbzMxGrkSzIMzMBkvZesBmZgOjD06uFeUEbGblMjgjEE7AZlYy7gGbmfVGGe8JZ2Y2GEY5AZuZ9YZ7wGZmPTI4+XeQzheamRUwpOJbA5LOlbRK0tKKsq9K+k9Jd2fbRyv2nSxphaT7Je3dsKkt/5BmZv1ITWyNnQdMqlH+tYjYKdsWAkh6J3AIsH0Wc5akUfUO7gRsZqXSzrsiR8QtwDMFq94XuDgiXoiIh4AVwG71ApyAzaxcmugBS5om6Y6KbVrBWv5W0pJsiGKDrGxz4NGK16zMynI5AZtZuTSxHnBEzI2IXSq2IrdO+RawFbAT8Dhw+nDNNV5b9/50ngVhZuXS4fWAs2V6AZD0HeDq7OlKYMuKl24BPFbvWO4Bm1m5tPck3GsPL7214un+wPAMiQXAIZLWkTQe2AZYVO9Y7gGbWbm08UIMSRcBE4CNJa0EpgMTJO1EGl74DXAsQEQskzQf+BXwEnBcRLxc7/hOwGZWLm28FDkiDq1RfE6d188AZhQ9vhOwmZWKF+MxM+uVATqzVaipkl5Xo2zj9jfHzGyEBui29HUTsKSJ2cDzY5KulzSuYvf1deJemdw8d26RaXVmZm1SlgQMzAb2johNgLnAjyW9L9uX2/rKyc3TphW9sMTMrA1GqfjWY43GgMdExDKAiLhU0n3A5ZJOosEVHmZmPdEHPduiGiXgP0naNCKegFfmuX2QdOXHVh1vnZlZswboJFyjBHwSMBZ4YrggIlZKmgAc17lmmZm1qCw94Ii4YfixpDHAdqShh/uzCcdmZv2lLAl4mKR9gG8DD5BOvo2XdGxEXNvJxpmZNa1EQxDDTgcmRsQKAElbAdcATsBm1l+GBicDF03Aq4aTb+ZBYFUH2mNmNjKDk38LJ+BlkhYC80ljwAcCiyUdABARl3eofWZmzSnbGDCwLvAksGf2/ClgQ2AyKSE7AZtZfxic/FssAUfEUZ1uiJlZW3T4jhjtVHQWxHjgeGBcZUxETOlMs8zMWlTCIYgrSYsQXwWs7lhrzMxGqg/WeCiqaAJ+PiLO7GhLzMzaoYQ94G9Imk5agvKF4cKIuLMjrTIza9Xg5N/CCfhdwOHAXqwZgojsuZlZ/yjbSTjSrZffEREvdrIxZmYjVsIhiHuA9fHVb2bW70p4Em4ssFzSYl49BuxpaGbWX0rYA57e0VaYmbVL2daCiIibJY0Fds2KFkWEhyPMrP8MUA+46G3pDwIWkRbhOQi4XdLUTjbMzKwlA3RX5KJDEKcAuw73eiVtAtwAXNqphpmZtWSAhiCKNnWoasjh6SZizcy6Z2io+NaApHMlrZK0tMa+EySFpI0ryk6WtELS/ZL2bnT8oj3g6yT9CLgoe34wsLBgrJlZ97S3a3ge8E1gXmWhpC2BvwQeqSh7J3AIsD2wGXCDpG0j4uWWmippa0nvj4gvA2cDOwLvBm4F5rby05iZdVQbx4Aj4hbgmRq7vgZ8hXRF8LB9gYsj4oWIeAhYAexWt6kRkb9Tuhr4u4hYUlW+CzA9IiY3/Ale3UAzs3pGfGbs9LNuLZxzTjhu92OBaRVFcyPiVZ1LSeOAqyNih+z5FOCDEfE5Sb8BdomI30r6JnBbRFyQve4c4NqIyD1X1mgIYlx18gWIiDuyRhUy54hLir4UgBPmHchpB1zYVMyXLz8MgNn7/6CpuK9c8XFm73dBczFXfiLVNfn84jFXHZ5iPlY8BuArVx/O7I/Oa/zCypiFR6S6PvL95uKuPZLZk5qMue5IZn34vKZiTrz+rwGY9Zffay7ux0cx60NNxtyQ7iUwa69zm4u78ZPMmnhOczE3Hc2sPb/bXMzNnwJoKW7mB77TVMxJtxwDwMw9mvvyetLPpjHz/Wc3F/PzY1uKaYsmhiCyZFv4FyLp9aRJCR+utbtWFfWO1ygBr1tn33oNYs3Muk6dnV62FTAeuCerZwvgTkm7ASuBLSteuwXwWL2DNfqsWCzpmOpCSUcDv2yi0WZmXaEhFd6aFRH3RsRbImJcRIwjJd2dI+IJYAFwiKR1srsIbUO6fiJXox7w54ErJH2cNQl3F2AMaYU0M7O+0s4esKSLgAnAxpJWks591RybiohlkuYDvwJeAo6rNwMCGiTgiHgS2F3SRGCHrPiaiLixuR/DzKxL2jgNLSIObbB/XNXzGcCMoscvuhbETcBNRQ9qZtYrHR4DbquiF2KYmQ0GJ2Azs95o5eRarzgBm1mpOAGbmfXK4ORfJ2AzKxefhDMz65EByr9OwGZWMgOUgZ2AzaxUVMLb0puZDQSPAZuZ9YoTsJlZbwxQ/nUCNrNy8RCEmVmvDND92p2AzaxUVOB28/3CCdjMSmWARiCcgM2sZAYoAzsBm1mpeDU0M7MeGaAOsBOwmZXLIJ2Ea9hSSUOShrLHYyTtLGnDzjfNzKwFamLrsboJWNJ+wOPAf0raF/gpMAdYImly55tnZtYcDanw1muNhiCmA+8G1gPuAXaNiPslvR24DLiqVpCkacA0gLPPPhvYoG0NNjOrp/dptbiGY8AR8QSApEci4v6s7OHhYYmcmLnA3OGnc352STvaambWUKkuRZY0FBGrgU9WlI0CxnSyYWZmrRig/NswAU8jJdrnI2JRRfmWwMyOtcrMrEVDA5SB6ybgiFg8/FjSGGA7IID7I+KCDrfNzKxpA5R/i60bJGkf4AHgTOCbwApJH+lkw8zMWiEV3xofS+dKWiVpaUXZP0paIuluSddL2qxi38mSVki6X9LejY5fdMby6cDEiJgQEXsCE4GvFYw1M+saSYW3As4DJlWVnRYRO0bETsDVwP/J6n0ncAiwfRZzVna+LFfRBLwqIlZUPH8QWFUw1sysa9p5HUZE3AI8U1X2bMXTPyMNywLsC1wcES9ExEPACmC3escveinyMkkLgflZZQcCiyUdkDXo8oLHMTPrqG5MQ5M0AzgC+D1pRABgc+C2ipetzMpyFe0Brws8CewJTACeAjYEJgMfK9poM7NOG1LxTdI0SXdUbNOK1BERp0TElsAPgL/Nimtl/qhR9opCPeCIOKrI68zMeq2ZHnDVRWOtuBC4hnTV8ErSFN1hWwCP1QsulIAljQeOB8ZVxkTElObaambWWZ0egZC0TUT8Ons6BViePV4AXCjpDGAzYBtgUY1DvKLoGPCVwDmktR9WN9tgM7NuaecYsKSLSMOuG0taSerpflTSn5Ny4cPA3wBExDJJ84FfAS8Bx0XEy/WOXzQBPx8RZ7b2I5iZdU87O8ARcWiN4nPqvH4GMKPo8Ysm4G9Img5cD7xQUdmdRSsyM+uGoT5YZrKoogn4XcDhwF6sGYKI7LmZWd8YnPRbPAHvD7wjIl7sZGPMzEZqkNaCKJqA7wHWx1e/mVmfK9V6wJmxwHJJi3n1GLCnoZlZXxmg/Fs4AU/vaCvMzNpEAzQKXPRKuJsljQV2zYoWRYSHI8ys7wzQXekLrwd8EOmKjgOBg4DbJU3tZMPMzFoxhApvvVZ0COIU0h2RVwFI2gS4Abi0Uw0zM2tFGceAh6qGHJ6m+EpqZmZdU8YEfJ2kHwEXZc8PBhZ2pklmZq0rzTQ0SVsDYyPiy9ni63uQLjS5lbQOpplZXxmkuyIrIn+9YElXA38XEUuqyncBpkfE5AJ11F2Q2Myswoiz50+WPl4450zY4a09zdaNhiDGVSdfgIi4Q9K4opU8/3JzK1iuO2qI079wdVMxX/paujHH6ccvaC7uX6Zw+md+2FzMWfumuj59ZfGYb+0HwJxpVzRV1wlz92fO0c3d8emEcw5IdR11WXNx3/sr5hxxSXMx8w5kzuFNxpx/IACnHfZvTcV9+cKDOe3gi5uL+bdDUl0HNRk3/xBO+6sLm4u57DBOO6DJmMsPA2D2fhc0FfeVKz/B7ClNxiz4RKpr8vnNxV11OLM/Oq+5mIVHMPsj328u5tojm3p9ngHqADdMwOvW2bdeOxtiZtYOg3QhRqOZDIslHVNdKOlo4JedaZKZWeuk4luvNeoBfx64QtLHWZNwdwHGkFZIMzPrK6WZBRERTwK7S5oI7JAVXxMRN3a8ZWZmLSjdguwRcRNwU4fbYmY2YoOTfotfiGFmNhAGaATCCdjMyqU0Y8BmZoNmgPKvE7CZlcsgzQN2AjazUindLAgzs0HhIQgzsx5xAjYz6xGPAZuZ9cgg9YB9WyEzK5WhIRXeGpF0rqRVkpZWlJ0mabmkJZKukLR+xb6TJa2QdL+kvRu2tdUf0sysH6mJ/wo4D5hUVfZjYIeI2BH4D+BkAEnvBA4Bts9izpI0qt7BnYDNrFTauRxlRNwCPFNVdn1EvJQ9vQ3YInu8L3BxRLwQEQ8BK4Dd6h3fCdjMSmVIKrxJmibpjoptWpPVfRK4Nnu8OfBoxb6VWVkun4Qzs1Jp5iRcRMwF5rZWj04BXmLNDYpr1Vz3/nROwGZWKt2YBSHpSOBjwAdjzZ2NVwJbVrxsC+CxesfxEISZlUozQxCtkDQJOBGYEhF/rNi1ADhE0jqSxgPbAIvqHcs9YDMrlXYuRynpImACsLGklcB00qyHdYAfZ3XdFhF/ExHLJM0HfkUamjguIl6ud3wnYDMrlXYOQUTEoTWKz6nz+hnAjKLHdwI2s1LxguxmZj0yOOm3hZNwkj7TiYaYmbWD0vzeQluv1e0BS/pidRFwsqR1ASLijJy4acA0gLPPPpsjjv5UG5pqZtbYAK3H3nAI4lRgIbCMNT37UcAb6wVVTW6O519ePZI2mpkV1wc926IaJeDtgTOAPwNOjYg/SjoyIk7tfNPMzJo3OOm3wRhwRDwSEVOBX5DmvE3tTrPMzFrTzsV4Oq3QSbiI+CHwYeC9pMvtzMz6kprYeq2ZaWh/As4H5kkaExEvdqhNZmYt64fZDUUVSsCS9gG+DTxA+uAYL+nYiLi2fqSZWXcNUP4t3AM+HZgYESsAJG0FXMOadTDNzPrE4GTgogl41XDyzTwIrOpAe8zMRqSMPeBlkhYC80kLDB8ILJZ0AEBEXN6h9pmZNWWA8m/hBLwu8CSwZ/b8KWBDYDIpITsBm1lfKF0POCKO6nRDzMzaoYyzIMYDxwPjKmMiYkpnmmVm1prBSb/FhyCuJC1CfBXghR3MrH8NUAYumoCfj4gzO9oSM7M20ABl4KIJ+BuSpgPXAy8MF0bEnR1plZlZiwZoCLhwAn4XcDiwF2uGICJ7bmbWNwYo/xZOwPsD7/D6D2bW7wZpFkTRWxLdA6zfwXaYmbXFIC1HWbQHPBZYLmkxrx4D9jQ0M+srfZBXCyuagKd3tBVmZu3SD13bgopeCXezpLHArlnRoojwYjxm1ncGJ/0WHAOWdBCwiLQIz0HA7b49kZn1o9Lclr7CKcCuw71eSZsANwCXdqphZmat6IO8WljRBDxUNeTwNMVnUJiZdc0A5d/CCfg6ST8CLsqeHwws7EyTzMxaN0g9YEVE/k5pa2BsRPw8W3x9D9IHzO+AH0TEAwXqyK/AzOzVRpw+n3tpdeGcs97ooZ6m60bDCF8H/hvSXS8i4osR8QVS7/frBevIvSu0pGPr7W9XTDfr6vf2+Xfh30Wv62oQM2LrjR5S0a0d9Y1IRORuwNI6++6tF1tkA+7oRkw36+r39vl34d9Fr+tqtX1l3Br1gNets2+9RsndzMzyNUrAiyUdU10o6Wjgl51pkpnZ2qHRLIjPA1dI+jhrEu4uwBjSCmkjNbdLMd2sq9/b1826+r193ayr39vXzbpabV/p1J0F8cqLpInADtnTZRFxY0dbZWa2FiiUgM3MrP18NZuZWY84AZuZ9UjRS5HbQtJ2wL7A5qQr5B4DFkTEfd1sh5lZP+jaGLCkE4FDgYuBlVnxFsAhwMURMbNO7FgqknZEPNmhNjb9AdGtmLLW1c32mfWbbg5BHE1a0nJmRFyQbTOB3bJ9ryFpJ0m3AT8BZgOnATdLuk3SzvUqk7SdpBMlnSnpG9nj/1Hn9SeSPhxEWvt4cfb4Ikkn9TKmrHV1s31Z3JslzZS0XNLT2XZfVrZ+u2K6WVdZ27fW6NYld8By4O01yt8O3J8Tczfw3hrl7wPuqVPXiVnsScAnsu2k4bKcmP8AXlejfAzw617GlLWubrYv2/+j7L2xaUXZplnZj9sV0826ytq+tWXrXkUwCVgBXEuaiD0XuC4rm5QTU++PaUWdfa0kg1Y+ILoSU9a6utm+bH/T+9p9vHbXVdb2rS1b107CRcR1krYlDTlsTvrKuBJYHBEv54RdK+kaYB7waFa2JXAEKXnnWQ1sBjxcVf7WbF8tnwf+XdKvK+p6G7A18Lc9jilrXd1sH8DDkr4CfD+y8wjZ+YW/rjhOO2K6WVdZ27dW6PsLMSR9hDUnW4aT9oKIyF0QXtIk4JtAzT/QiKiZvCUN0dwHRNdiylpXl9u3AWkoal/gLVnxk8ACYFZEPNOOmG7WVdb2rS36PgG3qtU/bDOzbhnYCzEkTau3PyJWR8RtEXFZRFyaPW4p+Uq6ul9jylpXN9uXxdWdVdOumG7WVdb2lcnAJmBaXD2/xT/Q1yzJ2UcxZa2rm+0D+HSXYrpZV1nbVxp9PwQhaSvS0pdbAi+RxnUviojft3i8t0bE421sYvXxN4qIpzt1/Kq63hKvvlu1mQ2Qvu4BS/os8G3SnTl2Jd2FY0vgVkkTWjlmXvKVdKekv88SftH2zZS0cfZ4F0kPArdLeljSnjkxkyoev1nSOZKWSLowOzucV9eGVdtGwCJJG0jaMCdmU0nfkvSvkjaS9FVJ90qaL+mtdep6k6T/K+l8SYdV7Tur/m+l5vGuzSlv9SKCN0j6B0nLJP1e0lNKF+f8dYG2vG342JLGSZoqaYc6r9+x4Q9YO26MtOb+vJImSvpSdlK56DHeIGnner+LnLjPFHzdUHauZLi9O+e9l6riXlejbONm2pjFbNdsTOn0eh5cvQ24FxiVPX498JPs8duAu+rE7QLcBFxAStg/Bn5PumLqf+bEPATMAR4hXV31BWCzRu2reHwT6Uo/gG3Jue8VcGfF4+8C/0Sav/oF4Mo6da3O2li5/Sn798GcmOuA40lnoZeQJr+/LSv7YZ26LgNmAvuRzlZfBqxT3f6qmJ1ztvcAj+fEtHoRwQ9J05i2AL4I/G9gG+D7wD/XiTsp+30tBz6V/XsOsAz4Yk7My6S56v8IvLOJ9+49wAbZ4y8DvwD+PnsvzsyJOavi8R7Ze/Em0kyej+bEfLFq+xLw2+Hnddq3H2k2wuOkGQq3AzeSTlZPzomZmO1/CrgeGFfrfd3E7+iRZmPKtvW8AQ3+B91b8Ye/AfDLin31bhi6CPgIae2JR4GpWfkHgVtzYioT418AZwFPZH8A03JilgOjs8e3Vbe9QD13V+27u1ZMtu8EUkJ9V0XZQw1+f3dVPH6kibqq23UK8HNgo7w/tCxR3Zj9vqq353JiWr1Q4J6q54uzf4eA5XXilpG+RW1Eutv3Jln5n+W9n4C7SDcjmEFKxPeQEvm4Br/7pRWP7wDWyx6PBpYUeG/cBOycPX4H+R/o/w38G/B/gOnZ9rvhx/XeG6QPu/HAs8CfZ+Vvr1PXYmD77PFU0nDg+6rfa1UxZ+Zs/wI8W+93uDZsXV0NrQXfJd2X7jbgA8AsAEmbAPXmD74uIq7NXjsrIi4FiIh/lzSnUaUR8VPgp5KOB/4SOJjat1H5V2ChpJnAdZK+DlxOSvR35xz+LZK+SDqJ+CZJiuydSp0hoYiYI+li4GuSHiX9gTUawK883rw6+6qtI2koIlZndc+QtBK4BXhDTsx9wLER8evqHVl7a3lYrU3S/4OkPSLiZ5KmkL0XImJ15df+Gl6OiOckvQg8Bzydxf2hTlhExFLSh9ApknYjLSD1U0mPRsTuOXHPStohi/0taRjtOVICLjL096aIuDNrwIOSRuW8bnvgDNKHyKkR8UdJR0bEqY0qiIgnACQ9EhH3Z2UPDw9L1DAmIpZlr7tU0n3A5Urrb+S9F48i9cpfqLHv0EZtLL1efwI02khvsKnAdk3E3Ap8GDiQdDXcfln5nuR/ul/cYvsmkHogd5F67AuBadS4FDp7/fSqbbgXtikwr2Cdk4HbgCcavO4fgDfUKN8auLRO3GzgQzXKJ5F/KfdUsl5UjX375ZRvQPpQvY+URJ/JHs8CNqzTvneTvuX8F/AzYNusfBPgs3XizgMuJA1hXAScD3ycNAwxPyfmrpxyAXvWqWtHUm95XrY9AJxL6g0flhPzR9JQ0b2knu3wEMYQdb7xZa/Zl/QtZSo5Q1LVPxcwlD3eraJ8VF5dWds3rSrbgtTZ+O+cmBuB3XP2PVTk/V7mre9nQbRC0rtJSWQ1aWz108CRwH8Cx0TEL3LitiNduHF7RPy/ivJJkX/13G6kXtJiSduTktR9UedKvRrHmBcRRxR9fRbzF6QPlEURcX3Oa96bteVZSeuRvjrvDPyKNFZacyZJdvLziogofKmopHVI3xQei4gbspN3u5MS6tyI+FNO3Na8epbLf1BglktV3J8oMDtG0mjSh3IAlwLvJfXCHgH+NSL+UCPmsIi4sF5b6tQ3itQR2JbU810J/Cgi/ivn9W+vKno8Il7MTnB9ICIub1Df64FTSQtYfaDBa3clDZM9X1U+DtgjIi6oEfMh4KmIuKeqfH3guIiYUSNmQ+D5iPhjvfasrUqZgOuRdFREfK9G+fGkdQTuA3YCPhcRP8z23RkRr5k0Lmk6aax5NOnkym7AzcCHSH9otd6QC2o0ay9ST4GImJLT7kURsVv2+BjgM8CVpD/wq6LGesqSlgHvjoiXJM0l9bAuJQ2RvDsiDsip6/fAH0i9touASyLiqVqvrYj5Aen38HpSz/QNrBmOUUQcWSPms8DHSEMbHyX1pH5HSqyfiYif5NTVUtzaQl2cnqguTrsspV53wbu9kXPmlfS17w3Z43Gkr1ufy57fVSdmFCnpPEsat4N0oifvRMtdpNkZE0g92AmkM9F7Uv8r7V0Vjxfz6hNIeSf87qt4fGfVvrvr1UX62vth0tfzp0gnAI8E3pgTsyT7dzTp7Prw7BXV+V20Osul1bg3k2Z3LCcNdzxN+sCdCazfwnvp2jr73pQd93zg0Kp9Z+XEbAp8i3RuYSPgq9nPOh94a07MhjW235CGd+oN40yqeLx+9v95CWmIZmxOzExg4+zxLsCDpBOTD+e9d4E7SbM/tmr297s2bH09D7hVSvNqa233AnlzbUdFNuwQEb8hJcaPSDqD/KvuXoqIlyN9vXogIp7N4p8jf9W19wC/JJ3U+X2k3tpzEXFzRNxc58caUprzuxGpR/lUVtcfSF/da1kq6ajs8T2SdgFQWpWu5pBAJiJdyn19RBxNWlnuLNLwyoN12jcGeCMpKb45K18HeM280QqjK173xqzyRxrEtBo3n9RTnhARG0bERqSpVf8FXFIrIJsbW2t7D+mbUp7hb1mXAYdKuiwbpoG0nnUt55GGhx4lmz0C7AP8lDQfvpbfkt5PldvmpMR3R532/XPF4zmkTsBk0of72Tkx+0TEb7PHpwEHR8TWpBPVp+fEbEBK8DdJWiTpC5I2q9OutUuvPwE6sZF6YDuRptRUbuNIY5S1Ym4EdqoqG006gfJyTsztwOuzx0MV5W+mwbxI0smLS0irtjWcD0nq1TxINu+X7GQI6av+3Tkxbyb9UT+QtfVPWezNpCGIvLruqrNvvZzyL2THfhj4LPDvwHdIPbjpOTGfI/W65pJ6pUdl5ZsAt9RpQ6txraxn2/T0uizu7qrnRaby3VXxuNC0QVqYnpi9punpkIx82mWh6Z1r09bzBnTkh0pfp/bI2XdhTvkWVJ3hrdj3/pzydXLKN678g2jQ1n2oc/FAgfjXA+MbvOaNpJkD7yHn62XV67dtsS2bkV28Qur1TKXiDHtOTNOzXFqNI1088JXK3wHpG9GJwA05MUuBbXL2PVqnrvuo+FDOyo4kzUV+OCfmnorH/1S1r2aCy/YNf5ifkf2/LjILYiVrLtx4kOx8ULYvb8jo+Ox3uBdpeOTrpOmhpwLn58S85sOGNGw3CfheK++zMm1r3Uk4W3up/tq0MyPidzVippKS3/019u0XEVfm1DUbuD4ibqgqnwT8S0RsUyPmH4DZUTEDJyvfOmvf1AY/32RST3tcRGza4LXTq4rOioinJG2ataHmrBylJQA+zZqZHY+STgafGxGvGQqTdHFEHFKvLWszJ2Az8mfHtDum03Vl0w23ioil/di+kcaUjROwGa9cDfa2Tsd0s66ytq9M+v1SZLO2kbQkbxc5s2NaielmXWVt39rCCdjWJmOBvUlT0SqJtFpZu2K6WVdZ27dWcAK2tcnVpItt7q7eIeknbYzpZl1lbd9awWPAZmY9Usor4czMBoETsJlZjzgBm5n1iBOwmVmPOAGbmfXI/wfVyUkHgWM6YgAAAABJRU5ErkJggg==\n",
      "text/plain": [
       "<Figure size 432x288 with 2 Axes>"
      ]
     },
     "metadata": {
      "needs_background": "light"
     },
     "output_type": "display_data"
>>>>>>> Stashed changes
    }
   ],
   "source": [
    "### HEATMAP OF ION CHANGES DURING SIMULATION:\n",
    "\n",
    "########################\n",
    "# Widget initialization\n",
    "\n",
    "btn_heat = widgets.Button(description = 'Show Heat Map')\n",
    "drp_ion = widgets.Dropdown(description = 'Ion:',options=['Na','K','Cl','X'])\n",
    "sldr_heat = widgets.IntSlider(description= 'Bins', value= 20, min = 5, max= 100, step=2)\n",
    "output_heat = widgets.Output()\n",
    "\n",
    "###########################\n",
    "# Plotting function on click\n",
    "\n",
    "def btn_heat_clicked(b):\n",
    "\n",
    "    y_arr = []\n",
    "    x_arr = []\n",
    "    data_arr = []\n",
    "    bins = sldr_heat.value\n",
    "    ion = drp_ion.value\n",
    "    jump = int(total_t*1000/bins)\n",
    "    \n",
    "    \n",
    "    for i in range(len(comp_arr)):\n",
    "        \n",
    "        y_arr.append(comp_arr[i].name)\n",
    "        temp_arr =[]\n",
    "        \n",
    "        for j in range(bins):\n",
    "            time_point = j*jump\n",
    "            if i==0:\n",
    "                x_arr.append(round(t_arr[time_point],2))\n",
    "            if ion == 'Na':\n",
    "                temp_arr.append(comp_arr[i].na_arr[time_point])\n",
    "            elif ion == 'K':\n",
    "                temp_arr.append(comp_arr[i].k_arr[time_point])\n",
    "            elif ion == 'Cl':\n",
    "                temp_arr.append(comp_arr[i].cl_arr[time_point])\n",
    "            elif ion == 'X':\n",
    "                temp_arr.append(comp_arr[i].x_arr[time_point])\n",
    "        \n",
    "        data_arr.append(temp_arr)\n",
    "                \n",
    "    \n",
    "    \n",
    "    x_sc = bqp.LinearScale()\n",
    "    y_sc = bqp.LinearScale()\n",
    "    \n",
    "    \n",
    "    \n",
    "    with output_heat:\n",
    "        output_heat.clear_output()\n",
    "        mplt.figure()\n",
    "        plt_heat = sns.heatmap(data_arr,cmap=\"BuPu\", linewidth=0.5, xticklabels=x_arr, yticklabels=y_arr, cbar_kws={'label': 'Concentration (mM)'})\n",
    "        mplt.xlabel(\"Simulation time (s)\")\n",
    "        mplt.ylabel(\"Compartment\")\n",
    "        mplt.show()\n",
    "        \n",
    "    \n",
    "    #display(output_heat)\n",
    "    \n",
    "    \n",
    "##################################\n",
    "\n",
    "btn_heat.on_click(btn_heat_clicked)\n",
    "\n",
    "\n",
    "display(drp_ion, sldr_heat,btn_heat,output_heat)"
   ]
  },
  {
   "cell_type": "markdown",
   "metadata": {
    "collapsed": true,
    "extensions": {
     "jupyter_dashboards": {
      "version": 1,
      "views": {
       "grid_default": {},
       "report_default": {}
      }
     }
    }
   },
   "source": [
    "### Compartment equilibria\n"
   ]
  },
  {
   "cell_type": "code",
<<<<<<< Updated upstream
   "execution_count": 193,
   "metadata": {
    "scrolled": false
   },
=======
   "execution_count": 70,
   "metadata": {},
>>>>>>> Stashed changes
   "outputs": [
    {
     "data": {
      "application/vnd.jupyter.widget-view+json": {
<<<<<<< Updated upstream
       "model_id": "e694fc2f721a46fb86542d02d4e0e693",
=======
       "model_id": "87d8068a2e24493c89a85af8126d1d72",
>>>>>>> Stashed changes
       "version_major": 2,
       "version_minor": 0
      },
      "text/plain": [
<<<<<<< Updated upstream
       "Dropdown(description='Compartment', options=('Comp1', 'Comp2'), value='Comp1')"
=======
       "Dropdown(description='Compartment', options=('Comp1', 'Comp2', 'Comp3', 'Comp4'), value='Comp1')"
>>>>>>> Stashed changes
      ]
     },
     "metadata": {},
     "output_type": "display_data"
    },
    {
     "data": {
      "application/vnd.jupyter.widget-view+json": {
<<<<<<< Updated upstream
       "model_id": "d94b857dbc5e4746a9213588636f3a26",
=======
       "model_id": "3795c08ab2a449d6920bd769af4c34e9",
>>>>>>> Stashed changes
       "version_major": 2,
       "version_minor": 0
      },
      "text/plain": [
       "Button(button_style='info', description='View Equilibrium dynamic', style=ButtonStyle())"
      ]
     },
     "metadata": {},
     "output_type": "display_data"
    },
    {
     "data": {
<<<<<<< Updated upstream
      "application/vnd.jupyter.widget-view+json": {
       "model_id": "e7911b5fc79d4346b054b6ead4a9b608",
       "version_major": 2,
       "version_minor": 0
      },
      "text/plain": [
       "Output()"
      ]
     },
     "metadata": {},
     "output_type": "display_data"
    },
    {
     "data": {
      "application/vnd.jupyter.widget-view+json": {
       "model_id": "e7911b5fc79d4346b054b6ead4a9b608",
       "version_major": 2,
       "version_minor": 0
      },
      "text/plain": [
       "Output()"
      ]
     },
     "metadata": {},
=======
      "image/png": "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\n",
      "text/plain": [
       "<Figure size 1440x720 with 1 Axes>"
      ]
     },
     "metadata": {
      "needs_background": "light"
     },
>>>>>>> Stashed changes
     "output_type": "display_data"
    },
    {
     "data": {
<<<<<<< Updated upstream
      "image/png": "iVBORw0KGgoAAAANSUhEUgAAA9AAAAIuCAYAAABXQeA1AAAAOXRFWHRTb2Z0d2FyZQBNYXRwbG90bGliIHZlcnNpb24zLjMuMiwgaHR0cHM6Ly9tYXRwbG90bGliLm9yZy8vihELAAAACXBIWXMAAAsTAAALEwEAmpwYAABK80lEQVR4nO3dd5xddZ0//teZSZtUEkISII0FFCK9SFUQBL6yKCKIrKiLuopSFkGaoqLYgLCggAiuAuoiuvIT140NZCkGsCCdANICQkhII73OnN8fkxkyyRBOkknuTPJ8Ph73wdzPKfd9D5P7mdc973tuUZZlAAAAgFWrq3UBAAAA0BUI0AAAAFCBAA0AAAAVCNAAAABQgQANAAAAFQjQAAAAUIEADQAAABUI0AAAAFCBAA0AAAAVCNAAAABQgQANAAAAFQjQAAAAUIEADQAAABUI0AAAAFCBAA0AAAAVCNAAAABQgQANAAAAFQjQAAAAUIEADQAAABUI0AAAAFCBAA0AAAAVCNAAAABQgQANAAAAFQjQAAAAUIEADQAAABUI0AAAAFCBAA0AAAAVCNAAAABQgQANAAAAFQjQAAAAUIEADQAAABV0q3UBAABAbTU0NExeuHDh0FrXwYapV69eUxYsWDCs1nV0hKIsy1rXAAAA1FBRFKVcwLpSFEXKsixqXUdH0MINAAAAFQjQAAAAUIEADQAAABUI0AAAAFCBAA0AAAAVCNAAAABQgQANAAAAFQjQAAAAUIEADQAAABUI0AAAAFCBAA0AAAAVCNAAAABrYfTo0Rk9enSty2A9EKABAIDVUhRFiqKodRmw3gnQAAAAUIEADQAAABUI0AAAwDp144035h3veEcGDhyYXr16Zfvtt8/Xvva1LFq0qN31b7jhhuy2225paGjIkCFD8uEPfziTJk3KgQce+Lqt47///e9z+OGHZ/DgwenZs2e23nrrnHXWWXn11VdXWrflM8vz58/PWWedlZEjR6Znz57ZZpttctFFF6Usy5W2KcsyV155Zd7ylrekV69e2XLLLXPKKadk1qxZa3Vs6FqK9n45AACAjUdRFOXq5IKWEFtlm49//OO59tprM3z48Bx66KHZZJNN8qc//Sn33HNPDjzwwNx6663p1q1b6/pjx47N2WefnYEDB+bYY4/NgAEDcuutt2bmzJkZMGBAHnrooZUe94ILLsj555+fQYMG5YgjjsiQIUPy8MMP55ZbbsmYMWNy7733pn///q3rjx49OkuWLMlWW22VSZMm5ZBDDkm3bt3yy1/+MpMmTcqXv/zlnH/++W0e47TTTsvll1+ezTffPMccc0y6d++e//mf/8nAgQPz0ksvpUePHpk4cWLlY7gxKYoiZVluGB+aL8vSzc3Nzc3Nzc3NzW0jvjXHguqSlFW2ue6668ok5VFHHVXOnz+/zbLzzz+/TFJ+61vfah175plnym7dupWDBw8uX3jhhdbxpqam8rjjjmv3cf/v//6vTFLus88+5cyZM9t9/M985jNtxkeNGlUmKd/1rne1qWvKlCnlgAEDygEDBpSLFy9uHb/77rvLJOXWW29dTp8+vXV8wYIF5d57710mKUeNGvWGx2Njtez/Wc1/zzvipoUbAABYJ7797W+nW7duufbaa9PQ0NBm2Re/+MVsuummueGGG1rHfvKTn2Tp0qU59dRTM2LEiNbxoihy4YUXpr6+fqXHuPzyy5Mk//mf/5lNNtmkzbITTjghu+yyS5vHWHHb5esaMmRIjjzyyMyaNStPPvlk6/h1112XJDnvvPMyaNCg1vFevXrlm9/85hsdBjYg3d54FQAAgNUzf/78PPTQQxk8eHC+9a1vtbtOz5498/jjj7fef+CBB5Ik+++//0rrjho1KiNGjFipTfree+9N9+7d8/Of/zw///nPV9pu8eLFmTp1aqZPn55NN920dXzAgAHZZpttVlq/JbjPnDmzdez+++9PkhxwwAErrf+2t72tTQs6Gzb/pwEAgA43c+bMlGWZqVOn5itf+UqlbVouyDV06NB2lw8dOnSlAD19+vQsXbr0DR9j7ty5bQL0imerW7SE4cbGxkp11dfXt9kvGzYt3AAAQIcbMGBAkmTXXXet8hnsJGm90NeUKVPa3Wd74wMGDMjAgQPf8DFGjRq11s+lvcdvbGzM9OnT13jfdC0CNAAA0OH69u2bt7zlLXnssccyY8aMStvsuuuuSZLx48evtOz555/PP/7xj5XG995778ycOTOPPfbY2hW8CrvttluS5M4771xp2R//+McsXbp0nT02nYsADQAArBNnnHFGFi9enI997GPtfh/zzJkzWz9fnCQf/OAH061bt1xxxRVtwnJZlvnc5z7Xpq26xemnn54k+cQnPpFJkyattHzevHn505/+tFbP44QTTkiSfP3rX2/zZsDChQvzuc99bq32TdfiM9AAAMAaaQmW7bnqqqvysY99LH/7299y1VVXZeutt85hhx2WkSNHZsaMGXnuuedy11135aMf/WiuvvrqJMnWW2+dCy64IJ///Oez88475wMf+EDr90DPmDEjO++8cx5++OE2j3PwwQfnwgsvzOc+97lsu+22Ofzww7PVVltl7ty5ef7553PnnXdm//33z+9+97s1fp777bdfTj311FxxxRXZYYcdVvoe6M0333yN903XUiz/mQMAAGDjUxRFuTq5oCiKN1xn5syZrRfqGjduXK6++ur85S9/yauvvppBgwZl5MiROfTQQ/OhD30o2223XZttf/zjH+fSSy/N448/nn79+uWwww7LxRdfnEMPPTQvvvhiu2ezx48fn8svvzzjx4/PtGnTMmDAgGy55ZY56KCD8sEPfjB77LFH67qjR49OkpUuSJYkX/7yl/OVr3wlt99+ew488MDW8bIs853vfCff+c538uyzz2bTTTfNUUcdlW984xvZeeedX3d/NP++lGX5xr80XYAADQAAG7nVDdC1MHv27AwdOjS77LJL7r333lqXw2rYkAK0z0ADAACdxtSpU7NkyZI2Y0uXLs1nP/vZLFy4MEcddVSNKgNnoAEAYKPXmc5AX3311fnSl76Ud77znRkxYkRmzJiRu+66K3//+9+zyy675J577klDQ0Oty2Q1bEhnoF1EDAAA6DT22muv7L///rnrrrtav195q622ynnnnZdzzjlHeKamnIEGAICNXGc6A82GZ0M6A+0z0AAAAFCBAA0AAAAVCNAAAABQgQANAAAAFQjQAAAAUIEADQAAABUI0AAAAFCBAA0AAAAVCNAAAABQgQANAAAAFQjQAAAAUIEADQAAABUI0AAAAFCBAA0AAAAVCNAAAABQgQANAAAAFQjQAAAAUIEADQAAABUI0AAAAFCBAA0AAAAVCNAAAMAGrVzalEV3PZumeYtrXQpdXLdaFwAAALAuLbr7ubx6yi+T+iI9dtsyDe/bMT3fsU3q+vSodWl0MUVZlrWuAQAAqKGiKMqOyAVNcxZl3rV/SRqbOqCqjrP0hVez+J6JKec2n4EuendPubRJmF5PiqJIWZZFrevoCAI0AABs5DoqQC/8w1N59cz/TRY3dkBV60fRu3vKxY3p+bZ/ysDvHLVa255wwgn54Q9/mK9+9av5whe+0Dp+xx135B3veEemTp2awYMHd3TJXc6GFKC1cAMAAB2jWHZr6F7rSla2aGnStMKbBHXNma7o1zP1Ww1ao9326tUrF198cU488cRsttlma1tlkuTLX/5yJk6cmOuvv75D9kfHEaABAIAO0fPt/5QBXzks5dJO1sL9xCtZ8MtHm1u464oUvbolPbul4Z+3T8O7x6TbDsNSFGt2gvQd73hHXnzxxXz1q1/N5ZdfvtLyxsbGfPKTn8z//d//ZfLkyRk+fHg+8YlP5Mwzz0xdnWs6dzUCNAAA0CGK7vVpeM9bal3GShbdMzHz/+v+FAMb0nDEmDQcsf1ahebl1dXV5cILL8x73/venHbaadl6663bLG9qasqWW26Z//7v/85mm22Wv/zlL/nkJz+ZTTfdNB//+MfX+vFZvwRoAABgg9Zz39EZ/Nt/S/3ITTokNK/o8MMPz3777ZfzzjsvP/3pT9ss6969ey644ILW+6NHj87999+fG2+8UYDuggRoAABgg9dt1MB1uv+LL744e++9d84888yVll199dX5/ve/n+effz4LFizIkiVLMmrUqNblN9xwQ0488cTW+4sXL05Zlrnppptax6655pocf/zx6/Q58MYEaAAAgLW055575uijj84555yTL37xi63jP/vZz/KZz3wml1xySfbdd9/0798/3/nOd3LzzTe3rvOe97wne+21V+v9yy+/PC+99FIuuuii1rGhQ4eunyfCKgnQAAAAHeAb3/hGxowZk9/97netY+PHj89ee+2VU045pXXsmWeeabNdv3790q9fv9b7gwYNyuzZs7PNNtus+6JZLS77BgAA0AG22WabfPKTn8y3v/3t1rE3velNuf/++/Pb3/42Tz31VL761a/mzjvvrGGVrA0BGgAAoIN86UtfSrdurzX6nnjiiTn22GPzwQ9+MHvuuWcmTpyYz372szWskLVRlGX5xmsBAAAbrKIoSrmAdaUoipRl2fGXP68BZ6ABAACgAgEaAAAAKhCgAQAAoAIBGgAAACoQoAEAAKACARoAAAAqEKABAACgAgEaAAAAKhCgAQAAoAIBGgAAACoQoAEAAKACARoAAAAqEKABAACgAgEaAAAAKhCgAQAAoAIBGgAAACoQoAEAAKACARoAAAAqEKABAACgAgEaAAAAKhCgAQAAoAIBGgAAACoQoAEAAKACARoAAAAqEKABAIANWlNTmb8/OTWLFi2tdSl0cd1qXQAAAMC69OTjr+SH196Xuroi/7T1oOyx18hsP2ZIevYUh1g9RVmWta4BAACooaIoyo7IBQsXLslddzyXpqamDqiq40ybOi9PPjE1ixY2n4Hu2bM+jY2lML2eFEWRsiyLWtfREQRoAADYyHVUgH70kcm54Uf3p3Fp5wrQq9KzZ32WLm3K9m8Zmo98dI/V2vaEE07ItGnTMm7cuNaxcePG5dhjj83pp5+er3/96x1dbpe0IQVob7MAAAAdolh26969811qaenSpqz4HkFRJGWSHj27ZeDAhrV+jB//+Mf5t3/7t1x88cU57bTTVlr+5S9/ORMnTsz111+/1o9FbQjQAABAh3jz9kNy1DE7droW7pcnzc7f7nspixYuTVEk3XvUp76+LrvsukV222N4RozcJHV1a3eC9Nvf/nbOPvvsfP/738+HP/zhDqqczkaABgAAOkS3bnXZc68RtS5jJX9/cmruGf98Gnp379DQ3OKLX/xi/uM//iO/+MUv8s///M8dsk86JwEaAADYoG37psE589wDM3izPh0Wmlvceuut+fWvf51x48YJzxsBFxEDAICNXEddRGxjc8IJJ+SRRx7JrFmzMmjQoNxyyy3ZZJNNWpffcMMNOfHEE1vvL168OGVZpmfPnq1j11xzTY4//vj1WfZ6tyFdREyABgCAjZwAvWZarsJ9zTXX5KCDDkq/fv1y6623ZuDAgUmSOXPmZMqUKa3rX3755XnppZdy0UUXtY4NHTo0/fr1W++1r08bUoDWwg0AALAWttxyy9xxxx056KCDcvDBB+fWW2/Npptumn79+rUJx4MGDcrs2bOzzTbb1LBa1kbnu748AABAF7P55pvnjjvuyOLFi3PQQQdl2rRptS6JdUCABgAA6ABDhw7N7bffniR5xzvekVdeeaXGFdHRfAYaAAA2cj4Dzbq0IX0G2hloAAAAqECABgAAgAoEaAAAAKhAgAYAAIAKBGgAAACoQIAGAACACgRoAAAAqECABgAAgAoEaAAAAKhAgAYAAIAKBGgAAACoQIAGAACACgRoAAAAqECABgAAgAoEaAAAAKhAgAYAAIAKBGgAAACoQIAGAACACgRoAAAAqECABgAAgAoEaAAAAKhAgAYAAIAKBGgAAACoQIAGAACACgRoAABgg9bY1JS7X34mC5YurnUpdHHdal0AAADAunTHS3/Px277UbrV1WX/zbfJsdvunoOGvzkN3XrUujS6mKIsy1rXAAAA1FBRFGVH5IJ5Sxbl2gn3ZGnZ2AFVdZxnZk3Lbf94PHOWLEqS9O3eM0uaGtdLmB49enROOeWUnHnmmetk/11BURQpy7KodR0dwRloAACgQ/xx0tO57ME/ZHFT5wrQK5q7LEjf9uIT+fOU57K4cWkOHTkmV7/j+NXe15QpU/KNb3wj48aNy4svvpjBgwdnp512yqmnnprDDz+8o0unxgRoAACgQxRJihTpVd/5YsbixsY0pe1Z9roUKcsyvbp1z2YNfVd7nxMnTsx+++2Xfv365Zvf/GZ23nnnNDU15bbbbsunPvWpvPDCCx1VPp1E5/vNBgAAuqQDh785F+z9njSWTbUupY0nZk7Ozc88kDlLFqUuRRq6dU99XV2OGL1Tjt561+w5dFTqitW/vvJJJ52Usixz3333pW/f1wL49ttvn+OPX/2z2XR+AjQAANAhetZ3y/Fvfmuty1jJnS/9Pf/1xJ/Tv0evtQ7NLWbMmJHf/e53+drXvtYmPLcYOHDg2pRMJyVAAwAAG7S3b7FtbnnvaXnTJkPWKjQv7+mnn05Zltl+++07ZH90Db4HGgAA2KAVRZHtBg7rsPCcJGty1fJPfepT6du3b+uNrkeABgAAWE3bbrttiqLI448/XnmbCy64IA8++GDrja5HgAYAAFhNgwYNymGHHZYrr7wyc+fOXWn5q6++utLYkCFDss0227Te6HoEaAAAgDVw1VVXpSzL7LHHHvn5z3+eJ598Mk888US++93vZqeddqp1eawDLiIGAACwBrbaaqvcf//9+cY3vpFzzjknL730UjbddNPsvPPOueaaa2pdHuuAM9DUXNHsy0VRTCqKYkFRFHcURfGWCtsdUBTF34qiWFgUxbNFUXxqheVvKYripmXLyqIovrzOnsR6tCbHqyiK9xVFcUtRFFOLophTFMWfi6J4zwrrvL8oivuKoni1KIp5RVE8WBTFv67bZ7PuravjtcL6/7Lsd2xcxz8DoD0bw9zh9X71eL2nVjbffPNcccUVefbZZ7No0aJMmjQpv/3tb/Oud70rSTJx4sSceeaZNa6SjiJA0xmcneSzSU5NsmeSV5LcWhRFv9fboCiKrZL8Jsk9SXZN8s0kVxRFcfRyq/VOMjHJF5I8t04qr43VPl5JDkjyf0n+Oc3H6zdJbi6K4m3LrTM9ydeS7J1kpyTXJflBURSHd/gzWL/W1fFKkhRF8U9Jxib5YwfXDazaxjB3eL1fPV7vgXWuWJPLr0NHKYqiSDIpyZVlWX592VhDmie9M8uybLf3pSiKi5K8ryzLbZcb+36St5RluU876z+a5KayLL/c8c9i/VnT4/U6+/pLkj+WZfnZVaxzf5Lfl2X5ubWrvDbW9fEqiqJ7kvFJrkryjiSDy7I8ogOfAtCOjWHu8Hq/erzer72iKEq5gHWlKIqUZVnUuo6O4Aw0tbZVkmFJbmkZKMtyQZK7kuy7iu32WX6bZX6fZI9lk9yGak2PV3v6JZnZ3oJlbXAHJ3nzsn13Vev6eH09ycSyLH+4NkUCq21jmDu83q8er/fAeuEiYtTasGX/nbLC+JQkW77Bdn9oZ5tuSQYneblDqut81vR4tVEUxclJhif58QrjA5K8lKRnksYkJ5dl+ds1rrb21tnxKori0CQfSLLL2pUIrIGNYe7wer96vN4D64Uz0KxXRVEcXxTF3JZbkpZ3/FfsGSraGVtRe9u0N95ldfDxatnn0Wn+DNfxZVk+v8LiOWn+A2HPJOcluXTZmYkuYX0dr6IoBie5Psm/lmXZ7lkdoONsDHOH1/vV4/UeqBVnoFnffpXkz8vd77nsv8OS/GO58SFZ+V3k5U3Oa+82L7/N0jRfHGVD0VHHK0nrHwc/TvKRsix/teLysiybkjy97O6DRVFsn+TzSW5b/dJrYn0drx2SbJ7kD80fu0uy7A3JoiiWpvnzlE+uyRMA2rUxzB1e71eP13ugJgRo1quyLOek+V3vJK0X/Zic5JAkf1021ivJ25KctYpd3ZvkvSuMHZLkvrIsl3RgyTXVgccrRVEcm+SHaX4X/aaKJdTltT9KOr31eLz+mmTHFca+lmRgkpNT+yv3wgZlY5g7vN6vHq/3QK0I0NRUWZZlURTfSnJeURRPJPl7mr86ZG6Sn7SsVxTFj5at/5FlQ1cnOWXZttck2S/JCUn+ZblteiQZs+xuryTDiqLYJcncsixb3nXvUtb0eBVFcVya31k/M8ldRVG0nIFZXJbljGXrnJfmd/OfTfMfUYcn+XCavw6kS1pXx6ssy3lJHl3+sYqieDVJt7Is24wDHW9jmDu83q8er/fA+iJA0xlcnKQhyXfS/I7un5Mcuuzd5RYjl9+gLMvniubvq7wsyafT/NUV/16W5f+33GpbJHlguftbJzkxyZ1JDuzg57A+rfbxSvKpNP97/9ayW4vlj0XfJN9N88VTFiR5Is2tbDd2aPXr37o6XkBtbQxzh9f71eP1HljnfA80AABs5HwPNOuS74GGdWTymLE7TB4zdtta19FVnH36uDFnnz7uzbWuo6sYft25bx5+3blj3nhNYGM1eczY0ZPHjN211nV0FWefPm7E2aeP273WdXQVw687d8vh1527Z63rANacAE1n8/Mk36t1EV3IT9L89RpU88MkN9S6CKBTuyTJryePGbtBnClZD76e5Ldnnz7O8arm/CS3DL/uXH+DQxflHy+dxuQxY0cl2SrJvpPHjB1Q63o6u7NPH7d5ku2S7Hr26eMG17qezm74decOTvN3nm4//LpzN69xOUAnNHnM2JYLag1MslONy+n0zj59XPckRyXpn+bvk2YVloXm96f5c9r71bgcYA0J0HQmxyZpSrI4yXtqXEtXcEySxjR/f+l7a1tKl3BUmo9VY5Kja1wL0DkdkmRJkvosd2VuXteBSco0X4Tr+NqW0iXsl+bfre5JPlTjWoA1JEDTmXwsze/K9l32M6v28SS9k/RZ9jOr9vE0H6vecbyA9p2Q5rOp3ZN8RBv3G/pwmufs+iQf1Mb9hj6c5nmoLsmx2riha/IPl05hWfv26OWGtHGvwnLt2y20ca/Ccu3bLbRxA20s177don+0cb+u5dq3W0Jzr2jjfl3LtW+3/O1dH23c0CUJ0HQWx6a5DayFNu5Va2nfbqGNe9Va2rdbaOMGVtTSvt2iR7Rxr8qBaTtvN0Qb96q0tG+36BNt3NAlCdB0Fi3t2y20ca9aS/t2C23cq9bSvt1CGzewohPSfNa5hTbuVWtp326hjXvVWtq3W2jjhi7KP1pqrp327RbauNvRTvt2C23c7WinfbuFNm4gSbvt2y20cbejnfbtFtq429FO+3YLbdzQBQnQdAbvT9s2sBbauNu3Yvt2C23c7VuxfbuFNm6gxYrt2y20cbfvwLQ/b2vjbt+K7dsttHFDFyRA0xms2L7dQht3+1Zs326hjbt9K7Zvt9DGDbQ4IW3bt1to427fiu3bLbRxt2/F9u0W2rihC/IPlppa1r691SpW2Ucb92tW0b7dQhv3clbRvt1CGzds5FbRvt1CG/dyzj59XLe0377dQhv3clbRvt1CGzd0MQI0tfZ67dstlkQb9/Jer327hTbutl6vfbuFNm7g9dq3W2jjbusdWfW8rY27rddr326hjRu6GAGaWnu99u0W2rjber327RbauNt6vfbtFtq4gRPSfvt2C23cbb1e+3YLbdxtvV77dgtt3NDF+MdKzVRo326hjTuV2rdbaONOpfbtFtq4YSNVoX27hTbuVGrfbqGNO5Xat1to44YuRICmlt6ofbuFNu5mb9S+3UIbd7M3at9uoY0bNl5v1L7dQht3szdq326hjbvZG7Vvt9DGDV2IAE0tvVH7dgtt3M3eqH27hTbuZm/Uvt1CGzdsvE7Iqtu3W2jjbvZG7dsttHE3e6P27RbauKEL8Q+Vmpg8ZuwWSbZP89m/ltuKWsabkrxt8pixVcLjBuns08dtlmTnVDtejUn2Ovv0cRtt2/vw687dJMlbU/147bKs5RvYSEweM7Y+ze3bTXn914nllw1LMma9FdjJLAvD703zGegqx2tQkl3XV32dzfDrzi3yWndTlePVL8le66c6YG10q3UBbLQmJzktr70zu3+Sd6a5TS5J5ib5bZIHlt2fNmzCWfPXa4Wdy7Qkp+S1MyV7p7n1sOUM/rwktyT567L7M5PMXp8FdjKzkpyUZOCy+3smOTSv/b4tSHJrkj8tuz87yfT1WSBQW8MmnNU4eczYE5MMXza0XZIjkyz/5uNdaX5tTZLFSf6+/irsXC6+7Ijy7NPHnZhk9LKhbdIcEJc/Xvcm+fWyn5cmeXS9FdjJvPjRC8vh15376SRbLxsaneQDaXu8/pbk5mU/N+a1v3mATqwoyyofZYF1a/KYsacnuTBtA/Snh004679qV1Xndfbp405KcknaBujTLr7siB/UrqrOa/h15348ybfTNkCf+eJHL7yqdlUBncnkMWMPT/KTtA04Xx824awv1KikTu3s08cdnOT/S9vjddnFlx1xRo1K6tSGX3fu/knGpe3x+t6LH73wxBqVtJKiKEq5gHWlKIqUZblBfKxDCzcAAABUIEADAABABQI0AAAAVCBAAwAAQAUCNAAAAFQgQAMAAEAFAjQAAABUIEADAABABQI0AAAAVCBAAwAAQAUCNAAAAFQgQAMAAEAFAjQAAABUIEADAABABQI0AAAAVCBAAwAAQAXdal0ALKcuSdOyn3vUspAuolteO17da1lIF9E9rx0vr31Ae3rltdeJopaFdBGO1+pxvGADUJRlWesaOkxjz4bJ9YsXDq11Hay+xvq+WbDJW5cbKdN75r2pa1pYs5o6s3m9+udPO/6/1vtFyuz98G/Te9HcGlbVec3s0yv/deAuKYvX/l750B0PZtDcBTWsirXR2KPXlPpFC4bVuo4VTZuWDWdS3ciUC5ek/MX9ydKm1rHi0DEphg2oYVWd19Kljbn/volpXO54bfeWLTJwYJ8aVtV5LWlamp8+d28WNi5pHTtkix0zuu9mNayqrd12G51//OP5WpfBBqpXr15TFizofPP2mtigAnSKorx7/Ab0fABo1377F0lZdrozOAI0wMZh8GBdBBsrn4EGAACACgRoAAAAqECABgAAgAoEaAAAAKhAgAYAAIAKBGgAAACoQIAGAACACgRoAAAAqECABgAAgAoEaAAAAKhAgAYAAIAKBGgAAACoQIAGAACACgRoAAAAqECABgAAgAoEaAAAAKhAgAYAAIAKBGgAAACoQIAGAACACgRoAAAAqECABgAAgAoEaAAAAKhAgAYAAIAKBGgAAACoQIAGAACACgRoAAAAqECABgAAgAoEaAAAAKhAgAYAAIAKBGgAAACoQIAGAACACgRoAAAAqECABgAAgAoEaAAAAKhAgAYAAIAKBGgAAACoQIAGAACACgRoAAAAqECABgAAgAoEaAAAAKhAgAYAAIAKBGgAAACoQIAGAACACgRoAAAAqECABgAAgAoEaAAAAKhAgAYAAIAKBGgAAACoQIAGAACACgRoAAAAqECABgAAgAoEaAAAAKhAgAYAAIAKBGgAAACoQIAGAACACgRoAAAAqECABgAAgAoEaAAAAKhAgAYAAIAKBGgAAACoQIAGAACACgRoAAAAqECABgAAgAoEaAAAAKhAgAYAAIAKBGgAAACoQIAGAACACgRoAAAAqECABgAAgAoEaAAAAKhAgAYAAIAKBGgAAACoQIAGAACACgRoAAAAqECABgAAgAoEaAAAAKhAgAYAAIAKBGgAAACoQIAGAACACgRoAAAAqECABgAAgAoEaAAAAKhAgAYAAIAKBGgAAACoQIAGAACACgRoAAAAqECABgAAgAoEaAAAAKhAgAYAAIAKBGgAAACoQIAGAACACgRoAAAAqECABgAAgAoEaAAAAKhAgAYAAIAKBGgAAACoQIAGAACACgRoAAAAqECABgAAgAoEaAAAAKhAgAYAAIAKBGgAAACoQIAGAACACgRoAAAAqECABgAAgAoEaAAAAKhAgAYAAIAKBGgAAACoQIAGAACACgRoAAAAqECABgAAgAoEaAAAAKhAgAYAAIAKBGgAAACoQIAGAACACgRoAAAAqECABgAAgAoEaAAAAKhAgAYAAIAKBGgAAACoQIAGAACACgRoAAAAqKBbrQuAruL4//11rUvYaN3w7n+udQkANbfHJeahWrnvTPMQ0MwZaAAAAKhAgAYAAIAKBGgAAACoQIAGAACACgRoAAAAqECABgAAgAoEaAAAAKhAgAYAAIAKBGgAAACoQIAGAACACrrVugDoSp6/6Ij02/O9GXTQvyVJZv35FymXLMgm+x//utssfOHhpK57eg3ffqVl85/6c5ZMfyED9n7/GtWz5NXJmfari9O0cE56DN0mg484I0V99zXaFwCdX1edh+Y+cltm3fvTJMmAfY5L3x0PXqPHA6g1Z6BhddR3z/y/35vG+bMqb7LwhUey6KXH213We9u91viPliR59Y7r03+PI7PlJ/8zdb36ZO7Dt67xvgDoArrgPNS4YE5m3f2TDPvwpRn2kcsy6+6fpHHh3DV+TIBacgYaVkNRV59+Ox+W2ff9Twa+/SNtljXOn5UZv/9Ols6emiQZePAn0q3fppnz4G9TFHWZN+H2DHrniek1YofWbeY+8ocsnvxUBh3y6Uz79WWp69k7i19+Ko3zZmaTAz+aPtvt/7q1lGWZhS88nMHvOStJ0neHg/Pq+J+k366Hr4NnDkBn0BXnoYXP3Z9eo3dNfUO/JEmv0btm4bN/S58xB3TIMQFYn5yBhtXUb7cjMu+xO9K0aF6b8Rl/+F767XlkNv/Xy7LZUZ/L9N9enm4DhqbfLu9Kvz3emy0+ekWbP1ra0zh3RoZ+6OJsdsz5efXOH7aOT7ru1JXWbVowO3U9+6Soq0+S1PcbnMa50zvgGQLQmXW1eWjpnOmp7z+49X59v02zdI75CuianIGG1VTXs3f67nBQZt/3qxTderaOL3z+wSyZ/kLr/XLx/DQtmr9a+27Ydu8URV16DB6Zxvmvto5v8dErKu6hWK3HA6Dr6XrzULnyWqYroIsSoGEN9NvjyLx8/Wnpu+M7Xxssywz70CWp697z9Td8A20uvFKu/AfH8uoa+qdp0byUTY0p6urTOGda6vsOWuPHBqDr6ErzULd+g7PwhUda7zfOmZ7uI3dc4xoBakkLN6yB+oZ+6bPd/m0ultJr9K6Zc/+41vuLpzybJKnr0ZBy8YIOr6EoivQauWPmPzE+STL30dvSe9u9O/xxAOh8utI81Gur3bJg4gNpXDg3jQvnZsHEB9Jrq906vB6A9UGAhjXU/61HpWnB7Nb7g975ySye/HQmXXtKJn3/05nz4G+SJA3b7JX5T92bSdedmoX/eHSNHqu9z54lySYHfjSz7/tlXrrmE2laMCd9dzp0jfYPQNfTmeehRS8/lem/vTxJc9jfZN8PZPIPT8/kH56eTfY9rvWCYgBdTVG+QXtOl1IU5d3jN6DnQ6dy/P/+utYlbLRuePc/17oEOpn99i+Ssux0n6KcNq2dD3tCB9njEvNQrdx3pnmItgYPduGZjZUz0AAAAFCBAA0AAAAVCNAA0Ak1nv7fafzPP6Ysy5TzF9e6HAAgAjQAdDrlk1NSPv5yyh//KY3HfS+N7/tumh6dlKZXZqectXZXU7722quy++5bZfjwXjn44N1z771/XOX6EyY8kve854CMGNGQHXfcMpdcckE2qOunAMBq8D3QANDZLF7y2s8vN19luemkG5IBDck2Q1L/qQNSTpqZYr9tUvSoPpXffPPPct55p+Xii6/KXnvtn2uvvSrHHfeu3H33hAwfPnKl9efMmZ1jjjkk++zz9txyy1/z9NNP5tRTT0jv3n1y0kmfXeunCQBdjTPQAKxSw4SJqX91boolS9Pnr08kSbq/PD09n3s5SdL7kWdTN2d+ioWL0+f+vydJerw4NT2en9K8/MGnUzdvYermLUzvB59uXv78lPR4cWqSpM/fnkyxcHHqZ89L70eav7e257OT0v3l6UmSvn95PFmyNPUz56RhwsQkyeKG0Zk8ZuzWSTJ5zNgPTR4ztn7ymLGjJo8Ze+CysQOX3a+fPGbsh5aNbTN5zNj9lv18yOQxY7eYPGZsr8ljxn5g2dj2k8eMfeuynw+fPGbsZpPHjO03eczY9y0b23HymLG7Lfv5PZPHjB247PaeZWO7lc80P6emO55MOX9xypnz0vSn5udUTpiU8vnm59R02+MpFy9NOXVOmu5rfk7lwy+mfGlm888vz0q6tTNFz1qQ/O35NH7iR2m68Hdp/MHdafrVQ2n687OV/l9effWlOe64E/LhD38ib3rT9rnwwisydOjmue6677a7/k033ZAFC+bnyit/mO233yHvfvfROfXUc/Ld717qLDQAGyVfYwUV+Rqr2vE1VrXR87mXM/TqX6Vu4eI09eiW1NWlbv7CNPVtSLF4SdJUpuzVo3msZ/ekKFI3f1Hz8kXNZ1DLnt1TN29hmnr1SJLmffXplWLR4iRF8/K5C9LUu2dSlqlbtCRNvXulWLg4qStS9mhZ3itpakrd4qVp6t0zPSa/lLJb35eTLEyyWZKpSXouu81O0j/JomW3wUmmJemVpHuSOUkGJJmfZGmSQUmmJ2lIUp9kbpJNlv23adnPM5L0TlIkmZdk4LLHybLHmpmkTwb2HpJe3ZPZC5K+PZOmMlmwJOnXK5m/OKkvkp7dm4Nwv15JY1OyaGnzuvMXN4fmHt2SV+c3b1fVpn2Sw96S4tlpKc4/InV9eq60yuLFizNyZO9cc82NOfLI97eOn332yXniiUfzq1/dudI2J5/8kcyYMT033vja698DD/w1hx761tx337MZNWqr6jWy1nyNVe34GitW5GusNl5auAFoV7FoSepnz0vd0sbUz39tvH7hche0mtv8edz6+YvaXz5n2diC5ZYv93Pr8uW2WX5f7e2zfv7ClN36Jsnmy63Sd7mfN23n6fRb7ufBy/47aLmx/sv9vNmy/w5cbmxAO/vcZKWfZy53oOYtf5xWfk5Z/sJgcxa2s/vVMH1e8pO/pExSfuz6NI3YNJm/KHWXHJO63s1hesaMaWlsbMxmmw1ts+mQIUNz111/aHe3r7wyOZtvPrzNWMv2r7wyWYAGYKOjhRuAdi3cbmRSZ5rocmYtbD4j3b0+eWXOSouLou1Jk7IsVxp7o/XbGweAjYEz0AC0q++9j6WsK9LYq0eKpY0pu3dLGptSlGXKbvXNY3VFUhRtlidlUl+fYsnSlPX1SZHXX96tPsnyyxuTFEl93WvLy6RoakzZ7bXl3RbMTlnfsCjNLdx1aZ7PFqe5RbspSWOaW7YXprktu37Z8h5pbttuWmF5XZIlr7O8W3NRWZLmFvGWU8c90twi3jKXLk2P+gFZ9pyytLG5HXvpsufUra65XbtH83Nqs7xofs6ty1tav6vq0S05YNsUe4xKljal/t07r7TKoEGDU19fn1demdxmfOrUV1Y6K91iyJBhK60/bdorSfK62wDAhkyAhtXw/EVHpN+e782gg/4tSTLrz79IuWRBNtn/+NfdZuELDyd13dNr+PZr/fhNC+dm3oQ702+3N/4s1pJXJ2fary5O08I56TF0mww+4owU9d1XWm/uI7dl1r0/TZIM2Oe49N3x4LWukw3D/B22yotf/EiWDuqf/nc9lNkH7ZYeL01N/ax5WTBmdPr87cksGr15Gvv2St8/P545b985PZ6fkrqFi7PwzSPS98+PZ8F2I1J275Y+DzyVOfvtmJ7PTkqayizaZsv0u+fRzNt56xSNTWmY8Hzm7j0mvf7+Ysoe3bJo9LD0++PDmbvndqlbsCi9nn4p8/bcLg2PP5/Gfg3Z87ihmbz9xWck+UGSLZLsPGzCWb+cPGbs/0vy/LAJZz0+eczY05JckWTbJFsPm3DWb5Zd8OuxJC8kOXHYhLOunDxm7A5JNh824axbJ48Ze3SSv6b5M9HHD5tw1veWXTis37AJZ905eczYf0lye5qD9VHDJpx13eQxY/dKUj9swln3vPLjR8tiv62TxqaUf30+dYeOSfnQi0nPbim2G5amcQ+nOGi7ZN6ilI+8lLqDtkvT355PsUlDiq2HpOnmB1L8844p/zIxTV8dt+oQ3adHMrR/6k49KFmwJMVOW6bo3/C6q/fo0SM777x77rzz1jafgb7zzltzxBFHt7vNHnvskwsuOCcLFy5Mr169kiR33HFrhg3bIiNHjn7jXyI6nHkIoLZcRAwqOv5/f53nLzkq9X0HZfOPXJr63gMq/eHy6vgbUnRvyIC93rfWNSydNSWv3PSVbPHxq95w3am/vDC937RP+ow5INN/f2V6DPmn9Nv18DbrNC6Yk8k//EyG/eu3kqLI5OtPy7ATvp36Xn3b32mNuIgYK9pv/yIpy07XQzxtWjpsElr67iubLza2vAHNAbk45R0p3rpVigWLU2yxSeV93nzzz3LyyR/ORRddlb322i/XX391brjhBxk//rGMGDEqX/3q5/LAA3/JL35xW5Jk9uxZ2XvvN2e//Q7MGWd8Ic888/eceuoJOeus832NVQ3scYl5qFZcRIwVuYjYxssZaFgNRV19+u18WGbf9z8Z+PaPtFnWOH9WZvz+O1k6u/lrbAYe/Il067dp5jz42xRFXeZNuD2D3nlieo3Y4bVtFszJ9N9+O0tfnZyiW89s+v9OSY8hW630x86kH5yUIcecn5l3XJ+lr07OpOtOTcPoXTPwHR9rt86yLLPwhYcz+D1nJUn67nBwXh3/k5X+cFn43P3pNXrX1Dc0X1+p1+hds/DZv6XPmAM65oABa6Tp9ieTZVcyT/9eyTZDkn69Un/+u5NFS1K0XGV7YO/V2u9RR30gM2dOz2WXfS1Tpryc7bbbITfe+JuMGDEqSTJlysuZOPGZ1vX79x+Qm266Neecc3IOOWSPDBgwMCed9Nl8+tNndMjzZPWZhwBqS4CG1dRvtyMy6dpTMmCvti2PM/7wvfTb88j0Gv6WLJ39Sqb87EvZ8hNXp98u73rdd/5njb8hPYb8U4a87wtZ8PxDmfbrS7PFR6943cceeOAJWTLt+TbrTLru1JW2aVowO3U9+6Soa/4sZn2/wWmcO32l/S2dMz31/Qe33q/vt2mWzll5PWD9KnbaMjlkTDJpVurOPizFsP6vXbSr28pfUbU6Pvaxk/Kxj53U7rIrr7x+pbExY3bM//7vXWv1mHQs8xBA7QjQsJrqevZO3x0Oyuz7fpViuT9kFz7/YJZMf6H1frl4fpoWzW9vF69t8+KEbHbU55MkDaN2zvQFc9K0aN5q1bOqP3Taaq/TaOVuUxfWhdorNu2bbmcdVusy6KTMQwC1I0DDGui3x5F5+frT0nfHd742WJYZ9qFLUtd9dc4OtfdxySKpq0/zRYCXrbV0Na7Gm6SuoX+aFs1L2dSYoq4+jXOmpb7voJXW69ZvcBa+8Ejr/cY509N95I6r9VgArH/mIYDa8AWfsAbqG/qlz3b7Z+7Dt7aO9Rq9a+bcP671/uIpzyZJ6no0pFy8YKV9JEmvETtk3mO3J2m+SmpdQ//U9eydbgOGZvHk5s8hLpr8dJbOmpIkKXo0pOl19rW8oijSa+SOmf/E+CTJ3EdvS+9t91758bfaLQsmPpDGhXPTuHBuFkx8IL222q3KIQCghsxDALUhQMMa6v/Wo9K0YHbr/UHv/GQWT346k649JZO+/+nMefA3SZKGbfbK/KfuzaTrTs3CfzzaZh8D9vtg6zYz7/hhBv/z6UmS3m/aN00L52bSdadm7gO/SbeBWyRJ6hv6p+eWYzLpBydl5u3XJmn+7Fl7Njnwo5l93y/z0jWfSNOCOem706FJkkUvP5Xpv7182f76ZZN9P5DJPzw9k394ejbZ97jWC7kA0LmZhwDWP19jBRUd/7+/rnUJGy1fY8WKNoavsYIV7XGJeahWfI0VK/I1VhsvZ6ABAACgAgEaAAAAKhCgAQAAoAIBGgAAACoQoAEAAKACARoAAAAqEKABAACgAgEaAAAAKijKsqx1DR2nKMq7x29AzweAdu23f5GUZVHrOlY0bVpMQgAbgcGD0+nmINYPZ6ABAACgAgEaAAAAKhCgAQAAoAIBGgAAACoQoAEAAKACARoAAAAqEKABAACgAgEaAAAAKhCgAQAAoAIBGgAAACoQoAEAAKACARoAOqElSxprXQIAsIJutS4AAGjr8cdeyrj/eSBbDh+UHXcenm3fNCy9GnrUuiwA2Og5Aw0AncyC+YtTV1fkxX/MyB9+/1i+8+0/5Cc/uiePPPRCFi5YvFb7vvbaq7L77ltl+PBeOfjg3XPvvX9c5foTJjyS97zngIwY0ZAdd9wyl1xyQcqyXKsaAKCrcgYaADqlIknZ2sr94j9mZMrkWbnlt49m8y02WaMz0zff/LOcd95pufjiq7LXXvvn2muvynHHvSt33z0hw4ePXGn9OXNm55hjDsk++7w9t9zy1zz99JM59dQT0rt3n5x00mc76okCQJdRbFDvIhdFeff4Dej5ANTQkiVLM+XlKbUuo11v+srxufFdZx5f6zpWdMSRu97QEft57tmpeWLCpDQ2Nr3uOt2716epqVytMH3YYXtlzJidctll/9k69ta3bpt3v/uYfPGL31xp/euu+24uuOCcTJgwJQ0NDUmS//iPr+X667+bhx9+MUVRrOEzBOjaBg+OF8CNlAANQLue/vszefzRJ1PUdb6/EbrNn5NFPXrPqXUdK+reo75fR+1ryeLqFxGrEqYXL16ckSN755prbsyRR76/dfzss0/OE088ml/96s6V9nvyyR/JjBnTc+ONv24de+CBv+bQQ9+a++57NqNGbbUGzwyg6xOgN15auAFoV1kmZVmmaenrnwWtlcYevZOkw8JqR1md0Nuhj/s6bd6H/L8dstmQ/kmSGTOmpbGxMZttNrTNtkOGDM1dd/2h3f2+8srkbL758DZjLdu/8spkARqAjY6LiAHABqSpqUyKZO7chVmyZOU3P1Zsuy7LcpWt2O2t3944AGwMnIEGYJU6Y1Aqli5OU333JbWuY0V1dUX3jtpXU1P1jyTV19elKJK+/Xplh51GZPsxW2TgoD5t1hk0aHDq6+vzyiuT24xPnfrKSmelWwwZMmyl9adNeyVJXncbANiQCdAAtGvkqOHphNk5STL6yjPz67d//HO1rmNFb3/Hdpd0xH5e+seMPPvM1FVeRKxKaF5ejx49svPOu+fOO29t8xnoO++8NUcccXS72+yxxz654IJzsnDhwvTq1StJcscdt2bYsC0ycuToNXtyANCFuYgYAF3OfvsXSVl2ung/bVo6ZBK6/6/P5fbbHl8pQK9uaF7RzTf/LCef/OFcdNFV2Wuv/XL99Vfnhht+kPHjH8uIEaPy1a9+Lg888Jf84he3JUlmz56Vvfd+c/bb78CcccYX8swzf8+pp56Qs84639dYARs1FxHbeDkDDQCd2NqG5uUdddQHMnPm9Fx22dcyZcrL2W67HXLjjb/JiBGjkiRTpryciROfaV2/f/8BuemmW3POOSfnkEP2yIABA3PSSZ/Npz99Roc8NwDoapyBBqDL2dDPQD/y0D/y23EPZZOBvdc6NAPQ8ZyB3ng5Aw0AncwOOw3PqK0Gp3//hlqXAgAsx9dYAUAnUxSF8AwAnZAADQAAABUI0AAAAFCBAA0AAAAVCNAAAABQgQANAAAAFQjQAAAAUIEADQAAABUI0AAAAFCBAA0AAAAVCNAAAABQgQANAAAAFQjQAAAAUIEADQAAABUI0AAAAFCBAA0AAAAVCNAAAABQgQANAAAAFQjQAAAAUIEADQAAABUI0AAAAFCBAA0AAAAVCNAAAABQgQANAAAAFQjQANAJLWpcUusSAIAVdKt1AQBAW7+f9HA+f/9Ps+ug0Tlq5J45YOj26du9V63LAoCNnjPQANDJzFw0N3Upct/0Z/P1h2/OQbd8Nf92z/fy6xcfyNwlC9dq39dee1V2332rDB/eKwcfvHvuvfePq1x/woRH8p73HJARIxqy445b5pJLLkhZlmtVAwB0Vc5AA0AnVBRFUibzGxcnSe6b/mwmvPpivlLelJ0GjlqjM9M33/yznHfeabn44quy117759prr8pxx70rd989IcOHj1xp/TlzZueYYw7JPvu8Pbfc8tc8/fSTOfXUE9K7d5+cdNJnO+y5AkBXUWxQ7yIXRXn3+A3o+QDU0MKmxXlg3hO1LqNdb/7SB/LpTx/5gVrXsaKLdv/gzzpiP/e88mR++9JDWdy09HXX6V3fI0vLxtUK04cdtlfGjNkpl132n61jb33rtnn3u4/JF7/4zZXWv+667+aCC87JhAlT0tDQkCT5j//4Wq6//rt5+OEXm0M+wEZo8OB4AdxICdAAtGvczD/mp9N+n25Ffa1LWUn9vNmZ29Bzdq3rWFGfbj37d9S+5i9dlKozWpUwvXjx4owc2TvXXHNjjjzy/a3jZ599cp544tH86ld3rrTfk0/+SGbMmJ4bb/x169gDD/w1hx761tx337MZNWqrNXpuAF2dAL3x0sINQLuayqY0lU1ZUL7+WdCaaeiZJB0WVjvKvKWLavK4r9fm/fkd35t/6jckSTJjxrQ0NjZms82Gttl2yJChueuuP7S731demZzNNx/eZqxl+1demSxAA7DRcRExANiALGlqTFJk0vyZmbd05QuOrdh2XZblKlux21u/vXEA2Bg4Aw3A6yqT1HXCLrWicWka6+s73anx+hQdNq82Vm7gTroX9akr6rJpz755z4jd8v+23CWj+27WZp1Bgwanvr4+r7wyuc341KmvrHRWusWQIcNWWn/atFeS5HW3AYANmQANQLve3n+3lKsR4tanUd89N998/4FfqHUdKzpl+8Mu7Ij9PDTj+dwz9alVXkSsSmheXo8ePbLzzrvnzjtvbfMZ6DvvvDVHHHF0u9vsscc+ueCCc7Jw4cL06tX8meo77rg1w4ZtkZEjR6/ZkwOALsxFxADocvbbv0jKstOdGp82rWPecfjpc/fk0gm/WSlAr25oXtHNN/8sJ5/84Vx00VXZa6/9cv31V+eGG36Q8eMfy4gRo/LVr34uDzzwl/ziF7clSWbPnpW9935z9tvvwJxxxhfyzDN/z6mnnpCzzjrf11gBGzUXEdt4OQMNAJ3Y2obm5R111Acyc+b0XHbZ1zJlysvZbrsdcuONv8mIEaOSJFOmvJyJE59pXb9//wG56aZbc845J+eQQ/bIgAEDc9JJn82nP31Ghzw3AOhqnIEGoMvZ0M9A3/zCX/OVh/6/bNEwcK1DMwAdzxnojZcz0ADQybx3xB7Za/A22aL3wFqXAgAsx9dYAUAnUxSF8AwAnZAADQAAABUI0AAAAFCBAA0AAAAVCNAAAABQgQANAAAAFQjQAAAAUIEADQAAABUI0AAAAFCBAA0AAAAVCNAAAABQgQANAAAAFQjQAAAAUIEADQAAABUI0AAAAFCBAA0AAAAVCNAAAABQgQANAAAAFQjQAAAAUIEADQAAABUI0AAAAFCBAA0AAAAVCNAAAABQgQANAAAAFQjQAAAAUIEADQAAABUI0AAAAFCBAA0AAAAVCNAAAABQgQANAAAAFQjQAAAAUIEADQAAABUI0AAAAFCBAA0AAAAVCNAAAABQgQANAAAAFQjQAAAAUIEADQAAABV0q3UBsCF79NF787OfXZaHHx6fWbOmpXfvfnnTm3bLYYd9KIce+qHU19fXusQ2HnpofMaN+36eeOK+vPDCE9lss+G56aaJtS4LgLXw17/em6uvvix//vP4zJgxLX379stOO+2WY475UN7//s41FzU2Nubqqy/LH/7wmzz55GOZP39+/umfts3HPnZyPvjBj6auzrkfoLYEaFhH/vu/v5Urrjgju+12UD796YsybNiozJkzM3/5yy255JJPp2/fTfK2tx1Z6zLb+NvfbstDD/0x2223R4qiyPz5c2pdEgBr4eqrv5UvfemMvO1tB+VLX7oow4ePyqxZM3P77bfk7LM/nQEDNsm73tV55qIFCxbk0ku/lmOP/Ug++cnT0qdP3/zhD7/JGWd8Ik8//US+/OWxtS4R2MgVZVnWuoaOUxTl3eM3oOdDl/Xgg3fl1FMPzNFHn5LPfObylZa/9NIzWbBgXrbZZqcaVPf6mpqaWt/dv+CCD+Xhh8c7A02ntN/+RVKWRa3rWNG0aTEJ0Wncc89dee97D8zHP35KvvnNleei5557JvPnz8tb3tJ55qLGxsbMnj0rAwcOajP+7//+sfziFz/JU0/NTENDQ42qg9cMHpxONwexfuiDgXXgv/7rwvTvPyif/vTF7S7fcsutW8PzhAl/yWmnvTOHHNI373xnn5x22sGZMOEvbdb/+tdPyFFHDc8TT9yXT31q3xx0UEP+5V/enHvu+XWS5Kc/vTTHHDM6hx7aP+eee2RmzpzaZvv99y9yzTXn5Yc//HqOOmp4DjqoISef/PY89dSDbdbTGgew4bj88gszcOCgnH9++3PRVltt3Rqe77//Lzn66Hdm1Ki+GTWqT973voNz//1t56JTTjkhO+00PA8+eF8OP3zfjBjRkL33fnNuuaV5Lvrudy/NbruNzlZb9c+HP3xkpk1rOxdttlmRr3/9vFx66dez007DM2JEQ9797rfnkUcebF2nvr5+pfCcJLvuumcWLVqUGTOmrc0hAVhr/lqGDtbY2JgHHrgje+55aHr27LXKdZ9++uGccsoBmTNnZj7/+evzhS/8KPPmzc4ppxyQp556qM268+bNzte+9pEcccS/5RvfuDkDBw7JF75wdK644rO5//7bc8YZ38m///u3cv/9t+fSS09e6bF+//sf5U9/+k1OP/3KnHfe9ZkxY0pOO+3gzJ49o0OfPwC119jYmHvuuSMHHnhoevVa9Vz02GMP58gjD8irr87MFVdcnyuv/FHmzJmdI488II8+2nYumjNndk4++SM5/vh/y/XX35zBg4fkYx87Ol/60mczfvztufDC7+RrX/tWxo+/Peecs/Jc9N///aP84Q+/yYUXXpnLL78+U6dOydFHH5yZM1c9F91zz50ZMGCTDB26+eofDIAO5DPQ0MFmzZqWRYsWZNiwUW+47vXXX5AePXrm29++Lf36bZIk2XPPQ3LMMaNz3XVfyTe+8YvWdefPn5Mzz7w6u+zy9iTJ4MFb5IQTds4994zLf/3XhNaLwDz33KO56aYr0tjY2ObCMIsWLcill96ShoY+SZIxY/bKccdtm5/97LJ84hNf7ainD0AnMH36tCxYsCDDh7/xXHTJJc1z0S9+cVsGDNgkSXLggYdkt91G55JLvpLrr39tLpo7d07Gjr06++7bPBcNG7ZFDjxw59xyy7jcffdrc9ETTzya739/5blo4cIF+fnPb0mfPs1z0e6775W99to2V199WT73ufbnov/7v9/nf/7nv3PuuV9Nt27+dAVqyxloqKEHH7wr++57RGt4TpI+ffpn//3fkwcfvLPNug0NfVrDc5KMGrVdkmSPPd7Z5o+TkSO3S2Pj0kyf/nKb7ffe+/DW8Jwkm28+Om95y9559NF7O/IpAdDF/OlPd+XQQ49oDc9J0q9f/xx22Htyzz1t56Levfu0huck2Xbb5rno7W9vOxdtu+12Wbp0aaZMaTsXvfOdh7eG5yQZOXJ0dt9979x3X/tz0ZNPTsiJJ/5L9tvvwPz7v5+zxs8RoKMI0NDB+vffND17NmTy5OffcN05c2Zk001XbkcbNGhY5syZ2Wasb99N2tzv3r1HkqRfv4Htji9evHCFfQ5t53GGZtq0l96wTgC6lkGDNk1DQ0NefPGN56KZM2e02xo9ZMiwvPpq27lo+ZCdJD16NM85m2zS/ly0cGHbuWizzVaeizbbbGhefnnluWjixGdzzDGHZOTIrfKjH/3S2WegUxCgoYN169Ytu+56YO6779YsXrxolev26zcoM2ZMXml8xozJ6d9/5YuorI0ZM6a0OzZ48JYd+jgA1F63bt2y774H5s47b82iRaueiwYOHJRXXll5LnrllcntXtBrbUyduvJcNHXqlGy+edu5aNKkF3P00QenX7/++dnPfpd+/fp3aB0Aa0qAhnXgQx86N7NmTc9VV53V7vJJk57L008/nF12OSD33PPrNt+3PH/+nNx99/9ml10O6NCa/vSn32TBgnmt919+eWIee+xP2WGHfTr0cQDoHP7938/NjBnT8+Uvtz8XPf/8c3nssYezzz4H5NZbf525c1+bi+bOnZNbbvnf7LNPx85Ff/jDbzJv3mtz0QsvTMzf/van7LHHa3PRtGlTc/TR70yS3HTTrRk8eLMOrQFgbeiFgXVgl13enlNPvTRXXHFGJk58PIcffkKGDh2ZOXNm5r77bsu4cd/P+ef/JCec8MXcc8+4nHbawTn++HNSFEX+678uysKF83PCCV/q0Jp69mzIGWccmn/5l7OyZMmi/OAH56dPn/75wAdOb11n5syprZ+9njLlhSxcOD+3335TkmT06DHZaqsxHVoTAOvOvvu+PRdccGm+9KUz8tRTj+e4407IlluOzKxZM3PXXbflhhu+n6uv/kk++9kv5tZbx+V97zs4p57aPBddccVFWbBgfs48s2Pnol69GvL+9x+aU045K4sWLcrFF5+ffv3651Ofap6LFixYkGOPPSz/+MfEfPvb12bSpBczadKLrdu/+c1jnI0GakqAhnXk2GM/k+23f2t+9rPL8p3vnJlXX52W3r37Zbvt9shZZ12T/fZ7d+rq6nLFFXfke987L1//+r+mLMu85S1758or78y22+7cofUcdthH0tDQJ5dddkpmzZqW7bbbM1/5yk/btIo/99xj+eIX399mu5b7H/3o+fn4x7/coTUBsG596lOfyW67vTVXX31Zzj//zMyYMS19+/bLLrvskUsuuSaHHdY8F/3yl3fkG984L6ec8q9Jyuy++975n/+5Mzvs0LFz0bHHfiS9e/fJueeekhkzpmWXXfbM977309ZW8alTp+SRRx5YVvvxK23/y1/env32O7BDawJYHUVZlrWuoeMURXn3+A3o+UAH2X//Ih/5yHn55Ce/VutSoEPst3+RlGVR6zpWNG1aTELwOjbbrMjpp5+Xz3/eXETXN3hwOt0cxPrhM9AAAABQgQANAAAAFfgMNGwExvtoAwA1NnWquQjo+pyBBgAAgAoEaAAAAKhAgAYAAIAKBGgAAACoQIAGAACACgRoAAAAqECABgAAgAoEaAAAAKhAgAYAAIAKBGgAAACoQIAGAACACgRoAAAAqECABgAAgAoEaAAAAKhAgAYAAIAKirIsa11Dh2ns2TC5fvHCobWuA4B1q7FHryn1ixYMq3UdAMDGZYMK0AAAALCuaOEGAACACgRoAAAAqECABgAAgAoEaAAAAKhAgAYAAIAKBGgAAACoQIAGAACACgRoAAAAqECABgAAgAoEaAAAAKhAgAYAAIAKBGgAAACoQIAGAACACgRoAAAAqECABgAAgAoEaAAAAKhAgAYAAIAKBGgAAACoQIAGAACACgRoAAAAqECABgAAgAoEaAAAAKhAgAYAAIAKBGgAAACoQIAGAACACgRoAAAAqECABgAAgAoEaAAAAKhAgAYAAIAKBGgAAACo4P8HePzAbHEbKp8AAAAASUVORK5CYII=\n",
=======
      "image/png": "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\n",
>>>>>>> Stashed changes
      "text/plain": [
       "<Figure size 1440x720 with 1 Axes>"
      ]
     },
     "metadata": {
      "needs_background": "light"
     },
     "output_type": "display_data"
    }
   ],
   "source": [
    "#############################################################################################################\n",
    "# Widget interface\n",
    "output_equilib = widgets.Output()\n",
    "btn_equilib = widgets.Button(description =\"View Equilibrium dynamic\",button_style='info')\n",
    "drp_equilib = widgets.Dropdown(description =\"Compartment\")\n",
    "options_arr = []\n",
    "\n",
    "\n",
    "for i in range(len(comp_arr)):\n",
    "    options_arr.append(comp_arr[i].name) \n",
    "    \n",
    "drp_equilib.options = options_arr\n",
    "\n",
    "\n",
    "display(drp_equilib, btn_equilib)\n",
    "\n",
    "#############################################################################################################\n",
    "# Creating Equilibria figures\n",
    "\n",
    "\n",
    "def btn_equilib_clicked(b):\n",
    "    \n",
    "    #### Instantiating figure\n",
    "    \n",
<<<<<<< Updated upstream
    "    \n",
    "    \n",
    "    \n",
    "    \n",
    "    \n",
    "    #ISOLATING SPECIFIC COMPARTMENT\n",
    "    temp_name = drp_equilib.value \n",
    "    temp_num = 0 \n",
    "    \n",
    "    for i in range(len(comp_arr)):\n",
    "        if comp_arr[i].name == temp_name:\n",
    "            temp_num = i\n",
    "            \n",
    "    shapes_arr =[]\n",
    "    \n",
    "    with output_equilib:\n",
    "        \n",
    "        output_equilib.clear_output()\n",
    "        \n",
    "        mplt.figure(figsize=(20,10))\n",
    "        ax = mplt.gca()\n",
    "        ######### Main compartment\n",
    "\n",
    "        mainx = 32 #starting x-coordinate for main rectangle if not the last compartment\n",
    "        mainy = 4  #starting y-coordinate for main rectangle\n",
    "        main_rect = mpatches.Rectangle([mainx,mainy],20,16, fc='#c4c4ff',ec='red')\n",
    "        shapes_arr.append(main_rect)\n",
=======
    "    with output_equilib:\n",
    "        \n",
    "        mplt.ion()\n",
    "        mplt.figure(figsize=(20,10))\n",
    "\n",
    "        ax = mplt.gca()\n",
    "        \n",
    "\n",
>>>>>>> Stashed changes
    "\n",
    "        m_net_in = 0\n",
    "        m_net_out = 0\n",
    "\n",
    "\n",
<<<<<<< Updated upstream
    "        #d_Na\n",
    "        m_d_na = comp_arr[temp_num].d_na_arr[-1]*1e6\n",
    "        if m_d_na >0: #sodium coming into the compartment\n",
    "            m_na_arrow = mpatches.FancyArrow(mainx+6, mainy+16, 0, -1, width=0.2,ec='#e7298a',fc='#e7298a')\n",
    "            ax.text(mainx+5.5,mainy+13,str(round(m_d_na,2)), fontsize=14)\n",
    "            m_net_in += m_d_na #adding sodium coming in\n",
    "        else:\n",
    "            m_na_arrow = mpatches.FancyArrow(mainx+6, mainy+16, 0, +1, width=0.2,ec='#e7298a',fc='#e7298a')\n",
    "            ax.text(mainx+5.5,mainy+18,str(round(m_d_na,2)), fontsize=14)\n",
    "            m_net_out += -1*m_d_na\n",
=======
    "        #ISOLATING SPECIFIC COMPARTMENT\n",
    "        temp_name = drp_equilib.value \n",
    "        temp_num = 0 \n",
    "\n",
    "        for i in range(len(comp_arr)):\n",
    "            if comp_arr[i].name == temp_name:\n",
    "                temp_num = i\n",
    "\n",
    "        shapes_arr =[]\n",
    "\n",
    "        ######### Main compartment\n",
    "\n",
    "        mainx = 28 #starting x-coordinate for main rectangle if not the last compartment\n",
    "        mainy = 4  #starting y-coordinate for main rectangle\n",
    "        main_rect = mpatches.Rectangle([mainx,mainy],16,14, fc='#c4c4ff',ec='red')\n",
    "        shapes_arr.append(main_rect)\n",
    "\n",
    "        #d_Na\n",
    "        m_d_na = comp_arr[temp_num].d_na_arr[-1]*1e6\n",
    "        if m_d_na >0: #sodium coming into the compartment\n",
    "            m_na_arrow = mpatches.FancyArrow(mainx+4, mainy+14, 0, -2, width=0.2,ec='#e7298a',fc='#e7298a')\n",
    "            ax.text(mainx+3.5,mainy+10,str(round(m_d_na,2)), fontsize=14)\n",
    "        else:\n",
    "            m_na_arrow = mpatches.FancyArrow(mainx+4, mainy+14, 0, +2, width=0.2,ec='#e7298a',fc='#e7298a')\n",
    "            ax.text(mainx+3.5,mainy+18,str(round(m_d_na,2)), fontsize=14)\n",
>>>>>>> Stashed changes
    "        shapes_arr.append(m_na_arrow)\n",
    "\n",
    "        #d_K\n",
    "        m_d_k = comp_arr[temp_num].d_k_arr[-1]*1e6\n",
<<<<<<< Updated upstream
    "        if m_d_k >0: #potassium coming into the compartment\n",
    "            m_k_arrow = mpatches.FancyArrow(mainx+10, mainy+16, 0, -1, width=0.2,ec='#7570b3',fc='#7570b3')\n",
    "            ax.text(mainx+9.5,mainy+13,str(round(m_d_k,2)), fontsize=14)\n",
    "            m_net_in += m_d_k\n",
    "        else:\n",
    "            m_k_arrow = mpatches.FancyArrow(mainx+10, mainy+16, 0, +1, width=0.2,ec='#7570b3',fc='#7570b3')\n",
    "            ax.text(mainx+9.5,mainy+18,str(round(m_d_k,2)), fontsize=14)\n",
    "            m_net_out += -1*m_d_k\n",
=======
    "        if m_d_k >0: #sodium coming into the compartment\n",
    "            m_k_arrow = mpatches.FancyArrow(mainx+8, mainy+14, 0, -2, width=0.2,ec='#7570b3',fc='#7570b3')\n",
    "            ax.text(mainx+7.5,mainy+10,str(round(m_d_k,2)), fontsize=14)\n",
    "        else:\n",
    "            m_k_arrow = mpatches.FancyArrow(mainx+8, mainy+14, 0, +2, width=0.2,ec='#7570b3',fc='#7570b3')\n",
    "            ax.text(mainx+7.5,mainy+18,str(round(m_d_k,2)), fontsize=14)  \n",
>>>>>>> Stashed changes
    "        shapes_arr.append(m_k_arrow)\n",
    "\n",
    "\n",
    "        #d_Cl\n",
    "        m_d_cl = comp_arr[temp_num].d_cl_arr[-1]*1e6\n",
<<<<<<< Updated upstream
    "        if m_d_cl >0: #chloride coming into selected (main) compartment\n",
    "            m_cl_arrow = mpatches.FancyArrow(mainx+14, mainy+16, 0, -1, width=0.2,ec='#1b9e77',fc='#1b9e77')\n",
    "            ax.text(mainx+13.5,mainy+13,str(round(m_d_cl,2)), fontsize=14)\n",
    "            m_net_in -= m_d_cl #minus chloride coming in\n",
    "        else:\n",
    "            m_cl_arrow = mpatches.FancyArrow(mainx+14, mainy+16, 0, +1, width=0.2,ec='#1b9e77',fc='#1b9e77')\n",
    "            ax.text(mainx+13.5,mainy+18,str(round(m_d_cl,2)), fontsize=14) \n",
    "            m_net_out += m_d_cl\n",
    "        shapes_arr.append(m_cl_arrow)\n",
    "\n",
    "\n",
    "\n",
    "\n",
    "        ######## Right Compartment\n",
    "\n",
    "        rightx = mainx+22\n",
    "        righty = 4\n",
    "        right_comp=False\n",
    "        r_net_in =0\n",
    "        r_net_out =0\n",
    "\n",
    "        if temp_num+1 != len(comp_arr):   #if not the last componenent, make rectangle on right\n",
    "\n",
    "            right_comp = True\n",
    "            right_rect = mpatches.Rectangle([rightx,righty],20,16, fc='#ebebff')\n",
    "            shapes_arr.append(right_rect)\n",
    "\n",
    "            #d_Na\n",
    "            r_d_na = comp_arr[temp_num+1].d_na_arr[-1]*1e6\n",
    "            if r_d_na >0: #sodium coming into the compartment\n",
    "                r_na_arrow = mpatches.FancyArrow(rightx+6, righty+16, 0, -1, width=0.2,ec='#e7298a',fc='#e7298a')\n",
    "                ax.text(rightx+5.5,righty+13,str(round(r_d_na,2)), fontsize=14)\n",
    "                r_net_in +=r_d_na\n",
    "            else:\n",
    "                r_na_arrow = mpatches.FancyArrow(rightx+6, righty+16, 0, +1, width=0.2,ec='#e7298a',fc='#e7298a')\n",
    "                ax.text(rightx+4.5,righty+18,str(round(r_d_na,2)), fontsize=14)\n",
    "                r_net_out += -1*r_d_na\n",
    "            shapes_arr.append(r_na_arrow)\n",
    "\n",
    "            #d_K\n",
    "            r_d_k = comp_arr[temp_num+1].d_k_arr[-1]*1e6\n",
    "            if r_d_k >0: #potassium coming into the compartment\n",
    "                r_k_arrow = mpatches.FancyArrow(rightx+10, righty+16, 0, -1, width=0.2,ec='#7570b3',fc='#7570b3')\n",
    "                ax.text(rightx+9.5,righty+13,str(round(r_d_k,2)), fontsize=14)\n",
    "                r_net_in += r_d_k\n",
    "            else:\n",
    "                r_k_arrow = mpatches.FancyArrow(rightx+10, righty+16, 0, +1, width=0.2,ec='#7570b3',fc='#7570b3')\n",
    "                ax.text(rightx+7.5,righty+18,str(round(r_d_k,2)), fontsize=14) \n",
    "                r_net_out += -1*r_d_k\n",
    "            shapes_arr.append(r_k_arrow)\n",
    "\n",
    "\n",
    "            #d_Cl\n",
    "            r_d_cl = comp_arr[temp_num+1].d_cl_arr[-1]*1e6\n",
    "            if r_d_cl >0: #chloride coming into the compartment\n",
    "                r_cl_arrow = mpatches.FancyArrow(rightx+14, righty+16, 0, -1, width=0.2,ec='#1b9e77',fc='#1b9e77')\n",
    "                ax.text(rightx+13.5,righty+13,str(round(r_d_cl,2)), fontsize=14)\n",
    "                r_net_in -= r_d_cl\n",
    "            else:\n",
    "                r_cl_arrow = mpatches.FancyArrow(rightx+14, righty+16, 0, +1, width=0.2,ec='#1b9e77',fc='#1b9e77')\n",
    "                ax.text(rightx+11.5,righty+18,str(round(r_d_cl,2)), fontsize=14)  \n",
    "                r_net_out += r_d_cl\n",
    "            shapes_arr.append(r_cl_arrow)\n",
    "\n",
    "            #Right Electrodiffusion\n",
    "\n",
    "            r_ed_na = ed_arr[temp_num].bound_na_arr[-1]*1e6\n",
    "            if r_ed_na >0: \n",
    "                r_ed_na_arrow = mpatches.FancyArrow(rightx+2, righty+8, -5, 0, width=0.2,ec='#e7298a',fc='#e7298a',ls='dotted')\n",
    "                ax.text(rightx+2,righty+7.75,str(round(r_ed_na,2)), fontsize=14)\n",
    "                shapes_arr.append(r_ed_na_arrow)\n",
    "                r_net_out += r_ed_na\n",
    "                m_net_in += r_ed_na\n",
    "\n",
    "            else: #Sodium moving out of cell\n",
    "                r_ed_na_arrow = mpatches.FancyArrow(rightx-4, righty+8, +5, 0, width=0.2,ec='#e7298a',fc='#e7298a',ls ='dotted')\n",
    "                ax.text(rightx+2,righty+7.75,str(round(r_ed_na,2)), fontsize=14)\n",
    "                shapes_arr.append(r_ed_na_arrow)\n",
    "                r_net_in += -1*r_ed_na\n",
    "                m_net_out += -1*r_ed_na\n",
    "\n",
    "            r_ed_k = ed_arr[temp_num].bound_k_arr[-1]*1e6\n",
    "            if r_ed_k >0: \n",
    "                r_ed_k_arrow = mpatches.FancyArrow(rightx+2, righty+6, -5, 0, width=0.2,ec='#7570b3',fc='#7570b3')\n",
    "                ax.text(rightx-7,righty+5.75,str(round(r_ed_k,2)), fontsize=14)\n",
    "                shapes_arr.append(r_ed_k_arrow)\n",
    "                r_net_out += r_ed_k\n",
    "                m_net_in += r_ed_k\n",
    "            else:\n",
    "                r_ed_k_arrow = mpatches.FancyArrow(rightx-4, righty+6, +5, 0, width=0.2,ec='#7570b3',fc='#7570b3')\n",
    "                ax.text(rightx+2,righty+5.75,str(round(r_ed_k,2)), fontsize=14)\n",
    "                shapes_arr.append(r_ed_k_arrow)\n",
    "                r_net_in -= r_ed_k\n",
    "                m_net_out -= r_ed_k\n",
    "\n",
    "            r_ed_cl = ed_arr[temp_num].bound_cl_arr[-1]*1e6\n",
    "            if r_ed_cl >0: \n",
    "                r_ed_cl_arrow = mpatches.FancyArrow(rightx+2, righty+4, -5, 0, width=0.2,ec='#1b9e77',fc='#1b9e77')\n",
    "                ax.text(rightx-7,righty+3.75,str(round(r_ed_cl,2)), fontsize=14)\n",
    "                shapes_arr.append(r_ed_cl_arrow)\n",
    "                r_net_out -= r_ed_cl\n",
    "                m_net_in -= r_ed_cl\n",
    "            else:\n",
    "                r_ed_cl_arrow = mpatches.FancyArrow(rightx-4, righty+4, +5, 0, width=0.2,ec='#1b9e77',fc='#1b9e77')\n",
    "                ax.text(rightx+2,righty+3.75,str(round(r_ed_cl,2)), fontsize=14)\n",
    "                shapes_arr.append(r_ed_cl_arrow)\n",
    "                r_net_in += r_ed_cl\n",
    "                m_net_out += r_ed_cl\n",
    "\n",
    "            #Right Ion square:\n",
    "            r_net_rect = mpatches.Rectangle([rightx+8,righty+7],5,2.5)\n",
    "            shapes_arr.append(r_net_rect)\n",
    "            ax.text(rightx+8, righty+8.5,\"Net in: \" + str(round(r_net_in,2))) \n",
    "            ax.text(rightx+8, righty+7.5,\"Net out: \" + str(round(r_net_out,2))) \n",
    "\n",
    "\n",
    "        ######## Left Compartment\n",
    "\n",
    "        leftx = mainx-22\n",
    "        lefty=4\n",
    "        left_comp=False\n",
    "        l_net_in =0\n",
    "        l_net_out =0\n",
    "\n",
    "        if temp_num+1 != 1:   #if not the first componenent, make rectangle on left\n",
    "\n",
    "            left_comp = True\n",
    "            left_rect = mpatches.Rectangle([leftx,lefty],20,16, fc='#ebebff')\n",
    "            shapes_arr.append(left_rect) \n",
    "\n",
    "            #d_Na\n",
    "            l_d_na = comp_arr[temp_num-1].d_na_arr[-1]*1e6\n",
    "            if l_d_na >0: #sodium coming into the left compartment\n",
    "                l_na_arrow = mpatches.FancyArrow(leftx+6, lefty+16, 0, -1, width=0.2, ec='#e7298a',fc='#e7298a')\n",
    "                ax.text(leftx+5.5,lefty+13,str(round(l_d_na,2)), fontsize=14)\n",
    "                l_net_in += l_d_na\n",
    "            else:\n",
    "                l_na_arrow = mpatches.FancyArrow(leftx+6, lefty+16, 0, +1, width=0.2,ec='#e7298a',fc='#e7298a')\n",
    "                ax.text(leftx+4.5,lefty+18,str(round(l_d_na,2)), fontsize=14)\n",
    "                l_net_out += -1*l_d_na\n",
    "            shapes_arr.append(l_na_arrow)\n",
    "\n",
    "            #d_K\n",
    "            l_d_k = comp_arr[temp_num-1].d_k_arr[-1]*1e6\n",
    "            if l_d_k >0: #potassium coming into the compartment\n",
    "                l_k_arrow = mpatches.FancyArrow(leftx+10, lefty+16, 0, -1, width=0.2,ec='#7570b3',fc='#7570b3')\n",
    "                ax.text(leftx+9.5,lefty+13,str(round(l_d_k,2)), fontsize=14)\n",
    "                l_net_in += l_d_k\n",
    "            else:\n",
    "                l_k_arrow = mpatches.FancyArrow(leftx+10, lefty+16, 0, +1, width=0.2,ec='#7570b3',fc='#7570b3')\n",
    "                ax.text(leftx+8.5,lefty+18,str(round(l_d_k,2)), fontsize=14)  \n",
    "                l_net_out += -1*l_d_k\n",
    "            shapes_arr.append(l_k_arrow)\n",
    "\n",
    "\n",
    "            #d_Cl\n",
    "            l_d_cl = comp_arr[temp_num-1].d_cl_arr[-1]*1e6\n",
    "            if l_d_cl >0: #chloride coming into the compartment\n",
    "                l_cl_arrow = mpatches.FancyArrow(leftx+14, lefty+16, 0, -1, width=0.2,ec='#1b9e77',fc='#1b9e77')\n",
    "                ax.text(leftx+13.5,lefty+13,str(round(l_d_cl,2)), fontsize=14)\n",
    "                l_net_in += -1*l_d_cl\n",
    "            else:\n",
    "                l_cl_arrow = mpatches.FancyArrow(leftx+14, lefty+16, 0, +1, width=0.2,ec='#1b9e77',fc='#1b9e77')\n",
    "                ax.text(leftx+13.5,lefty+18,str(round(l_d_cl,2)), fontsize=14) \n",
    "                l_net_out += l_d_cl\n",
    "            shapes_arr.append(l_cl_arrow)\n",
    "\n",
    "\n",
    "            #Left compartment boundary (electrodiffusion):\n",
    "\n",
    "            l_ed_na = ed_arr[temp_num-1].bound_na_arr[-1]*1e6\n",
    "            if l_ed_na >0: #sodium leaving the L compartment, entering main compartment via ED\n",
    "                l_ed_na_arrow = mpatches.FancyArrow(mainx+2, mainy+8, -5, 0, width=0.2,ec='#e7298a',fc='#e7298a',hatch ='+')\n",
    "                ax.text(mainx-7,mainy+7.75,str(round(l_ed_na,2)), fontsize=14)\n",
    "                shapes_arr.append(l_ed_na_arrow)\n",
    "                l_net_in += l_ed_na\n",
    "                m_net_out += l_ed_na\n",
    "            else: # sodium entering via ED\n",
    "                l_ed_na_arrow = mpatches.FancyArrow(mainx-4, mainy+8, +5, 0, width=0.2,ec='#e7298a',fc='#e7298a',ls =':')\n",
    "                ax.text(mainx+2,mainy+7.75,str(round(l_ed_na,2)), fontsize=14)\n",
    "                shapes_arr.append(l_ed_na_arrow)\n",
    "                l_net_out -= l_ed_na\n",
    "                m_net_in -= l_ed_na\n",
    "\n",
    "            l_ed_k = ed_arr[temp_num-1].bound_k_arr[-1]*1e6\n",
    "            if l_ed_k >0: #K leaving the compartment via ED\n",
    "                l_ed_k_arrow = mpatches.FancyArrow(mainx+2, mainy+6, -5, 0, width=0.2,ec='#7570b3',fc='#7570b3')\n",
    "                ax.text(mainx-7,mainy+5.75,str(round(l_ed_k,2)), fontsize=14)\n",
    "                shapes_arr.append(l_ed_k_arrow)\n",
    "                l_net_in += l_ed_k\n",
    "                m_net_out += l_ed_k\n",
    "            else:\n",
    "                l_ed_k_arrow = mpatches.FancyArrow(mainx-4, mainy+6, +5, 0, width=0.2,ec='#7570b3',fc='#7570b3')\n",
    "                ax.text(mainx+2,mainy+5.75,str(round(l_ed_k,2)), fontsize=14)\n",
    "                shapes_arr.append(l_ed_k_arrow)\n",
    "                l_net_out -= l_ed_k\n",
    "                m_net_in -= l_ed_k\n",
    "\n",
    "            l_ed_cl = ed_arr[temp_num-1].bound_cl_arr[-1]*1e6\n",
    "            if l_ed_cl >0: #sodium coming into the compartment\n",
    "                l_ed_cl_arrow = mpatches.FancyArrow(mainx+2, mainy+4, -5, 0, width=0.2,ec='#1b9e77',fc='#1b9e77')\n",
    "                ax.text(mainx-7,mainy+3.75,str(round(l_ed_cl,2)), fontsize=14)\n",
    "                shapes_arr.append(l_ed_cl_arrow)\n",
    "                l_net_in -= l_ed_cl\n",
    "                m_net_out -= l_ed_cl\n",
    "            else:\n",
    "                l_ed_cl_arrow = mpatches.FancyArrow(mainx-4, mainy+4, +5, 0, width=0.2,ec='#1b9e77',fc='#1b9e77')\n",
    "                ax.text(mainx+2,mainy+3.75,str(round(l_ed_cl,2)), fontsize=14)\n",
    "                shapes_arr.append(l_ed_cl_arrow)\n",
    "                l_net_out += l_ed_cl\n",
    "                m_net_in += l_ed_cl\n",
    "\n",
    "\n",
    "\n",
    "            #Left Ion square:\n",
    "            l_net_rect = mpatches.Rectangle([leftx+8,lefty+7],5,2.5)\n",
    "            shapes_arr.append(l_net_rect)\n",
    "            ax.text(leftx+8, lefty+8.5,\"Net in: \" + str(round(l_net_in,2))) \n",
    "            ax.text(leftx+8, lefty+7.5,\"Net out: \" + str(round(l_net_out,2))) \n",
    "\n",
    "        #Net Ion square:\n",
    "        m_net_rect = mpatches.Rectangle([mainx+8,mainy+7],5,2.5)\n",
    "        shapes_arr.append(m_net_rect)\n",
    "        ax.text(mainx+8, mainy+8.5,\"Net in: \" + str(round(m_net_in,2))) \n",
    "        ax.text(mainx+8, mainy+7.5,\"Net out: \" + str(round(m_net_out,2))) \n",
    "\n",
    "\n",
    "\n",
    "        ######### legend\n",
    "        leg_rect = mpatches.Rectangle([70,20],8,10, fc='white', ec='black')\n",
    "        shapes_arr.append(leg_rect)\n",
    "        ax.text(70.5,28.5,\"Legend\", fontsize=20)\n",
    "        leg_na_arrow = mpatches.FancyArrow(71, 27, 2, 0, width=0.1,ec='#e7298a',fc='#e7298a')\n",
    "        shapes_arr.append(leg_na_arrow)\n",
    "        ax.text(74,26.5,\"Na+\", fontsize=14)\n",
    "        leg_k_arrow = mpatches.FancyArrow(71, 25, 2, 0, width=0.1,ec='#7570b3',fc='#7570b3')\n",
    "        shapes_arr.append(leg_k_arrow)\n",
    "        ax.text(74,24.5,\"K+\", fontsize=14)\n",
    "        leg_cl_arrow = mpatches.FancyArrow(71, 23, 2, 0, width=0.1,ec='#1b9e77',fc='#1b9e77')\n",
    "        shapes_arr.append(leg_cl_arrow)\n",
    "        ax.text(74,22.5,\"Cl-\", fontsize=14)\n",
    "\n",
    "\n",
    "\n",
    "\n",
    "\n",
    "\n",
    "        for j in range(len(shapes_arr)):\n",
    "            ax.add_patch(shapes_arr[j])\n",
=======
    "        if m_d_cl >0: #sodium coming into the compartment\n",
    "            m_cl_arrow = mpatches.FancyArrow(mainx+12, mainy+14, 0, -2, width=0.2,ec='#1b9e77',fc='#1b9e77')\n",
    "            ax.text(mainx+11.5,mainy+10,str(round(m_d_cl,2)), fontsize=14)\n",
    "        else:\n",
    "            m_cl_arrow = mpatches.FancyArrow(mainx+12, mainy+14, 0, +2, width=0.2,ec='#1b9e77',fc='#1b9e77')\n",
    "            ax.text(mainx+11.5,mainy+18,str(round(m_d_cl,2)), fontsize=14)  \n",
    "        shapes_arr.append(m_cl_arrow)\n",
>>>>>>> Stashed changes
    "\n",
    "        \n",
    "\n",
    "        ax.text(mainx+8.5,mainy+1,temp_name, fontsize=16)\n",
    "\n",
<<<<<<< Updated upstream
    "        if left_comp == True: \n",
    "            ax.text(leftx+8.5,lefty+1,comp_arr[temp_num-1].name, fontsize=16)\n",
    "\n",
    "        if right_comp == True: \n",
    "            ax.text(rightx+8.5,righty+1,comp_arr[temp_num+1].name, fontsize=16)\n",
    "\n",
    "        mplt.axis(\"Scaled\")\n",
    "        #ax.text(mainx,30,\"**All values are in 10^6 mM\", fontsize=16)\n",
    "        ax.axis(\"off\")\n",
    "        \n",
    "        #mplt.show()\n",
    "\n",
=======
    "\n",
    "\n",
    "        ######## Right Compartment\n",
    "\n",
    "        rightx = mainx+18\n",
    "        righty = 4\n",
    "        right_comp=False\n",
    "\n",
    "        if temp_num+1 != len(comp_arr):   #if not the last componenent, make rectangle on right\n",
    "\n",
    "            right_comp = True\n",
    "            right_rect = mpatches.Rectangle([rightx,righty],16,14, fc='#ebebff')\n",
    "            shapes_arr.append(right_rect)\n",
    "\n",
    "            #d_Na\n",
    "            r_d_na = comp_arr[temp_num+1].d_na_arr[-1]*1e6\n",
    "            if r_d_na >0: #sodium coming into the compartment\n",
    "                r_na_arrow = mpatches.FancyArrow(rightx+4, righty+14, 0, -2, width=0.2,ec='#e7298a',fc='#e7298a')\n",
    "                ax.text(rightx+3.5,righty+10,str(round(r_d_na,2)), fontsize=14)\n",
    "            else:\n",
    "                r_na_arrow = mpatches.FancyArrow(rightx+4, righty+14, 0, +2, width=0.2,ec='#e7298a',fc='#e7298a')\n",
    "                ax.text(rightx+3.5,righty+18,str(round(r_d_na,2)), fontsize=14)\n",
    "            shapes_arr.append(r_na_arrow)\n",
    "\n",
    "            #d_K\n",
    "            r_d_k = comp_arr[temp_num+1].d_k_arr[-1]*1e6\n",
    "            if r_d_k >0: #potassium coming into the compartment\n",
    "                r_k_arrow = mpatches.FancyArrow(rightx+8, righty+14, 0, -2, width=0.2,ec='#7570b3',fc='#7570b3')\n",
    "                ax.text(rightx+7.5,righty+10,str(round(r_d_k,2)), fontsize=14)\n",
    "            else:\n",
    "                r_k_arrow = mpatches.FancyArrow(rightx+8, righty+14, 0, +2, width=0.2,ec='#7570b3',fc='#7570b3')\n",
    "                ax.text(rightx+7.5,righty+18,str(round(r_d_k,2)), fontsize=14)  \n",
    "            shapes_arr.append(r_k_arrow)\n",
    "\n",
    "\n",
    "            #d_Cl\n",
    "            r_d_cl = comp_arr[temp_num+1].d_cl_arr[-1]*1e6\n",
    "            if r_d_cl >0: #chloride coming into the compartment\n",
    "                r_cl_arrow = mpatches.FancyArrow(rightx+12, righty+14, 0, -2, width=0.2,ec='#1b9e77',fc='#1b9e77')\n",
    "                ax.text(rightx+11.5,righty+10,str(round(r_d_cl,2)), fontsize=14)\n",
    "            else:\n",
    "                r_cl_arrow = mpatches.FancyArrow(rightx+12, righty+14, 0, +2, width=0.2,ec='#1b9e77',fc='#1b9e77')\n",
    "                ax.text(rightx+11.5,righty+18,str(round(r_d_cl,2)), fontsize=14)  \n",
    "            shapes_arr.append(r_cl_arrow)\n",
    "\n",
    "            #Right compartment boundary (electrodiffusion):\n",
    "\n",
    "            r_ed_na = ed_arr[temp_num].bound_na_arr[-1]*1e6\n",
    "            if r_ed_na >0: #sodium coming into the compartment\n",
    "                r_ed_na_arrow = mpatches.FancyArrow(rightx+2, righty+8, -5, 0, width=0.2,ec='#e7298a',fc='#e7298a',ls='dotted')\n",
    "                ax.text(rightx-7,righty+7.75,str(round(r_ed_na,2)), fontsize=14)\n",
    "            else:\n",
    "                r_ed_na_arrow = mpatches.FancyArrow(rightx-2, righty+8, +5, 0, width=0.2,ec='#e7298a',fc='#e7298a',ls ='dotted')\n",
    "                ax.text(rightx+7,righty+7.75,str(round(r_ed_na,2)), fontsize=14)\n",
    "            shapes_arr.append(r_ed_na_arrow)\n",
    "\n",
    "            r_ed_k = ed_arr[temp_num].bound_k_arr[-1]*1e6\n",
    "            if r_ed_k >0: #sodium coming into the compartment\n",
    "                r_ed_k_arrow = mpatches.FancyArrow(rightx+2, righty+6, -5, 0, width=0.2,ec='#7570b3',fc='#7570b3')\n",
    "                ax.text(rightx-7,righty+5.75,str(round(r_ed_k,2)), fontsize=14)\n",
    "            else:\n",
    "                r_ed_k_arrow = mpatches.FancyArrow(rightx-2, righty+6, +5, 0, width=0.2,ec='#7570b3',fc='#7570b3')\n",
    "                ax.text(rightx+7,righty+5.75,str(round(r_ed_k,2)), fontsize=14)\n",
    "            shapes_arr.append(r_ed_k_arrow)\n",
    "\n",
    "            r_ed_cl = ed_arr[temp_num].bound_cl_arr[-1]*1e6\n",
    "            if r_ed_cl >0: #sodium coming into the compartment\n",
    "                r_ed_cl_arrow = mpatches.FancyArrow(rightx+2, righty+4, -5, 0, width=0.2,ec='#1b9e77',fc='#1b9e77')\n",
    "                ax.text(rightx-7,righty+3.75,str(round(r_ed_cl,2)), fontsize=14)\n",
    "            else:\n",
    "                r_ed_cl_arrow = mpatches.FancyArrow(rightx-4, righty+4, +5, 0, width=0.2,ec='#1b9e77',fc='#1b9e77')\n",
    "                ax.text(rightx+3,righty+3.75,str(round(r_ed_cl,2)), fontsize=14)\n",
    "            shapes_arr.append(r_ed_cl_arrow)\n",
    "\n",
    "\n",
    "\n",
    "\n",
    "\n",
    "\n",
    "\n",
    "\n",
    "        ######## Left Compartment\n",
    "\n",
    "        leftx = mainx-18\n",
    "        lefty=4\n",
    "        left_comp=False\n",
    "\n",
    "        if temp_num+1 != 1:   #if not the first componenent, make rectangle on left\n",
    "\n",
    "            left_comp = True\n",
    "            left_rect = mpatches.Rectangle([leftx,lefty],16,14, fc='#ebebff')\n",
    "            shapes_arr.append(left_rect) \n",
    "\n",
    "            #d_Na\n",
    "            l_d_na = comp_arr[temp_num-1].d_na_arr[-1]*1e6\n",
    "            if l_d_na >0: #sodium coming into the compartment\n",
    "                l_na_arrow = mpatches.FancyArrow(leftx+4, lefty+14, 0, -2, width=0.2,ec='#e7298a',fc='#e7298a')\n",
    "                ax.text(leftx+3.5,lefty+10,str(round(l_d_na,2)), fontsize=14)\n",
    "            else:\n",
    "                l_na_arrow = mpatches.FancyArrow(leftx+4, lefty+14, 0, +2, width=0.2,ec='#e7298a',fc='#e7298a')\n",
    "                ax.text(leftx+3.5,lefty+18,str(round(l_d_na,2)), fontsize=14)\n",
    "            shapes_arr.append(l_na_arrow)\n",
    "\n",
    "            #d_K\n",
    "            l_d_k = comp_arr[temp_num-1].d_k_arr[-1]*1e6\n",
    "            if l_d_k >0: #potassium coming into the compartment\n",
    "                l_k_arrow = mpatches.FancyArrow(leftx+8, lefty+14, 0, -2, width=0.2,ec='#7570b3',fc='#7570b3')\n",
    "                ax.text(leftx+7.5,lefty+10,str(round(l_d_k,2)), fontsize=14)\n",
    "            else:\n",
    "                l_k_arrow = mpatches.FancyArrow(leftx+8, lefty+14, 0, +2, width=0.2,ec='#7570b3',fc='#7570b3')\n",
    "                ax.text(leftx+7.5,lefty+18,str(round(l_d_k,2)), fontsize=14)  \n",
    "            shapes_arr.append(l_k_arrow)\n",
    "\n",
    "\n",
    "            #d_Cl\n",
    "            l_d_cl = comp_arr[temp_num-1].d_cl_arr[-1]*1e6\n",
    "            if l_d_cl >0: #chloride coming into the compartment\n",
    "                l_cl_arrow = mpatches.FancyArrow(leftx+12, lefty+14, 0, -2, width=0.2,ec='#1b9e77',fc='#1b9e77')\n",
    "                ax.text(leftx+11.5,lefty+10,str(round(l_d_cl,2)), fontsize=14)\n",
    "            else:\n",
    "                l_cl_arrow = mpatches.FancyArrow(leftx+12, lefty+14, 0, +2, width=0.2,ec='#1b9e77',fc='#1b9e77')\n",
    "                ax.text(leftx+11.5,lefty+18,str(round(l_d_cl,2)), fontsize=14)  \n",
    "            shapes_arr.append(l_cl_arrow)\n",
    "\n",
    "\n",
    "            #Left compartment boundary (electrodiffusion):\n",
    "\n",
    "            l_ed_na = ed_arr[temp_num-1].bound_na_arr[-1]*1e6\n",
    "            if l_ed_na >0: #sodium coming into the compartment\n",
    "                l_ed_na_arrow = mpatches.FancyArrow(mainx+2, mainy+8, -5, 0, width=0.2,ec='#e7298a',fc='#e7298a',hatch ='+')\n",
    "                ax.text(mainx-7,mainy+7.75,str(round(l_ed_na,2)), fontsize=14)\n",
    "            else:\n",
    "                l_ed_na_arrow = mpatches.FancyArrow(mainx-2, mainy+8, +5, 0, width=0.2,ec='#e7298a',fc='#e7298a',ls =':')\n",
    "                ax.text(mainx+7,mainy+7.75,str(round(l_ed_na,2)), fontsize=14)\n",
    "            shapes_arr.append(l_ed_na_arrow)\n",
    "\n",
    "            l_ed_k = ed_arr[temp_num-1].bound_k_arr[-1]*1e6\n",
    "            if l_ed_k >0: #sodium coming into the compartment\n",
    "                l_ed_k_arrow = mpatches.FancyArrow(mainx+2, mainy+6, -5, 0, width=0.2,ec='#7570b3',fc='#7570b3')\n",
    "                ax.text(mainx-7,mainy+5.75,str(round(l_ed_k,2)), fontsize=14)\n",
    "            else:\n",
    "                l_ed_k_arrow = mpatches.FancyArrow(mainx-2, mainy+6, +5, 0, width=0.2,ec='#7570b3',fc='#7570b3')\n",
    "                ax.text(mainx+7,mainy+5.75,str(round(l_ed_k,2)), fontsize=14)\n",
    "            shapes_arr.append(l_ed_k_arrow)\n",
    "\n",
    "            l_ed_cl = ed_arr[temp_num-1].bound_cl_arr[-1]*1e6\n",
    "            if l_ed_cl >0: #sodium coming into the compartment\n",
    "                l_ed_cl_arrow = mpatches.FancyArrow(mainx+2, mainy+4, -5, 0, width=0.2,ec='#1b9e77',fc='#1b9e77')\n",
    "                ax.text(mainx-7,mainy+3.75,str(round(l_ed_cl,2)), fontsize=14)\n",
    "            else:\n",
    "                l_ed_cl_arrow = mpatches.FancyArrow(mainx-4, mainy+4, +5, 0, width=0.2,ec='#1b9e77',fc='#1b9e77')\n",
    "                ax.text(mainx+3,mainy+3.75,str(round(l_ed_cl,2)), fontsize=14)\n",
    "            shapes_arr.append(l_ed_cl_arrow)\n",
    "\n",
    "\n",
    "\n",
    "\n",
    "\n",
    "\n",
    "\n",
    "\n",
    "\n",
    "\n",
    "\n",
    "\n",
    "\n",
    "\n",
    "\n",
    "\n",
    "\n",
    "        ######### legend\n",
    "        leg_rect = mpatches.Rectangle([70,20],8,10, fc='white', ec='black')\n",
    "        shapes_arr.append(leg_rect)\n",
    "        ax.text(70.5,28.5,\"Legend\", fontsize=20)\n",
    "        leg_na_arrow = mpatches.FancyArrow(71, 27, 2, 0, width=0.1,ec='#e7298a',fc='#e7298a')\n",
    "        shapes_arr.append(leg_na_arrow)\n",
    "        ax.text(74,26.5,\"Na+\", fontsize=14)\n",
    "        leg_k_arrow = mpatches.FancyArrow(71, 25, 2, 0, width=0.1,ec='#7570b3',fc='#7570b3')\n",
    "        shapes_arr.append(leg_k_arrow)\n",
    "        ax.text(74,24.5,\"K+\", fontsize=14)\n",
    "        leg_cl_arrow = mpatches.FancyArrow(71, 23, 2, 0, width=0.1,ec='#1b9e77',fc='#1b9e77')\n",
    "        shapes_arr.append(leg_cl_arrow)\n",
    "        ax.text(74,22.5,\"Cl-\", fontsize=14)\n",
    "\n",
    "\n",
    "\n",
    "\n",
    "\n",
    "\n",
    "        for j in range(len(shapes_arr)):\n",
    "            ax.add_patch(shapes_arr[j])\n",
    "\n",
    "        #ax.text(13.5, 12, 'Na', fontsize=16)\n",
    "\n",
    "        ax.text(mainx+6.5,mainy+1,temp_name, fontsize=16)\n",
    "\n",
    "        if left_comp == True: \n",
    "            ax.text(leftx+6.5,lefty+1,comp_arr[temp_num-1].name, fontsize=16)\n",
    "\n",
    "        if right_comp == True: \n",
    "            ax.text(rightx+6.5,righty+1,comp_arr[temp_num+1].name, fontsize=16)\n",
    "\n",
    "        mplt.axis(\"Scaled\")\n",
    "        #ax.text(0,30,\"**All values are in 10^6 mM\", fontsize=16)\n",
    "        ax.set_title(temp_name+\": Equilibrium Dynamics\",fontsize=24)\n",
    "        ax.axis(\"off\")\n",
    "        \n",
>>>>>>> Stashed changes
    "    \n",
    "#############################################################################################################    \n",
    "# Connecting button to backend\n",
    "\n",
    "btn_equilib.on_click(btn_equilib_clicked)\n",
    "display(output_equilib)\n"
   ]
  },
  {
   "cell_type": "code",
   "execution_count": null,
   "metadata": {},
   "outputs": [],
   "source": []
  }
 ],
 "metadata": {
  "colab": {
   "authorship_tag": "ABX9TyNvA/g06WRyf+z+DY1D61E0",
   "include_colab_link": true,
   "name": "Multicompartment Sim V1.ipynb",
   "provenance": []
  },
  "extensions": {
   "jupyter_dashboards": {
    "activeView": "grid_default",
    "version": 1,
    "views": {
     "grid_default": {
      "cellMargin": 10,
      "defaultCellHeight": 20,
      "maxColumns": 12,
      "name": "grid",
      "type": "grid"
     },
     "report_default": {
      "name": "report",
      "type": "report"
     }
    }
   }
  },
  "kernelspec": {
   "display_name": "Python 3",
   "language": "python",
   "name": "python3"
  },
  "language_info": {
   "codemirror_mode": {
    "name": "ipython",
    "version": 3
   },
   "file_extension": ".py",
   "mimetype": "text/x-python",
   "name": "python",
   "nbconvert_exporter": "python",
   "pygments_lexer": "ipython3",
   "version": "3.8.5"
  }
 },
 "nbformat": 4,
 "nbformat_minor": 4
}
