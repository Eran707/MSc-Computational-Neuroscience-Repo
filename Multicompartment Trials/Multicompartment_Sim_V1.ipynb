{
 "cells": [
  {
   "cell_type": "markdown",
   "metadata": {
    "colab_type": "text",
    "extensions": {
     "jupyter_dashboards": {
      "version": 1,
      "views": {
       "grid_default": {},
       "report_default": {}
      }
     }
    },
    "id": "view-in-github"
   },
   "source": [
    "<a href=\"https://colab.research.google.com/github/Eran707/MSc-Computational-Neuroscience-Repo/blob/master/Multicompartment_Sim_V1.ipynb\" target=\"_parent\"><img src=\"https://colab.research.google.com/assets/colab-badge.svg\" alt=\"Open In Colab\"/></a>"
   ]
  },
  {
   "cell_type": "markdown",
   "metadata": {
    "extensions": {
     "jupyter_dashboards": {
      "version": 1,
      "views": {
       "grid_default": {},
       "report_default": {}
      }
     }
    },
    "id": "wOh7eT3qJET3"
   },
   "source": [
    "# **Neural Multicompartment Simulator**\n",
    "\n",
    "**Eran Frank Shorer**\n",
    "\n",
    "**MSc Computational Neuroscience**\n",
    "\n",
    "**\"Investigating the effects of impermeant anions on the electrical and computational properties of neurons\"**\n",
    "\n",
    "\n"
   ]
  },
  {
   "cell_type": "markdown",
   "metadata": {
    "extensions": {
     "jupyter_dashboards": {
      "version": 1,
      "views": {
       "grid_default": {},
       "report_default": {}
      }
     }
    }
   },
   "source": [
    "## Instructions:\n",
    "\n",
    "This jupyter notebook consists of cells. Some cells are plain text, while others are code. \n",
    "\n",
    "Press Shift-Enter simultaneously, or click the cell and press the play button in the main toolbar above to run the cell. \n",
    "\n",
    "The output of the cell should be displayed below the cell. \n",
    "\n"
   ]
  },
  {
   "cell_type": "markdown",
   "metadata": {
    "extensions": {
     "jupyter_dashboards": {
      "version": 1,
      "views": {
       "grid_default": {},
       "report_default": {}
      }
     }
    },
    "id": "D1Rx72GZLHeg"
   },
   "source": [
    "## **Import classes and modules** \n"
   ]
  },
  {
   "cell_type": "code",
   "execution_count": 1,
   "metadata": {
    "colab": {
     "base_uri": "https://localhost:8080/",
     "height": 367
    },
    "extensions": {
     "jupyter_dashboards": {
      "version": 1,
      "views": {
       "grid_default": {},
       "report_default": {}
      }
     }
    },
    "id": "NvJTcjQCJKbg",
    "outputId": "7183f5e7-ee74-4e38-d5d4-b0a87a8ba314",
    "tags": [
     "hide-input"
    ]
   },
   "outputs": [
    {
     "name": "stdout",
     "output_type": "stream",
     "text": [
      "All relevant classes imported\n"
     ]
    }
   ],
   "source": [
    "import pandas as pd\n",
    "\n",
    "try:\n",
    "    from ipywidgets import widgets, Layout, interact, interactive, interactive_output, Dropdown\n",
    "    from IPython.display import display\n",
    "    import bqplot as bqp\n",
    "    from bqplot import pyplot as plt # bqplot is a plotting for jupyter\n",
    "    import matplotlib.pyplot as mplt\n",
    "    import common\n",
    "    import constants\n",
    "    import compartment\n",
    "    import electrodiffusion\n",
    "    import numpy as np\n",
    "    import random\n",
    "    import seaborn as sns \n",
    "    import pandas as pd\n",
    "    import graphing as gr\n",
    "    #!pip install viola\n",
    "    ########## Modules required for artist drawing on matplotlib\n",
    "    import matplotlib.path as mpath\n",
    "    import matplotlib.lines as mlines\n",
    "    import matplotlib.patches as mpatches\n",
    "    from matplotlib.collections import PatchCollection\n",
    "    \n",
    "  \n",
    "    \n",
    "    \n",
    "except ModuleNotFoundError:\n",
    "        print(\"A class you are trying to import is not present in the directory\")\n",
    "    \n",
    "except Exception:\n",
    "        print(\"Something went wrong - modules have not been imported\")\n",
    "\n",
    "else: \n",
    "        print(\"All relevant classes imported\")\n",
    "    \n",
    "\n",
    "\n",
    "\n"
   ]
  },
  {
   "cell_type": "markdown",
   "metadata": {
    "extensions": {
     "jupyter_dashboards": {
      "version": 1,
      "views": {
       "grid_default": {},
       "report_default": {}
      }
     }
    },
    "id": "J3jjSLF4Lhuf"
   },
   "source": [
    "## **Set simulation parameters**"
   ]
  },
  {
   "cell_type": "markdown",
   "metadata": {
    "extensions": {
     "jupyter_dashboards": {
      "version": 1,
      "views": {
       "grid_default": {},
       "report_default": {}
      }
     }
    },
    "id": "7OExdRbPxshW"
   },
   "source": [
    "\n",
    "## *A) Compartment parameters*"
   ]
  },
  {
   "cell_type": "markdown",
   "metadata": {
    "extensions": {
     "jupyter_dashboards": {
      "version": 1,
      "views": {
       "grid_default": {},
       "report_default": {}
      }
     }
    }
   },
   "source": [
    "### A1) Set compartment parameters:"
   ]
  },
  {
   "cell_type": "code",
   "execution_count": 2,
   "metadata": {
    "extensions": {
     "jupyter_dashboards": {
      "version": 1,
      "views": {
       "grid_default": {},
       "report_default": {}
      }
     }
    }
   },
   "outputs": [
    {
     "data": {
      "application/vnd.jupyter.widget-view+json": {
       "model_id": "628f863198b742cca7a5946d8d328754",
       "version_major": 2,
       "version_minor": 0
      },
      "text/plain": [
       "Output()"
      ]
     },
     "metadata": {},
     "output_type": "display_data"
    },
    {
     "data": {
      "application/vnd.jupyter.widget-view+json": {
       "model_id": "a534fd5000e04343a07149727f25436b",
       "version_major": 2,
       "version_minor": 0
      },
      "text/plain": [
       "VBox(children=(HBox(children=(Label(value='Compartment Name: '), Text(value='Comp1'))), HBox(children=(Label(v…"
      ]
     },
     "metadata": {},
     "output_type": "display_data"
    }
   ],
   "source": [
    "### WIDGET INITIALIZATION ################################################################################\n",
    "txt_name = widgets.Text(value=\"Comp1\")\n",
    "lbl_name = widgets.Label(value =\"Compartment Name: \")\n",
    "name_box = widgets.HBox(children = [lbl_name,txt_name])\n",
    "\n",
    "\n",
    "lbl_rad = widgets.Label(value = \"Compartment Radius (um): \")\n",
    "sldr_rad = widgets.FloatSlider(value=5, min=1, max=11.0, step=0.5, disabled=False, continuous_update=False,\n",
    "    orientation='horizontal', readout=True, readout_format='.1f')\n",
    "rad_box = widgets.HBox(children = [lbl_rad,sldr_rad])\n",
    "\n",
    "lbl_len = widgets.Label(value = \"Compartment Length (um): \")\n",
    "sldr_len = widgets.FloatSlider(value=25, min=0, max=200, step=20, disabled=False, continuous_update=False,\n",
    "    orientation='horizontal', readout=True, readout_format='.1f')\n",
    "len_box = widgets.HBox(children = [lbl_len,sldr_len])\n",
    "\n",
    "lbl_nai = widgets.Label(value = \"Na+ concentration (mM): \")\n",
    "sldr_nai = widgets.FloatSlider(value=14, min=0, max=100, step=10, disabled=False, continuous_update=False,\n",
    "    orientation='horizontal', readout=True, readout_format='.1f')\n",
    "hbox_nai = widgets.HBox(children = [lbl_nai,sldr_nai])\n",
    "\n",
    "lbl_ki = widgets.Label(value = \"K+ concentration (mM): \")\n",
    "sldr_ki = widgets.FloatSlider(value=122, min=0, max=250, step=5, disabled=False, continuous_update=False,\n",
    "    orientation='horizontal', readout=True, readout_format='.1f')\n",
    "hbox_ki = widgets.HBox(children = [lbl_ki,sldr_ki])\n",
    "\n",
    "lbl_cli = widgets.Label(value = \"Cl- concentration (mM): \")\n",
    "sldr_cli = widgets.FloatSlider(value=5, min=0, max=50, step=5, disabled=False, continuous_update=False,\n",
    "    orientation='horizontal', readout=True, readout_format='.1f')\n",
    "hbox_cli = widgets.HBox(children = [lbl_cli,sldr_cli])\n",
    "\n",
    "lbl_xi = widgets.Label(value = \"Impermeant anion concentration (mM): \")\n",
    "sldr_xi = widgets.FloatSlider(value=150, min=0, max=300, step=10, disabled=False, continuous_update=False,\n",
    "    orientation='horizontal', readout=True, readout_format='.1f')\n",
    "hbox_xi = widgets.HBox(children = [lbl_xi,sldr_xi])\n",
    "\n",
    "lbl_zi = widgets.Label(value = \"Impermeant anion average charge: \")\n",
    "sldr_zi = widgets.FloatSlider(value=-0.85, min=-3, max=0, step=0.05, disabled=False, continuous_update=False,\n",
    "    orientation='horizontal', readout=True, readout_format='.1f')\n",
    "hbox_zi = widgets.HBox(children = [lbl_zi,sldr_zi])\n",
    "\n",
    "########################################################################################################\n",
    "\n",
    "\n",
    "global name, comp_arr, df_sim\n",
    "\n",
    "\n",
    "#CREATION OF THE PANDAS DATA FRAME THAT WILL KEEP TRACK OF ALL THE VARIABLES IN REAL TIME\n",
    "df_sim = pd.DataFrame()\n",
    "\n",
    "comp_arr =[]\n",
    "\n",
    "output1 = widgets.Output()\n",
    "\n",
    "\n",
    "btn_new_comp = widgets.Button(description = \"Create Compartment\",button_style =\"success\")\n",
    "btn_defaults = widgets.Button(description = \"Reset to defaults\")\n",
    "hbox_btns = widgets.HBox(children = [btn_new_comp, btn_defaults])\n",
    "\n",
    "\n",
    "\n",
    "def new_comp_clicked(b):\n",
    "    \n",
    "    name = txt_name.value\n",
    "    for j in range (len(comp_arr)):\n",
    "        if name == comp_arr[j].name:\n",
    "            txt_name.color = 'red'\n",
    "            raise Exception(\"Two compartments cannot have the same name\")\n",
    "    new_comp = compartment.Compartment(name,radius=sldr_rad.value*1e-5, length=sldr_len.value*1e-5,p=1)\n",
    "    new_comp.set_ion_properties(na_i=sldr_nai.value*1e-3, k_i = sldr_ki.value*1e-3, cl_i=sldr_cli.value*1e-3,x_i=sldr_xi.value*1e-3, z_i=sldr_zi.value)\n",
    "    comp_arr.append(new_comp)\n",
    "    arr_df = new_comp.get_df_array()\n",
    "    df_sim[name] = arr_df\n",
    "    df_sim.index = ['Radius', 'Length', 'Volume', 'Na_i', 'K_i', 'Cl_i', 'X_i', 'z_i', 'ATPase pump rate','KCC2 pump rate','Vm', 'Ek', 'ECl']\n",
    "    with output1:\n",
    "        print(\"Compartment: (\"+ new_comp.name +\") created\" )\n",
    "        print(new_comp.get_df_array())\n",
    "      \n",
    "btn_new_comp.on_click(new_comp_clicked)\n",
    "\n",
    "def btn_defaults_clicked(b):\n",
    "    \n",
    "    \n",
    "    sldr_rad.value=5\n",
    "    sldr_len.value = 25\n",
    "    sldr_nai.value= 14\n",
    "    sldr_ki.value = 122\n",
    "    sldr_cli.value = 5\n",
    "    sldr_xi.value = 150\n",
    "    sldr_zi.value = -0.85\n",
    "    \n",
    "btn_defaults.on_click(btn_defaults_clicked)\n",
    "\n",
    "\n",
    "vbox_grand = widgets.VBox(children = [name_box,rad_box,len_box, hbox_nai,hbox_ki,hbox_cli,hbox_xi,hbox_zi,hbox_btns], layout=Layout(border =\"solid\"))\n",
    "\n",
    "display(output1,vbox_grand)\n",
    "\n",
    "\n",
    "\n",
    "\n",
    "\n"
   ]
  },
  {
   "cell_type": "markdown",
   "metadata": {
    "extensions": {
     "jupyter_dashboards": {
      "version": 1,
      "views": {
       "grid_default": {},
       "report_default": {}
      }
     }
    }
   },
   "source": [
    "### A2) Review & edit compartments"
   ]
  },
  {
   "cell_type": "code",
   "execution_count": 3,
   "metadata": {
    "extensions": {
     "jupyter_dashboards": {
      "version": 1,
      "views": {
       "grid_default": {},
       "report_default": {}
      }
     }
    }
   },
   "outputs": [
    {
     "data": {
      "application/vnd.jupyter.widget-view+json": {
       "model_id": "b6552a8a07dc41af9a28c56a0789db36",
       "version_major": 2,
       "version_minor": 0
      },
      "text/plain": [
       "Button(button_style='success', description='Review compartments', style=ButtonStyle())"
      ]
     },
     "metadata": {},
     "output_type": "display_data"
    },
    {
     "data": {
      "application/vnd.jupyter.widget-view+json": {
       "model_id": "a3076f3def054a1091e0d63c8bb7ecd3",
       "version_major": 2,
       "version_minor": 0
      },
      "text/plain": [
       "Output()"
      ]
     },
     "metadata": {},
     "output_type": "display_data"
    },
    {
     "data": {
      "application/vnd.jupyter.widget-view+json": {
       "model_id": "b394ef53069b4d799378fffba6557e3b",
       "version_major": 2,
       "version_minor": 0
      },
      "text/plain": [
       "Button(button_style='success', description='Edit compartments', style=ButtonStyle())"
      ]
     },
     "metadata": {},
     "output_type": "display_data"
    },
    {
     "data": {
      "application/vnd.jupyter.widget-view+json": {
       "model_id": "debb2f23c52840308764eb2ac518ed25",
       "version_major": 2,
       "version_minor": 0
      },
      "text/plain": [
       "Output()"
      ]
     },
     "metadata": {},
     "output_type": "display_data"
    }
   ],
   "source": [
    "btn_review = widgets.Button(description = \"Review compartments\", button_style =\"success\")\n",
    "output2 = widgets.Output()\n",
    "display(btn_review,output2)\n",
    "\n",
    "\n",
    "\n",
    "def btn_review_clicked(b):\n",
    "    output2.clear_output()\n",
    "    with output2:\n",
    "        display(df_sim)\n",
    "\n",
    "btn_review.on_click(btn_review_clicked)       \n",
    "\n",
    "\n",
    "\n",
    "\n",
    "btn_edit = widgets.Button(description = \"Edit compartments\", button_style =\"success\")\n",
    "output3 = widgets.Output()\n",
    "display(btn_edit,output3)\n",
    "\n",
    "btn_save_edit = widgets.Button(description = \"Save change\", button_style =\"success\",visible='false')\n",
    "\n",
    "\n",
    "def btn_edit_clicked(b):\n",
    "    \n",
    "    output3.clear_output()\n",
    "    opts_comp =[]\n",
    "    for i in range(len(comp_arr)):\n",
    "        opts_comp.append(comp_arr[i].name)\n",
    "\n",
    "    global drp_comp,drp_param,txt_new_val\n",
    "    drp_comp=widgets.Dropdown(options=opts_comp,description='Compartment:',visible='false')\n",
    "    opts_param=df_sim.index.array[0:10]\n",
    "    drp_param=widgets.Dropdown(options=opts_param, description='Parameter:', visible='false')\n",
    "\n",
    "    txt_new_val=widgets.Text(value='', description='New value:', visible='false')\n",
    "     \n",
    "\n",
    "    \n",
    "    drp_param.visible =\"true\"\n",
    "    drp_comp.visible =\"true\"\n",
    "    txt_new_val.visible=\"true\"\n",
    "    btn_save_edit.visible ='true'\n",
    "    \n",
    "    with output3:\n",
    "        display(drp_comp,drp_param,txt_new_val,btn_save_edit)\n",
    "  \n",
    "\n",
    "\n",
    "\n",
    "\n",
    "btn_edit.on_click(btn_edit_clicked)\n",
    "\n",
    "\n",
    "\n",
    "\n",
    "def btn_save_edit_clicked(b):\n",
    "    comp = drp_comp.value\n",
    "    param = drp_param.value\n",
    "    change = txt_new_val.value\n",
    "    \n",
    "    df_sim.loc[param,comp] = change\n",
    "    output2.clear_output()\n",
    "    output3.clear_output()\n",
    "    with output3:\n",
    "        display(df_sim)\n",
    "\n",
    "btn_save_edit.on_click(btn_save_edit_clicked)  \n",
    "\n"
   ]
  },
  {
   "cell_type": "markdown",
   "metadata": {
    "extensions": {
     "jupyter_dashboards": {
      "version": 1,
      "views": {
       "grid_default": {},
       "report_default": {}
      }
     }
    }
   },
   "source": [
    "### A3) Multicompartment visualization\n"
   ]
  },
  {
   "cell_type": "code",
   "execution_count": 4,
   "metadata": {
    "extensions": {
     "jupyter_dashboards": {
      "version": 1,
      "views": {
       "grid_default": {},
       "report_default": {}
      }
     }
    }
   },
   "outputs": [
    {
     "data": {
      "application/vnd.jupyter.widget-view+json": {
       "model_id": "6b87aadb193b47c2b768d134da1443b7",
       "version_major": 2,
       "version_minor": 0
      },
      "text/plain": [
       "Button(button_style='success', description='Visualize compartments', style=ButtonStyle())"
      ]
     },
     "metadata": {},
     "output_type": "display_data"
    },
    {
     "data": {
      "application/vnd.jupyter.widget-view+json": {
       "model_id": "cc9c3a6ce31c4671867bdb13e0c0a1b1",
       "version_major": 2,
       "version_minor": 0
      },
      "text/plain": [
       "Output()"
      ]
     },
     "metadata": {},
     "output_type": "display_data"
    }
   ],
   "source": [
    "btn_visualize = widgets.Button(description = \"Visualize compartments\",button_style =\"success\")\n",
    "\n",
    "output4 = widgets.Output()\n",
    "display(btn_visualize,output4)\n",
    "\n",
    "\n",
    "\n",
    "\n",
    "\n",
    "\n",
    "def btn_visualize_clicked(b):\n",
    "    \n",
    "    \n",
    "    output4.clear_output(\n",
    "    ) \n",
    "   \n",
    "    for i in range(df_sim.shape[1]):\n",
    "        \n",
    "        hgt = str(df_sim.loc['Length',comp_arr[i].name] *80000)+\"px\"\n",
    "        wdth = str(df_sim.loc['Radius',comp_arr[i].name]*5000000)+\"px\"\n",
    "        btn = widgets.Button(layout=Layout(height = hgt, width =wdth,border=\"solid\"), disabled =True,description =comp_arr[i].name)\n",
    "        btn.style.button_color = 'brown'\n",
    "        with output4:\n",
    "            display(btn)\n",
    "        \n",
    "\n",
    "            \n",
    "\n",
    "btn_visualize.on_click(btn_visualize_clicked)\n",
    "\n",
    "\n",
    "\n",
    "\n"
   ]
  },
  {
   "cell_type": "markdown",
   "metadata": {
    "extensions": {
     "jupyter_dashboards": {
      "version": 1,
      "views": {
       "grid_default": {},
       "report_default": {}
      }
     }
    },
    "id": "8EvQGJHdLq4u"
   },
   "source": [
    "## *B) Timing*"
   ]
  },
  {
   "cell_type": "code",
   "execution_count": 5,
   "metadata": {
    "extensions": {
     "jupyter_dashboards": {
      "version": 1,
      "views": {
       "grid_default": {},
       "report_default": {}
      }
     }
    },
    "id": "SDuN6AyqJc63"
   },
   "outputs": [
    {
     "data": {
      "application/vnd.jupyter.widget-view+json": {
       "model_id": "7c8c8545b85d4dd7938826f2ac806a4f",
       "version_major": 2,
       "version_minor": 0
      },
      "text/plain": [
       "VBox(children=(HBox(children=(Label(value='Set the simulation run time (minutes):'), FloatSlider(value=1.0, co…"
      ]
     },
     "metadata": {},
     "output_type": "display_data"
    }
   ],
   "source": [
    "global total_t,dt,t_arr\n",
    "\n",
    "### TOTAL TIME\n",
    "lbl_total_t = widgets.Label(value=\"Set the simulation run time (minutes):\")\n",
    "\n",
    "sldr_total_t = widgets.FloatSlider(value=1, min=0.5, max=30, step=0.5, disabled=False, continuous_update=False, orientation='horizontal',\n",
    "    readout=True, readout_format='.1f')\n",
    "HBox_total_t = widgets.HBox(children = [lbl_total_t,sldr_total_t])\n",
    "\n",
    "\n",
    "### TIME STEP\n",
    "lbl_dt = widgets.Label(value=\"Set the simulation time step (milliseconds):\")\n",
    "sldr_dt = widgets.FloatSlider(value=1, min=1, max=5, step=0.2, disabled=False, continuous_update=False, orientation='horizontal',\n",
    "    readout=True, readout_format='.1f')\n",
    "HBox_dt = widgets.HBox(children = [lbl_dt,sldr_dt])\n",
    "\n",
    "    \n",
    "t_arr = [0]\n",
    "\n",
    "\n",
    "vbox_t = widgets.VBox([HBox_total_t,HBox_dt], layout=Layout(border='solid'))\n",
    "\n",
    "\n",
    "\n",
    "display(vbox_t)\n",
    "\n",
    "\n",
    "#print(\"Set total simulation time (minutes):\")\n",
    "\n",
    "#print(\"Set time step (milliseconds):\")\n",
    "\n"
   ]
  },
  {
   "cell_type": "markdown",
   "metadata": {
    "extensions": {
     "jupyter_dashboards": {
      "version": 1,
      "views": {
       "grid_default": {},
       "report_default": {}
      }
     }
    },
    "id": "y_tTzubJxzoc",
    "pycharm": {
     "name": "#%% md\n"
    }
   },
   "source": [
    "## *C) Run Simulation*"
   ]
  },
  {
   "cell_type": "code",
   "execution_count": 6,
   "metadata": {
    "extensions": {
     "jupyter_dashboards": {
      "version": 1,
      "views": {
       "grid_default": {},
       "report_default": {}
      }
     }
    },
    "jupyter": {
     "outputs_hidden": false
    },
    "pycharm": {
     "name": "#%%\n"
    }
   },
   "outputs": [
    {
     "data": {
      "application/vnd.jupyter.widget-view+json": {
       "model_id": "b02b5aa6ca0b4b3eafc03b8e00efbb5a",
       "version_major": 2,
       "version_minor": 0
      },
      "text/plain": [
       "Output()"
      ]
     },
     "metadata": {},
     "output_type": "display_data"
    },
    {
     "data": {
      "application/vnd.jupyter.widget-view+json": {
       "model_id": "30e913129d9043b0b89aa80bc1b0cba4",
       "version_major": 2,
       "version_minor": 0
      },
      "text/plain": [
       "Output()"
      ]
     },
     "metadata": {},
     "output_type": "display_data"
    },
    {
     "data": {
      "application/vnd.jupyter.widget-view+json": {
       "model_id": "ea14af7269974aa79e55768773477e2a",
       "version_major": 2,
       "version_minor": 0
      },
      "text/plain": [
       "Button(button_style='danger', description='Run Simulation', style=ButtonStyle())"
      ]
     },
     "metadata": {},
     "output_type": "display_data"
    }
   ],
   "source": [
    "\n",
    "btn_sim = widgets.Button(description =\"Run Simulation\", button_style=\"Danger\",disabled=False)\n",
    "output5 = widgets.Output()\n",
    "output6 = widgets.Output()\n",
    "output7 = widgets.Output()\n",
    "display(output6, output7, btn_sim)\n",
    "\n",
    "global SIM_OVER\n",
    "SIM_OVER = False\n",
    "\n",
    "def btn_sim_clicked(b):\n",
    "  \n",
    "    \n",
    "    ###ESTABLISHING ELECTRODIFFUSION LINK\n",
    "    \n",
    "    global ed_arr\n",
    "    ed_arr = [] # array of all the electro-diffusion links between the compartments\n",
    "    ed_dict_arr = [] # array of all the electro-diffusion dictionaries (constantly changing)\n",
    "    ed_conc_changes_arr = []\n",
    "    for e in range(len(comp_arr)-1):\n",
    "        ed_arr.append(electrodiffusion.Electrodiffusion(comp_arr[e],comp_arr[e+1]))\n",
    "    with output5:\n",
    "        print(\"All compartments successfully linked\")\n",
    "    \n",
    "    ##########\n",
    "    \n",
    "    \n",
    "    \n",
    "    \n",
    "    global dt,total_t\n",
    "    dt=sldr_dt.value*1e-3\n",
    "    total_t= sldr_total_t.value *60\n",
    "    interval = total_t/dt\n",
    "    run_t=0\n",
    "  \n",
    "    prg = widgets.FloatProgress(description='Simulating...', min=0,step=dt,max=total_t,value=0,continuous_update=True)\n",
    "    with output6:\n",
    "        display(prg)\n",
    "    \n",
    "    ED_ON = True\n",
    "    \n",
    "\n",
    "    while run_t < total_t:\n",
    "\n",
    "        \n",
    "        if ED_ON:\n",
    "\n",
    "            ed_dict_arr = []  # array of all the electro-diffusion dictionaries (constantly changing)\n",
    "            ed_conc_changes_arr = []\n",
    "\n",
    "\n",
    "            for a in range(len(comp_arr)):\n",
    "                comp_arr[a].step(dt)  # step for each compartment\n",
    "                ed_dict_arr.append(comp_arr[a].get_ed_dict())  # electrodiffusion dictionary for each compartment\n",
    "\n",
    "            for b in range(len(comp_arr) - 1):\n",
    "                ed_conc_changes_arr.append(\n",
    "                    ed_arr[b].calc_ed(dt, ed_dict_arr[b], ed_dict_arr[b + 1]))  # makes an array of all the ED conc changes\n",
    "\n",
    "            for c in range(len(comp_arr) - 1):\n",
    "                comp_arr[c].ed_update(ed_conc_changes_arr[c],\n",
    "                                      \"positive\")  # appending the electrodiffusion concentrations for each compartment\n",
    "                comp_arr[c + 1].ed_update(ed_conc_changes_arr[c], \"negative\")\n",
    "\n",
    "            for d in range(len(comp_arr)):\n",
    "                comp_arr[d].update_volumes()  # updates of the volumes, arrays, and dataframe for each compartment\n",
    "                if run_t != 0:\n",
    "                    comp_arr[d].update_arrays()\n",
    "                df_sim[comp_arr[d].name] = comp_arr[d].get_df_array()\n",
    "            \n",
    "            if run_t != 0:\n",
    "                t_arr.append(run_t)\n",
    "                \n",
    "            run_t += dt\n",
    "            prg.value += dt  \n",
    "\n",
    "        else: # if you want to run with normal diffusion not ED\n",
    "            for a in range(len(comp_arr)):\n",
    "                comp_arr[a].step(dt)\n",
    "                comp_arr[a].update_volumes()  # updates of the volumes, arrays, and dataframe for each compartment\n",
    "                comp_arr[a].update_arrays()\n",
    "                df_sim[comp_arr[a].name] = comp_arr[d].get_df_array()\n",
    "    \n",
    "       \n",
    "    SIM_OVER = True\n",
    "    btn_sim.disabled=True\n",
    "    lbl_finalvals = widgets.Label(value=\"Final Values:\")\n",
    "    with output7:  \n",
    "        print(\"Simulation complete!\")\n",
    "        display(lbl_finalvals,df_sim)\n",
    "        \n",
    "        \n",
    "\n",
    "\n",
    "\n",
    "\n",
    "        \n",
    "btn_sim.on_click(btn_sim_clicked)  \n",
    "\n"
   ]
  },
  {
   "cell_type": "markdown",
   "metadata": {
    "extensions": {
     "jupyter_dashboards": {
      "version": 1,
      "views": {
       "grid_default": {},
       "report_default": {}
      }
     }
    },
    "jupyter": {
     "outputs_hidden": false
    },
    "pycharm": {
     "name": "#%%\n"
    }
   },
   "source": [
    "## 4) Graphing\n"
   ]
  },
  {
   "cell_type": "code",
   "execution_count": 7,
   "metadata": {
    "extensions": {
     "jupyter_dashboards": {
      "version": 1,
      "views": {
       "grid_default": {},
       "report_default": {}
      }
     }
    }
   },
   "outputs": [
    {
     "data": {
      "text/html": [
       "<div>\n",
       "<style scoped>\n",
       "    .dataframe tbody tr th:only-of-type {\n",
       "        vertical-align: middle;\n",
       "    }\n",
       "\n",
       "    .dataframe tbody tr th {\n",
       "        vertical-align: top;\n",
       "    }\n",
       "\n",
       "    .dataframe thead th {\n",
       "        text-align: right;\n",
       "    }\n",
       "</style>\n",
       "<table border=\"1\" class=\"dataframe\">\n",
       "  <thead>\n",
       "    <tr style=\"text-align: right;\">\n",
       "      <th></th>\n",
       "      <th>Comp1</th>\n",
       "      <th>Comp2</th>\n",
       "    </tr>\n",
       "  </thead>\n",
       "  <tbody>\n",
       "    <tr>\n",
       "      <th>Radius</th>\n",
       "      <td>4.919134e-05</td>\n",
       "      <td>4.990213e-05</td>\n",
       "    </tr>\n",
       "    <tr>\n",
       "      <th>Length</th>\n",
       "      <td>2.500000e-04</td>\n",
       "      <td>2.500000e-04</td>\n",
       "    </tr>\n",
       "    <tr>\n",
       "      <th>Volume</th>\n",
       "      <td>1.900497e-12</td>\n",
       "      <td>1.955816e-12</td>\n",
       "    </tr>\n",
       "    <tr>\n",
       "      <th>Na_i</th>\n",
       "      <td>3.254335e-03</td>\n",
       "      <td>3.253808e-03</td>\n",
       "    </tr>\n",
       "    <tr>\n",
       "      <th>K_i</th>\n",
       "      <td>1.336161e-01</td>\n",
       "      <td>1.338875e-01</td>\n",
       "    </tr>\n",
       "    <tr>\n",
       "      <th>Cl_i</th>\n",
       "      <td>5.149724e-03</td>\n",
       "      <td>9.146257e-03</td>\n",
       "    </tr>\n",
       "    <tr>\n",
       "      <th>X_i</th>\n",
       "      <td>1.549723e-01</td>\n",
       "      <td>1.505890e-01</td>\n",
       "    </tr>\n",
       "    <tr>\n",
       "      <th>z_i</th>\n",
       "      <td>-8.500000e-01</td>\n",
       "      <td>-8.500000e-01</td>\n",
       "    </tr>\n",
       "    <tr>\n",
       "      <th>ATPase pump rate</th>\n",
       "      <td>1.036427e-04</td>\n",
       "      <td>1.036427e-04</td>\n",
       "    </tr>\n",
       "    <tr>\n",
       "      <th>KCC2 pump rate</th>\n",
       "      <td>2.072854e-08</td>\n",
       "      <td>2.072854e-08</td>\n",
       "    </tr>\n",
       "    <tr>\n",
       "      <th>Vm</th>\n",
       "      <td>-6.791544e-02</td>\n",
       "      <td>-6.740461e-02</td>\n",
       "    </tr>\n",
       "    <tr>\n",
       "      <th>Ek</th>\n",
       "      <td>-9.734401e-02</td>\n",
       "      <td>-9.739824e-02</td>\n",
       "    </tr>\n",
       "    <tr>\n",
       "      <th>ECl</th>\n",
       "      <td>-8.392650e-02</td>\n",
       "      <td>-6.857462e-02</td>\n",
       "    </tr>\n",
       "  </tbody>\n",
       "</table>\n",
       "</div>"
      ],
      "text/plain": [
       "                         Comp1         Comp2\n",
       "Radius            4.919134e-05  4.990213e-05\n",
       "Length            2.500000e-04  2.500000e-04\n",
       "Volume            1.900497e-12  1.955816e-12\n",
       "Na_i              3.254335e-03  3.253808e-03\n",
       "K_i               1.336161e-01  1.338875e-01\n",
       "Cl_i              5.149724e-03  9.146257e-03\n",
       "X_i               1.549723e-01  1.505890e-01\n",
       "z_i              -8.500000e-01 -8.500000e-01\n",
       "ATPase pump rate  1.036427e-04  1.036427e-04\n",
       "KCC2 pump rate    2.072854e-08  2.072854e-08\n",
       "Vm               -6.791544e-02 -6.740461e-02\n",
       "Ek               -9.734401e-02 -9.739824e-02\n",
       "ECl              -8.392650e-02 -6.857462e-02"
      ]
     },
     "metadata": {},
     "output_type": "display_data"
    },
    {
     "data": {
      "application/vnd.jupyter.widget-view+json": {
       "model_id": "ac9c5514c38840629ea7d36d4b40f0ec",
       "version_major": 2,
       "version_minor": 0
      },
      "text/plain": [
       "HBox(children=(VBox(children=(Dropdown(description='Compartment:', options=('ALL COMPARTMENTS', 'Comp1', 'Comp…"
      ]
     },
     "metadata": {},
     "output_type": "display_data"
    },
    {
     "data": {
      "application/vnd.jupyter.widget-view+json": {
       "model_id": "f7cf0504f46346508bd370c8ba4a9b90",
       "version_major": 2,
       "version_minor": 0
      },
      "text/plain": [
       "Button(button_style='success', description='Graph it!', style=ButtonStyle())"
      ]
     },
     "metadata": {},
     "output_type": "display_data"
    },
    {
     "data": {
      "application/vnd.jupyter.widget-view+json": {
       "model_id": "1b4d98abf9fa40fe97621b02acc59841",
       "version_major": 2,
       "version_minor": 0
      },
      "text/plain": [
       "Output()"
      ]
     },
     "metadata": {},
     "output_type": "display_data"
    }
   ],
   "source": [
    "display(df_sim)\n",
    "SIM_OVER == True ## * Just for testing purposes\n",
    "\n",
    "#graphing module can onlt be accessed once the simulation is complete\n",
    "\n",
    "    ##### User interface:\n",
    "    \n",
    "drp_comp = widgets.Dropdown(description='Compartment:')\n",
    "\n",
    "options_drp_comp = []\n",
    "options_drp_comp.append('ALL COMPARTMENTS')\n",
    "for i in range(len(comp_arr)):\n",
    "    options_drp_comp.append(comp_arr[i].name)\n",
    "\n",
    "drp_comp.options = options_drp_comp    \n",
    "\n",
    "\n",
    "\n",
    "drp_param = widgets.Dropdown(description='Parameter:')\n",
    "options_drp_param = ['Membrane Potential (Vm)','Cl- Reversal Potential (E-Cl)', 'K+ Reversal Potential (E-K)',''\n",
    "                        ,'Volume (pL)','',\n",
    "                         'All ion concentrations','Na+ Conc.','K+ Conc.','Cl- Conc.','Impermeant anion Conc.']\n",
    "\n",
    "\n",
    "drp_param.options = options_drp_param\n",
    "\n",
    "intervals = len(t_arr) #amount of time points simulated\n",
    "\n",
    "sldr_start = widgets.FloatSlider(description='Start time (s)',min=0,step=dt,max=total_t, value=20)\n",
    "sldr_bins = widgets.FloatSlider(description='Bins',min=50,step=50,max=intervals, value=1000)\n",
    "\n",
    "\n",
    "\n",
    "\n",
    "hbox_graph = widgets.HBox()\n",
    "vbox_graph1 = widgets.VBox()\n",
    "vbox_graph2 = widgets.VBox()\n",
    "vbox_graph1.children =[drp_comp,drp_param]\n",
    "vbox_graph2.children =[sldr_start,sldr_bins]\n",
    "hbox_graph.children = [vbox_graph1,vbox_graph2]\n",
    "\n",
    "btn_main_graph = widgets.Button(description='Graph it!',button_style='success')\n",
    "output10 = widgets.Output()\n",
    "display(hbox_graph,btn_main_graph,output10)\n",
    "\n",
    "number_of_colors = len(comp_arr)\n",
    "\n",
    "color_arr = [\"#\"+''.join([random.choice('0123456789ABCDEF') for j in range(6)])\n",
    "             for i in range(number_of_colors)]\n",
    "\n",
    "def plot_main_graph(param='',comp_num=0,all_comps =False,jump=1):\n",
    "    \n",
    "        \n",
    "        \n",
    "        \n",
    "       \n",
    "        \n",
    "        \n",
    "        start_t = int(sldr_start.value * 1000)\n",
    "        x_arr = t_arr \n",
    "    \n",
    "        bins = sldr_bins.value #bins required\n",
    "        jump = round(intervals/bins)\n",
    "        \n",
    "        x_sc = bqp.LinearScale()\n",
    "        y_sc = bqp.LinearScale()\n",
    "        col_sc = bqp.ColorScale(scheme=\"RdYlGn\")\n",
    "        ax_x = bqp.Axis(scale = x_sc, label=\"Time(s)\", min= start_t, max=t_arr[-1])\n",
    "        ax_y = bqp.Axis(scale = y_sc, label=param, orientation='vertical', side='left')\n",
    "        \n",
    "        \n",
    "        \n",
    "        if all_comps == True:\n",
    "                      \n",
    "            m_arr = []\n",
    "            output10.clear_output()\n",
    "                   \n",
    "         \n",
    "            \n",
    "            for i in range(len(comp_arr)):\n",
    "                \n",
    "                col = color_arr[i]\n",
    "                \n",
    "                f1_title = \"All Compartments\"+\" : \" + \"Time (s) vs \" + drp_param.value \n",
    "                \n",
    "                if param == 'Membrane Potential (Vm)':\n",
    "                    m_arr.append(bqp.Lines(x= t_arr[start_t:-1:jump],y= comp_arr[i].v_arr[start_t:-1:jump],colors = [col], \n",
    "                       display_legend=True,labels= ['Vm - '+comp_arr[i].name], scales = {'x': x_sc, \"y\": y_sc}))\n",
    "                    \n",
    "                elif param == 'Cl- Reversal Potential (E-Cl)':\n",
    "                    m_arr.append(bqp.Lines(x= t_arr[start_t:-1:jump],y= comp_arr[i].E_cl_arr[start_t:-1:jump], colors = [col],  \n",
    "                       display_legend=True,labels= ['E-Cl - '+comp_arr[i].name], scales = {'x': x_sc, \"y\": y_sc}))\n",
    "                    \n",
    "                elif param == 'K+ Reversal Potential (E-K)':\n",
    "                    m_arr.append(bqp.Lines(x= t_arr[start_t:-1:jump],y= comp_arr[i].E_k_arr[start_t:-1:jump], colors = [col],  \n",
    "                       display_legend=True,labels= ['E-K - '+comp_arr[i].name], scales = {'x': x_sc, \"y\": y_sc}))\n",
    "                    \n",
    "                elif param == 'Volume (pL)':\n",
    "                    m_arr.append(bqp.Lines(x= t_arr[start_t:-1:jump],y= comp_arr[i].w_arr[start_t:-1:jump], colors = [col],  \n",
    "                       display_legend=True,labels= ['Vol. - '+comp_arr[i].name ], scales = {'x': x_sc, \"y\": y_sc}))\n",
    "                    \n",
    "                elif param == 'Na+ Conc.':\n",
    "                    m_arr.append(bqp.Lines(x= t_arr[start_t:-1:jump],y= comp_arr[i].na_arr[start_t:-1:jump], colors = [col],  \n",
    "                       display_legend=True,labels= ['Na+ - '+comp_arr[i].name], scales = {'x': x_sc, \"y\": y_sc}))\n",
    "                    \n",
    "                elif param == 'K+ Conc.':\n",
    "                    m_arr.append(bqp.Lines(x= t_arr[start_t:-1:jump],y= comp_arr[i].k_arr[start_t:-1:jump],colors = [col],  \n",
    "                       display_legend=True,labels= ['K+ - '+comp_arr[i].name], scales = {'x': x_sc, \"y\": y_sc}))\n",
    "                    \n",
    "                elif param == 'Cl- Conc.':\n",
    "                    m_arr.append(bqp.Lines(x= t_arr[start_t:-1:jump],y= comp_arr[i].cl_arr[start_t:-1:jump],colors = [col],  \n",
    "                       display_legend=True,labels= ['Cl- - '+comp_arr[i].name], scales = {'x': x_sc, \"y\": y_sc}))\n",
    "                    \n",
    "                elif param == 'Impermeant anion Conc.':\n",
    "                    m_arr.append(bqp.Lines(x= t_arr[start_t:-1:jump],y= comp_arr[i].x_arr[start_t:-1:jump], colors = [col], \n",
    "                       display_legend=True,labels= ['X -'+comp_arr[i].name], scales = {'x': x_sc, \"y\": y_sc}))        \n",
    "            \n",
    "                \n",
    "                \n",
    "                       \n",
    "                \n",
    "            f1 = bqp.Figure(title = f1_title, marks=m_arr, axes=[ax_x, ax_y],legend_location='top-right',scales={'x': x_sc, 'color': col_sc, 'y': y_sc})\n",
    "    \n",
    "            f1.layout.height = '600px'\n",
    "            f1.layout.width = '800px'\n",
    "            output10.clear_output()\n",
    "            with output10:    \n",
    "                display(f1)\n",
    "        \n",
    "        \n",
    "        if all_comps == False:            \n",
    "            \n",
    "            f1_title = comp_arr[comp_num].name+\" : \" + \"Time (s) vs \" + drp_param.value \n",
    "\n",
    "            if param == 'Membrane Potential (Vm)':\n",
    "                \n",
    "                m1 = bqp.Lines(x= t_arr[start_t:-1:jump],y= comp_arr[comp_num].v_arr[start_t:-1:jump],colors = ['#000000'], \n",
    "                       display_legend=True,labels= ['Vm'], scales = {'x': x_sc, \"y\": y_sc})\n",
    "                \n",
    "            elif param == 'Cl- Reversal Potential (E-Cl)':\n",
    "                \n",
    "                m1 = bqp.Lines(x= t_arr[start_t:-1:jump],y= comp_arr[comp_num].E_cl_arr[start_t:-1:jump],colors = ['#000000'], \n",
    "                       display_legend=True,labels= ['E-Cl'], scales = {'x': x_sc, \"y\": y_sc})\n",
    "                \n",
    "            elif param == 'K+ Reversal Potential (E-K)':\n",
    "                \n",
    "                m1 = bqp.Lines(x= t_arr[start_t:-1:jump],y= comp_arr[comp_num].E_k_arr[start_t:-1:jump],colors =['#000000'], \n",
    "                       display_legend=True,labels= ['E-K'], scales = {'x': x_sc, \"y\": y_sc})\n",
    "                 \n",
    "            elif param == 'Volume (pL)':\n",
    "                \n",
    "                m1 = bqp.Lines(x= t_arr[start_t:-1:jump],y= comp_arr[comp_num].w_arr[start_t:-1:jump],colors = ['#000000'], \n",
    "                       display_legend=True,labels= ['Vol.'], scales = {'x': x_sc, \"y\": y_sc})\n",
    "                \n",
    "            elif param == 'Na+ Conc.':\n",
    "                \n",
    "                m1 = bqp.Lines(x= t_arr[start_t:-1:jump],y= comp_arr[comp_num].na_arr[start_t:-1:jump],colors = ['#e7298a'], \n",
    "                       display_legend=True,labels= ['Na+'], scales = {'x': x_sc, \"y\": y_sc})\n",
    "                \n",
    "            elif param == 'K+ Conc.':\n",
    "                \n",
    "                m1 = bqp.Lines(x= t_arr[start_t:-1:jump],y= comp_arr[comp_num].k_arr[start_t:-1:jump],colors = ['#7570b3'], \n",
    "                       display_legend=True,labels= ['K+'], scales = {'x': x_sc, \"y\": y_sc}) \n",
    "             \n",
    "            elif param == 'Cl- Conc.':\n",
    "                \n",
    "                m1 = bqp.Lines(x= t_arr[start_t:-1:jump],y= comp_arr[comp_num].cl_arr[start_t:-1:jump],colors = ['#1b9e77'], \n",
    "                       display_legend=True,labels= ['Cl-'], scales = {'x': x_sc, \"y\": y_sc}) \n",
    "                \n",
    "            elif param == 'Impermeant anion Conc.':\n",
    "                \n",
    "                m1 = bqp.Lines(x= t_arr[start_t:-1:jump],y= comp_arr[comp_num].x_arr[start_t:-1:jump],colors = ['#000000'], \n",
    "                       display_legend=True,labels= ['X'], scales = {'x': x_sc, \"y\": y_sc}) \n",
    "                \n",
    "            elif param == 'All ion concentrations':\n",
    "                \n",
    "                m1 = []\n",
    "                \n",
    "                a1 = bqp.Lines(x= t_arr[start_t:-1:jump],y= comp_arr[comp_num].na_arr[start_t:-1:jump],colors = ['#e7298a'], \n",
    "                       display_legend=True,labels= ['Na+'], scales = {'x': x_sc, \"y\": y_sc})\n",
    "                \n",
    "                a2 = bqp.Lines(x= t_arr[start_t:-1:jump],y= comp_arr[comp_num].k_arr[start_t:-1:jump],colors = ['#7570b3'], \n",
    "                       display_legend=True,labels= ['K+'], scales = {'x': x_sc, \"y\": y_sc}) \n",
    "                \n",
    "                \n",
    "                a3 = bqp.Lines(x= t_arr[start_t:-1:jump],y= comp_arr[comp_num].cl_arr[start_t:-1:jump],colors = ['#1b9e77'], \n",
    "                       display_legend=True,labels= ['Cl-'], scales = {'x': x_sc, \"y\": y_sc})\n",
    "                \n",
    "                a4 = bqp.Lines(x= t_arr[start_t:-1:jump],y= comp_arr[comp_num].x_arr[start_t:-1:jump],colors = ['#000000'], \n",
    "                       display_legend=True,labels= ['X'], scales = {'x': x_sc, \"y\": y_sc}) \n",
    "                \n",
    "                m1 = [a1,a2,a3,a4]\n",
    "                \n",
    "                \n",
    "                f1_title = comp_arr[comp_num].name + \": all ion concentrations vs time\"\n",
    "                f1 = bqp.Figure(title = f1_title, marks=m1, axes=[ax_x, ax_y],legend_location='top-right')\n",
    "                f1.layout.height = '600px'\n",
    "                f1.layout.width = '800px'\n",
    "                output10.clear_output()\n",
    "                with output10:    \n",
    "                    display(f1)\n",
    "                return\n",
    "            \n",
    "    \n",
    "    \n",
    "            f1 = bqp.Figure(title = f1_title, marks=[m1], axes=[ax_x, ax_y],legend_location='top-right')\n",
    "    \n",
    "            f1.layout.height = '600px'\n",
    "            f1.layout.width = '800px'\n",
    "            output10.clear_output()\n",
    "            with output10:    \n",
    "                display(f1)\n",
    "\n",
    "            \n",
    "            \n",
    "        \n",
    "                \n",
    "                \n",
    "            \n",
    "\n",
    "        #####\n",
    "\n",
    "\n",
    "def btn_main_graph_clicked(b):\n",
    "    \n",
    "    \n",
    "    start_t = int(sldr_start.value * 1000)\n",
    "    x_arr = t_arr \n",
    "    \n",
    "    bins = sldr_bins.value #bins required\n",
    "\n",
    "    jump = round(intervals/bins)\n",
    "    \n",
    "    \n",
    "    \n",
    "    if drp_comp.value == 'ALL COMPARTMENTS':\n",
    "    \n",
    "            param = drp_param.value\n",
    "            plot_main_graph(param,all_comps=True,jump=jump)\n",
    "\n",
    "    \n",
    "    elif drp_comp.value != 'ALL COMPARTMENTS':\n",
    "        \n",
    "        \n",
    "        for i in range(len(comp_arr)):\n",
    "            if (drp_comp.value == comp_arr[i].name):\n",
    "                comp_num = i\n",
    "\n",
    "        param = drp_param.value\n",
    "        plot_main_graph(param,comp_num,all_comps=False,jump=jump)\n",
    "\n",
    "    \n",
    "    \n",
    "    #if drp_comp != 'ALL COMPARTMENTS':\n",
    "           \n",
    "        \n",
    "btn_main_graph.on_click(btn_main_graph_clicked)\n",
    "\n",
    "#print(y_arr)\n",
    "\n",
    "        \n",
    "        \n"
   ]
  },
  {
   "cell_type": "markdown",
   "metadata": {
    "extensions": {
     "jupyter_dashboards": {
      "version": 1,
      "views": {
       "grid_default": {},
       "report_default": {}
      }
     }
    }
   },
   "source": [
    "### 4.2 Boundary dynamics\n",
    "\n",
    "Boundaries refer to the area between adjacent compartments. //\n",
    "In non-isopotential neurons there must be a steady state (non-zero) flux of ions between compartments.\n",
    "Negative values = ions entering the compartment.\n",
    "Positive values = ions entering compartment"
   ]
  },
  {
   "cell_type": "code",
   "execution_count": 33,
   "metadata": {
    "extensions": {
     "jupyter_dashboards": {
      "version": 1,
      "views": {
       "grid_default": {},
       "report_default": {}
      }
     }
    }
   },
   "outputs": [
    {
     "data": {
      "application/vnd.jupyter.widget-view+json": {
       "model_id": "8340b00724cf411ebb5ab2cd946a2d9a",
       "version_major": 2,
       "version_minor": 0
      },
      "text/plain": [
       "Output()"
      ]
     },
     "metadata": {},
     "output_type": "display_data"
    },
    {
     "data": {
      "application/vnd.jupyter.widget-view+json": {
       "model_id": "31d45689a99144ee842a4434935d01a3",
       "version_major": 2,
       "version_minor": 0
      },
      "text/plain": [
       "VBox(children=(HBox(children=(Output(), Output())), HBox(children=(Output(), Output()))))"
      ]
     },
     "metadata": {},
     "output_type": "display_data"
    }
   ],
   "source": [
    "drp_bound = widgets.Dropdown(description=\"Boundary:\")\n",
    "btn_bound = widgets.Button(description = \"Graph Boundary\")\n",
    "sldr_start2 = widgets.FloatSlider(description='Start time (s)',min=0,step=dt,max=total_t, value=20)\n",
    "\n",
    "\n",
    "hbox_bound = widgets.HBox()\n",
    "vbox_bound1 = widgets.VBox()\n",
    "vbox_bound2 = widgets.VBox()\n",
    "vbox_bound1.children =[drp_bound,btn_bound]\n",
    "vbox_bound2.children =[sldr_start2]\n",
    "hbox_bound.children = [vbox_bound1,vbox_bound2]\n",
    "\n",
    "\n",
    "output_bound_setting = widgets.Output()\n",
    "\n",
    "\n",
    "hbox_graph1 = widgets.HBox()\n",
    "hbox_graph2 = widgets.HBox()\n",
    "output_graph1 = widgets.Output()\n",
    "output_graph2 = widgets.Output()\n",
    "output_graph3 = widgets.Output()\n",
    "output_graph4 = widgets.Output()\n",
    "vbox_graph = widgets.VBox()\n",
    "hbox_graph1.children = [output_graph1,output_graph2]\n",
    "hbox_graph2.children = [output_graph3,output_graph4]\n",
    "vbox_graph.children = [hbox_graph1, hbox_graph2]\n",
    "\n",
    "with output_bound_setting:\n",
    "    display(hbox_bound)\n",
    "\n",
    "    \n",
    "bound_list = []\n",
    "\n",
    "for i in range(len(ed_arr)):\n",
    "    bound_list.append(ed_arr[i].name)\n",
    "    \n",
    "drp_bound.options = bound_list\n",
    "\n",
    "\n",
    "\n",
    "def btn_bound_clicked(b):\n",
    "    \n",
    "    \n",
    "    for i in range(len(ed_arr)):\n",
    "        if drp_bound.value == ed_arr[i].name:\n",
    "            bound_num = i\n",
    "    \n",
    "    \n",
    "    start_t = int(sldr_start2.value * 1000)\n",
    "    x_arr = t_arr \n",
    "    \n",
    "    \n",
    "   \n",
    "    \n",
    "    \n",
    "    bound = ed_arr[bound_num].name\n",
    "    compA = ed_arr[bound_num].comp_a\n",
    "    compB = ed_arr[bound_num].comp_b\n",
    "    \n",
    "    \n",
    "    \n",
    "    \n",
    "    output_graph1.clear_output()\n",
    "    output_graph2.clear_output()\n",
    "    output_graph3.clear_output()\n",
    "    output_graph4.clear_output()\n",
    "    \n",
    "    #\n",
    "    \n",
    "    ##### Graph 1: compA - ion changes via channels\n",
    "    \n",
    "    \n",
    "    #fig1_A.title = compA.name + \" [Ion] changes across membrane\"\n",
    "    #tlbr1A = bqp.Toolbar(fig1_A)\n",
    "    \n",
    "    x_sc = bqp.LinearScale()\n",
    "    y_sc = bqp.LinearScale()\n",
    "    \n",
    "    plt1A1 = bqp.Lines(x= t_arr[start_t:-1],y=compA.d_na_arr[start_t:-1],colors = ['#e7298a'], \n",
    "                       display_legend=True,labels= ['d-Na'], scales = {'x': x_sc, \"y\": y_sc})\n",
    "    plt1A2 = bqp.Lines(x= t_arr[start_t:-1],y=compA.d_k_arr[start_t:-1], colors = ['#7570b3'],\n",
    "                       display_legend =True, labels = ['d-K'], scales = {'x': x_sc, \"y\": y_sc})\n",
    "    plt1A3 = bqp.Lines(x= t_arr[start_t:-1],y=compA.d_cl_arr[start_t:-1], colors = ['#1b9e77'],\n",
    "                       display_legend = True, labels =['d-Cl'], scales = {'x': x_sc, \"y\": y_sc})\n",
    "    ax_x = bqp.Axis(scale = x_sc, label=\"Time(s)\", min= start_t, max=t_arr[-1])\n",
    "    ax_y = bqp.Axis(scale = y_sc, label=\"Concentration (mM)\", orientation='vertical', side='left')\n",
    "    \n",
    "    fig1_A = bqp.Figure(title = compA.name + \" [Ion] changes across membrane\", \n",
    "                        marks=[plt1A1,plt1A2,plt1A3], axes=[ax_x, ax_y],legend_location='bottom-right')\n",
    "    fig1_A.layout.height = '500px'\n",
    "    fig1_A.layout.width = '400px'\n",
    "  \n",
    "    with output_graph1:    \n",
    "        display(fig1_A)\n",
    "        \n",
    "        \n",
    "    x_sc = bqp.LinearScale()\n",
    "    y_sc = bqp.LinearScale()\n",
    "    \n",
    "    plt1B1 = bqp.Lines(x= t_arr[start_t:-1],y=compB.d_na_arr[start_t:-1],colors = ['#e7298a'], \n",
    "                       display_legend=True,labels= ['d-Na'], scales = {'x': x_sc, \"y\": y_sc})\n",
    "    plt1B2 = bqp.Lines(x= t_arr[start_t:-1],y= compB.d_k_arr[start_t:-1], colors = ['#7570b3'],\n",
    "                       display_legend =True, labels = ['d-K'], scales = {'x': x_sc, \"y\": y_sc})\n",
    "    plt1B3 = bqp.Lines(x= t_arr[start_t:-1],y= compB.d_cl_arr[start_t:-1], colors = ['#1b9e77'],\n",
    "                       display_legend = True, labels =['d-Cl'], scales = {'x': x_sc, \"y\": y_sc})\n",
    "    ax_x = bqp.Axis(scale = x_sc, label=\"Time(s)\", min= start_t, max=t_arr[-1])\n",
    "    ax_y = bqp.Axis(scale = y_sc, label=\"Concentration (mM)\", orientation='vertical', side='left')\n",
    "    \n",
    "    fig1_B = bqp.Figure(title = compB.name + \" [Ion] changes across membrane\", \n",
    "                        marks=[plt1B1,plt1B2,plt1B3], axes=[ax_x, ax_y],legend_location='bottom-right')\n",
    "    fig1_B.layout.height = '500px'\n",
    "    fig1_B.layout.width = '400px'\n",
    "  \n",
    "    with output_graph2:    \n",
    "        display(fig1_B)    \n",
    "        \n",
    "    \n",
    "    x_sc = bqp.LinearScale()\n",
    "    y_sc = bqp.LinearScale()\n",
    "    \n",
    "    plt2A1 = bqp.Lines(x= t_arr[start_t:-1],y= ed_arr[bound_num].bound_na_arr[start_t:-1],colors = ['#e7298a'], line_style = 'dashed',\n",
    "                       display_legend=True,labels= ['Na'], scales = {'x': x_sc, \"y\": y_sc})\n",
    "    plt2A2 = bqp.Lines(x= t_arr[start_t:-1],y= ed_arr[bound_num].bound_k_arr[start_t:-1], colors = ['#7570b3'], line_style = 'dashed',\n",
    "                       display_legend =True, labels = ['K'], scales = {'x': x_sc, \"y\": y_sc})\n",
    "    plt2A3 = bqp.Lines(x= t_arr[start_t:-1],y= ed_arr[bound_num].bound_cl_arr[start_t:-1], colors = ['#1b9e77'], line_style = 'dashed',\n",
    "                       display_legend = True, labels =['Cl'], scales = {'x': x_sc, \"y\": y_sc})\n",
    "    ax_x = bqp.Axis(scale = x_sc, label=\"Time(s)\", min= start_t, max=t_arr[-1])\n",
    "    ax_y = bqp.Axis(scale = y_sc, label=\"Concentration (mM)\", orientation='vertical', side='left')\n",
    "    \n",
    "    fig2_A = bqp.Figure(title = compA.name + \" [Ion] changes across compartment\", \n",
    "                        marks=[plt2A1,plt2A2,plt2A3], axes=[ax_x, ax_y],legend_location='bottom-right')\n",
    "    fig2_A.layout.height = '500px'\n",
    "    fig2_A.layout.width = '400px'\n",
    "  \n",
    "    with output_graph3:    \n",
    "        display(fig2_A)\n",
    "    \n",
    "    \n",
    "\n",
    "    x_sc = bqp.LinearScale()\n",
    "    y_sc = bqp.LinearScale()\n",
    "    \n",
    "    temp_na_arr =[]\n",
    "    temp_k_arr=[]\n",
    "    temp_cl_arr=[]\n",
    "    for i in range(len(ed_arr[bound_num].bound_na_arr)):\n",
    "        temp_na_arr.append(-1*ed_arr[bound_num].bound_na_arr[i])\n",
    "        temp_k_arr.append(-1*ed_arr[bound_num].bound_k_arr[i])\n",
    "        temp_cl_arr.append(-1*ed_arr[bound_num].bound_cl_arr[i])\n",
    "    \n",
    "    plt2B1 = bqp.Lines(x= t_arr[start_t:-1],y= temp_na_arr[start_t:-1],colors = ['#e7298a'], line_style = 'dashed',\n",
    "                       display_legend=True,labels= ['Na'], scales = {'x': x_sc, \"y\": y_sc})\n",
    "    plt2B2 = bqp.Lines(x= t_arr[start_t:-1],y= temp_k_arr[start_t:-1], colors = ['#7570b3'], line_style = 'dashed',\n",
    "                       display_legend =True, labels = ['K'], scales = {'x': x_sc, \"y\": y_sc})\n",
    "    plt2B3 = bqp.Lines(x= t_arr[start_t:-1],y= temp_cl_arr[start_t:-1], colors = ['#1b9e77'], line_style = 'dashed',\n",
    "                       display_legend = True, labels =['Cl'], scales = {'x': x_sc, \"y\": y_sc})\n",
    "    ax_x = bqp.Axis(scale = x_sc, label=\"Time(s)\", min= start_t, max=t_arr[-1])\n",
    "    ax_y = bqp.Axis(scale = y_sc, label=\"Concentration (mM)\", orientation='vertical', side='left')\n",
    "    \n",
    "    fig2_B = bqp.Figure(title = compB.name + \" [Ion] changes across compartment\", \n",
    "                        marks=[plt2B1,plt2B2,plt2B3], axes=[ax_x, ax_y],legend_location='bottom-right')\n",
    "    fig2_B.layout.height = '500px'\n",
    "    fig2_B.layout.width = '400px'\n",
    "    \n",
    "  \n",
    "    with output_graph4:    \n",
    "        display(fig2_B)\n",
    "    \n",
    "\n",
    "        \n",
    "\n",
    "btn_bound.on_click(btn_bound_clicked)  \n",
    "    \n",
    "    \n",
    "display(output_bound_setting,vbox_graph)\n",
    "\n",
    "\n",
    "#print(ed_arr[0].bound_na_arr)"
   ]
  },
  {
   "cell_type": "markdown",
   "metadata": {},
   "source": [
    "### Ionic Heatmap"
   ]
  },
  {
   "cell_type": "code",
   "execution_count": 8,
   "metadata": {
    "extensions": {
     "jupyter_dashboards": {
      "version": 1,
      "views": {
       "grid_default": {},
       "report_default": {}
      }
     }
    }
   },
   "outputs": [
    {
     "data": {
      "application/vnd.jupyter.widget-view+json": {
       "model_id": "e6d43d8cd8f446af997f28fd557db4b7",
       "version_major": 2,
       "version_minor": 0
      },
      "text/plain": [
       "Dropdown(description='Ion:', options=('Na', 'K', 'Cl', 'X'), value='Na')"
      ]
     },
     "metadata": {},
     "output_type": "display_data"
    },
    {
     "data": {
      "application/vnd.jupyter.widget-view+json": {
       "model_id": "3611cd563b2e4252b68dd83981169c0d",
       "version_major": 2,
       "version_minor": 0
      },
      "text/plain": [
       "IntSlider(value=20, description='Bins', min=5, step=2)"
      ]
     },
     "metadata": {},
     "output_type": "display_data"
    },
    {
     "data": {
      "application/vnd.jupyter.widget-view+json": {
       "model_id": "29b542347ab04e95a09fc7eb14b8aa89",
       "version_major": 2,
       "version_minor": 0
      },
      "text/plain": [
       "Button(description='Show Heat Map', style=ButtonStyle())"
      ]
     },
     "metadata": {},
     "output_type": "display_data"
    },
    {
     "data": {
      "application/vnd.jupyter.widget-view+json": {
       "model_id": "8dabe8ae054d41fba157fd572be59300",
       "version_major": 2,
       "version_minor": 0
      },
      "text/plain": [
       "Output()"
      ]
     },
     "metadata": {},
     "output_type": "display_data"
    }
   ],
   "source": [
    "### HEATMAP OF ION CHANGES DURING SIMULATION:\n",
    "\n",
    "########################\n",
    "# Widget initialization\n",
    "\n",
    "btn_heat = widgets.Button(description = 'Show Heat Map')\n",
    "drp_ion = widgets.Dropdown(description = 'Ion:',options=['Na','K','Cl','X'])\n",
    "sldr_heat = widgets.IntSlider(description= 'Bins', value= 20, min = 5, max= 100, step=2)\n",
    "output_heat = widgets.Output()\n",
    "\n",
    "###########################\n",
    "# Plotting function on click\n",
    "\n",
    "def btn_heat_clicked(b):\n",
    "\n",
    "    y_arr = []\n",
    "    x_arr = []\n",
    "    data_arr = []\n",
    "    bins = sldr_heat.value\n",
    "    ion = drp_ion.value\n",
    "    jump = int(total_t*1000/bins)\n",
    "    \n",
    "    \n",
    "    for i in range(len(comp_arr)):\n",
    "        \n",
    "        y_arr.append(comp_arr[i].name)\n",
    "        temp_arr =[]\n",
    "        \n",
    "        for j in range(bins):\n",
    "            time_point = j*jump\n",
    "            if i==0:\n",
    "                x_arr.append(round(t_arr[time_point],2))\n",
    "            if ion == 'Na':\n",
    "                temp_arr.append(comp_arr[i].na_arr[time_point])\n",
    "            elif ion == 'K':\n",
    "                temp_arr.append(comp_arr[i].k_arr[time_point])\n",
    "            elif ion == 'Cl':\n",
    "                temp_arr.append(comp_arr[i].cl_arr[time_point])\n",
    "            elif ion == 'X':\n",
    "                temp_arr.append(comp_arr[i].x_arr[time_point])\n",
    "        \n",
    "        data_arr.append(temp_arr)\n",
    "                \n",
    "    \n",
    "    \n",
    "    x_sc = bqp.LinearScale()\n",
    "    y_sc = bqp.LinearScale()\n",
    "    \n",
    "    \n",
    "    \n",
    "    with output_heat:\n",
    "        output_heat.clear_output()\n",
    "        mplt.figure()\n",
    "        plt_heat = sns.heatmap(data_arr,cmap=\"BuPu\", linewidth=0.5, xticklabels=x_arr, yticklabels=y_arr, cbar_kws={'label': 'Concentration (mM)'})\n",
    "        mplt.xlabel(\"Simulation time (s)\")\n",
    "        mplt.ylabel(\"Compartment\")\n",
    "        mplt.show()\n",
    "        \n",
    "    \n",
    "    #display(output_heat)\n",
    "    \n",
    "    \n",
    "##################################\n",
    "\n",
    "btn_heat.on_click(btn_heat_clicked)\n",
    "\n",
    "\n",
    "display(drp_ion, sldr_heat,btn_heat,output_heat)"
   ]
  },
  {
   "cell_type": "markdown",
   "metadata": {
    "collapsed": true,
    "extensions": {
     "jupyter_dashboards": {
      "version": 1,
      "views": {
       "grid_default": {},
       "report_default": {}
      }
     }
    }
   },
   "source": [
    "### Compartment equilibria\n"
   ]
  },
  {
   "cell_type": "code",
   "execution_count": 9,
   "metadata": {
    "scrolled": false
   },
   "outputs": [
    {
     "data": {
      "application/vnd.jupyter.widget-view+json": {
       "model_id": "94f881f204ec4dec880f7efe34457b89",
       "version_major": 2,
       "version_minor": 0
      },
      "text/plain": [
       "Dropdown(description='Compartment', options=('Comp1', 'Comp2'), value='Comp1')"
      ]
     },
     "metadata": {},
     "output_type": "display_data"
    },
    {
     "data": {
      "application/vnd.jupyter.widget-view+json": {
       "model_id": "9012e40edc524ef5a188d39e305cb295",
       "version_major": 2,
       "version_minor": 0
      },
      "text/plain": [
       "Button(button_style='info', description='View Equilibrium dynamic', style=ButtonStyle())"
      ]
     },
     "metadata": {},
     "output_type": "display_data"
    },
    {
     "data": {
      "application/vnd.jupyter.widget-view+json": {
       "model_id": "e5515cb297e74e12bc5855d112c9137c",
       "version_major": 2,
       "version_minor": 0
      },
      "text/plain": [
       "Output()"
      ]
     },
     "metadata": {},
     "output_type": "display_data"
    },
    {
     "data": {
      "application/vnd.jupyter.widget-view+json": {
       "model_id": "e5515cb297e74e12bc5855d112c9137c",
       "version_major": 2,
       "version_minor": 0
      },
      "text/plain": [
       "Output()"
      ]
     },
     "metadata": {},
     "output_type": "display_data"
    },
    {
     "data": {
      "image/png": "[encoded data removed]",
      "text/plain": [
       "<Figure size 1440x720 with 1 Axes>"
      ]
     },
     "metadata": {
      "needs_background": "light"
     },
     "output_type": "display_data"
    }
   ],
   "source": [
    "#############################################################################################################\n",
    "# Widget interface\n",
    "output_equilib = widgets.Output()\n",
    "btn_equilib = widgets.Button(description =\"View Equilibrium dynamic\",button_style='info')\n",
    "drp_equilib = widgets.Dropdown(description =\"Compartment\")\n",
    "options_arr = []\n",
    "\n",
    "\n",
    "for i in range(len(comp_arr)):\n",
    "    options_arr.append(comp_arr[i].name) \n",
    "    \n",
    "drp_equilib.options = options_arr\n",
    "\n",
    "\n",
    "display(drp_equilib, btn_equilib, output_equilib)\n",
    "\n",
    "#############################################################################################################\n",
    "# Creating Equilibria figures\n",
    "\n",
    "\n",
    "def btn_equilib_clicked(b):\n",
    "    \n",
    "    #### Instantiating figure\n",
    "    \n",
    "    \n",
    "    \n",
    "    \n",
    "    \n",
    "    \n",
    "    #ISOLATING SPECIFIC COMPARTMENT\n",
    "    temp_name = drp_equilib.value \n",
    "    temp_num = 0 \n",
    "    \n",
    "    for i in range(len(comp_arr)):\n",
    "        if comp_arr[i].name == temp_name:\n",
    "            temp_num = i\n",
    "            \n",
    "    shapes_arr =[]\n",
    "    \n",
    "    with output_equilib:\n",
    "        \n",
    "        output_equilib.clear_output()\n",
    "        \n",
    "        mplt.figure(figsize=(20,10))\n",
    "        ax = mplt.gca()\n",
    "        ######### Main compartment\n",
    "\n",
    "        mainx = 32 #starting x-coordinate for main rectangle if not the last compartment\n",
    "        mainy = 4  #starting y-coordinate for main rectangle\n",
    "        main_rect = mpatches.Rectangle([mainx,mainy],20,16, fc='#c4c4ff',ec='red')\n",
    "        shapes_arr.append(main_rect)\n",
    "\n",
    "        m_net_in = 0\n",
    "        m_net_out = 0\n",
    "\n",
    "\n",
    "        #d_Na\n",
    "        m_d_na = comp_arr[temp_num].d_na_arr[-1]*1e6\n",
    "        if m_d_na >0: #sodium coming into the compartment\n",
    "            m_na_arrow = mpatches.FancyArrow(mainx+6, mainy+16, 0, -1, width=0.2,ec='#e7298a',fc='#e7298a')\n",
    "            ax.text(mainx+5.5,mainy+13,str(round(m_d_na,2)), fontsize=14)\n",
    "            m_net_in += m_d_na #adding sodium coming in\n",
    "        else:\n",
    "            m_na_arrow = mpatches.FancyArrow(mainx+6, mainy+16, 0, +1, width=0.2,ec='#e7298a',fc='#e7298a')\n",
    "            ax.text(mainx+5.5,mainy+18,str(round(m_d_na,2)), fontsize=14)\n",
    "            m_net_out += -1*m_d_na\n",
    "        shapes_arr.append(m_na_arrow)\n",
    "\n",
    "        #d_K\n",
    "        m_d_k = comp_arr[temp_num].d_k_arr[-1]*1e6\n",
    "        if m_d_k >0: #potassium coming into the compartment\n",
    "            m_k_arrow = mpatches.FancyArrow(mainx+10, mainy+16, 0, -1, width=0.2,ec='#7570b3',fc='#7570b3')\n",
    "            ax.text(mainx+9.5,mainy+13,str(round(m_d_k,2)), fontsize=14)\n",
    "            m_net_in += m_d_k\n",
    "        else:\n",
    "            m_k_arrow = mpatches.FancyArrow(mainx+10, mainy+16, 0, +1, width=0.2,ec='#7570b3',fc='#7570b3')\n",
    "            ax.text(mainx+9.5,mainy+18,str(round(m_d_k,2)), fontsize=14)\n",
    "            m_net_out += -1*m_d_k\n",
    "        shapes_arr.append(m_k_arrow)\n",
    "\n",
    "\n",
    "        #d_Cl\n",
    "        m_d_cl = comp_arr[temp_num].d_cl_arr[-1]*1e6\n",
    "        if m_d_cl >0: #chloride coming into selected (main) compartment\n",
    "            m_cl_arrow = mpatches.FancyArrow(mainx+14, mainy+16, 0, -1, width=0.2,ec='#1b9e77',fc='#1b9e77')\n",
    "            ax.text(mainx+13.5,mainy+13,str(round(m_d_cl,2)), fontsize=14)\n",
    "            m_net_in -= m_d_cl #minus chloride coming in\n",
    "        else:\n",
    "            m_cl_arrow = mpatches.FancyArrow(mainx+14, mainy+16, 0, +1, width=0.2,ec='#1b9e77',fc='#1b9e77')\n",
    "            ax.text(mainx+13.5,mainy+18,str(round(m_d_cl,2)), fontsize=14) \n",
    "            m_net_out += m_d_cl\n",
    "        shapes_arr.append(m_cl_arrow)\n",
    "\n",
    "\n",
    "\n",
    "\n",
    "        ######## Right Compartment\n",
    "\n",
    "        rightx = mainx+22\n",
    "        righty = 4\n",
    "        right_comp=False\n",
    "        r_net_in =0\n",
    "        r_net_out =0\n",
    "\n",
    "        if temp_num+1 != len(comp_arr):   #if not the last componenent, make rectangle on right\n",
    "\n",
    "            right_comp = True\n",
    "            right_rect = mpatches.Rectangle([rightx,righty],20,16, fc='#ebebff')\n",
    "            shapes_arr.append(right_rect)\n",
    "\n",
    "            #d_Na\n",
    "            r_d_na = comp_arr[temp_num+1].d_na_arr[-1]*1e6\n",
    "            if r_d_na >0: #sodium coming into the compartment\n",
    "                r_na_arrow = mpatches.FancyArrow(rightx+6, righty+16, 0, -1, width=0.2,ec='#e7298a',fc='#e7298a')\n",
    "                ax.text(rightx+5.5,righty+13,str(round(r_d_na,2)), fontsize=14)\n",
    "                r_net_in +=r_d_na\n",
    "            else:\n",
    "                r_na_arrow = mpatches.FancyArrow(rightx+6, righty+16, 0, +1, width=0.2,ec='#e7298a',fc='#e7298a')\n",
    "                ax.text(rightx+4.5,righty+18,str(round(r_d_na,2)), fontsize=14)\n",
    "                r_net_out += -1*r_d_na\n",
    "            shapes_arr.append(r_na_arrow)\n",
    "\n",
    "            #d_K\n",
    "            r_d_k = comp_arr[temp_num+1].d_k_arr[-1]*1e6\n",
    "            if r_d_k >0: #potassium coming into the compartment\n",
    "                r_k_arrow = mpatches.FancyArrow(rightx+10, righty+16, 0, -1, width=0.2,ec='#7570b3',fc='#7570b3')\n",
    "                ax.text(rightx+9.5,righty+13,str(round(r_d_k,2)), fontsize=14)\n",
    "                r_net_in += r_d_k\n",
    "            else:\n",
    "                r_k_arrow = mpatches.FancyArrow(rightx+10, righty+16, 0, +1, width=0.2,ec='#7570b3',fc='#7570b3')\n",
    "                ax.text(rightx+7.5,righty+18,str(round(r_d_k,2)), fontsize=14) \n",
    "                r_net_out += -1*r_d_k\n",
    "            shapes_arr.append(r_k_arrow)\n",
    "\n",
    "\n",
    "            #d_Cl\n",
    "            r_d_cl = comp_arr[temp_num+1].d_cl_arr[-1]*1e6\n",
    "            if r_d_cl >0: #chloride coming into the compartment\n",
    "                r_cl_arrow = mpatches.FancyArrow(rightx+14, righty+16, 0, -1, width=0.2,ec='#1b9e77',fc='#1b9e77')\n",
    "                ax.text(rightx+13.5,righty+13,str(round(r_d_cl,2)), fontsize=14)\n",
    "                r_net_in -= r_d_cl\n",
    "            else:\n",
    "                r_cl_arrow = mpatches.FancyArrow(rightx+14, righty+16, 0, +1, width=0.2,ec='#1b9e77',fc='#1b9e77')\n",
    "                ax.text(rightx+11.5,righty+18,str(round(r_d_cl,2)), fontsize=14)  \n",
    "                r_net_out += r_d_cl\n",
    "            shapes_arr.append(r_cl_arrow)\n",
    "\n",
    "            #Right Electrodiffusion\n",
    "\n",
    "            r_ed_na = ed_arr[temp_num].bound_na_arr[-1]*1e6\n",
    "            if r_ed_na >0: \n",
    "                r_ed_na_arrow = mpatches.FancyArrow(rightx+2, righty+8, -5, 0, width=0.2,ec='#e7298a',fc='#e7298a',ls='dotted')\n",
    "                ax.text(rightx+2,righty+7.75,str(round(r_ed_na,2)), fontsize=14)\n",
    "                shapes_arr.append(r_ed_na_arrow)\n",
    "                r_net_out += r_ed_na\n",
    "                m_net_in += r_ed_na\n",
    "\n",
    "            else: #Sodium moving out of cell\n",
    "                r_ed_na_arrow = mpatches.FancyArrow(rightx-4, righty+8, +5, 0, width=0.2,ec='#e7298a',fc='#e7298a',ls ='dotted')\n",
    "                ax.text(rightx+2,righty+7.75,str(round(r_ed_na,2)), fontsize=14)\n",
    "                shapes_arr.append(r_ed_na_arrow)\n",
    "                r_net_in += -1*r_ed_na\n",
    "                m_net_out += -1*r_ed_na\n",
    "\n",
    "            r_ed_k = ed_arr[temp_num].bound_k_arr[-1]*1e6\n",
    "            if r_ed_k >0: \n",
    "                r_ed_k_arrow = mpatches.FancyArrow(rightx+2, righty+6, -5, 0, width=0.2,ec='#7570b3',fc='#7570b3')\n",
    "                ax.text(rightx-7,righty+5.75,str(round(r_ed_k,2)), fontsize=14)\n",
    "                shapes_arr.append(r_ed_k_arrow)\n",
    "                r_net_out += r_ed_k\n",
    "                m_net_in += r_ed_k\n",
    "            else:\n",
    "                r_ed_k_arrow = mpatches.FancyArrow(rightx-4, righty+6, +5, 0, width=0.2,ec='#7570b3',fc='#7570b3')\n",
    "                ax.text(rightx+2,righty+5.75,str(round(r_ed_k,2)), fontsize=14)\n",
    "                shapes_arr.append(r_ed_k_arrow)\n",
    "                r_net_in -= r_ed_k\n",
    "                m_net_out -= r_ed_k\n",
    "\n",
    "            r_ed_cl = ed_arr[temp_num].bound_cl_arr[-1]*1e6\n",
    "            if r_ed_cl >0: \n",
    "                r_ed_cl_arrow = mpatches.FancyArrow(rightx+2, righty+4, -5, 0, width=0.2,ec='#1b9e77',fc='#1b9e77')\n",
    "                ax.text(rightx-7,righty+3.75,str(round(r_ed_cl,2)), fontsize=14)\n",
    "                shapes_arr.append(r_ed_cl_arrow)\n",
    "                r_net_out -= r_ed_cl\n",
    "                m_net_in -= r_ed_cl\n",
    "            else:\n",
    "                r_ed_cl_arrow = mpatches.FancyArrow(rightx-4, righty+4, +5, 0, width=0.2,ec='#1b9e77',fc='#1b9e77')\n",
    "                ax.text(rightx+2,righty+3.75,str(round(r_ed_cl,2)), fontsize=14)\n",
    "                shapes_arr.append(r_ed_cl_arrow)\n",
    "                r_net_in += r_ed_cl\n",
    "                m_net_out += r_ed_cl\n",
    "\n",
    "            #Right Ion square:\n",
    "            r_net_rect = mpatches.Rectangle([rightx+8,righty+7],5,2.5)\n",
    "            shapes_arr.append(r_net_rect)\n",
    "            ax.text(rightx+8, righty+8.5,\"Net in: \" + str(round(r_net_in,2))) \n",
    "            ax.text(rightx+8, righty+7.5,\"Net out: \" + str(round(r_net_out,2))) \n",
    "\n",
    "\n",
    "        ######## Left Compartment\n",
    "\n",
    "        leftx = mainx-22\n",
    "        lefty=4\n",
    "        left_comp=False\n",
    "        l_net_in =0\n",
    "        l_net_out =0\n",
    "\n",
    "        if temp_num+1 != 1:   #if not the first componenent, make rectangle on left\n",
    "\n",
    "            left_comp = True\n",
    "            left_rect = mpatches.Rectangle([leftx,lefty],20,16, fc='#ebebff')\n",
    "            shapes_arr.append(left_rect) \n",
    "\n",
    "            #d_Na\n",
    "            l_d_na = comp_arr[temp_num-1].d_na_arr[-1]*1e6\n",
    "            if l_d_na >0: #sodium coming into the left compartment\n",
    "                l_na_arrow = mpatches.FancyArrow(leftx+6, lefty+16, 0, -1, width=0.2, ec='#e7298a',fc='#e7298a')\n",
    "                ax.text(leftx+5.5,lefty+13,str(round(l_d_na,2)), fontsize=14)\n",
    "                l_net_in += l_d_na\n",
    "            else:\n",
    "                l_na_arrow = mpatches.FancyArrow(leftx+6, lefty+16, 0, +1, width=0.2,ec='#e7298a',fc='#e7298a')\n",
    "                ax.text(leftx+4.5,lefty+18,str(round(l_d_na,2)), fontsize=14)\n",
    "                l_net_out += -1*l_d_na\n",
    "            shapes_arr.append(l_na_arrow)\n",
    "\n",
    "            #d_K\n",
    "            l_d_k = comp_arr[temp_num-1].d_k_arr[-1]*1e6\n",
    "            if l_d_k >0: #potassium coming into the compartment\n",
    "                l_k_arrow = mpatches.FancyArrow(leftx+10, lefty+16, 0, -1, width=0.2,ec='#7570b3',fc='#7570b3')\n",
    "                ax.text(leftx+9.5,lefty+13,str(round(l_d_k,2)), fontsize=14)\n",
    "                l_net_in += l_d_k\n",
    "            else:\n",
    "                l_k_arrow = mpatches.FancyArrow(leftx+10, lefty+16, 0, +1, width=0.2,ec='#7570b3',fc='#7570b3')\n",
    "                ax.text(leftx+8.5,lefty+18,str(round(l_d_k,2)), fontsize=14)  \n",
    "                l_net_out += -1*l_d_k\n",
    "            shapes_arr.append(l_k_arrow)\n",
    "\n",
    "\n",
    "            #d_Cl\n",
    "            l_d_cl = comp_arr[temp_num-1].d_cl_arr[-1]*1e6\n",
    "            if l_d_cl >0: #chloride coming into the compartment\n",
    "                l_cl_arrow = mpatches.FancyArrow(leftx+14, lefty+16, 0, -1, width=0.2,ec='#1b9e77',fc='#1b9e77')\n",
    "                ax.text(leftx+13.5,lefty+13,str(round(l_d_cl,2)), fontsize=14)\n",
    "                l_net_in += -1*l_d_cl\n",
    "            else:\n",
    "                l_cl_arrow = mpatches.FancyArrow(leftx+14, lefty+16, 0, +1, width=0.2,ec='#1b9e77',fc='#1b9e77')\n",
    "                ax.text(leftx+13.5,lefty+18,str(round(l_d_cl,2)), fontsize=14) \n",
    "                l_net_out += l_d_cl\n",
    "            shapes_arr.append(l_cl_arrow)\n",
    "\n",
    "\n",
    "            #Left compartment boundary (electrodiffusion):\n",
    "\n",
    "            l_ed_na = ed_arr[temp_num-1].bound_na_arr[-1]*1e6\n",
    "            if l_ed_na >0: #sodium leaving the L compartment, entering main compartment via ED\n",
    "                l_ed_na_arrow = mpatches.FancyArrow(mainx+2, mainy+8, -5, 0, width=0.2,ec='#e7298a',fc='#e7298a',hatch ='+')\n",
    "                ax.text(mainx-7,mainy+7.75,str(round(l_ed_na,2)), fontsize=14)\n",
    "                shapes_arr.append(l_ed_na_arrow)\n",
    "                l_net_in += l_ed_na\n",
    "                m_net_out += l_ed_na\n",
    "            else: # sodium entering via ED\n",
    "                l_ed_na_arrow = mpatches.FancyArrow(mainx-4, mainy+8, +5, 0, width=0.2,ec='#e7298a',fc='#e7298a',ls =':')\n",
    "                ax.text(mainx+2,mainy+7.75,str(round(l_ed_na,2)), fontsize=14)\n",
    "                shapes_arr.append(l_ed_na_arrow)\n",
    "                l_net_out -= l_ed_na\n",
    "                m_net_in -= l_ed_na\n",
    "\n",
    "            l_ed_k = ed_arr[temp_num-1].bound_k_arr[-1]*1e6\n",
    "            if l_ed_k >0: #K leaving the compartment via ED\n",
    "                l_ed_k_arrow = mpatches.FancyArrow(mainx+2, mainy+6, -5, 0, width=0.2,ec='#7570b3',fc='#7570b3')\n",
    "                ax.text(mainx-7,mainy+5.75,str(round(l_ed_k,2)), fontsize=14)\n",
    "                shapes_arr.append(l_ed_k_arrow)\n",
    "                l_net_in += l_ed_k\n",
    "                m_net_out += l_ed_k\n",
    "            else:\n",
    "                l_ed_k_arrow = mpatches.FancyArrow(mainx-4, mainy+6, +5, 0, width=0.2,ec='#7570b3',fc='#7570b3')\n",
    "                ax.text(mainx+2,mainy+5.75,str(round(l_ed_k,2)), fontsize=14)\n",
    "                shapes_arr.append(l_ed_k_arrow)\n",
    "                l_net_out -= l_ed_k\n",
    "                m_net_in -= l_ed_k\n",
    "\n",
    "            l_ed_cl = ed_arr[temp_num-1].bound_cl_arr[-1]*1e6\n",
    "            if l_ed_cl >0: #sodium coming into the compartment\n",
    "                l_ed_cl_arrow = mpatches.FancyArrow(mainx+2, mainy+4, -5, 0, width=0.2,ec='#1b9e77',fc='#1b9e77')\n",
    "                ax.text(mainx-7,mainy+3.75,str(round(l_ed_cl,2)), fontsize=14)\n",
    "                shapes_arr.append(l_ed_cl_arrow)\n",
    "                l_net_in -= l_ed_cl\n",
    "                m_net_out -= l_ed_cl\n",
    "            else:\n",
    "                l_ed_cl_arrow = mpatches.FancyArrow(mainx-4, mainy+4, +5, 0, width=0.2,ec='#1b9e77',fc='#1b9e77')\n",
    "                ax.text(mainx+2,mainy+3.75,str(round(l_ed_cl,2)), fontsize=14)\n",
    "                shapes_arr.append(l_ed_cl_arrow)\n",
    "                l_net_out += l_ed_cl\n",
    "                m_net_in += l_ed_cl\n",
    "\n",
    "\n",
    "\n",
    "            #Left Ion square:\n",
    "            l_net_rect = mpatches.Rectangle([leftx+8,lefty+7],5,2.5)\n",
    "            shapes_arr.append(l_net_rect)\n",
    "            ax.text(leftx+8, lefty+8.5,\"Net in: \" + str(round(l_net_in,2))) \n",
    "            ax.text(leftx+8, lefty+7.5,\"Net out: \" + str(round(l_net_out,2))) \n",
    "\n",
    "        #Net Ion square:\n",
    "        m_net_rect = mpatches.Rectangle([mainx+8,mainy+7],5,2.5)\n",
    "        shapes_arr.append(m_net_rect)\n",
    "        ax.text(mainx+8, mainy+8.5,\"Net in: \" + str(round(m_net_in,2))) \n",
    "        ax.text(mainx+8, mainy+7.5,\"Net out: \" + str(round(m_net_out,2))) \n",
    "\n",
    "\n",
    "\n",
    "        ######### legend\n",
    "        leg_rect = mpatches.Rectangle([70,20],8,10, fc='white', ec='black')\n",
    "        shapes_arr.append(leg_rect)\n",
    "        ax.text(70.5,28.5,\"Legend\", fontsize=20)\n",
    "        leg_na_arrow = mpatches.FancyArrow(71, 27, 2, 0, width=0.1,ec='#e7298a',fc='#e7298a')\n",
    "        shapes_arr.append(leg_na_arrow)\n",
    "        ax.text(74,26.5,\"Na+\", fontsize=14)\n",
    "        leg_k_arrow = mpatches.FancyArrow(71, 25, 2, 0, width=0.1,ec='#7570b3',fc='#7570b3')\n",
    "        shapes_arr.append(leg_k_arrow)\n",
    "        ax.text(74,24.5,\"K+\", fontsize=14)\n",
    "        leg_cl_arrow = mpatches.FancyArrow(71, 23, 2, 0, width=0.1,ec='#1b9e77',fc='#1b9e77')\n",
    "        shapes_arr.append(leg_cl_arrow)\n",
    "        ax.text(74,22.5,\"Cl-\", fontsize=14)\n",
    "\n",
    "\n",
    "\n",
    "\n",
    "\n",
    "\n",
    "        for j in range(len(shapes_arr)):\n",
    "            ax.add_patch(shapes_arr[j])\n",
    "\n",
    "        \n",
    "\n",
    "        ax.text(mainx+8.5,mainy+1,temp_name, fontsize=16)\n",
    "\n",
    "        if left_comp == True: \n",
    "            ax.text(leftx+8.5,lefty+1,comp_arr[temp_num-1].name, fontsize=16)\n",
    "\n",
    "        if right_comp == True: \n",
    "            ax.text(rightx+8.5,righty+1,comp_arr[temp_num+1].name, fontsize=16)\n",
    "\n",
    "        mplt.axis(\"Scaled\")\n",
    "        #ax.text(mainx,30,\"**All values are in 10^6 mM\", fontsize=16)\n",
    "        ax.axis(\"off\")\n",
    "        \n",
    "        #mplt.show()\n",
    "\n",
    "    \n",
    "#############################################################################################################    \n",
    "# Connecting button to backend\n",
    "\n",
    "btn_equilib.on_click(btn_equilib_clicked)\n",
    "display(output_equilib)\n"
   ]
  },
  {
   "cell_type": "code",
   "execution_count": null,
   "metadata": {},
   "outputs": [],
   "source": []
  }
 ],
 "metadata": {
  "colab": {
   "authorship_tag": "ABX9TyNvA/g06WRyf+z+DY1D61E0",
   "include_colab_link": true,
   "name": "Multicompartment Sim V1.ipynb",
   "provenance": []
  },
  "extensions": {
   "jupyter_dashboards": {
    "activeView": "grid_default",
    "version": 1,
    "views": {
     "grid_default": {
      "cellMargin": 10,
      "defaultCellHeight": 20,
      "maxColumns": 12,
      "name": "grid",
      "type": "grid"
     },
     "report_default": {
      "name": "report",
      "type": "report"
     }
    }
   }
  },
  "kernelspec": {
   "display_name": "Python 3",
   "language": "python",
   "name": "python3"
  },
  "language_info": {
   "codemirror_mode": {
    "name": "ipython",
    "version": 3
   },
   "file_extension": ".py",
   "mimetype": "text/x-python",
   "name": "python",
   "nbconvert_exporter": "python",
   "pygments_lexer": "ipython3",
   "version": "3.8.3"
  }
 },
 "nbformat": 4,
 "nbformat_minor": 4
}
