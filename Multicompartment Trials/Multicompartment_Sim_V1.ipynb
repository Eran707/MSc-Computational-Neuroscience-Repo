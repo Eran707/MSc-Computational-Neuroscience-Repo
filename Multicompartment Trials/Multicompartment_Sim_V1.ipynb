{
 "cells": [
  {
   "cell_type": "markdown",
   "metadata": {
    "colab_type": "text",
    "id": "view-in-github"
   },
   "source": [
    "<a href=\"https://colab.research.google.com/github/Eran707/MSc-Computational-Neuroscience-Repo/blob/master/Multicompartment_Sim_V1.ipynb\" target=\"_parent\"><img src=\"https://colab.research.google.com/assets/colab-badge.svg\" alt=\"Open In Colab\"/></a>"
   ]
  },
  {
   "cell_type": "markdown",
   "metadata": {
    "id": "wOh7eT3qJET3"
   },
   "source": [
    "# **Neural Multicompartment Simulator**\n",
    "\n",
    "**Eran Frank Shorer**\n",
    "\n",
    "**MSc Computational Neuroscience**\n",
    "\n",
    "**\"Investigating the effects of impermeant anions on the electrical and computational properties of neurons\"**\n",
    "\n",
    "\n"
   ]
  },
  {
   "cell_type": "markdown",
   "metadata": {},
   "source": [
    "## Instructions:\n",
    "\n",
    "This jupyter notebook consists of cells. Some cells are plain text, while others are code. \n",
    "\n",
    "Press Shift-Enter simultaneously, or click the cell and press the play button in the main toolbar above to run the cell. \n",
    "\n",
    "The output of the cell should be displayed below the cell. \n",
    "\n"
   ]
  },
  {
   "cell_type": "markdown",
   "metadata": {
    "id": "D1Rx72GZLHeg"
   },
   "source": [
    "## **Import classes and modules** \n"
   ]
  },
  {
   "cell_type": "code",
   "execution_count": 76,
   "metadata": {
    "colab": {
     "base_uri": "https://localhost:8080/",
     "height": 367
    },
    "id": "NvJTcjQCJKbg",
    "outputId": "7183f5e7-ee74-4e38-d5d4-b0a87a8ba314",
    "tags": [
     "hide-input"
    ]
   },
   "outputs": [
    {
     "name": "stdout",
     "output_type": "stream",
     "text": [
      "All relevant classes imported\n"
     ]
    }
   ],
   "source": [
    "from ipywidgets import widgets, Layout, interact, interactive, interactive_output\n",
    "from IPython.display import display\n",
    "import common\n",
    "import constants\n",
    "import compartment\n",
    "import electrodiffusion\n",
    "import numpy as np\n",
    "import matplotlib.pyplot as plt\n",
    "import seaborn as sns \n",
    "print(\"All relevant classes imported\")\n"
   ]
  },
  {
   "cell_type": "markdown",
   "metadata": {
    "id": "J3jjSLF4Lhuf"
   },
   "source": [
    "## **Set simulation parameters**"
   ]
  },
  {
   "cell_type": "markdown",
   "metadata": {
    "id": "8EvQGJHdLq4u"
   },
   "source": [
    "## *A) Timing*"
   ]
  },
  {
   "cell_type": "code",
   "execution_count": 77,
   "metadata": {
    "id": "SDuN6AyqJc63"
   },
   "outputs": [
    {
     "data": {
      "application/vnd.jupyter.widget-view+json": {
       "model_id": "ec9052040d8649e49de5be7146af3f33",
       "version_major": 2,
       "version_minor": 0
      },
      "text/plain": [
       "VBox(children=(Label(value='Set the simulation run time (minutes):'), FloatSlider(value=3.0, continuous_update…"
      ]
     },
     "metadata": {},
     "output_type": "display_data"
    }
   ],
   "source": [
    "lbl_total_t = widgets.Label(value=\"Set the simulation run time (minutes):\")\n",
    "sldr_total_t = widgets.FloatSlider(value=3, min=1, max=20, step=0.5, disabled=False, continuous_update=False, orientation='horizontal',\n",
    "    readout=True, readout_format='.1f')\n",
    "lbl_dt = widgets.Label(value=\"Set the simulation time step (milliseconds):\")\n",
    "sldr_dt = widgets.FloatSlider(value=1, min=1, max=10, step=0.5, disabled=False, continuous_update=False, orientation='horizontal',\n",
    "    readout=True, readout_format='.1f')\n",
    "\n",
    "dt= sldr_dt.value*1e-3 # 1ms time steps \n",
    "total_t= sldr_total_t.value *60 #s\n",
    "\n",
    "run_t = 0 #current simulation timing\n",
    "t_arr = [0]\n",
    "\n",
    "\n",
    "widgets.VBox([lbl_total_t,sldr_total_t,lbl_dt,sldr_dt])\n",
    "\n",
    "\n",
    "#print(\"Set total simulation time (minutes):\")\n",
    "\n",
    "#print(\"Set time step (milliseconds):\")\n"
   ]
  },
  {
   "cell_type": "markdown",
   "metadata": {
    "id": "7OExdRbPxshW"
   },
   "source": [
    "## *B) Compartment parameters*"
   ]
  },
  {
   "cell_type": "code",
   "execution_count": 78,
   "metadata": {},
   "outputs": [],
   "source": [
    "\n",
    "def f(a,b):\n",
    " btn_comp = widgets.Button(\n",
    "    description='Create new compartment',\n",
    "    disabled=False,\n",
    "    button_style='', # 'success', 'info', 'warning', 'danger' or ''\n",
    "    tooltip='Create new compartment',\n",
    "    icon='check',\n",
    "    layout= Layout(width = \"30%\",height = \"50px\"))\n",
    "\n"
   ]
  },
  {
   "cell_type": "code",
   "execution_count": 80,
   "metadata": {},
   "outputs": [
    {
     "data": {
      "application/vnd.jupyter.widget-view+json": {
       "model_id": "5fe8bbd5e30e4e9eaf56cc9e65eabc25",
       "version_major": 2,
       "version_minor": 0
      },
      "text/plain": [
       "Output()"
      ]
     },
     "metadata": {},
     "output_type": "display_data"
    },
    {
     "data": {
      "application/vnd.jupyter.widget-view+json": {
       "model_id": "287d53136368491895ec70ff4c82d0e5",
       "version_major": 2,
       "version_minor": 0
      },
      "text/plain": [
       "Text(value='name')"
      ]
     },
     "metadata": {},
     "output_type": "display_data"
    },
    {
     "data": {
      "application/vnd.jupyter.widget-view+json": {
       "model_id": "cef35832be0e4136bd5d0d32bde37fc4",
       "version_major": 2,
       "version_minor": 0
      },
      "text/plain": [
       "Button(description='new compartment', style=ButtonStyle())"
      ]
     },
     "metadata": {},
     "output_type": "display_data"
    }
   ],
   "source": [
    "txt_name = widgets.Text(value=\"name\")\n",
    "\n",
    "global name \n",
    "name = txt_name.value\n",
    "\n",
    "output = widgets.Output()\n",
    "\n",
    "\n",
    "btn_new_comp = widgets.Button(description = \"new compartment\")\n",
    "\n",
    "\n",
    "def new_comp_clicked(b):\n",
    "    \n",
    "    name = txt_name.value\n",
    "    new_comp = compartment.Compartment(name)\n",
    "    with output:\n",
    "        print(\"Compartment: (\"+ new_comp.name +\") created\" )\n",
    "\n",
    "      \n",
    "btn_new_comp.on_click(new_comp_clicked)\n",
    "\n",
    "\n",
    "display(output,txt_name,btn_new_comp)\n",
    "\n",
    "\n",
    "\n",
    "\n"
   ]
  },
  {
   "cell_type": "code",
   "execution_count": 81,
   "metadata": {},
   "outputs": [
    {
     "ename": "NameError",
     "evalue": "name 'comp_arr' is not defined",
     "output_type": "error",
     "traceback": [
      "\u001B[1;31m---------------------------------------------------------------------------\u001B[0m",
      "\u001B[1;31mNameError\u001B[0m                                 Traceback (most recent call last)",
      "\u001B[1;32m<ipython-input-81-586c6b8f33c0>\u001B[0m in \u001B[0;36m<module>\u001B[1;34m\u001B[0m\n\u001B[1;32m----> 1\u001B[1;33m \u001B[0mprint\u001B[0m\u001B[1;33m(\u001B[0m\u001B[0mcomp_arr\u001B[0m\u001B[1;33m)\u001B[0m\u001B[1;33m\u001B[0m\u001B[1;33m\u001B[0m\u001B[0m\n\u001B[0m",
      "\u001B[1;31mNameError\u001B[0m: name 'comp_arr' is not defined"
     ]
    }
   ],
   "source": []
  },
  {
   "cell_type": "code",
   "execution_count": null,
   "metadata": {},
   "outputs": [],
   "source": []
  },
  {
   "cell_type": "code",
   "execution_count": 19,
   "metadata": {
    "colab": {
     "base_uri": "https://localhost:8080/",
     "height": 163
    },
    "id": "1-v1SmMkLweq",
    "outputId": "0fd598cb-2073-4022-f60f-e7eeeee4d907"
   },
   "outputs": [],
   "source": [
    "comp_1 = compartment.Compartment(\"comp_1\")\n",
    "comp_1.set_ion_properties()\n",
    "comp_2 = compartment.Compartment(\"comp_2\")\n",
    "comp_2.set_ion_properties()\n",
    "ed_1_2 = electrodiffusion.Electrodiffusion(comp_1,comp_2)"
   ]
  },
  {
   "cell_type": "markdown",
   "metadata": {
    "id": "y_tTzubJxzoc",
    "pycharm": {
     "name": "#%% md\n"
    }
   },
   "source": [
    "## **Run Simulation**"
   ]
  },
  {
   "cell_type": "code",
   "execution_count": 13,
   "metadata": {
    "jupyter": {
     "outputs_hidden": false
    },
    "pycharm": {
     "name": "#%%\n"
    }
   },
   "outputs": [
    {
     "ename": "TypeError",
     "evalue": "'dict_keys' object is not subscriptable",
     "output_type": "error",
     "traceback": [
      "\u001B[1;31m---------------------------------------------------------------------------\u001B[0m",
      "\u001B[1;31mTypeError\u001B[0m                                 Traceback (most recent call last)",
      "\u001B[1;32m<ipython-input-13-b27d637144e3>\u001B[0m in \u001B[0;36m<module>\u001B[1;34m\u001B[0m\n\u001B[0;32m      5\u001B[0m     \u001B[0mcomp_1_ed_dict\u001B[0m \u001B[1;33m=\u001B[0m \u001B[0mcomp_1\u001B[0m\u001B[1;33m.\u001B[0m\u001B[0mget_ed_dict\u001B[0m\u001B[1;33m(\u001B[0m\u001B[1;33m)\u001B[0m\u001B[1;33m\u001B[0m\u001B[1;33m\u001B[0m\u001B[0m\n\u001B[0;32m      6\u001B[0m     \u001B[0mcomp_2_ed_dict\u001B[0m \u001B[1;33m=\u001B[0m \u001B[0mcomp_2\u001B[0m\u001B[1;33m.\u001B[0m\u001B[0mget_ed_dict\u001B[0m\u001B[1;33m(\u001B[0m\u001B[1;33m)\u001B[0m\u001B[1;33m\u001B[0m\u001B[1;33m\u001B[0m\u001B[0m\n\u001B[1;32m----> 7\u001B[1;33m     \u001B[0med_conc_changes\u001B[0m \u001B[1;33m=\u001B[0m \u001B[0med_1_2\u001B[0m\u001B[1;33m.\u001B[0m\u001B[0mcalc_ed\u001B[0m\u001B[1;33m(\u001B[0m\u001B[0mdt\u001B[0m\u001B[1;33m,\u001B[0m\u001B[0mcomp_1_ed_dict\u001B[0m\u001B[1;33m,\u001B[0m\u001B[0mcomp_2_ed_dict\u001B[0m\u001B[1;33m)\u001B[0m\u001B[1;33m\u001B[0m\u001B[1;33m\u001B[0m\u001B[0m\n\u001B[0m\u001B[0;32m      8\u001B[0m     \u001B[0mcomp_1\u001B[0m\u001B[1;33m.\u001B[0m\u001B[0med_update\u001B[0m\u001B[1;33m(\u001B[0m\u001B[0med_conc_changes\u001B[0m\u001B[1;33m)\u001B[0m\u001B[1;33m\u001B[0m\u001B[1;33m\u001B[0m\u001B[0m\n\u001B[0;32m      9\u001B[0m     \u001B[1;32mfor\u001B[0m \u001B[0mj\u001B[0m \u001B[1;32min\u001B[0m \u001B[0med_conc_changes\u001B[0m\u001B[1;33m:\u001B[0m\u001B[1;33m\u001B[0m\u001B[1;33m\u001B[0m\u001B[0m\n",
      "\u001B[1;32mD:\\Academics\\MSc\\MSc_Chloride signalling in Epilepsy\\Code\\MSc-Computational-Neuroscience-Repo\\Multicompartment Trials\\electrodiffusion.py\u001B[0m in \u001B[0;36mcalc_ed\u001B[1;34m(self, dt, comp_a_ed_dict, comp_b_ed_dict)\u001B[0m\n\u001B[0;32m     66\u001B[0m         \u001B[0mions\u001B[0m \u001B[1;33m=\u001B[0m \u001B[0mlist\u001B[0m\u001B[1;33m(\u001B[0m\u001B[0mself\u001B[0m\u001B[1;33m.\u001B[0m\u001B[0med_change\u001B[0m\u001B[1;33m)\u001B[0m\u001B[1;33m\u001B[0m\u001B[1;33m\u001B[0m\u001B[0m\n\u001B[0;32m     67\u001B[0m         \u001B[0mi\u001B[0m \u001B[1;33m=\u001B[0m \u001B[1;36m0\u001B[0m\u001B[1;33m\u001B[0m\u001B[1;33m\u001B[0m\u001B[0m\n\u001B[1;32m---> 68\u001B[1;33m         \u001B[1;32mfor\u001B[0m \u001B[0mi\u001B[0m \u001B[1;32min\u001B[0m \u001B[1;36m3\u001B[0m\u001B[1;33m:\u001B[0m\u001B[1;33m\u001B[0m\u001B[1;33m\u001B[0m\u001B[0m\n\u001B[0m\u001B[0;32m     69\u001B[0m             \u001B[0mion\u001B[0m \u001B[1;33m=\u001B[0m \u001B[0mions\u001B[0m\u001B[1;33m[\u001B[0m\u001B[0mi\u001B[0m\u001B[1;33m]\u001B[0m\u001B[1;33m\u001B[0m\u001B[1;33m\u001B[0m\u001B[0m\n\u001B[0;32m     70\u001B[0m             \u001B[0mself\u001B[0m\u001B[1;33m.\u001B[0m\u001B[0med_change\u001B[0m\u001B[1;33m[\u001B[0m\u001B[0mion\u001B[0m\u001B[1;33m]\u001B[0m \u001B[1;33m+=\u001B[0m \u001B[0mself\u001B[0m\u001B[1;33m.\u001B[0m\u001B[0mcalc_drift\u001B[0m\u001B[1;33m(\u001B[0m\u001B[0mion\u001B[0m\u001B[1;33m,\u001B[0m\u001B[0mcomp_a_ed_dict\u001B[0m\u001B[1;33m[\u001B[0m\u001B[0mion\u001B[0m\u001B[1;33m]\u001B[0m\u001B[1;33m,\u001B[0m\u001B[0mcomp_b_ed_dict\u001B[0m\u001B[1;33m[\u001B[0m\u001B[0mion\u001B[0m\u001B[1;33m]\u001B[0m\u001B[1;33m,\u001B[0m\u001B[0mdV\u001B[0m\u001B[1;33m)\u001B[0m\u001B[1;33m\u001B[0m\u001B[1;33m\u001B[0m\u001B[0m\n",
      "\u001B[1;31mTypeError\u001B[0m: 'dict_keys' object is not subscriptable"
     ]
    }
   ],
   "source": [
    "while run_t < total_t:\n",
    "\n",
    "    comp_1.step(dt)\n",
    "    comp_2.step(dt)\n",
    "    comp_1_ed_dict = comp_1.get_ed_dict()\n",
    "    comp_2_ed_dict = comp_2.get_ed_dict()\n",
    "    ed_conc_changes = ed_1_2.calc_ed(dt,comp_1_ed_dict,comp_2_ed_dict)\n",
    "    comp_1.ed_update(ed_conc_changes)\n",
    "    for j in ed_conc_changes:\n",
    "        ed_conc_changes[j] *= -1\n",
    "    comp_2.ed_update(ed_conc_changes)\n",
    "    comp_1.update_volumes()\n",
    "    comp_1.update_arrays()\n",
    "    run_t += dt\n",
    "    t_arr.append(run_t)\n",
    "\n"
   ]
  },
  {
   "cell_type": "code",
   "execution_count": null,
   "metadata": {
    "jupyter": {
     "outputs_hidden": false
    },
    "pycharm": {
     "name": "#%%\n"
    }
   },
   "outputs": [],
   "source": []
  }
 ],
 "metadata": {
  "celltoolbar": "Edit Metadata",
  "colab": {
   "authorship_tag": "ABX9TyNvA/g06WRyf+z+DY1D61E0",
   "include_colab_link": true,
   "name": "Multicompartment Sim V1.ipynb",
   "provenance": []
  },
  "kernelspec": {
   "display_name": "Python 3",
   "language": "python",
   "name": "python3"
  },
  "language_info": {
   "codemirror_mode": {
    "name": "ipython",
    "version": 3
   },
   "file_extension": ".py",
   "mimetype": "text/x-python",
   "name": "python",
   "nbconvert_exporter": "python",
   "pygments_lexer": "ipython3",
   "version": "3.8.3"
  }
 },
 "nbformat": 4,
 "nbformat_minor": 4
}