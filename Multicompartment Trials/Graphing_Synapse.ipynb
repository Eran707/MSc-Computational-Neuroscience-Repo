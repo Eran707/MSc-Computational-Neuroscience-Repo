{
 "cells": [
  {
   "cell_type": "markdown",
   "metadata": {},
   "source": [
    "# Visualization of synaptic effects and calculation of time and length constants "
   ]
  },
  {
   "cell_type": "markdown",
   "metadata": {},
   "source": [
    "## IMPORTS"
   ]
  },
  {
   "cell_type": "code",
   "execution_count": 151,
   "metadata": {},
   "outputs": [
    {
     "name": "stdout",
     "output_type": "stream",
     "text": [
      "All relevant classes imported\n"
     ]
    }
   ],
   "source": [
    "try:\n",
    "        \n",
    "    import h5py\n",
    "    \n",
    "    from ipywidgets import widgets, Layout, interact, interactive, interactive_output, Dropdown\n",
    "    from IPython.display import display\n",
    "    import matplotlib.pyplot as mplt\n",
    "    import numpy as np\n",
    "    import random\n",
    "    import math\n",
    "    import seaborn as sns \n",
    "    import pandas as pd\n",
    "    import graphing as gr\n",
    "    #!pip install viola\n",
    "    ########## Modules required for artist drawing on matplotlib\n",
    "    import matplotlib.path as mpath\n",
    "    import matplotlib.lines as mlines\n",
    "    import matplotlib.patches as mpatches\n",
    "    from matplotlib.collections import PatchCollection\n",
    "    \n",
    "      \n",
    "except ModuleNotFoundError:\n",
    "        print(\"A class you are trying to import is not present in the directory\")\n",
    "    \n",
    "except Exception:\n",
    "        print(\"Something went wrong - modules have not been imported\")\n",
    "\n",
    "else: \n",
    "    print(\"All relevant classes imported\")"
   ]
  },
  {
   "cell_type": "markdown",
   "metadata": {},
   "source": [
    "## FILE SELECTION"
   ]
  },
  {
   "cell_type": "code",
   "execution_count": 15,
   "metadata": {},
   "outputs": [
    {
     "data": {
      "application/vnd.jupyter.widget-view+json": {
       "model_id": "64892c3a7ed7497096881bf9894695a8",
       "version_major": 2,
       "version_minor": 0
      },
      "text/plain": [
       "Text(value=' Test-inhib3', description='File name')"
      ]
     },
     "metadata": {},
     "output_type": "display_data"
    },
    {
     "data": {
      "application/vnd.jupyter.widget-view+json": {
       "model_id": "b0323ff15e92494da632494c4a2adc44",
       "version_major": 2,
       "version_minor": 0
      },
      "text/plain": [
       "Button(button_style='success', description='Select file', style=ButtonStyle())"
      ]
     },
     "metadata": {},
     "output_type": "display_data"
    },
    {
     "data": {
      "application/vnd.jupyter.widget-view+json": {
       "model_id": "a5a9ae8e39d444fe8d0858a994014ff9",
       "version_major": 2,
       "version_minor": 0
      },
      "text/plain": [
       "Output()"
      ]
     },
     "metadata": {},
     "output_type": "display_data"
    },
    {
     "name": "stdout",
     "output_type": "stream",
     "text": [
      "File found and content loaded into memory\n"
     ]
    }
   ],
   "source": [
    "#######################################################\n",
    "#### GUI \n",
    "\n",
    "edt_filename = widgets.Text(description = 'File name', value=' Test-inhib3')\n",
    "btn_select = widgets.Button(description = 'Select file',button_style='success')\n",
    "output_file = widgets.Output()\n",
    "\n",
    "display(edt_filename, btn_select,output_file)\n",
    "\n",
    "\n",
    "\n",
    "#######################################################\n",
    "#### FUNCTIONS\n",
    "\n",
    "\n",
    "#df_flux = pd.DataFrame({'Compartment':[],'Na_net':[], 'Na_leak':[],'Na_Atpase':[], 'K_net':[],'K_leak':[],'K_Atpase':[],'K_kcc2':[], 'Cl_net':[],'Cl_kcc2':[],'X':[],'z':[]  })\n",
    "df_ed = pd.DataFrame({'Boundary':[],'Na':[],'K':[],'Cl':[]})\n",
    "\n",
    "\n",
    "\n",
    "def btn_select_clicked(b):\n",
    "    global file_name, df_end, df_start, df_end_flux, df_end_ed, df_end_net_flux\n",
    "    file_name = \"\\\\\"\n",
    "    file_name = file_name + edt_filename.value \n",
    "    \n",
    "    try: \n",
    "        with h5py.File(file_name, mode='r') as hdf:\n",
    "            \n",
    "            print(\"File found and content loaded into memory\")\n",
    "            global C, comp_names_arr, intervals, interval_arr, master_arr, t_arr, ED_master_arr,E_group_arr\n",
    "            C = hdf.get('COMPARTMENTS')\n",
    "            C_group_arr =[]\n",
    "            t_arr_bool = True\n",
    "            comp_names_arr= list(C.keys())\n",
    "                        \n",
    "            C1 = C.get(comp_names_arr[0])\n",
    "            \n",
    "            T = hdf.get('TIMING')\n",
    "            total_t = T.get('TOTAL_T')[()]\n",
    "            intervals = T.get('INTERVALS')[()]\n",
    "            dt = T.get(\"DT\")[()]\n",
    "            total_steps = total_t /dt          \n",
    "            interval_step = total_steps / intervals\n",
    "            interval_arr = [round(interval_step * i) for i in range(intervals)]\n",
    "            \n",
    "            master_arr = []\n",
    "            t_arr =[]\n",
    "            \n",
    "           \n",
    "            \n",
    "            \n",
    "            \n",
    "            ##### LOADING COMPARTMENT DATA\n",
    "            for e in range(len(comp_names_arr)):\n",
    "                C_group = C.get(comp_names_arr[e])\n",
    "                C_group_arr.append(C_group)\n",
    "               \n",
    "                data_arr_2 =[]\n",
    "                for j in range(len(list(C_group.keys()))):\n",
    "                    dataset = C_group.get(str(interval_arr[j]))\n",
    "                    \n",
    "                    data_arr = []\n",
    "                    for d in range(len(list(dataset))):\n",
    "                        data_arr.append(dataset[d])\n",
    "                    \n",
    "                    data_arr_2.append(data_arr)\n",
    "            \n",
    "                    if t_arr_bool == True:\n",
    "                        t_arr.append(data_arr[0])         \n",
    "                \n",
    "                master_arr.append(data_arr_2)\n",
    "                t_arr_bool = False\n",
    "                \n",
    "            \n",
    "            #df_start['radius'] = \n",
    "            \n",
    "            E = hdf.get('ELECTRODIFFUSION')\n",
    "            E_group_arr = list(E.keys())\n",
    "            ED_master_arr = []            \n",
    "            \n",
    "            ##### LOADING ELECTRODIFFUSION DATA\n",
    "            for x in range(len(E_group_arr)): # Looping through the electrodiffusion groups on the file\n",
    "                \n",
    "                E_group = E.get(E_group_arr[x])\n",
    "                \n",
    "                ED_data_arr =[] #stores the electrodiffusion data for a group\n",
    "                \n",
    "                for y in range(len(list(E_group.keys()))-1): # Looping through all the datasets of the group\n",
    "                    \n",
    "                    dataset = E_group.get(str(interval_arr[y+1]))\n",
    "                   \n",
    "                    ED_data_arr_2 = [] #stores the dataset values for one dataset\n",
    "                    for z in range(len(list(dataset))): # Looping through the individual datasets to extract data\n",
    "                        ED_data_arr_2.append(dataset[z])\n",
    "                    \n",
    "                    \n",
    "                    ED_data_arr.append(ED_data_arr_2) \n",
    "                    \n",
    "            \n",
    "                ED_master_arr.append(ED_data_arr) #contains all the electrodiffusion data for all the groups (1st index is the group, 2nd index is the interval)\n",
    "            \n",
    "            \n",
    "            ###### SYNAPSE DATA ######\n",
    "            S = hdf.get('SYNAPSE-SETTINGS')\n",
    "            s_arr = list(S.keys())\n",
    "            for s in range(len(s_arr)):\n",
    "                s_data_arr = []\n",
    "                s_dataset = S.get(s_arr[s])[()]\n",
    "                for d in range(len(s_dataset)):\n",
    "                    s_data_arr.append(s_dataset[d])\n",
    "            \n",
    "            global df_synapses\n",
    "            df_synapses = pd.DataFrame(data=s_data_arr, index=['Compartment Name','Synapse Type','Start time(s)','Duration(s)','End time(s)','Max NT(mM)','Synaptic conductance'])\n",
    "            \n",
    "            \n",
    "        ################\n",
    "        # DATAFRAMES\n",
    "        ################\n",
    "    \n",
    "        # START VALUE DATAFRAME\n",
    "        df_start_data = [master_arr[i][0][1:9] for i in range(len(comp_names_arr))]\n",
    "        df_start=pd.DataFrame(data=df_start_data, index=comp_names_arr)\n",
    "        df_start.columns = ['Radius', 'Length', 'Volume', 'Na_i', 'K_i', 'Cl_i','X_i','z_i']\n",
    "        \n",
    "        # END VALUE DATAFRAME\n",
    "        df_end_data = [master_arr[i][-1][1:9] for i in range(len(comp_names_arr))]\n",
    "        for i in range(len(comp_names_arr)):\n",
    "            df_end_data[i].append(master_arr[i][-1][-3]*1e3) #vm\n",
    "            df_end_data[i].append(master_arr[i][-1][-2]*1e3) #ek\n",
    "            df_end_data[i].append(master_arr[i][-1][-1]*1e3) #ecl\n",
    "            df_end_data[i].append((master_arr[i][-1][-3]-master_arr[i][-1][-1])*1e3) #driving force\n",
    "            \n",
    "        df_end=pd.DataFrame(data=df_end_data,index=comp_names_arr)\n",
    "        df_end.columns = ['Radius', 'Length', 'Volume', 'Na_i', 'K_i', 'Cl_i','X_i','z_i','Vm (mV)','Ek (mV)','ECl (mV)','Cl-Driving force (mV)']\n",
    "        \n",
    "        \n",
    "        # END TRANSMEMBRANE FLUX DATAFRAME\n",
    "        \n",
    "        final_mol_data =  [master_arr[i][-1][9:19]  for i in range(len(comp_names_arr))]\n",
    "        #semifinal_mol_data =  [master_arr[i][-2][9:19]  for i in range(len(comp_names_arr))]\n",
    "        \n",
    "        df_end_flux_data = []\n",
    "        \n",
    "    \n",
    "        for i in range(len(final_mol_data)):\n",
    "            temp_arr =[]\n",
    "            for j in range(len(final_mol_data[i])):\n",
    "                final_mol_data[i][j] = final_mol_data[i][j] * master_arr[i][-1][3]\n",
    "                #semifinal_mol_data[i][j] = semifinal_mol_data[i][j] * master_arr[i][-2][3]\n",
    "                #temp_arr.append(final_mol_data[i][j]-semifinal_mol_data[i][j])\n",
    "            #df_end_flux_data.append(temp_arr)\n",
    "            \n",
    "            \n",
    "        df_end_flux_cols = ['Na_net', 'Na_leak','Na_Atpase', 'K_net','K_leak','K_Atpase','K_kcc2', 'Cl_net','Cl_leak','Cl_kcc2']\n",
    "        df_end_flux = pd.DataFrame(data =final_mol_data, index = comp_names_arr, columns=df_end_flux_cols)\n",
    "        \n",
    "        # END ELECTRODIFFUSION DATAFRAME\n",
    "        df_end_ed_data = [ED_master_arr[i][-1][0:3] for i in range(len(ED_master_arr))]\n",
    "        for i in range(len(df_end_ed_data)):\n",
    "            for j in range(3):\n",
    "                df_end_ed_data[i][j] = df_end_ed_data[i][j] * master_arr[i][-1][3]\n",
    "                    \n",
    "        \n",
    "        df_end_ed_cols = ['Na_ED_flux', 'K_ED_flux', 'Cl_ED_flux']\n",
    "        df_end_ed = pd.DataFrame(data = df_end_ed_data, index = E_group_arr, columns=df_end_ed_cols)\n",
    "        \n",
    "        \n",
    "        \n",
    "        # NET FLUX DATAFRAME\n",
    "        na_net_arr, k_net_arr,cl_net_arr,x_net_arr,total_net_arr = [],[],[],[],[]\n",
    "       \n",
    "        for i in range(len(comp_names_arr)):\n",
    "            na_net_arr.append(df_end_flux.iloc[i][0])\n",
    "            k_net_arr.append(df_end_flux.iloc[i][3])\n",
    "            cl_net_arr.append(df_end_flux.iloc[i][7])\n",
    "\n",
    "        x_net_arr = [((master_arr[i][-1][7] * master_arr[i][-1][3]) -(master_arr[i][-2][7] * master_arr[i][-2][3]))  for i in range(len(comp_names_arr))]\n",
    "        #(master_arr[i][-2][7]- master_arr[i][-2][3]\n",
    "        \n",
    "        for j in range(len(E_group_arr)):\n",
    "            na_net_arr[j] = na_net_arr[j] - df_end_ed.iloc[j][0]\n",
    "            na_net_arr[j+1] = na_net_arr[j+1] + df_end_ed.iloc[j][0]\n",
    "            k_net_arr[j] = k_net_arr[j] - df_end_ed.iloc[j][1]\n",
    "            k_net_arr[j+1] = k_net_arr[j+1] + df_end_ed.iloc[j][1]\n",
    "            cl_net_arr[j] = cl_net_arr[j] + df_end_ed.iloc[j][2]\n",
    "            cl_net_arr[j+1] = cl_net_arr[j+1] - df_end_ed.iloc[j][2]\n",
    "\n",
    "        total_net_arr = [na_net_arr[a]+k_net_arr[a]-cl_net_arr[a]-x_net_arr[a] for a in range(len(comp_names_arr))]\n",
    "\n",
    "\n",
    "        df_end_net_flux = pd.DataFrame(data ={'Na-Net':na_net_arr, 'K-Net':k_net_arr,'Cl-Net':cl_net_arr,'X-Net':x_net_arr,'Total':total_net_arr }, index=comp_names_arr)     \n",
    "\n",
    "\n",
    "            \n",
    "    except: \n",
    "        raise(\"File not found\")\n",
    "        raise(\"File needs to be in base directory\")\n",
    "\n",
    "\n",
    "btn_select.on_click(btn_select_clicked)"
   ]
  },
  {
   "cell_type": "code",
   "execution_count": 16,
   "metadata": {},
   "outputs": [
    {
     "data": {
      "text/html": [
       "<div>\n",
       "<style scoped>\n",
       "    .dataframe tbody tr th:only-of-type {\n",
       "        vertical-align: middle;\n",
       "    }\n",
       "\n",
       "    .dataframe tbody tr th {\n",
       "        vertical-align: top;\n",
       "    }\n",
       "\n",
       "    .dataframe thead th {\n",
       "        text-align: right;\n",
       "    }\n",
       "</style>\n",
       "<table border=\"1\" class=\"dataframe\">\n",
       "  <thead>\n",
       "    <tr style=\"text-align: right;\">\n",
       "      <th></th>\n",
       "      <th>0</th>\n",
       "    </tr>\n",
       "  </thead>\n",
       "  <tbody>\n",
       "    <tr>\n",
       "      <th>Compartment Name</th>\n",
       "      <td>8.000000e+00</td>\n",
       "    </tr>\n",
       "    <tr>\n",
       "      <th>Synapse Type</th>\n",
       "      <td>0.000000e+00</td>\n",
       "    </tr>\n",
       "    <tr>\n",
       "      <th>Start time(s)</th>\n",
       "      <td>5.000000e-02</td>\n",
       "    </tr>\n",
       "    <tr>\n",
       "      <th>Duration(s)</th>\n",
       "      <td>2.000000e-03</td>\n",
       "    </tr>\n",
       "    <tr>\n",
       "      <th>End time(s)</th>\n",
       "      <td>5.200000e-02</td>\n",
       "    </tr>\n",
       "    <tr>\n",
       "      <th>Max NT(mM)</th>\n",
       "      <td>1.000000e-03</td>\n",
       "    </tr>\n",
       "    <tr>\n",
       "      <th>Synaptic conductance</th>\n",
       "      <td>1.000000e-08</td>\n",
       "    </tr>\n",
       "  </tbody>\n",
       "</table>\n",
       "</div>"
      ],
      "text/plain": [
       "                                 0\n",
       "Compartment Name      8.000000e+00\n",
       "Synapse Type          0.000000e+00\n",
       "Start time(s)         5.000000e-02\n",
       "Duration(s)           2.000000e-03\n",
       "End time(s)           5.200000e-02\n",
       "Max NT(mM)            1.000000e-03\n",
       "Synaptic conductance  1.000000e-08"
      ]
     },
     "execution_count": 16,
     "metadata": {},
     "output_type": "execute_result"
    }
   ],
   "source": [
    "df_synapses"
   ]
  },
  {
   "cell_type": "markdown",
   "metadata": {},
   "source": [
    "## Comparing synapse compartment to soma"
   ]
  },
  {
   "cell_type": "code",
   "execution_count": 6,
   "metadata": {},
   "outputs": [
    {
     "data": {
      "application/vnd.jupyter.widget-view+json": {
       "model_id": "4adeeb7249764d46996289dd3e3a193d",
       "version_major": 2,
       "version_minor": 0
      },
      "text/plain": [
       "Button(button_style='success', description='Plot', style=ButtonStyle())"
      ]
     },
     "metadata": {},
     "output_type": "display_data"
    },
    {
     "data": {
      "application/vnd.jupyter.widget-view+json": {
       "model_id": "3b3b196d9ec14626aaf64ce81ebfe882",
       "version_major": 2,
       "version_minor": 0
      },
      "text/plain": [
       "Output()"
      ]
     },
     "metadata": {},
     "output_type": "display_data"
    },
    {
     "data": {
      "image/png": "[encoded data removed]",
      "text/plain": [
       "<Figure size 720x864 with 2 Axes>"
      ]
     },
     "metadata": {
      "needs_background": "light"
     },
     "output_type": "display_data"
    }
   ],
   "source": [
    "#############################\n",
    "# GUI\n",
    "\n",
    "btn_synapse = widgets.Button(description =\"Plot\", button_style = 'success' )\n",
    "output_synapse = widgets.Output()\n",
    "\n",
    "display(btn_synapse,output_synapse)\n",
    "#############################\n",
    "\n",
    "def btn_synapse_clicked(b):\n",
    "    \n",
    "    f_synapse, (ax_synapse, ax_driving_force) = mplt.subplots(2,1, figsize=(10,12), sharex=True)\n",
    "    synapse_comp_name = \"Comp8\"\n",
    "    soma_name = \"0_Soma\"\n",
    "    comp_ecl_arr, comp_vm_arr, soma_ecl_arr, soma_vm_arr = [],[],[],[]\n",
    "    comp_df_arr, soma_df_arr = [],[]\n",
    "    \n",
    "    for i in range(len(comp_names_arr)):\n",
    "        if comp_names_arr[i] == synapse_comp_name:\n",
    "            synapse_comp_num = i\n",
    "        elif comp_names_arr[i] == soma_name:\n",
    "            soma_comp_num = i\n",
    "    \n",
    "\n",
    "    for i in range(len(master_arr[0])):\n",
    "        comp_ecl_arr.append(master_arr[synapse_comp_num][i][-1]*1e3)\n",
    "        comp_vm_arr.append(master_arr[synapse_comp_num][i][-3]*1e3)\n",
    "        comp_df_arr.append(master_arr[synapse_comp_num][i][-3]*1e3 - master_arr[synapse_comp_num][i][-1]*1e3)\n",
    "        soma_ecl_arr.append(master_arr[soma_comp_num][i][-1]*1e3)\n",
    "        soma_vm_arr.append(master_arr[soma_comp_num][i][-3]*1e3)\n",
    "        soma_df_arr.append(master_arr[soma_comp_num][i][-3]*1e3 - master_arr[soma_comp_num][i][-1]*1e3)\n",
    "        \n",
    "\n",
    "    ax_synapse.plot(t_arr[5:],comp_ecl_arr[5:], color = '#1b9e77', label = 'Comp8 - ECl' )\n",
    "    ax_synapse.plot(t_arr[5:],comp_vm_arr[5:], color = '#000000', label = 'Comp8 - Vm' )\n",
    "    ax_synapse.plot(t_arr[5:],soma_ecl_arr[5:], color = '#1b9e77', linestyle = '--', label = 'Soma - ECl')\n",
    "    ax_synapse.plot(t_arr[5:],soma_vm_arr[5:], color = '#000000', linestyle= '--',  label = 'Soma - Vm')\n",
    "    ax_synapse.set_xlabel('Time point(s)')\n",
    "    ax_synapse.set_ylabel('Voltage (mV)')\n",
    "    ax_synapse.minorticks_on()\n",
    "    ax_synapse.set_title(\"Vm and ECl during simulation\")\n",
    "    ax_synapse.legend()\n",
    "    sns.despine()\n",
    "    \n",
    "    ax_driving_force.plot(t_arr[5:],comp_df_arr[5:], color = 'red', label = 'Comp8 - Cl-driving force' )\n",
    "    ax_driving_force.plot(t_arr[5:],soma_df_arr[5:], color = 'red', label = 'Soma - Cl-driving force', linestyle = '--' )\n",
    "    \n",
    "    ax_driving_force.set_xlabel('Time point(s)')\n",
    "    ax_driving_force.minorticks_on()\n",
    "    ax_driving_force.set_ylabel('Voltage (mV)')\n",
    "    ax_driving_force.set_title(\"Cl Driving force during simulation\")\n",
    "    ax_driving_force.legend()\n",
    "    sns.despine()\n",
    "    \n",
    "    \n",
    "\n",
    "#############################\n",
    "btn_synapse.on_click(btn_synapse_clicked)"
   ]
  },
  {
   "cell_type": "markdown",
   "metadata": {},
   "source": [
    "## Time constant"
   ]
  },
  {
   "cell_type": "code",
   "execution_count": 87,
   "metadata": {},
   "outputs": [
    {
     "name": "stdout",
     "output_type": "stream",
     "text": [
      "Min voltage = -83.0899001 mV @ 0.05200000000003135 s\n",
      "Max voltage = -77.4296411 mV @ 0.19940000000017874 s\n",
      "Voltage difference = 5.660259 mV\n",
      "Theoretical voltage of time constant = -79.5239369 mV \n",
      "Actual voltage of time constant = -79.526601 mV, difference being -0.0026641 mV\n",
      "Time at actual time constant voltage = 0.06680000000004614 s \n",
      "Time constant = 14.800000000014794 ms\n"
     ]
    },
    {
     "data": {
      "image/png": "[encoded data removed]",
      "text/plain": [
       "<Figure size 432x288 with 1 Axes>"
      ]
     },
     "metadata": {
      "needs_background": "light"
     },
     "output_type": "display_data"
    }
   ],
   "source": [
    "###########\n",
    "global interval_min_voltage,min_voltage\n",
    "min_voltage  = 0\n",
    "interval_min_voltage = 0\n",
    "t_max_voltage = 0\n",
    "max_voltage  = -10000\n",
    "t_min_voltage = 0 \n",
    "v_difference = 0\n",
    "t_difference = 0\n",
    "\n",
    "\n",
    "for i in range(len(master_arr[8])):\n",
    "    \n",
    "    if master_arr[8][i][-3] < round(min_voltage,7):\n",
    "        min_voltage = master_arr[8][i][-3]\n",
    "        t_min_voltage = t_arr[i]\n",
    "        interval_min_voltage = i\n",
    "    elif master_arr[8][i][-3] > round(max_voltage,7):\n",
    "        max_voltage = master_arr[8][i][-3]\n",
    "        t_max_voltage = t_arr[i]\n",
    " \n",
    "v_difference = max_voltage-min_voltage\n",
    "v_time_constant_theoretical = min_voltage+(0.63*v_difference)\n",
    "\n",
    "\n",
    "min_v_diff = 1000\n",
    "\n",
    "for j in range(len(master_arr[8])):\n",
    "\n",
    "    temp_v_diff = abs(v_time_constant_theoretical) - abs(master_arr[8][j][-3])  \n",
    "    \n",
    "    if abs(temp_v_diff) < abs(min_v_diff):\n",
    "        min_v_diff = temp_v_diff\n",
    "        v_time_constant_actual = master_arr[8][j][-3] \n",
    "        t_time_constant = t_arr[j]\n",
    "        \n",
    "\n",
    "\n",
    "\n",
    "print(f'Min voltage = {round(min_voltage*1e3,7)} mV @ {t_min_voltage} s')\n",
    "print(f'Max voltage = {round (max_voltage*1e3,7)} mV @ {t_max_voltage} s')\n",
    "print(f'Voltage difference = {round(v_difference*1e3,7)} mV')\n",
    "print(f'Theoretical voltage of time constant = {round(v_time_constant_theoretical*1e3,7)} mV ')\n",
    "print(f'Actual voltage of time constant = {round(v_time_constant_actual*1e3,7)} mV, difference being {round(min_v_diff*1e3,7)} mV')\n",
    "print(f'Time at actual time constant voltage = {t_time_constant} s ')\n",
    "print(f'Time constant = {(t_time_constant - t_min_voltage)*1e3} ms' )\n",
    "\n",
    "f_tau,ax =mplt.subplots()\n",
    "ax.plot(t_arr, [master_arr[8][i][-3]*1e3 for i in range(len(t_arr))])\n",
    "ax.plot([t_time_constant,t_time_constant],[-84,v_time_constant_actual*1e3],color='r',linestyle='--')\n",
    "ax.plot([0,t_time_constant],[v_time_constant_actual*1e3,v_time_constant_actual*1e3],color='r',linestyle='--')\n",
    "ax.minorticks_on()\n",
    "ax.grid()\n",
    "sns.despine()"
   ]
  },
  {
   "cell_type": "markdown",
   "metadata": {},
   "source": [
    "## Space constant"
   ]
  },
  {
   "cell_type": "code",
   "execution_count": 154,
   "metadata": {},
   "outputs": [
    {
     "name": "stdout",
     "output_type": "stream",
     "text": [
      "Total multicompartment length = 0.00105 dm\n",
      "Voltage at Soma = -77.3579275 mV\n",
      "Voltage at Compartment 8 = -83.0899001 mV\n",
      "Voltage at Lambda = -79.47875736095168 mV\n",
      "Length constant Lambda = 0.0004594372528062466 dm\n"
     ]
    },
    {
     "data": {
      "image/png": "[encoded data removed]",
      "text/plain": [
       "<Figure size 720x360 with 1 Axes>"
      ]
     },
     "metadata": {
      "needs_background": "light"
     },
     "output_type": "display_data"
    }
   ],
   "source": [
    "###########\n",
    "voltage_arr = []\n",
    "current_length = 0\n",
    "length_arr = []\n",
    "for i in range(len(comp_names_arr)):\n",
    "    voltage_arr.append(master_arr[i][interval_min_voltage][-3])\n",
    "    if i == 1:\n",
    "        current_length += 15e-5\n",
    "    else:\n",
    "        current_length += 10e-5\n",
    "    length_arr.append(current_length)\n",
    "\n",
    "\n",
    "voltage_diff = abs(voltage_arr[8]) - abs(voltage_arr[0])  \n",
    "lambda_voltage = voltage_arr[8] + (voltage_diff*0.63)\n",
    "lambda_length = math.log((lambda_voltage*1e3)/(-76.7780459),4.77682*1e32)    \n",
    "    \n",
    "print(f'Total multicompartment length = {round(current_length,7)} dm')\n",
    "print(f'Voltage at Soma = {round(voltage_arr[0]*1e3,7)} mV')\n",
    "print(f'Voltage at Compartment 8 = {round(voltage_arr[8]*1e3,7)} mV')\n",
    "print(f'Voltage at Lambda = {lambda_voltage*1e3} mV')\n",
    "print(f'Length constant Lambda = {lambda_length} dm')\n",
    "\n",
    "voltage_arr= [voltage_arr[i]*1e3 for i in range(len(voltage_arr))]\n",
    "\n",
    "best_fit_x = [0.000001*i for i in range(1200)] \n",
    "best_fit_y = [-76.7780459*((4.77682*1e32)**i) for i in best_fit_x]\n",
    "\n",
    "\n",
    "\n",
    "f_lambda, ax_lambda = mplt.subplots(figsize=(10,5))\n",
    "ax_lambda.plot(length_arr[:-1:],voltage_arr[:-1:],'o')\n",
    "ax_lambda.plot(best_fit_x[:-1:],best_fit_y[:-1:])\n",
    "ax_lambda.minorticks_on()\n",
    "ax_lambda.grid()\n",
    "sns.despine()"
   ]
  },
  {
   "cell_type": "code",
   "execution_count": null,
   "metadata": {},
   "outputs": [],
   "source": []
  }
 ],
 "metadata": {
  "kernelspec": {
   "display_name": "Python 3",
   "language": "python",
   "name": "python3"
  },
  "language_info": {
   "codemirror_mode": {
    "name": "ipython",
    "version": 3
   },
   "file_extension": ".py",
   "mimetype": "text/x-python",
   "name": "python",
   "nbconvert_exporter": "python",
   "pygments_lexer": "ipython3",
   "version": "3.8.3"
  }
 },
 "nbformat": 4,
 "nbformat_minor": 4
}
