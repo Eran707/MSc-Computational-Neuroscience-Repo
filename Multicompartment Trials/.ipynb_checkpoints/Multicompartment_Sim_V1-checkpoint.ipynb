{
 "cells": [
  {
   "cell_type": "markdown",
   "metadata": {
    "colab_type": "text",
    "id": "view-in-github"
   },
   "source": [
    "<a href=\"https://colab.research.google.com/github/Eran707/MSc-Computational-Neuroscience-Repo/blob/master/Multicompartment_Sim_V1.ipynb\" target=\"_parent\"><img src=\"https://colab.research.google.com/assets/colab-badge.svg\" alt=\"Open In Colab\"/></a>"
   ]
  },
  {
   "cell_type": "markdown",
   "metadata": {
    "id": "wOh7eT3qJET3"
   },
   "source": [
    "# **Neural Multicompartment Simulator**\n",
    "\n",
    "**Eran Frank Shorer**\n",
    "\n",
    "**MSc Computational Neuroscience**\n",
    "\n",
    "**\"Investigating the effects of impermeant anions on the electrical and computational properties of neurons\"**\n",
    "\n",
    "\n"
   ]
  },
  {
   "cell_type": "markdown",
   "metadata": {},
   "source": [
    "## Instructions:\n",
    "\n",
    "This jupyter notebook consists of cells. Some cells are plain text, while others are code. \n",
    "\n",
    "Press Shift-Enter simultaneously, or click the cell and press the play button in the main toolbar above to run the cell. \n",
    "\n",
    "The output of the cell should be displayed below the cell. \n",
    "\n"
   ]
  },
  {
   "cell_type": "markdown",
   "metadata": {
    "id": "D1Rx72GZLHeg"
   },
   "source": [
    "## **Import classes and modules** \n"
   ]
  },
  {
   "cell_type": "code",
   "execution_count": 1,
   "metadata": {
    "colab": {
     "base_uri": "https://localhost:8080/",
     "height": 367
    },
    "id": "NvJTcjQCJKbg",
    "outputId": "7183f5e7-ee74-4e38-d5d4-b0a87a8ba314",
    "tags": [
     "hide-input"
    ]
   },
   "outputs": [
    {
     "name": "stdout",
     "output_type": "stream",
     "text": [
      "All relevant classes imported\n"
     ]
    }
   ],
   "source": [
    "import pandas as pd\n",
    "\n",
    "try:\n",
    "    from ipywidgets import widgets, Layout, interact, interactive, interactive_output, Dropdown\n",
    "    from IPython.display import display\n",
    "    from bqplot import pyplot as plt # bqplot is a plotting for jupyter\n",
    "    import common\n",
    "    import constants\n",
    "    import compartment\n",
    "    import electrodiffusion\n",
    "    import numpy as np\n",
    "    \n",
    "    import seaborn as sns \n",
    "    import pandas as pd\n",
    "    import graphing as gr\n",
    "    #!pip install viola\n",
    "    \n",
    "    \n",
    "except ModuleNotFoundError:\n",
    "        print(\"A class you are trying to import is not present in the directory\")\n",
    "    \n",
    "except Exception:\n",
    "        print(\"Something went wrong - modules have not been imported\")\n",
    "\n",
    "else: \n",
    "        print(\"All relevant classes imported\")\n",
    "    \n",
    "\n",
    "\n",
    "\n"
   ]
  },
  {
   "cell_type": "markdown",
   "metadata": {
    "id": "J3jjSLF4Lhuf"
   },
   "source": [
    "## **Set simulation parameters**"
   ]
  },
  {
   "cell_type": "markdown",
   "metadata": {
    "id": "7OExdRbPxshW"
   },
   "source": [
    "\n",
    "## *A) Compartment parameters*"
   ]
  },
  {
   "cell_type": "markdown",
   "metadata": {},
   "source": [
    "### A1) Set compartment parameters:"
   ]
  },
  {
   "cell_type": "code",
   "execution_count": 2,
   "metadata": {
    "scrolled": false
   },
   "outputs": [
    {
     "data": {
      "application/vnd.jupyter.widget-view+json": {
       "model_id": "427ac52db272477caa4255298d93e360",
       "version_major": 2,
       "version_minor": 0
      },
      "text/plain": [
       "Output()"
      ]
     },
     "metadata": {},
     "output_type": "display_data"
    },
    {
     "data": {
      "application/vnd.jupyter.widget-view+json": {
       "model_id": "3217dc70a3824098a28fc2df15b15049",
       "version_major": 2,
       "version_minor": 0
      },
      "text/plain": [
       "VBox(children=(HBox(children=(Label(value='Compartment Name: '), Text(value='Comp1'))), HBox(children=(Label(v…"
      ]
     },
     "metadata": {},
     "output_type": "display_data"
    }
   ],
   "source": [
    "### WIDGET INITIALIZATION ################################################################################\n",
    "txt_name = widgets.Text(value=\"Comp1\")\n",
    "lbl_name = widgets.Label(value =\"Compartment Name: \")\n",
    "name_box = widgets.HBox(children = [lbl_name,txt_name])\n",
    "\n",
    "\n",
    "lbl_rad = widgets.Label(value = \"Compartment Radius (um): \")\n",
    "sldr_rad = widgets.FloatSlider(value=5, min=1, max=11.0, step=0.5, disabled=False, continuous_update=False,\n",
    "    orientation='horizontal', readout=True, readout_format='.1f')\n",
    "rad_box = widgets.HBox(children = [lbl_rad,sldr_rad])\n",
    "\n",
    "lbl_len = widgets.Label(value = \"Compartment Length (um): \")\n",
    "sldr_len = widgets.FloatSlider(value=100, min=50, max=200, step=20, disabled=False, continuous_update=False,\n",
    "    orientation='horizontal', readout=True, readout_format='.1f')\n",
    "len_box = widgets.HBox(children = [lbl_len,sldr_len])\n",
    "\n",
    "lbl_nai = widgets.Label(value = \"Na+ concentration (mM): \")\n",
    "sldr_nai = widgets.FloatSlider(value=14, min=0, max=100, step=10, disabled=False, continuous_update=False,\n",
    "    orientation='horizontal', readout=True, readout_format='.1f')\n",
    "hbox_nai = widgets.HBox(children = [lbl_nai,sldr_nai])\n",
    "\n",
    "lbl_ki = widgets.Label(value = \"K+ concentration (mM): \")\n",
    "sldr_ki = widgets.FloatSlider(value=122, min=0, max=250, step=5, disabled=False, continuous_update=False,\n",
    "    orientation='horizontal', readout=True, readout_format='.1f')\n",
    "hbox_ki = widgets.HBox(children = [lbl_ki,sldr_ki])\n",
    "\n",
    "lbl_cli = widgets.Label(value = \"Cl- concentration (mM): \")\n",
    "sldr_cli = widgets.FloatSlider(value=5, min=0, max=50, step=5, disabled=False, continuous_update=False,\n",
    "    orientation='horizontal', readout=True, readout_format='.1f')\n",
    "hbox_cli = widgets.HBox(children = [lbl_cli,sldr_cli])\n",
    "\n",
    "lbl_xi = widgets.Label(value = \"Impermeant anion concentration (mM): \")\n",
    "sldr_xi = widgets.FloatSlider(value=150, min=0, max=300, step=10, disabled=False, continuous_update=False,\n",
    "    orientation='horizontal', readout=True, readout_format='.1f')\n",
    "hbox_xi = widgets.HBox(children = [lbl_xi,sldr_xi])\n",
    "\n",
    "lbl_zi = widgets.Label(value = \"Impermeant anion average charge: \")\n",
    "sldr_zi = widgets.FloatSlider(value=-0.85, min=-3, max=0, step=0.05, disabled=False, continuous_update=False,\n",
    "    orientation='horizontal', readout=True, readout_format='.1f')\n",
    "hbox_zi = widgets.HBox(children = [lbl_zi,sldr_zi])\n",
    "\n",
    "########################################################################################################\n",
    "\n",
    "\n",
    "global name, comp_arr, df_sim\n",
    "\n",
    "\n",
    "#CREATION OF THE PANDAS DATA FRAME THAT WILL KEEP TRACK OF ALL THE VARIABLES IN REAL TIME\n",
    "df_sim = pd.DataFrame()\n",
    "\n",
    "comp_arr =[]\n",
    "\n",
    "output1 = widgets.Output()\n",
    "\n",
    "\n",
    "btn_new_comp = widgets.Button(description = \"Create Compartment\",button_style =\"success\")\n",
    "\n",
    "\n",
    "def new_comp_clicked(b):\n",
    "    \n",
    "    name = txt_name.value\n",
    "    for j in range (len(comp_arr)):\n",
    "        if name == comp_arr[j].name:\n",
    "            raise Exception(\"Two compartments cannot have the same name\")\n",
    "    new_comp = compartment.Compartment(name,radius=sldr_rad.value*1e-5, length=sldr_len.value*1e-5)\n",
    "    new_comp.set_ion_properties(na_i=sldr_nai.value*1e-3, k_i = sldr_ki.value*1e-3, cl_i=sldr_cli.value*1e-3,x_i=sldr_xi.value*1e-3, z_i=sldr_zi.value)\n",
    "    comp_arr.append(new_comp)\n",
    "    arr_df = new_comp.get_df_array()\n",
    "    df_sim[name] = arr_df\n",
    "    df_sim.index = ['Radius', 'Length', 'Volume', 'Na_i', 'K_i', 'Cl_i', 'X_i', 'z_i', 'ATPase pump rate','KCC2 pump rate','Vm', 'Ek', 'ECl']\n",
    "    with output1:\n",
    "        print(\"Compartment: (\"+ new_comp.name +\") created\" )\n",
    "        print(new_comp.get_df_array())\n",
    "      \n",
    "btn_new_comp.on_click(new_comp_clicked)\n",
    "\n",
    "\n",
    "vbox_grand = widgets.VBox(children = [name_box,rad_box,len_box, hbox_nai,hbox_ki,hbox_cli,hbox_xi,hbox_zi,btn_new_comp], layout=Layout(border =\"solid\"))\n",
    "\n",
    "display(output1,vbox_grand)\n",
    "\n",
    "\n",
    "\n",
    "\n",
    "\n",
    "\n"
   ]
  },
  {
   "cell_type": "markdown",
   "metadata": {},
   "source": [
    "### A2) Review & edit compartments"
   ]
  },
  {
   "cell_type": "code",
   "execution_count": 3,
   "metadata": {},
   "outputs": [
    {
     "data": {
      "application/vnd.jupyter.widget-view+json": {
       "model_id": "de7f2fc721644ebfba290424b5cc91a3",
       "version_major": 2,
       "version_minor": 0
      },
      "text/plain": [
       "Button(button_style='success', description='Review compartments', style=ButtonStyle())"
      ]
     },
     "metadata": {},
     "output_type": "display_data"
    },
    {
     "data": {
      "application/vnd.jupyter.widget-view+json": {
       "model_id": "06f0181d5adc4cd7b41efd47b4ff1449",
       "version_major": 2,
       "version_minor": 0
      },
      "text/plain": [
       "Output()"
      ]
     },
     "metadata": {},
     "output_type": "display_data"
    }
   ],
   "source": [
    "btn_review = widgets.Button(description = \"Review compartments\", button_style =\"success\")\n",
    "output2 = widgets.Output()\n",
    "display(btn_review,output2)\n",
    "\n",
    "def btn_review_clicked(b):\n",
    "    output2.clear_output()\n",
    "    with output2:\n",
    "        display(df_sim)\n",
    "\n",
    "btn_review.on_click(btn_review_clicked)       \n"
   ]
  },
  {
   "cell_type": "code",
   "execution_count": 4,
   "metadata": {},
   "outputs": [
    {
     "data": {
      "application/vnd.jupyter.widget-view+json": {
       "model_id": "2605e3c3be2646df8684fac8d773fc59",
       "version_major": 2,
       "version_minor": 0
      },
      "text/plain": [
       "Button(button_style='success', description='Edit compartments', style=ButtonStyle())"
      ]
     },
     "metadata": {},
     "output_type": "display_data"
    },
    {
     "data": {
      "application/vnd.jupyter.widget-view+json": {
       "model_id": "52a15f99facc4d6091584f0d3fcf4e6f",
       "version_major": 2,
       "version_minor": 0
      },
      "text/plain": [
       "Output()"
      ]
     },
     "metadata": {},
     "output_type": "display_data"
    }
   ],
   "source": [
    "btn_edit = widgets.Button(description = \"Edit compartments\", button_style =\"success\")\n",
    "output3 = widgets.Output()\n",
    "display(btn_edit,output3)\n",
    "\n",
    "btn_save_edit = widgets.Button(description = \"Save change\", button_style =\"success\",visible='false')\n",
    "\n",
    "\n",
    "def btn_edit_clicked(b):\n",
    "    \n",
    "    output3.clear_output()\n",
    "    opts_comp =[]\n",
    "    for i in range(len(comp_arr)):\n",
    "        opts_comp.append(comp_arr[i].name)\n",
    "\n",
    "    global drp_comp,drp_param,txt_new_val\n",
    "    drp_comp=widgets.Dropdown(options=opts_comp,description='Compartment:',visible='false')\n",
    "    opts_param=df_sim.index.array[0:10]\n",
    "    drp_param=widgets.Dropdown(options=opts_param, description='Parameter:', visible='false')\n",
    "\n",
    "    txt_new_val=widgets.Text(value='', description='New value:', visible='false')\n",
    "     \n",
    "\n",
    "    \n",
    "    drp_param.visible =\"true\"\n",
    "    drp_comp.visible =\"true\"\n",
    "    txt_new_val.visible=\"true\"\n",
    "    btn_save_edit.visible ='true'\n",
    "    \n",
    "    with output3:\n",
    "        display(drp_comp,drp_param,txt_new_val,btn_save_edit)\n",
    "  \n",
    "\n",
    "\n",
    "\n",
    "\n",
    "btn_edit.on_click(btn_edit_clicked)\n",
    "\n",
    "\n",
    "\n",
    "\n",
    "def btn_save_edit_clicked(b):\n",
    "    comp = drp_comp.value\n",
    "    param = drp_param.value\n",
    "    change = txt_new_val.value\n",
    "    \n",
    "    df_sim.loc[param,comp] = change\n",
    "    output2.clear_output()\n",
    "    output3.clear_output()\n",
    "    with output3:\n",
    "        display(df_sim)\n",
    "\n",
    "btn_save_edit.on_click(btn_save_edit_clicked)  \n",
    "\n"
   ]
  },
  {
   "cell_type": "markdown",
   "metadata": {},
   "source": [
    "### A3) Multicompartment visualization\n"
   ]
  },
  {
   "cell_type": "code",
   "execution_count": 4,
   "metadata": {
    "scrolled": false
   },
   "outputs": [
    {
     "data": {
      "application/vnd.jupyter.widget-view+json": {
       "model_id": "5ae04989c54a4e58b5db0c4a07f35a16",
       "version_major": 2,
       "version_minor": 0
      },
      "text/plain": [
       "Button(button_style='success', description='Visualize compartments', style=ButtonStyle())"
      ]
     },
     "metadata": {},
     "output_type": "display_data"
    },
    {
     "data": {
      "application/vnd.jupyter.widget-view+json": {
       "model_id": "ef6792c63ec0446aa71b87988836347e",
       "version_major": 2,
       "version_minor": 0
      },
      "text/plain": [
       "Output()"
      ]
     },
     "metadata": {},
     "output_type": "display_data"
    }
   ],
   "source": [
    "btn_visualize = widgets.Button(description = \"Visualize compartments\",button_style =\"success\")\n",
    "\n",
    "output4 = widgets.Output()\n",
    "display(btn_visualize,output4)\n",
    "\n",
    "\n",
    "\n",
    "\n",
    "\n",
    "\n",
    "def btn_visualize_clicked(b):\n",
    "    \n",
    "    \n",
    "    output4.clear_output() \n",
    "   \n",
    "    for i in range(df_sim.shape[1]):\n",
    "        \n",
    "        hgt = str(df_sim.loc['Length',comp_arr[i].name] *80000)+\"px\"\n",
    "        wdth = str(df_sim.loc['Radius',comp_arr[i].name]*5000000)+\"px\"\n",
    "        btn = widgets.Button(layout=Layout(height = hgt, width =wdth,border=\"solid\"), disabled =True,description =comp_arr[i].name)\n",
    "        btn.style.button_color = 'brown'\n",
    "        with output4:\n",
    "            display(btn)\n",
    "        \n",
    "\n",
    "            \n",
    "\n",
    "btn_visualize.on_click(btn_visualize_clicked)\n",
    "\n",
    "\n",
    "\n",
    "\n"
   ]
  },
  {
   "cell_type": "markdown",
   "metadata": {},
   "source": [
    "### A4) Electrodiffusion setup"
   ]
  },
  {
   "cell_type": "code",
   "execution_count": 5,
   "metadata": {},
   "outputs": [
    {
     "data": {
      "application/vnd.jupyter.widget-view+json": {
       "model_id": "ef746828734140d5872be31cbfe70856",
       "version_major": 2,
       "version_minor": 0
      },
      "text/plain": [
       "Button(button_style='success', description='Link compartments with electrodiffusion', layout=Layout(width='300…"
      ]
     },
     "metadata": {},
     "output_type": "display_data"
    },
    {
     "data": {
      "application/vnd.jupyter.widget-view+json": {
       "model_id": "a715a3a54ced422aaabb2e37f4f880ca",
       "version_major": 2,
       "version_minor": 0
      },
      "text/plain": [
       "Output()"
      ]
     },
     "metadata": {},
     "output_type": "display_data"
    }
   ],
   "source": [
    "## Loop to run through the compartment array and join them by electrodiffusion\n",
    "btn_ed = widgets.Button(description=\"Link compartments with electrodiffusion\",button_style =\"success\", layout=Layout(width=\"300px\"))\n",
    "output5 = widgets.Output()\n",
    "display(btn_ed,output5)\n",
    "\n",
    "ed_arr = [] # array of all the electro-diffusion links between the compartments\n",
    "ed_dict_arr = [] # array of all the electro-diffusion dictionaries (constantly changing)\n",
    "ed_conc_changes_arr = []\n",
    "\n",
    "\n",
    "\n",
    "def btn_ed_clicked(b): #try making this run the compartment class method multi_comp_ed_link()\n",
    "    for e in range(len(comp_arr)-1):\n",
    "        ed_arr.append(electrodiffusion.Electrodiffusion(comp_arr[e],comp_arr[e+1]))\n",
    "    with output5:\n",
    "        print(\"All compartments successfully linked\")\n",
    "    btn_ed.disabled=True\n",
    "    \n",
    "btn_ed.on_click(btn_ed_clicked)\n",
    "\n"
   ]
  },
  {
   "cell_type": "markdown",
   "metadata": {
    "id": "8EvQGJHdLq4u"
   },
   "source": [
    "## *B) Timing*"
   ]
  },
  {
   "cell_type": "code",
   "execution_count": 6,
   "metadata": {
    "id": "SDuN6AyqJc63"
   },
   "outputs": [
    {
     "data": {
      "application/vnd.jupyter.widget-view+json": {
       "model_id": "474b04422447437dbdc13214c23e99cc",
       "version_major": 2,
       "version_minor": 0
      },
      "text/plain": [
       "VBox(children=(HBox(children=(Label(value='Set the simulation run time (minutes):'), FloatSlider(value=3.0, co…"
      ]
     },
     "metadata": {},
     "output_type": "display_data"
    }
   ],
   "source": [
    "global total_t,dt,t_arr\n",
    "\n",
    "### TOTAL TIME\n",
    "lbl_total_t = widgets.Label(value=\"Set the simulation run time (minutes):\")\n",
    "\n",
    "sldr_total_t = widgets.FloatSlider(value=3, min=0.5, max=10, step=0.5, disabled=False, continuous_update=False, orientation='horizontal',\n",
    "    readout=True, readout_format='.1f')\n",
    "HBox_total_t = widgets.HBox(children = [lbl_total_t,sldr_total_t])\n",
    "\n",
    "\n",
    "### TIME STEP\n",
    "lbl_dt = widgets.Label(value=\"Set the simulation time step (milliseconds):\")\n",
    "sldr_dt = widgets.FloatSlider(value=1, min=0.1, max=5, step=0.2, disabled=False, continuous_update=False, orientation='horizontal',\n",
    "    readout=True, readout_format='.1f')\n",
    "HBox_dt = widgets.HBox(children = [lbl_dt,sldr_dt])\n",
    "\n",
    "\n",
    "\n",
    "\n",
    "\n",
    "\n",
    "\n",
    "\n",
    "    \n",
    "t_arr = [0]\n",
    "\n",
    "\n",
    "vbox_t = widgets.VBox([HBox_total_t,HBox_dt], layout=Layout(border='solid'))\n",
    "\n",
    "\n",
    "\n",
    "\n",
    "\n",
    "display(vbox_t)\n",
    "\n",
    "\n",
    "#print(\"Set total simulation time (minutes):\")\n",
    "\n",
    "#print(\"Set time step (milliseconds):\")\n",
    "\n"
   ]
  },
  {
   "cell_type": "markdown",
   "metadata": {
    "id": "y_tTzubJxzoc",
    "pycharm": {
     "name": "#%% md\n"
    }
   },
   "source": [
    "## *C) Run Simulation*"
   ]
  },
  {
   "cell_type": "code",
   "execution_count": 7,
   "metadata": {
    "jupyter": {
     "outputs_hidden": false
    },
    "pycharm": {
     "name": "#%%\n"
    }
   },
   "outputs": [
    {
     "data": {
      "application/vnd.jupyter.widget-view+json": {
       "model_id": "dd791b2ac5d04dcfb90ab4e55f0effb3",
       "version_major": 2,
       "version_minor": 0
      },
      "text/plain": [
       "Output()"
      ]
     },
     "metadata": {},
     "output_type": "display_data"
    },
    {
     "data": {
      "application/vnd.jupyter.widget-view+json": {
       "model_id": "c8bf75e72e9d498981f1cd192bc4681e",
       "version_major": 2,
       "version_minor": 0
      },
      "text/plain": [
       "Output()"
      ]
     },
     "metadata": {},
     "output_type": "display_data"
    },
    {
     "data": {
      "application/vnd.jupyter.widget-view+json": {
       "model_id": "3b3cd00a59194039a91cfc5cd5ff407c",
       "version_major": 2,
       "version_minor": 0
      },
      "text/plain": [
       "Button(button_style='success', description='Run Simulation', style=ButtonStyle())"
      ]
     },
     "metadata": {},
     "output_type": "display_data"
    }
   ],
   "source": [
    "\n",
    "btn_sim = widgets.Button(description =\"Run Simulation\", button_style=\"success\")\n",
    "output6 = widgets.Output()\n",
    "output7 = widgets.Output()\n",
    "display(output6, output7, btn_sim)\n",
    "\n",
    "\n",
    "\n",
    "\n",
    "def btn_sim_clicked(b):\n",
    "  \n",
    "    global dt,total_t\n",
    "    dt=sldr_dt.value*1e-3\n",
    "    total_t= sldr_total_t.value *60\n",
    "    interval = total_t/dt\n",
    "                   \n",
    "    run_t=0\n",
    "  \n",
    "    prg = widgets.FloatProgress(description='Simulating...', min=0,step=dt,max=total_t,value=0,continuous_update=True)\n",
    "    with output6:\n",
    "        display(prg)\n",
    "    \n",
    "    ED_ON = True\n",
    "\n",
    "    while run_t < total_t:\n",
    "\n",
    "        if ED_ON:\n",
    "\n",
    "            ed_dict_arr = []  # array of all the electro-diffusion dictionaries (constantly changing)\n",
    "            ed_conc_changes_arr = []\n",
    "\n",
    "\n",
    "            for a in range(len(comp_arr)):\n",
    "                comp_arr[a].step(dt)  # step for each compartment\n",
    "                ed_dict_arr.append(comp_arr[a].get_ed_dict())  # electrodiffusion dictionary for each compartment\n",
    "\n",
    "            for b in range(len(comp_arr) - 1):\n",
    "                ed_conc_changes_arr.append(\n",
    "                    ed_arr[b].calc_ed(dt, ed_dict_arr[b], ed_dict_arr[b + 1]))  # makes an array of all the ED conc changes\n",
    "\n",
    "            for c in range(len(comp_arr) - 1):\n",
    "                comp_arr[c].ed_update(ed_conc_changes_arr[c],\n",
    "                                      \"positive\")  # appending the electrodiffusion concentrations for each compartment\n",
    "                comp_arr[c + 1].ed_update(ed_conc_changes_arr[c], \"negative\")\n",
    "\n",
    "            for d in range(len(comp_arr)):\n",
    "                comp_arr[d].update_volumes()  # updates of the volumes, arrays, and dataframe for each compartment\n",
    "                if run_t != 0:\n",
    "                    comp_arr[d].update_arrays()\n",
    "                df_sim[comp_arr[d].name] = comp_arr[d].get_df_array()\n",
    "\n",
    "        else: # if you want to run with normal diffusion not ED\n",
    "            for a in range(len(comp_arr)):\n",
    "                comp_arr[a].step(dt)\n",
    "                comp_arr[a].update_volumes()  # updates of the volumes, arrays, and dataframe for each compartment\n",
    "                comp_arr[a].update_arrays()\n",
    "                df_sim[comp_arr[a].name] = comp_arr[d].get_df_array()\n",
    "\n",
    "        if run_t != 0:\n",
    "            t_arr.append(run_t)\n",
    "        run_t += dt\n",
    "        prg.value += dt    \n",
    "        \n",
    "    if run_t>=total_t:\n",
    "        btn_sim.disabled='True'\n",
    "        lbl_finalvals = widgets.Label(value=\"Final Values:\")\n",
    "        with output7:  \n",
    "            print(\"Simulation complete!\")\n",
    "            display(lbl_finalvals,df_sim)\n",
    "        \n",
    "        \n",
    "\n",
    "\n",
    "\n",
    "\n",
    "        \n",
    "btn_sim.on_click(btn_sim_clicked)  \n",
    "\n"
   ]
  },
  {
   "cell_type": "markdown",
   "metadata": {
    "jupyter": {
     "outputs_hidden": false
    },
    "pycharm": {
     "name": "#%%\n"
    }
   },
   "source": [
    "## 4) Graphing\n"
   ]
  },
  {
   "cell_type": "markdown",
   "metadata": {},
   "source": [
    "### 4.1) Membrane Potentials "
   ]
  },
  {
   "cell_type": "markdown",
   "metadata": {},
   "source": [
    "How is the membrane potential change with time.\n",
    "4.1.1 Vm in each compartment at a specific time point\n",
    "4.1.2 Vm flucutations across compartments for entire time\n",
    "4.1.3 3D graph of all compartment resting potentials across time"
   ]
  },
  {
   "cell_type": "code",
   "execution_count": 10,
   "metadata": {},
   "outputs": [
    {
     "data": {
      "application/vnd.jupyter.widget-view+json": {
       "model_id": "81240ca5779840b58369c613ec7ec54e",
       "version_major": 2,
       "version_minor": 0
      },
      "text/plain": [
       "VBox(children=(Label(value=' Total simulation time:120.0'), Button(button_style='info', description='Voltages …"
      ]
     },
     "metadata": {},
     "output_type": "display_data"
    },
    {
     "data": {
      "application/vnd.jupyter.widget-view+json": {
       "model_id": "33a5040e49174eaaa6138b629050a85a",
       "version_major": 2,
       "version_minor": 0
      },
      "text/plain": [
       "Output()"
      ]
     },
     "metadata": {},
     "output_type": "display_data"
    },
    {
     "data": {
      "image/png": "[encoded data removed]",
      "text/plain": [
       "<Figure size 432x288 with 1 Axes>"
      ]
     },
     "metadata": {
      "needs_background": "light"
     },
     "output_type": "display_data"
    }
   ],
   "source": [
    "btn_vm = widgets.Button(description=\"Voltages for each compartment across time\",button_style=\"info\",layout=Layout(height = '50px', width ='400px',border=\"solid\"))\n",
    "lbl_ttime = widgets.Label(value =\" Total simulation time:\" + str(total_t) )\n",
    "vbox_vm = widgets.VBox(children=[lbl_ttime,btn_vm],layout=Layout(border =\"solid\"))\n",
    "output8 = widgets.Output()\n",
    "display(vbox_vm,output8)\n",
    "\n",
    "btn_vm.on_click(btn_vm_clicked)\n",
    "\n",
    "def btn_vm_clicked(b):\n",
    "    \n",
    "    output8.clear_output()\n",
    "    def get_vm_dict():\n",
    "        vm_dict ={}\n",
    "        for x in range(len(comp_arr)):\n",
    "           vm_dict[comp_arr[x].name] = comp_arr[x].v_arr\n",
    "        return vm_dict\n",
    "\n",
    "    vm_dict = get_vm_dict()\n",
    "    g1 = gr.graph(start_time=20)\n",
    "    \n",
    "    fig1,ax1 = g1.graph_time_vm_allcomps(vm_dict,t_arr)\n",
    "    sns.despine()\n",
    "  \n",
    "\n",
    "\n"
   ]
  },
  {
   "cell_type": "code",
   "execution_count": 18,
   "metadata": {},
   "outputs": [
    {
     "data": {
      "application/vnd.jupyter.widget-view+json": {
       "model_id": "7cbd703d9a2c485b9a49e3cc88b71d09",
       "version_major": 2,
       "version_minor": 0
      },
      "text/plain": [
       "VBox(children=(Figure(axes=[Axis(scale=LinearScale()), Axis(orientation='vertical', scale=LinearScale())], fig…"
      ]
     },
     "metadata": {},
     "output_type": "display_data"
    }
   ],
   "source": [
    "#### Now making the same graph with a bqplot\n",
    "\n",
    "fig = plt.figure()\n",
    "scatter = plt.scatter(t_arr,comp_arr[0].v_arr)\n",
    "plt.show()\n",
    "\n"
   ]
  },
  {
   "cell_type": "markdown",
   "metadata": {},
   "source": [
    "### 4.2) Reversal Potentials"
   ]
  },
  {
   "cell_type": "code",
   "execution_count": null,
   "metadata": {},
   "outputs": [],
   "source": []
  },
  {
   "cell_type": "markdown",
   "metadata": {},
   "source": [
    "### 4.3) Ion concentrations\n"
   ]
  },
  {
   "cell_type": "code",
   "execution_count": null,
   "metadata": {},
   "outputs": [],
   "source": []
  },
  {
   "cell_type": "markdown",
   "metadata": {},
   "source": [
    "### 4.4) Volumes"
   ]
  },
  {
   "cell_type": "code",
   "execution_count": null,
   "metadata": {},
   "outputs": [],
   "source": []
  },
  {
   "cell_type": "markdown",
   "metadata": {},
   "source": [
    "### 4.5) Compartment dynamics"
   ]
  },
  {
   "cell_type": "code",
   "execution_count": null,
   "metadata": {},
   "outputs": [],
   "source": []
  }
 ],
 "metadata": {
  "colab": {
   "authorship_tag": "ABX9TyNvA/g06WRyf+z+DY1D61E0",
   "include_colab_link": true,
   "name": "Multicompartment Sim V1.ipynb",
   "provenance": []
  },
  "kernelspec": {
   "display_name": "Python 3",
   "language": "python",
   "name": "python3"
  },
  "language_info": {
   "codemirror_mode": {
    "name": "ipython",
    "version": 3
   },
   "file_extension": ".py",
   "mimetype": "text/x-python",
   "name": "python",
   "nbconvert_exporter": "python",
   "pygments_lexer": "ipython3",
   "version": "3.8.5"
  }
 },
 "nbformat": 4,
 "nbformat_minor": 4
}
