{
 "cells": [
  {
   "cell_type": "markdown",
   "metadata": {
    "colab_type": "text",
    "extensions": {
     "jupyter_dashboards": {
      "version": 1,
      "views": {
       "grid_default": {},
       "report_default": {}
      }
     }
    },
    "id": "view-in-github"
   },
   "source": [
    "<a href=\"https://colab.research.google.com/github/Eran707/MSc-Computational-Neuroscience-Repo/blob/master/Multicompartment_Sim_V1.ipynb\" target=\"_parent\"><img src=\"https://colab.research.google.com/assets/colab-badge.svg\" alt=\"Open In Colab\"/></a>"
   ]
  },
  {
   "cell_type": "markdown",
   "metadata": {
    "extensions": {
     "jupyter_dashboards": {
      "version": 1,
      "views": {
       "grid_default": {},
       "report_default": {}
      }
     }
    },
    "id": "wOh7eT3qJET3"
   },
   "source": [
    "# **Neural Multicompartment Simulator**\n",
    "\n",
    "**Eran Frank Shorer**\n",
    "\n",
    "**MSc Computational Neuroscience**\n",
    "\n",
    "**\"Investigating the effects of impermeant anions on the electrical and computational properties of neurons\"**\n",
    "\n",
    "\n"
   ]
  },
  {
   "cell_type": "markdown",
   "metadata": {
    "extensions": {
     "jupyter_dashboards": {
      "version": 1,
      "views": {
       "grid_default": {},
       "report_default": {}
      }
     }
    }
   },
   "source": [
    "## Instructions:\n",
    "\n",
    "This jupyter notebook consists of cells. Some cells are plain text, while others are code. \n",
    "\n",
    "Press Shift-Enter simultaneously, or click the cell and press the play button in the main toolbar above to run the cell. \n",
    "\n",
    "The output of the cell should be displayed below the cell. \n",
    "\n"
   ]
  },
  {
   "cell_type": "markdown",
   "metadata": {
    "extensions": {
     "jupyter_dashboards": {
      "version": 1,
      "views": {
       "grid_default": {},
       "report_default": {}
      }
     }
    },
    "id": "D1Rx72GZLHeg"
   },
   "source": [
    "## **Import classes and modules** \n"
   ]
  },
  {
   "cell_type": "code",
   "execution_count": 23,
   "metadata": {
    "colab": {
     "base_uri": "https://localhost:8080/",
     "height": 367
    },
    "extensions": {
     "jupyter_dashboards": {
      "version": 1,
      "views": {
       "grid_default": {},
       "report_default": {}
      }
     }
    },
    "id": "NvJTcjQCJKbg",
    "outputId": "7183f5e7-ee74-4e38-d5d4-b0a87a8ba314",
    "tags": [
     "hide-input"
    ]
   },
   "outputs": [
    {
     "name": "stdout",
     "output_type": "stream",
     "text": [
      "simulation file ('Test') created\n",
      "All relevant classes imported\n",
      "New simulator created\n"
     ]
    }
   ],
   "source": [
    "\n",
    "try:\n",
    "    \n",
    "    import simulator2\n",
    "    import compartment\n",
    "    import h5py\n",
    "    \n",
    "    from ipywidgets import widgets, Layout, interact, interactive, interactive_output, Dropdown\n",
    "    from IPython.display import display\n",
    "    import bqplot as bqp\n",
    "    from bqplot import pyplot as plt # bqplot is a plotting for jupyter\n",
    "    import matplotlib.pyplot as mplt\n",
    "  \n",
    "    import numpy as np\n",
    "    import random\n",
    "    import seaborn as sns \n",
    "    import pandas as pd\n",
    "    import graphing as gr\n",
    "    #!pip install viola\n",
    "    ########## Modules required for artist drawing on matplotlib\n",
    "    import matplotlib.path as mpath\n",
    "    import matplotlib.lines as mlines\n",
    "    import matplotlib.patches as mpatches\n",
    "    from matplotlib.collections import PatchCollection\n",
    "    \n",
    "  \n",
    "    \n",
    "    \n",
    "except ModuleNotFoundError:\n",
    "        print(\"A class you are trying to import is not present in the directory\")\n",
    "    \n",
    "except Exception:\n",
    "        print(\"Something went wrong - modules have not been imported\")\n",
    "\n",
    "else: \n",
    "    sim = simulator2.simulator(\"Test\") \n",
    "    print(\"All relevant classes imported\")\n",
    "    print(\"New simulator created\")\n",
    "    \n",
    "\n",
    "\n",
    "\n"
   ]
  },
  {
   "cell_type": "markdown",
   "metadata": {
    "extensions": {
     "jupyter_dashboards": {
      "version": 1,
      "views": {
       "grid_default": {},
       "report_default": {}
      }
     }
    }
   },
   "source": [
    "## A1) Set compartment parameters:"
   ]
  },
  {
   "cell_type": "code",
   "execution_count": 24,
   "metadata": {
    "extensions": {
     "jupyter_dashboards": {
      "version": 1,
      "views": {
       "grid_default": {},
       "report_default": {}
      }
     }
    },
    "scrolled": true
   },
   "outputs": [
    {
     "data": {
      "application/vnd.jupyter.widget-view+json": {
       "model_id": "c18a8e6d4ebf43548194a9eba9db3811",
       "version_major": 2,
       "version_minor": 0
      },
      "text/plain": [
       "Output()"
      ]
     },
     "metadata": {},
     "output_type": "display_data"
    },
    {
     "data": {
      "application/vnd.jupyter.widget-view+json": {
       "model_id": "8b344f1f618540f9b819e59f98dd7b68",
       "version_major": 2,
       "version_minor": 0
      },
      "text/plain": [
       "VBox(children=(HBox(children=(Label(value='Compartment Name: '), Text(value='Comp1'))), HBox(children=(Label(v…"
      ]
     },
     "metadata": {},
     "output_type": "display_data"
    }
   ],
   "source": [
    "### WIDGET INITIALIZATION ################################################################################\n",
    "txt_name = widgets.Text(value=\"Comp1\")\n",
    "lbl_name = widgets.Label(value =\"Compartment Name: \")\n",
    "name_box = widgets.HBox(children = [lbl_name,txt_name])\n",
    "\n",
    "\n",
    "lbl_rad = widgets.Label(value = \"Compartment Radius (um): \")\n",
    "sldr_rad = widgets.FloatSlider(value=1, min=1, max=10.0, step=0.5, disabled=False, continuous_update=False,\n",
    "    orientation='horizontal', readout=True, readout_format='.1f')\n",
    "rad_box = widgets.HBox(children = [lbl_rad,sldr_rad])\n",
    "\n",
    "lbl_len = widgets.Label(value = \"Compartment Length (um): \")\n",
    "sldr_len = widgets.FloatSlider(value=10, min=0, max=50, step=5, disabled=False, continuous_update=False,\n",
    "    orientation='horizontal', readout=True, readout_format='.1f')\n",
    "len_box = widgets.HBox(children = [lbl_len,sldr_len])\n",
    "\n",
    "lbl_nai = widgets.Label(value = \"Na+ concentration (mM): \")\n",
    "sldr_nai = widgets.FloatSlider(value=14, min=0, max=100, step=10, disabled=False, continuous_update=False,\n",
    "    orientation='horizontal', readout=True, readout_format='.1f')\n",
    "hbox_nai = widgets.HBox(children = [lbl_nai,sldr_nai])\n",
    "\n",
    "lbl_ki = widgets.Label(value = \"K+ concentration (mM): \")\n",
    "sldr_ki = widgets.FloatSlider(value=122, min=0, max=250, step=5, disabled=False, continuous_update=False,\n",
    "    orientation='horizontal', readout=True, readout_format='.1f')\n",
    "hbox_ki = widgets.HBox(children = [lbl_ki,sldr_ki])\n",
    "\n",
    "lbl_cli = widgets.Label(value = \"Cl- concentration (mM): \")\n",
    "sldr_cli = widgets.FloatSlider(value=5, min=0, max=50, step=5, disabled=False, continuous_update=False,\n",
    "    orientation='horizontal', readout=True, readout_format='.1f')\n",
    "hbox_cli = widgets.HBox(children = [lbl_cli,sldr_cli])\n",
    "\n",
    "lbl_xi = widgets.Label(value = \"Impermeant anion concentration (mM): \")\n",
    "sldr_xi = widgets.FloatSlider(value=154.9, min=0, max=600, step=10, disabled=False, continuous_update=False,\n",
    "    orientation='horizontal', readout=True, readout_format='.2f')\n",
    "hbox_xi = widgets.HBox(children = [lbl_xi,sldr_xi])\n",
    "\n",
    "lbl_zi = widgets.Label(value = \"Impermeant anion average charge: \")\n",
    "sldr_zi = widgets.FloatSlider(value=-0.85, min=-3, max=0, step=0.05, disabled=False, continuous_update=False,\n",
    "    orientation='horizontal', readout=True, readout_format='.2f')\n",
    "hbox_zi = widgets.HBox(children = [lbl_zi,sldr_zi])\n",
    "\n",
    "lbl_neutral_start = widgets.Label(value = \"Adjust starting concentrations for electroneutrality\")\n",
    "chk_neutral_start = widgets.Checkbox(value = True)\n",
    "hbox_neutral_start = widgets.HBox(children = [lbl_neutral_start,chk_neutral_start])\n",
    "\n",
    "########################################################################################################\n",
    "\n",
    "\n",
    "global comp_arr, df_sim\n",
    "\n",
    "\n",
    "#CREATION OF THE PANDAS DATA FRAME THAT WILL KEEP TRACK OF ALL THE VARIABLES IN REAL TIME\n",
    "df_sim = pd.DataFrame()\n",
    "\n",
    "comp_arr =[]\n",
    "\n",
    "output1 = widgets.Output()\n",
    "\n",
    "\n",
    "btn_new_comp = widgets.Button(description = \"Create Compartment\",button_style =\"success\")\n",
    "btn_defaults = widgets.Button(description = \"Reset to defaults\")\n",
    "hbox_btns = widgets.HBox(children = [btn_new_comp, btn_defaults])\n",
    "\n",
    "\n",
    "\n",
    "def new_comp_clicked(b):\n",
    "    \n",
    "    name = txt_name.value\n",
    "    for j in range (len(comp_arr)):\n",
    "        if name == comp_arr[j].name:\n",
    "            txt_name.color = 'red'\n",
    "            raise Exception(\"Two compartments cannot have the same name\")\n",
    "    new_comp = compartment.Compartment(name, radius = sldr_rad.value*1e-5, length= sldr_len.value*1e-5)\n",
    "    \n",
    "    if chk_neutral_start.value == True:\n",
    "        osmol_neutral_start = True\n",
    "    else: osmol_neutral_start = False\n",
    "    \n",
    "    new_comp.set_ion_properties(na_i=sldr_nai.value*1e-3, \n",
    "                                k_i = sldr_ki.value*1e-3, \n",
    "                                cl_i=sldr_cli.value*1e-3,\n",
    "                                x_i=sldr_xi.value*1e-3, \n",
    "                                z_i=sldr_zi.value, \n",
    "                                osmol_neutral_start = osmol_neutral_start)\n",
    "    \n",
    "    sim.add_compartment(new_comp)\n",
    "    \n",
    "    \n",
    "    \n",
    "    \n",
    "    with output1:\n",
    "        print(\"Compartment: (\"+ new_comp.name +\") created\" )\n",
    "        \n",
    "      \n",
    "btn_new_comp.on_click(new_comp_clicked)\n",
    "\n",
    "def btn_defaults_clicked(b):\n",
    "    \n",
    "    \n",
    "    sldr_rad.value=1\n",
    "    sldr_len.value = 10\n",
    "    sldr_nai.value= 14\n",
    "    sldr_ki.value = 122\n",
    "    sldr_cli.value = 5\n",
    "    sldr_xi.value = 150\n",
    "    sldr_zi.value = -0.85\n",
    "    \n",
    "btn_defaults.on_click(btn_defaults_clicked)\n",
    "\n",
    "\n",
    "vbox_grand = widgets.VBox(children = [name_box,rad_box,len_box, hbox_nai,hbox_ki,hbox_cli,hbox_xi,hbox_zi, hbox_neutral_start, hbox_btns], layout=Layout(border =\"solid\"))\n",
    "\n",
    "display(output1,vbox_grand)\n",
    "\n",
    "\n",
    "\n",
    "\n",
    "\n"
   ]
  },
  {
   "cell_type": "markdown",
   "metadata": {
    "extensions": {
     "jupyter_dashboards": {
      "version": 1,
      "views": {
       "grid_default": {},
       "report_default": {}
      }
     }
    }
   },
   "source": [
    "## A2) Review & edit compartments"
   ]
  },
  {
   "cell_type": "code",
   "execution_count": 15,
   "metadata": {
    "extensions": {
     "jupyter_dashboards": {
      "version": 1,
      "views": {
       "grid_default": {},
       "report_default": {}
      }
     }
    }
   },
   "outputs": [
    {
     "data": {
      "application/vnd.jupyter.widget-view+json": {
       "model_id": "4e4b198b28574f8cbacee5b36d0408e0",
       "version_major": 2,
       "version_minor": 0
      },
      "text/plain": [
       "Button(button_style='success', description='Review compartments', style=ButtonStyle())"
      ]
     },
     "metadata": {},
     "output_type": "display_data"
    },
    {
     "data": {
      "application/vnd.jupyter.widget-view+json": {
       "model_id": "6008012237114580b67cb3e68200da59",
       "version_major": 2,
       "version_minor": 0
      },
      "text/plain": [
       "Output()"
      ]
     },
     "metadata": {},
     "output_type": "display_data"
    },
    {
     "data": {
      "application/vnd.jupyter.widget-view+json": {
       "model_id": "6c879272fc1b47fbb9a39946e4b687c1",
       "version_major": 2,
       "version_minor": 0
      },
      "text/plain": [
       "Button(button_style='success', description='Edit compartments', style=ButtonStyle())"
      ]
     },
     "metadata": {},
     "output_type": "display_data"
    },
    {
     "data": {
      "application/vnd.jupyter.widget-view+json": {
       "model_id": "7830ba1a740d48a68c8138599653a75e",
       "version_major": 2,
       "version_minor": 0
      },
      "text/plain": [
       "Output()"
      ]
     },
     "metadata": {},
     "output_type": "display_data"
    }
   ],
   "source": [
    "################################################################################\n",
    "#  WIDGET INITIALIZATION\n",
    "\n",
    "btn_review = widgets.Button(description = \"Review compartments\", button_style =\"success\")\n",
    "output2 = widgets.Output()\n",
    "display(btn_review,output2)\n",
    "\n",
    "btn_edit = widgets.Button(description = \"Edit compartments\", button_style =\"success\")\n",
    "output3 = widgets.Output()\n",
    "\n",
    "btn_save_edit = widgets.Button(description = \"Save change\", button_style =\"success\",visible='false')\n",
    "\n",
    "\n",
    "def btn_review_clicked(b):\n",
    "    output2.clear_output()\n",
    "    with output2:\n",
    "        display(df_sim)\n",
    "\n",
    "btn_review.on_click(btn_review_clicked)       \n",
    "\n",
    "\n",
    "\n",
    "\n",
    "\n",
    "display(btn_edit,output3)\n",
    "\n",
    "\n",
    "\n",
    "\n",
    "def btn_edit_clicked(b):\n",
    "    \n",
    "    output3.clear_output()\n",
    "    opts_comp =[]\n",
    "    for i in range(len(sim.comp_arr)):\n",
    "        opts_comp.append(sim.comp_arr[i].name)\n",
    "\n",
    "    global drp_comp,drp_param,txt_new_val\n",
    "    drp_comp=widgets.Dropdown(options=opts_comp,description='Compartment:',visible='false')\n",
    "    opts_param=df_sim.index.array[0:10]\n",
    "    drp_param=widgets.Dropdown(options=opts_param, description='Parameter:', visible='false')\n",
    "\n",
    "    txt_new_val=widgets.Text(value='', description='New value:', visible='false')\n",
    "     \n",
    "\n",
    "    \n",
    "    drp_param.visible =\"true\"\n",
    "    drp_comp.visible =\"true\"\n",
    "    txt_new_val.visible=\"true\"\n",
    "    btn_save_edit.visible ='true'\n",
    "    \n",
    "    with output3:\n",
    "        display(drp_comp,drp_param,txt_new_val,btn_save_edit)\n",
    "  \n",
    "\n",
    "\n",
    "\n",
    "\n",
    "btn_edit.on_click(btn_edit_clicked)\n",
    "\n",
    "\n",
    "\n",
    "\n",
    "def btn_save_edit_clicked(b):\n",
    "    comp = drp_comp.value\n",
    "    param = drp_param.value\n",
    "    change = txt_new_val.value\n",
    "    \n",
    "    df_sim.loc[param,comp] = change\n",
    "    output2.clear_output()\n",
    "    output3.clear_output()\n",
    "    with output3:\n",
    "        display(df_sim)\n",
    "\n",
    "btn_save_edit.on_click(btn_save_edit_clicked)  \n",
    "\n"
   ]
  },
  {
   "cell_type": "markdown",
   "metadata": {
    "extensions": {
     "jupyter_dashboards": {
      "version": 1,
      "views": {
       "grid_default": {},
       "report_default": {}
      }
     }
    },
    "id": "8EvQGJHdLq4u"
   },
   "source": [
    "## *A3) Simulation settings*"
   ]
  },
  {
   "cell_type": "code",
   "execution_count": 16,
   "metadata": {
    "extensions": {
     "jupyter_dashboards": {
      "version": 1,
      "views": {
       "grid_default": {},
       "report_default": {}
      }
     }
    },
    "id": "SDuN6AyqJc63"
   },
   "outputs": [
    {
     "data": {
      "application/vnd.jupyter.widget-view+json": {
       "model_id": "464eddf43a944728b1db001ef1dc8663",
       "version_major": 2,
       "version_minor": 0
      },
      "text/plain": [
       "VBox(children=(HBox(children=(Label(value='Set the simulation run time (minutes):'), FloatSlider(value=1.0, co…"
      ]
     },
     "metadata": {},
     "output_type": "display_data"
    },
    {
     "data": {
      "application/vnd.jupyter.widget-view+json": {
       "model_id": "f0f81eddfa0d4b8282c2feb5d8c1a229",
       "version_major": 2,
       "version_minor": 0
      },
      "text/plain": [
       "HBox(children=(Label(value='ATPase model type:'), RadioButtons(options=('J_ATP = p * (Na_in/Na_out)^3', 'Const…"
      ]
     },
     "metadata": {},
     "output_type": "display_data"
    },
    {
     "data": {
      "application/vnd.jupyter.widget-view+json": {
       "model_id": "281268cc10e54d1c8a47b34d5aef7c39",
       "version_major": 2,
       "version_minor": 0
      },
      "text/plain": [
       "HBox(children=(Label(value='Area scale type:'), RadioButtons(options=('Constant', 'Am = Surface Area / volume'…"
      ]
     },
     "metadata": {},
     "output_type": "display_data"
    },
    {
     "data": {
      "application/vnd.jupyter.widget-view+json": {
       "model_id": "0d07a4cea74a45069ef7727e8c7da55f",
       "version_major": 2,
       "version_minor": 0
      },
      "text/plain": [
       "VBox(children=(Label(value='External Ion Parameters:'), HBox(children=(Label(value='Na+ concentration (mM): ')…"
      ]
     },
     "metadata": {},
     "output_type": "display_data"
    }
   ],
   "source": [
    "global total_t,dt,t_arr, constant_j_atp, constant_ar\n",
    "\n",
    "\n",
    "############################################################################\n",
    "#TIMING\n",
    "\n",
    "lbl_total_t = widgets.Label(value=\"Set the simulation run time (minutes):\")\n",
    "\n",
    "sldr_total_t = widgets.FloatSlider(value=1, min=0.5, max=40, step=0.5, disabled=False, continuous_update=False, orientation='horizontal',\n",
    "    readout=True, readout_format='.1f')\n",
    "HBox_total_t = widgets.HBox(children = [lbl_total_t,sldr_total_t])\n",
    "\n",
    "\n",
    "lbl_dt = widgets.Label(value=\"Set the simulation time step (milliseconds):\")\n",
    "sldr_dt = widgets.FloatSlider(value=0.01, min=0.001, max=0.1, step=0.005, disabled=False, continuous_update=False, orientation='horizontal',\n",
    "    readout=True, readout_format='.4')\n",
    "HBox_dt = widgets.HBox(children = [lbl_dt,sldr_dt])\n",
    "\n",
    "############################################################################\n",
    "# ATPase PROPERTIES\n",
    "\n",
    "lbl_atpase = widgets.Label(value = \"ATPase model type:\")\n",
    "rdb_atpase = widgets.RadioButtons(options=['J_ATP = p * (Na_in/Na_out)^3', 'Constant'])\n",
    "\n",
    "hbox_atpase = widgets.HBox(children = [lbl_atpase,rdb_atpase], layout =Layout(border='solid'))\n",
    "\n",
    "############################################################################\n",
    "# ATPase PROPERTIES\n",
    "\n",
    "lbl_ar = widgets.Label(value = \"Area scale type:\")\n",
    "rdb_ar = widgets.RadioButtons(options=['Constant','Am = Surface Area / volume'])\n",
    "\n",
    "hbox_ar = widgets.HBox(children = [lbl_ar,rdb_ar], layout =Layout(border='solid'))\n",
    "\n",
    "\n",
    "############################################################################\n",
    "# EXTERNAL ION PROPERTIES\n",
    "\n",
    "lbl_ext_ions = widgets.Label(value = \"External Ion Parameters:\")\n",
    "\n",
    "lbl_nao = widgets.Label(value = \"Na+ concentration (mM): \")\n",
    "sldr_nao = widgets.FloatSlider(value=145, min=0, max=200, step=5, disabled=False, continuous_update=False,\n",
    "    orientation='horizontal', readout=True, readout_format='.2f')\n",
    "hbox_nao = widgets.HBox(children = [lbl_nao,sldr_nao])\n",
    "\n",
    "lbl_ko = widgets.Label(value = \"K+ concentration (mM): \")\n",
    "sldr_ko = widgets.FloatSlider(value=3.5, min=0, max=10, step=0.5, disabled=False, continuous_update=False,\n",
    "    orientation='horizontal', readout=True, readout_format='.1f')\n",
    "hbox_ko = widgets.HBox(children = [lbl_ko,sldr_ko])\n",
    "\n",
    "lbl_clo = widgets.Label(value = \"Cl- concentration (mM): \")\n",
    "sldr_clo = widgets.FloatSlider(value=119, min=100, max=200, step=1, disabled=False, continuous_update=False,\n",
    "    orientation='horizontal', readout=True, readout_format='.2f')\n",
    "hbox_clo = widgets.HBox(children = [lbl_clo,sldr_clo])\n",
    "\n",
    "lbl_xo = widgets.Label(value = \"Impermeant anion concentration (mM): \")\n",
    "sldr_xo = widgets.FloatSlider(value=29.5, min=0, max=50, step=0.5, disabled=False, continuous_update=False,\n",
    "    orientation='horizontal', readout=True, readout_format='.2f')\n",
    "hbox_xo = widgets.HBox(children = [lbl_xo,sldr_xo])\n",
    "\n",
    "lbl_zo = widgets.Label(value = \"Impermeant anion average charge: \")\n",
    "sldr_zo = widgets.FloatSlider(value=-0.85, min=-3, max=0, step=0.05, disabled=False, continuous_update=False,\n",
    "    orientation='horizontal', readout=True, readout_format='.2f')\n",
    "hbox_zo = widgets.HBox(children = [lbl_zo,sldr_zo])\n",
    "\n",
    "vbox_ext_ions = widgets.VBox(children = [lbl_ext_ions,hbox_nao,hbox_ko,hbox_clo,hbox_xo,hbox_zo],layout =Layout(border='solid'))\n",
    "\n",
    "t_arr = [0]\n",
    "\n",
    "\n",
    "vbox_t = widgets.VBox([HBox_total_t,HBox_dt], layout=Layout(border='solid'))\n",
    "\n",
    "\n",
    "\n",
    "display(vbox_t,hbox_atpase, hbox_ar, vbox_ext_ions)\n",
    "\n",
    "\n",
    "\n",
    "\n"
   ]
  },
  {
   "cell_type": "markdown",
   "metadata": {},
   "source": [
    "## A4) Anion Flux Settings:\n"
   ]
  },
  {
   "cell_type": "markdown",
   "metadata": {},
   "source": [
    "### i ) Increase intracellular impermeant anions concentration during simulation\n",
    "\n",
    "Changing the concentration and charge of impermeant anions replicates changes such a increased protein transcription."
   ]
  },
  {
   "cell_type": "code",
   "execution_count": 17,
   "metadata": {},
   "outputs": [
    {
     "data": {
      "application/vnd.jupyter.widget-view+json": {
       "model_id": "d6e70817a85545b39088193ef40c27f9",
       "version_major": 2,
       "version_minor": 0
      },
      "text/plain": [
       "Output()"
      ]
     },
     "metadata": {},
     "output_type": "display_data"
    },
    {
     "data": {
      "application/vnd.jupyter.widget-view+json": {
       "model_id": "8190d04136724fb0bfc7a93cac7fe625",
       "version_major": 2,
       "version_minor": 0
      },
      "text/plain": [
       "Output()"
      ]
     },
     "metadata": {},
     "output_type": "display_data"
    }
   ],
   "source": [
    "global xflux_start_t, xflux_end_t, xflux_on\n",
    "###############################################################################\n",
    "# Widget Initialization\n",
    "# Simulating protein synthesis\n",
    "\n",
    "output_xflux = widgets.Output()\n",
    "output_xflux2 = widgets.Output()\n",
    "\n",
    "lbl_xflux = widgets.Label(value=\"Add intracellular impermeant anions mid simulation:\")\n",
    "\n",
    "chk_xflux = widgets.Checkbox(value = False)\n",
    "hbox_xflux = widgets.HBox(children = [lbl_xflux, chk_xflux])\n",
    "vbox_xflux_1 = widgets.VBox(children = [hbox_xflux])\n",
    "vbox_xflux_static = widgets.VBox()\n",
    "vbox_xflux_dynamic = widgets.VBox()\n",
    "\n",
    "xflux_on = False\n",
    "\n",
    "with output_xflux:\n",
    "    display(vbox_xflux_1)\n",
    "\n",
    "    \n",
    "lbl_xflux_comp = widgets.Label (value = \"Select compartment\")\n",
    "drp_xflux_comp = widgets.Dropdown()\n",
    "comp_options = []\n",
    "comp_options.append(\"All compartments\")\n",
    "for i in range(len(sim.comp_arr)):\n",
    "    comp_options.append(sim.comp_arr[i].name)\n",
    "drp_xflux_comp.options = comp_options\n",
    "hbox_xflux_comp = widgets.HBox(children = [lbl_xflux_comp, drp_xflux_comp])\n",
    "\n",
    "rdb_xflux_type = widgets.RadioButtons(options=[\"Static/Constant rate of addition\",'Dynamic rate of addition'])\n",
    "\n",
    "lbl_xflux_static_rate = widgets.Label(value=\"Rate of ion flux mM/min\")\n",
    "sldr_xflux_static_rate = widgets.FloatSlider(value = 0.2, min=0.01, max=0.8, step=0.01)\n",
    "hbox_xflux_static_rate = widgets.HBox(children = [lbl_xflux_static_rate, sldr_xflux_static_rate])\n",
    "\n",
    "\n",
    "lbl_xflux_conc = widgets.Label(value=\"Concentration of anions to add (mM)\")\n",
    "sldr_xflux_conc = widgets.FloatSlider(value=2, min=0, max=10, step=0.5, disabled=False, continuous_update=False, orientation='horizontal',readout=True, readout_format='.2f')\n",
    "hbox_xflux_conc = widgets.HBox(children = [lbl_xflux_conc,sldr_xflux_conc])\n",
    "\n",
    "lbl_xflux_charge = widgets.Label(value=\"Charge of added anions\")\n",
    "sldr_xflux_charge = widgets.FloatSlider(value=-0.85, min=-2, max=-0.1, step=0.05, disabled=False, continuous_update=False, orientation='horizontal',readout=True, readout_format='.2f')\n",
    "hbox_xflux_charge = widgets.HBox(children = [lbl_xflux_charge,sldr_xflux_charge])\n",
    "\n",
    "lbl_xflux_start_t = widgets.Label(value=\"Time to start anion flux (s)\")\n",
    "sldr_xflux_start_t = widgets.FloatSlider(value=1, min=0.5, max=10000, step=0.5, disabled=False, continuous_update=False, orientation='horizontal',readout=True, readout_format='.1f')\n",
    "hbox_xflux_start_t = widgets.HBox(children = [lbl_xflux_start_t,sldr_xflux_start_t])\n",
    "\n",
    "lbl_xflux_end_t = widgets.Label(value=\"Time to end anion flux (s)\")\n",
    "sldr_xflux_end_t = widgets.FloatSlider(value=1, min=0.5, max=10000, step=0.5, disabled=False, continuous_update=False, orientation='horizontal',       readout=True, readout_format='.1f')\n",
    "hbox_xflux_end_t = widgets.HBox(children = [lbl_xflux_end_t,sldr_xflux_end_t])\n",
    "\n",
    "vbox_xflux_2 = widgets.VBox(children =[hbox_xflux_comp, rdb_xflux_type])\n",
    "                                       \n",
    "vbox_xflux_dynamic = widgets.VBox(children =[hbox_xflux_conc,  hbox_xflux_charge, hbox_xflux_start_t, hbox_xflux_end_t ], layout=Layout(border =\"solid\"))\n",
    "vbox_xflux_static = widgets.VBox(children = [hbox_xflux_static_rate, hbox_xflux_charge, hbox_xflux_start_t, hbox_xflux_end_t], layout=Layout(border =\"solid\"))\n",
    "\n",
    "#############################################################################\n",
    "display(output_xflux)\n",
    "display(output_xflux2)\n",
    "\n",
    "\n",
    "def set_x_flux(b):\n",
    "    \n",
    "    if chk_xflux.value == True:\n",
    "        \n",
    "        xflux_on = True\n",
    "        \n",
    "        \n",
    "        sldr_xflux_start_t.value = sldr_total_t.value *60 /5\n",
    "        sldr_xflux_start_t.max = sldr_total_t.value *60\n",
    "        sldr_xflux_end_t.value = sldr_total_t.value *60\n",
    "        sldr_xflux_end_t.max = sldr_total_t.value *60\n",
    "        \n",
    "          \n",
    "        output_xflux.clear_output()    \n",
    "        with output_xflux:\n",
    "            display(vbox_xflux_1, vbox_xflux_2)\n",
    "        output_xflux2.clear_output()\n",
    "        with output_xflux2:\n",
    "            display(vbox_xflux_static)\n",
    "        \n",
    "        \n",
    "    elif chk_xflux.value == False:\n",
    "        xflux_on = False\n",
    "        output_xflux.clear_output()\n",
    "        display(vbox_xflux_1)\n",
    "        \n",
    "        \n",
    "\n",
    "def set_xflux_type(b):\n",
    "    \n",
    "    if rdb_xflux_type.value == \"Static/Constant rate of addition\":\n",
    "        \n",
    "        xflux_type = 'static'\n",
    "        output_xflux2.clear_output()\n",
    "        with output_xflux2:\n",
    "            display(vbox_xflux_static)\n",
    "        \n",
    "        \n",
    "    else:\n",
    "        \n",
    "        xflux_type = 'dynamic'\n",
    "        output_xflux2.clear_output()\n",
    "        with output_xflux2:\n",
    "            display(vbox_xflux_dynamic)\n",
    "        \n",
    "chk_xflux.observe(set_x_flux)\n",
    "rdb_xflux_type.observe(set_xflux_type)\n",
    " "
   ]
  },
  {
   "cell_type": "markdown",
   "metadata": {},
   "source": [
    "### ii) Alter charge of intracellular impermeant anions\n",
    "\n",
    "Changing the charge of impermeant anions (without changing concentrations)  replicates post-translational protein modifications that alters protein charge, e.g. phosphorylation, protonation of impermeant anions.\n"
   ]
  },
  {
   "cell_type": "code",
   "execution_count": 18,
   "metadata": {},
   "outputs": [
    {
     "data": {
      "application/vnd.jupyter.widget-view+json": {
       "model_id": "ad388fef2541450ab774c2cd65ccbc27",
       "version_major": 2,
       "version_minor": 0
      },
      "text/plain": [
       "Output()"
      ]
     },
     "metadata": {},
     "output_type": "display_data"
    }
   ],
   "source": [
    "\n",
    "lbl_zflux = widgets.Label(value=\"Change intracellular impermeant anions charge during simulation:\")\n",
    "lbl_zflux_2 = widgets.Label(value=\"______Modelling change to average charge of impermeants ______\")\n",
    "chk_zflux = widgets.Checkbox(value = False)\n",
    "hbox_zflux = widgets.HBox(children = [lbl_zflux, chk_zflux])\n",
    "vbox_zflux_1 = widgets.VBox(children = [lbl_zflux_2,hbox_zflux])\n",
    "\n",
    "\n",
    "output_zflux = widgets.Output()\n",
    "with output_zflux:\n",
    "    display(vbox_zflux_1)\n",
    "\n",
    "\n",
    "    \n",
    "zflux_on = False\n",
    "\n",
    "lbl_zflux_comp = widgets.Label (value = \"Select compartment\")\n",
    "drp_zflux_comp = widgets.Dropdown()\n",
    "comp_options = []\n",
    "comp_options.append(\"All compartments\")\n",
    "for i in range(len(sim.comp_arr)):\n",
    "    comp_options.append(sim.comp_arr[i].name)\n",
    "drp_zflux_comp.options = comp_options\n",
    "hbox_zflux_comp = widgets.HBox(children = [lbl_zflux_comp, drp_zflux_comp])\n",
    "    \n",
    "lbl_zflux_charge = widgets.Label(value=\"Desired average charge of impermeant anions\")\n",
    "sldr_zflux_charge = widgets.FloatSlider(value=-0.85, min=-3, max= 1, step=0.05, disabled=False, continuous_update=False, orientation='horizontal',readout=True, readout_format='.2f')\n",
    "hbox_zflux_charge = widgets.HBox(children = [lbl_zflux_charge,sldr_zflux_charge])\n",
    "\n",
    "lbl_zflux_start_t = widgets.Label(value=\"Time to start anion flux (s)\")\n",
    "sldr_zflux_start_t = widgets.FloatSlider(value=1, min=0.5, max=10000, step=0.5, disabled=False, continuous_update=False, orientation='horizontal',readout=True, readout_format='.1f')\n",
    "hbox_zflux_start_t = widgets.HBox(children = [lbl_zflux_start_t,sldr_zflux_start_t])\n",
    "\n",
    "lbl_zflux_end_t = widgets.Label(value=\"Time to end anion flux (s)\")\n",
    "sldr_zflux_end_t = widgets.FloatSlider(value=1, min=0.5, max=10000, step=0.5, disabled=False, continuous_update=False, orientation='horizontal',       readout=True, readout_format='.1f')\n",
    "hbox_zflux_end_t = widgets.HBox(children = [lbl_zflux_end_t,sldr_zflux_end_t])\n",
    "\n",
    "vbox_zflux_2 = widgets.VBox(children =[hbox_zflux_comp,hbox_zflux_charge, hbox_zflux_start_t, hbox_zflux_end_t ], layout=Layout(border =\"solid\"))\n",
    "\n",
    "\n",
    "\n",
    "display(output_zflux)\n",
    "\n",
    "def set_z_flux(b):\n",
    "    \n",
    "    if chk_zflux.value == True:\n",
    "        \n",
    "        zflux_on = True\n",
    "        \n",
    "        \n",
    "        sldr_zflux_start_t.value = sldr_total_t.value *60 /5\n",
    "        sldr_zflux_start_t.max = sldr_total_t.value *60\n",
    "        sldr_zflux_end_t.value = sldr_total_t.value *60\n",
    "        sldr_zflux_end_t.max = sldr_total_t.value *60\n",
    "        \n",
    "          \n",
    "        output_zflux.clear_output()    \n",
    "        with output_zflux:\n",
    "            display(vbox_zflux_1, vbox_zflux_2)\n",
    "        #print(x_flux_on)\n",
    "        \n",
    "    elif chk_zflux.value == False:\n",
    "        zflux_on = False\n",
    "        output_zflux.clear_output()\n",
    "        display(vbox_zflux_1)\n",
    "        \n",
    "        \n",
    "        \n",
    "    \n",
    "\n",
    "chk_zflux.observe(set_z_flux)\n"
   ]
  },
  {
   "cell_type": "markdown",
   "metadata": {},
   "source": [
    "### iii) Increase extracellular impermeant anions\n"
   ]
  },
  {
   "cell_type": "code",
   "execution_count": 19,
   "metadata": {},
   "outputs": [
    {
     "data": {
      "application/vnd.jupyter.widget-view+json": {
       "model_id": "c9a4a44a7a404f99ae14b2451cdcb3d7",
       "version_major": 2,
       "version_minor": 0
      },
      "text/plain": [
       "Output()"
      ]
     },
     "metadata": {},
     "output_type": "display_data"
    }
   ],
   "source": [
    "output_xoflux = widgets.Output()\n",
    "\n",
    "lbl_xoflux = widgets.Label(value=\"Change extracellular impermeant anions mid simulation:\")\n",
    "\n",
    "chk_xoflux = widgets.Checkbox(value = False)\n",
    "hbox_xoflux = widgets.HBox(children = [lbl_xoflux, chk_xoflux])\n",
    "vbox_xoflux_1 = widgets.VBox(children = [hbox_xoflux])\n",
    "\n",
    "xoflux_on = False\n",
    "\n",
    "with output_xoflux:\n",
    "    display(vbox_xoflux_1)\n",
    "    \n",
    "lbl_xoflux_conc = widgets.Label(value=\"Concentration of extracellular impermeant anions to add/subtract (mM)\")\n",
    "sldr_xoflux_conc = widgets.FloatSlider(value=30, min=-60, max=60, step=0.5, disabled=False, continuous_update=False, orientation='horizontal',readout=True, readout_format='.2f')\n",
    "hbox_xoflux_conc = widgets.HBox(children = [lbl_xoflux_conc,sldr_xoflux_conc])\n",
    "\n",
    "lbl_xoflux_charge = widgets.Label(value=\"Charge of extracellular impermeant anions\")\n",
    "sldr_xoflux_charge = widgets.FloatSlider(value=-0.85, min=-2, max=-0.1, step=0.05, disabled=False, continuous_update=False, orientation='horizontal',readout=True, readout_format='.2f')\n",
    "hbox_xoflux_charge = widgets.HBox(children = [lbl_xoflux_charge,sldr_xoflux_charge])\n",
    "\n",
    "lbl_xoflux_start_t = widgets.Label(value=\"Time to start extracellular anion flux (s)\")\n",
    "sldr_xoflux_start_t = widgets.FloatSlider(value=1, min=0.5, max=10000, step=0.5, disabled=False, continuous_update=False, orientation='horizontal',readout=True, readout_format='.1f')\n",
    "hbox_xoflux_start_t = widgets.HBox(children = [lbl_xoflux_start_t,sldr_xoflux_start_t])\n",
    "\n",
    "lbl_xoflux_end_t = widgets.Label(value=\"Time to end extracellular anion flux (s)\")\n",
    "sldr_xoflux_end_t = widgets.FloatSlider(value=1, min=0.5, max=10000, step=0.5, disabled=False, continuous_update=False, orientation='horizontal',       readout=True, readout_format='.1f')\n",
    "hbox_xoflux_end_t = widgets.HBox(children = [lbl_xoflux_end_t,sldr_xoflux_end_t])\n",
    "\n",
    "vbox_xoflux_2 = widgets.VBox(children =[hbox_xoflux_conc,  hbox_xoflux_charge, hbox_xoflux_start_t, hbox_xoflux_end_t ], layout=Layout(border =\"solid\"))\n",
    "#############################################################################\n",
    "\n",
    "display(output_xoflux)\n",
    "\n",
    "\n",
    "def set_xo_flux(b):\n",
    "    \n",
    "    if chk_xoflux.value == True:\n",
    "        \n",
    "        xoflux_on = True\n",
    "        \n",
    "        \n",
    "        sldr_xoflux_start_t.value = sldr_total_t.value *60 /5\n",
    "        sldr_xoflux_start_t.max = sldr_total_t.value *60\n",
    "        sldr_xoflux_end_t.value = sldr_total_t.value *60\n",
    "        sldr_xoflux_end_t.max = sldr_total_t.value *60\n",
    "        \n",
    "          \n",
    "        output_xoflux.clear_output()    \n",
    "        with output_xoflux:\n",
    "            display(vbox_xoflux_1, vbox_xoflux_2)\n",
    "        \n",
    "        \n",
    "    elif chk_xoflux.value == False:\n",
    "        xoflux_on = False\n",
    "        output_xoflux.clear_output()\n",
    "        display(vbox_xoflux_1)\n",
    "        \n",
    "        \n",
    "chk_xoflux.observe(set_xo_flux)\n",
    " "
   ]
  },
  {
   "cell_type": "markdown",
   "metadata": {},
   "source": [
    "## A5) Add synaptic input\n"
   ]
  },
  {
   "cell_type": "code",
   "execution_count": 20,
   "metadata": {
    "scrolled": true
   },
   "outputs": [
    {
     "data": {
      "application/vnd.jupyter.widget-view+json": {
       "model_id": "9da23eef817c460aafe2b7d9d4df0827",
       "version_major": 2,
       "version_minor": 0
      },
      "text/plain": [
       "Button(button_style='info', description='Add Synapse', style=ButtonStyle())"
      ]
     },
     "metadata": {},
     "output_type": "display_data"
    },
    {
     "data": {
      "application/vnd.jupyter.widget-view+json": {
       "model_id": "53ce747989c54529977b8e8c23dca692",
       "version_major": 2,
       "version_minor": 0
      },
      "text/plain": [
       "VBox(children=(Output(), Output()))"
      ]
     },
     "metadata": {},
     "output_type": "display_data"
    }
   ],
   "source": [
    "#########################################################\n",
    "# Widget initialization\n",
    "\n",
    "\n",
    "btn_synapse = widgets.Button(description = 'Add Synapse', button_style='info')\n",
    "btn_synapse_confirm = widgets.Button(description = 'Confirm synapse', buttons_style ='success')\n",
    "btn_synapse_reset =widgets.Button(description ='Reset all synapses', button_style = 'danger',disabled =True)\n",
    "\n",
    "output_synapse =widgets.Output()\n",
    "output_synapse_list =widgets.Output()\n",
    "vbox_synapse = widgets.VBox(children=[output_synapse,output_synapse_list])\n",
    "\n",
    "lbl_synapse_comp = widgets.Label(value =\"Select Compartment: \")\n",
    "drp_synapse_comp = widgets.Dropdown()\n",
    "drp_synapse_comp_options = []\n",
    "for i in range(len(sim.comp_arr)):\n",
    "    drp_synapse_comp_options.append(sim.comp_arr[i].name)\n",
    "drp_synapse_comp.options = drp_synapse_comp_options\n",
    "hbox_synapse_comp = widgets.HBox(children=[lbl_synapse_comp, drp_synapse_comp])\n",
    "\n",
    "\n",
    "\n",
    "rdb_synapse_type = widgets.RadioButtons(options = [\"Excitatory (Glutamatergic)\",\"Inhibitory (Gabaergic)\"])\n",
    "lbl_synapse_current =widgets.Label(value ='Current (mA): ')\n",
    "sldr_synapse_current = widgets.FloatSlider( min = 0, value=10, max=20)\n",
    "hbox_synapse_current = widgets.HBox(children=[lbl_synapse_current,sldr_synapse_current])\n",
    "\n",
    "total_t = sldr_total_t.value\n",
    "dt = sldr_dt.value\n",
    "\n",
    "lbl_synapse_t_start = widgets.Label(value=\"Start time(min)\")\n",
    "sldr_synapse_t_start = widgets.FloatSlider( min = 0, value= 10, max= total_t) \n",
    "hbox_synapse_t_start = widgets.HBox(children = [lbl_synapse_t_start, sldr_synapse_t_start])\n",
    "\n",
    "lbl_synapse_t_end = widgets.Label(value=\"End time(min)\")\n",
    "sldr_synapse_t_end = widgets.FloatSlider( min = 0, value= 10, max= total_t) \n",
    "hbox_synapse_t_end = widgets.HBox(children = [lbl_synapse_t_end, sldr_synapse_t_end])\n",
    "\n",
    "##################\n",
    "    \n",
    "#display(output_synapse)  \n",
    "\n",
    "display(btn_synapse)\n",
    "global synapse_number\n",
    "global synapse_arr\n",
    " \n",
    "synapse_number = 0\n",
    "synapse_arr = [] # 2D array of all the synapses that have been added\n",
    "\n",
    "def btn_synapse_clicked(b):\n",
    "    with output_synapse:\n",
    "        display(hbox_synapse_comp, rdb_synapse_type, hbox_synapse_current, hbox_synapse_t_start, hbox_synapse_t_end, btn_synapse_confirm,btn_synapse_reset)\n",
    "    btn_synapse.disabled = True\n",
    "    output_synapse.layout = Layout(border='solid')\n",
    "    \n",
    "\n",
    "    \n",
    "def btn_synapse_confirm_clicked(b):\n",
    "       \n",
    "    syn_num = len(synapse_arr) \n",
    "    syn_comp = drp_synapse_comp.value\n",
    "    syn_type = rdb_synapse_type.value\n",
    "    syn_current = sldr_synapse_current.value\n",
    "    syn_t_start = sldr_synapse_t_start.value\n",
    "    syn_t_end = sldr_synapse_t_end.value\n",
    "    synapse_arr.append([syn_num,syn_comp,syn_type, syn_current, syn_t_start, syn_t_end ])\n",
    "    \n",
    "    \n",
    "    \n",
    "   \n",
    "    with output_synapse_list:\n",
    "           print(synapse_arr[-1])\n",
    "\n",
    "    \n",
    "    \n",
    "    \n",
    "    btn_synapse_reset.disabled=False\n",
    "        \n",
    "        \n",
    "def btn_synapse_reset_clicked(b):\n",
    "    output_synapse_list.clear_output()\n",
    "    synapse_arr.clear()\n",
    "\n",
    "btn_synapse.on_click(btn_synapse_clicked)\n",
    "btn_synapse_confirm.on_click(btn_synapse_confirm_clicked)\n",
    "btn_synapse_reset.on_click(btn_synapse_reset_clicked)\n",
    "\n",
    "display(vbox_synapse)\n",
    "\n",
    "\n"
   ]
  },
  {
   "cell_type": "markdown",
   "metadata": {},
   "source": [
    "## A6) Pre-simulation summary"
   ]
  },
  {
   "cell_type": "code",
   "execution_count": 21,
   "metadata": {},
   "outputs": [
    {
     "data": {
      "application/vnd.jupyter.widget-view+json": {
       "model_id": "bb3def5dd6784587960512f6ffd40164",
       "version_major": 2,
       "version_minor": 0
      },
      "text/plain": [
       "Button(button_style='info', description='View Presimulation summary ', layout=Layout(width='20%'), style=Butto…"
      ]
     },
     "metadata": {},
     "output_type": "display_data"
    },
    {
     "data": {
      "application/vnd.jupyter.widget-view+json": {
       "model_id": "a805966d92e04bb49a99c0782ea9a759",
       "version_major": 2,
       "version_minor": 0
      },
      "text/plain": [
       "Output()"
      ]
     },
     "metadata": {},
     "output_type": "display_data"
    }
   ],
   "source": [
    "###################################################################\n",
    "# WIDGET INITIALIZATION\n",
    "\n",
    "btn_summary = widgets.Button(description = 'View Presimulation summary ',button_style = \"info\", layout=Layout(width='20%'))\n",
    "output_summary = widgets.Output()\n",
    "display(btn_summary, output_summary)\n",
    "\n",
    "\n",
    "\n",
    "\n",
    "\n",
    "def btn_summary_clicked(b):\n",
    "    with output_summary:\n",
    "        print(\"*********************\")\n",
    "        print(\"Compartment settings:\")\n",
    "        print(\"*********************\")\n",
    "        print(df_sim)\n",
    "        print()\n",
    "        print(\"*********************\")\n",
    "        print(\"Extracellular anion concentrations:\")\n",
    "        print(\"*********************\")\n",
    "        print(\"Na: \" + str(sldr_nao.value) + \" mM\")\n",
    "        print(\"K: \" + str(sldr_ko.value) + \" mM\")\n",
    "        print(\"Cl: \" + str(sldr_clo.value) + \" mM\")\n",
    "        print(\"X: \" + str(sldr_xo.value) + \" mM\")\n",
    "        print()\n",
    "        print(\"*********************\")\n",
    "        print(\"Simulation settings:\")\n",
    "        print(\"*********************\")\n",
    "        print(\"Total time (mins): \" + str(total_t))\n",
    "        print(\"Timestep (ms): \" + str(dt))\n",
    "        print(\"ATPase Model type: \" + rdb_atpase.value)\n",
    "        print(\"Pump rate: \" + str(0.1) )\n",
    "        print(\"Area scale type: \" + rdb_ar.value)  \n",
    "        print()\n",
    "        print(\"*********************\")\n",
    "        print(\"Impermeant anion changes:\")\n",
    "        print(\"*********************\")\n",
    "        \n",
    "        if chk_xflux.value == True:\n",
    "            print(drp_xflux_comp.value+\" : increase intracellular impermeant anion concentration -  \"+ str(sldr_xflux_conc.value)+\" mM, valence: \" + str(sldr_xflux_charge.value) +\n",
    "                 \", between: \" + str(sldr_xflux_start_t.value) + \"s and  \"+  str(sldr_xflux_end_t.value) + \"s\")\n",
    "        else:\n",
    "            print(\"No change of intracellular impermeant anion concentration mid simulation\")\n",
    "            \n",
    "        if chk_zflux.value == True:\n",
    "            print(drp_zflux_comp.value+\" : change in intracellular impermeant anion charge - \"+  \" valence: \" + str(sldr_zflux_charge.value) +\n",
    "                 \", between: \" + str(sldr_zflux_start_t.value) + \"s and  \"+  str(sldr_zflux_end_t.value) + \"s\")\n",
    "            \n",
    "        else:\n",
    "            print(\"No change of intracellular  impermeant anion charge mid simulation\")\n",
    "            \n",
    "        if chk_xoflux.value == True:\n",
    "            print(\"Change in extracellular impermeant anions - \" + str(sldr_xoflux_conc.value)+ \" mM, valence: \" + str(sldr_xoflux_charge.value) +\n",
    "                 \", between: \" + str(sldr_xoflux_start_t.value) + \"s and  \"+  str(sldr_xoflux_end_t.value) + \"s\")\n",
    "            \n",
    "        else:\n",
    "            print(\"No change of extracellular impermeant anion concentration mid simulation\")\n",
    "\n",
    "btn_summary.on_click(btn_summary_clicked)\n",
    "\n",
    "\n"
   ]
  },
  {
   "cell_type": "markdown",
   "metadata": {
    "extensions": {
     "jupyter_dashboards": {
      "version": 1,
      "views": {
       "grid_default": {},
       "report_default": {}
      }
     }
    },
    "id": "y_tTzubJxzoc",
    "pycharm": {
     "name": "#%% md\n"
    }
   },
   "source": [
    "# *B) Run Simulation:*"
   ]
  },
  {
   "cell_type": "code",
   "execution_count": 22,
   "metadata": {
    "extensions": {
     "jupyter_dashboards": {
      "version": 1,
      "views": {
       "grid_default": {},
       "report_default": {}
      }
     }
    },
    "jupyter": {
     "outputs_hidden": false
    },
    "pycharm": {
     "name": "#%%\n"
    }
   },
   "outputs": [
    {
     "data": {
      "application/vnd.jupyter.widget-view+json": {
       "model_id": "d00e4721c57c468aace5bd34aea52380",
       "version_major": 2,
       "version_minor": 0
      },
      "text/plain": [
       "Output()"
      ]
     },
     "metadata": {},
     "output_type": "display_data"
    },
    {
     "data": {
      "application/vnd.jupyter.widget-view+json": {
       "model_id": "ab5563180a914763b020bd787cb6424b",
       "version_major": 2,
       "version_minor": 0
      },
      "text/plain": [
       "Output()"
      ]
     },
     "metadata": {},
     "output_type": "display_data"
    },
    {
     "data": {
      "application/vnd.jupyter.widget-view+json": {
       "model_id": "d4d2ec3a2e1e41f683ef3cb81fb55ff2",
       "version_major": 2,
       "version_minor": 0
      },
      "text/plain": [
       "Button(button_style='danger', description='Run Simulation', style=ButtonStyle())"
      ]
     },
     "metadata": {},
     "output_type": "display_data"
    },
    {
     "name": "stdout",
     "output_type": "stream",
     "text": [
      "0.1 % complete in 4.27 s\n",
      "0.5 % complete in 21.91 s\n",
      "1.0 % complete in 43.03 s\n",
      "Estimated time to complete :71.72 minutes\n",
      "10.0 % complete in 431.75 s\n",
      "Cl_i = -0.20392132177854047\n",
      "d_Cl_i = nan\n"
     ]
    },
    {
     "name": "stderr",
     "output_type": "stream",
     "text": [
      "e:\\00_Eran\\MSc-Computational-Neuroscience-Repo\\MSc-Computational-Neuroscience-Repo\\Multicompartment Trials\\compartment.py:123: RuntimeWarning: invalid value encountered in log\n",
      "  self.E_k = -1 * RTF * np.log(self.k_i / k_o)\n",
      "e:\\00_Eran\\MSc-Computational-Neuroscience-Repo\\MSc-Computational-Neuroscience-Repo\\Multicompartment Trials\\compartment.py:124: RuntimeWarning: invalid value encountered in log\n",
      "  self.E_cl = RTF * np.log(self.cl_i / cl_o)\n",
      "e:\\00_Eran\\MSc-Computational-Neuroscience-Repo\\MSc-Computational-Neuroscience-Repo\\Multicompartment Trials\\compartment.py:137: RuntimeWarning: invalid value encountered in log\n",
      "  self.d_na_leak = - dt * self.ar * gna * (self.v + RTF * np.log(self.na_i / na_o))\n",
      "e:\\00_Eran\\MSc-Computational-Neuroscience-Repo\\MSc-Computational-Neuroscience-Repo\\Multicompartment Trials\\compartment.py:143: RuntimeWarning: invalid value encountered in log\n",
      "  self.d_k_leak = - dt * self.ar * gk * (self.v + RTF * np.log(self.k_i / k_o))\n",
      "e:\\00_Eran\\MSc-Computational-Neuroscience-Repo\\MSc-Computational-Neuroscience-Repo\\Multicompartment Trials\\compartment.py:150: RuntimeWarning: invalid value encountered in log\n",
      "  self.d_cl_leak = + dt * self.ar * gcl * (self.v + RTF * np.log(cl_o / self.cl_i))\n"
     ]
    },
    {
     "ename": "Exception",
     "evalue": "chloride log can't have a negative number",
     "output_type": "error",
     "traceback": [
      "\u001b[1;31m---------------------------------------------------------------------------\u001b[0m",
      "\u001b[1;31mException\u001b[0m                                 Traceback (most recent call last)",
      "\u001b[1;32m<ipython-input-22-95238a4ed516>\u001b[0m in \u001b[0;36mbtn_sim_clicked\u001b[1;34m(b)\u001b[0m\n\u001b[0;32m    140\u001b[0m     \u001b[1;31m# SIMULATION\u001b[0m\u001b[1;33m\u001b[0m\u001b[1;33m\u001b[0m\u001b[1;33m\u001b[0m\u001b[0m\n\u001b[0;32m    141\u001b[0m \u001b[1;33m\u001b[0m\u001b[0m\n\u001b[1;32m--> 142\u001b[1;33m     \u001b[0msim\u001b[0m\u001b[1;33m.\u001b[0m\u001b[0mrun_simulation\u001b[0m\u001b[1;33m(\u001b[0m\u001b[1;33m)\u001b[0m\u001b[1;33m\u001b[0m\u001b[1;33m\u001b[0m\u001b[0m\n\u001b[0m\u001b[0;32m    143\u001b[0m \u001b[1;33m\u001b[0m\u001b[0m\n\u001b[0;32m    144\u001b[0m \u001b[1;33m\u001b[0m\u001b[0m\n",
      "\u001b[1;32me:\\00_Eran\\MSc-Computational-Neuroscience-Repo\\MSc-Computational-Neuroscience-Repo\\Multicompartment Trials\\simulator2.py\u001b[0m in \u001b[0;36mrun_simulation\u001b[1;34m(self)\u001b[0m\n\u001b[0;32m    219\u001b[0m                 \u001b[1;32mfor\u001b[0m \u001b[0ma\u001b[0m \u001b[1;32min\u001b[0m \u001b[0mself\u001b[0m\u001b[1;33m.\u001b[0m\u001b[0mgen_comps\u001b[0m\u001b[1;33m(\u001b[0m\u001b[0mself\u001b[0m\u001b[1;33m.\u001b[0m\u001b[0mcomp_arr\u001b[0m\u001b[1;33m)\u001b[0m\u001b[1;33m:\u001b[0m\u001b[1;33m\u001b[0m\u001b[1;33m\u001b[0m\u001b[0m\n\u001b[0;32m    220\u001b[0m \u001b[1;33m\u001b[0m\u001b[0m\n\u001b[1;32m--> 221\u001b[1;33m                     a.step(dt=self.dt,\n\u001b[0m\u001b[0;32m    222\u001b[0m                            \u001b[0mna_o\u001b[0m\u001b[1;33m=\u001b[0m\u001b[0mself\u001b[0m\u001b[1;33m.\u001b[0m\u001b[0mna_o\u001b[0m\u001b[1;33m,\u001b[0m \u001b[0mk_o\u001b[0m\u001b[1;33m=\u001b[0m\u001b[0mself\u001b[0m\u001b[1;33m.\u001b[0m\u001b[0mk_o\u001b[0m\u001b[1;33m,\u001b[0m \u001b[0mcl_o\u001b[0m\u001b[1;33m=\u001b[0m\u001b[0mself\u001b[0m\u001b[1;33m.\u001b[0m\u001b[0mcl_o\u001b[0m\u001b[1;33m,\u001b[0m\u001b[1;33m\u001b[0m\u001b[1;33m\u001b[0m\u001b[0m\n\u001b[0;32m    223\u001b[0m                            \u001b[0mconstant_j_atp\u001b[0m\u001b[1;33m=\u001b[0m\u001b[0mself\u001b[0m\u001b[1;33m.\u001b[0m\u001b[0mconstant_j_atp\u001b[0m\u001b[1;33m,\u001b[0m\u001b[1;33m\u001b[0m\u001b[1;33m\u001b[0m\u001b[0m\n",
      "\u001b[1;32me:\\00_Eran\\MSc-Computational-Neuroscience-Repo\\MSc-Computational-Neuroscience-Repo\\Multicompartment Trials\\compartment.py\u001b[0m in \u001b[0;36mstep\u001b[1;34m(self, dt, na_o, k_o, cl_o, constant_j_atp, p, p_kcc2)\u001b[0m\n\u001b[0;32m    155\u001b[0m             \u001b[0mprint\u001b[0m\u001b[1;33m(\u001b[0m\u001b[1;34m\"Cl_i = \"\u001b[0m \u001b[1;33m+\u001b[0m \u001b[0mstr\u001b[0m\u001b[1;33m(\u001b[0m\u001b[0mself\u001b[0m\u001b[1;33m.\u001b[0m\u001b[0mcl_i\u001b[0m\u001b[1;33m)\u001b[0m\u001b[1;33m)\u001b[0m\u001b[1;33m\u001b[0m\u001b[1;33m\u001b[0m\u001b[0m\n\u001b[0;32m    156\u001b[0m             \u001b[0mprint\u001b[0m\u001b[1;33m(\u001b[0m\u001b[1;34m\"d_Cl_i = \"\u001b[0m \u001b[1;33m+\u001b[0m \u001b[0mstr\u001b[0m\u001b[1;33m(\u001b[0m\u001b[0mself\u001b[0m\u001b[1;33m.\u001b[0m\u001b[0md_cl_i\u001b[0m\u001b[1;33m)\u001b[0m\u001b[1;33m)\u001b[0m\u001b[1;33m\u001b[0m\u001b[1;33m\u001b[0m\u001b[0m\n\u001b[1;32m--> 157\u001b[1;33m             \u001b[1;32mraise\u001b[0m \u001b[0mException\u001b[0m\u001b[1;33m(\u001b[0m\u001b[1;34m\"chloride log can't have a negative number\"\u001b[0m\u001b[1;33m)\u001b[0m\u001b[1;33m\u001b[0m\u001b[1;33m\u001b[0m\u001b[0m\n\u001b[0m\u001b[0;32m    158\u001b[0m         \u001b[1;31m# self.d_cl_i = + self.dt * self.ar * (self.g_cl * (self.v + RTF * np.log(self.cl_o / self.cl_i)) + self.j_kcc2)\u001b[0m\u001b[1;33m\u001b[0m\u001b[1;33m\u001b[0m\u001b[1;33m\u001b[0m\u001b[0m\n\u001b[0;32m    159\u001b[0m \u001b[1;33m\u001b[0m\u001b[0m\n",
      "\u001b[1;31mException\u001b[0m: chloride log can't have a negative number"
     ]
    }
   ],
   "source": [
    "\n",
    "btn_sim = widgets.Button(description =\"Run Simulation\", button_style=\"Danger\",disabled=False)\n",
    "output5 = widgets.Output()\n",
    "output6 = widgets.Output()\n",
    "output7 = widgets.Output()\n",
    "\n",
    "\n",
    "\n",
    "display(output6, output7, btn_sim)\n",
    "\n",
    "global SIM_OVER\n",
    "\n",
    "SIM_OVER = False\n",
    "\n",
    "def btn_sim_clicked(b):\n",
    "  \n",
    "    \n",
    "    #########\n",
    "    # ELECTRODIFFUSION LINKAGES\n",
    "    \n",
    "    sim.set_electrodiffusion_properties(ED_on=True)    \n",
    "       \n",
    "    ##########\n",
    "    ##########\n",
    "    # TIMING \n",
    "   \n",
    "    dt=sldr_dt.value*1e-3\n",
    "    total_t= sldr_total_t.value *60\n",
    "    interval = total_t/dt\n",
    "\n",
    "    sim.set_timing(total_t=total_t, time_step=dt)\n",
    "    \n",
    "    #########\n",
    "    # ATPASE SETTINGS\n",
    "   \n",
    "    if rdb_atpase.value == 'Constant':\n",
    "        sim.set_j_atp(constant_j_atp=True)\n",
    "    else: sim.set_j_atp(constant_j_atp=False)\n",
    "    \n",
    "    \n",
    "    ######## \n",
    "    # AREA SCALE SETTINGS\n",
    "    \n",
    "    if rdb_ar.value == 'Constant':\n",
    "        sim.set_area_scale(constant_ar=True)\n",
    "    else: sim.set_area_scale(constant_ar=False)\n",
    "        \n",
    "    ########\n",
    "    # EXTERNAL ION PARAMETERS:\n",
    "    nao = sldr_nao.value*1e-3\n",
    "    ko = sldr_ko.value*1e-3\n",
    "    clo = sldr_clo.value*1e-3\n",
    "    xo = sldr_xo.value*1e-3\n",
    "    zo = sldr_zo.value \n",
    "    \n",
    "    sim.set_external_ion_properties(na_o = nao, k_o = ko, cl_o = clo, x_o = xo, z_o = zo)\n",
    "    \n",
    "    ########\n",
    "    # X-FLUX & Z-FLUX SETTINGS\n",
    "    \n",
    "    xflux_on = chk_xflux.value\n",
    "    \n",
    "    \n",
    "    if xflux_on == True:\n",
    "        \n",
    "        if rdb_xflux_type.value == \"Static/Constant rate of addition\":\n",
    "            xflux_type = \"static\"\n",
    "        else: \n",
    "            xflux_type = \"dynamic\"\n",
    "            xflux_rate = sldr_xflux_static_rate.value \n",
    "        \n",
    "        xflux_start_t = sldr_xflux_start_t.value\n",
    "        xflux_end_t = sldr_xflux_end_t.value\n",
    "        xflux_conc = sldr_xflux_conc.value*1e-3\n",
    "        xflux_charge = sldr_xflux_charge.value\n",
    "        xflux_rate = sldr_xflux_static_rate.value*1e-3/60*1e-3\n",
    "        xcomps =[]\n",
    "        \n",
    "        if drp_xflux_comp.value == \"All compartments\":\n",
    "            xflux_all_comps=True\n",
    "            \n",
    "        else:\n",
    "            xflux_all_comps=False\n",
    "            xcomps.append(drp_xflux_comp.value)\n",
    "        \n",
    "        sim.set_xflux(all_comps= xflux_all_comps, comps=xcomps, \n",
    "                      flux_type=xflux_type, \n",
    "                      start_t=xflux_start_t, \n",
    "                      end_t=xflux_end_t,\n",
    "                      x_conc= xflux_conc,\n",
    "                      z= xflux_charge)\n",
    "        \n",
    "        \n",
    "    zflux_on = chk_zflux.value\n",
    "       \n",
    "     \n",
    "    if zflux_on == True: \n",
    "            \n",
    "        zflux_start_t = sldr_zflux_start_t.value\n",
    "        zflux_end_t = sldr_zflux_end_t.value\n",
    "        zflux_charge = sldr_zflux_charge.value\n",
    "        \n",
    "        if drp_zflux_comp.value == \"All compartments\":\n",
    "            zflux_all_comps=True\n",
    "            zcomps = []\n",
    "        else:\n",
    "            zcomps = [drp_zflux_comp.value for a in range(len(sim.comp_arr)) if drp_zflux_comp.value==sim.comp_arr[a].name]\n",
    "        \n",
    "        sim.set_zflux(all_comps= zflux_all_comps,\n",
    "                      comps= zcomps,\n",
    "                      start_t= zflux_start_t,\n",
    "                      end_t=zflux_end_t,\n",
    "                      z= zflux_charge)\n",
    "        \n",
    "    xoflux_on = chk_xoflux.value\n",
    "    \n",
    "    if xoflux_on == True:\n",
    "        \n",
    "        xoflux_start_t = sldr_xoflux_start_t.value\n",
    "        xoflux_end_t = sldr_xoflux_end_t.value\n",
    "        xoflux_conc = sldr_xoflux_conc.value*1e-3\n",
    "        xoflux_charge = sldr_xoflux_charge.value\n",
    "        \n",
    "        sim.set_xoflux(start_t=xoflux_start_t, \n",
    "                       end_t=xoflux_end_t, \n",
    "                       xo_conc=xoflux_conc, \n",
    "                       z_end= xoflux_charge)\n",
    "            \n",
    "    #######\n",
    " \n",
    "        \n",
    "     \n",
    "    \n",
    "    prg = widgets.FloatProgress(description='Simulating...', min=0,step=dt,max=total_t,value=0,continuous_update=True)\n",
    "    lbl_prg = widgets.Label(value = \"Percent complete:\" )#+ str(round(run_t/total_t*100,2) ))\n",
    "    with output6:\n",
    "        display(prg, lbl_prg)\n",
    "            \n",
    "        \n",
    "    ########\n",
    "    # SIMULATION\n",
    "    \n",
    "    sim.run_simulation()\n",
    "    \n",
    "       \n",
    "    SIM_OVER = True\n",
    "    btn_sim.disabled=True\n",
    "    lbl_finalvals = widgets.Label(value=\"Final Values:\")\n",
    "    with output7:  \n",
    "        print(\"Simulation complete!\")\n",
    "        display(lbl_finalvals,df_sim)\n",
    "        \n",
    "        \n",
    "        \n",
    "btn_sim.on_click(btn_sim_clicked)  \n",
    "\n"
   ]
  },
  {
   "cell_type": "markdown",
   "metadata": {
    "extensions": {
     "jupyter_dashboards": {
      "version": 1,
      "views": {
       "grid_default": {},
       "report_default": {}
      }
     }
    },
    "jupyter": {
     "outputs_hidden": false
    },
    "pycharm": {
     "name": "#%%\n"
    }
   },
   "source": [
    "## C) Graphing\n"
   ]
  },
  {
   "cell_type": "code",
   "execution_count": 11,
   "metadata": {},
   "outputs": [
    {
     "data": {
      "application/vnd.jupyter.widget-view+json": {
       "model_id": "7afbf2febc6842e78f00748514c7c7f5",
       "version_major": 2,
       "version_minor": 0
      },
      "text/plain": [
       "Button(description='test', style=ButtonStyle())"
      ]
     },
     "metadata": {},
     "output_type": "display_data"
    },
    {
     "data": {
      "application/vnd.jupyter.widget-view+json": {
       "model_id": "1ed5937ea77b480e93e48de55dcaf267",
       "version_major": 2,
       "version_minor": 0
      },
      "text/plain": [
       "Output()"
      ]
     },
     "metadata": {},
     "output_type": "display_data"
    },
    {
     "data": {
      "text/plain": [
       "'\\ndef plot_xchange_graph():\\n    \\n    fig_xchange,(ax_conc,ax_charge) = mplt.subplots(2,1)\\n    fig_xchange.suptitle(\\'Changes to intracellular Impermeant anion concentration and charge during simulation\\')\\n    ax_conc.set_ylabel(\"Concentration (mM)\")\\n    ax_charge.set_ylabel(\"Valence/Charge\")\\n    ax_charge.set_xlabel(\"Time(ms)\")\\n    \\n    for i in range(len(comp_arr)):\\n        ax_conc.plot(t_arr[0:-1:1000],comp_arr[i].x_arr[0:-1:1000], label = comp_arr[i].name)\\n        ax_charge.plot(t_arr[0:-1:1000],comp_arr[i].z_arr[0:-1:1000])\\n    \\n    \\ndef btn_xchange_clicked(b):\\n    output_xchange.clear_output()\\n    with output_xchange:\\n        plot_xchange_graph()\\n    \\n\\nbtn_xchange.on_click(btn_xchange_clicked)'"
      ]
     },
     "execution_count": 11,
     "metadata": {},
     "output_type": "execute_result"
    }
   ],
   "source": [
    "##### \n",
    "\n",
    "btn_test = widgets.Button(description = \"test\")\n",
    "output_test = widgets.Output()\n",
    "\n",
    "display(btn_test,output_test)\n",
    "t_arr =[]\n",
    "t_arr_new = []\n",
    "C1_vm_arr =[]\n",
    "C2_vm_arr =[]\n",
    "C3_vm_arr =[]\n",
    "\n",
    "def btn_test_clicked(b):\n",
    "    \n",
    "    with h5py.File(\"\\ Test\", mode='r') as hdf:\n",
    "        C = hdf.get('COMPARTMENTS')\n",
    "        C1 = C.get('Comp1')\n",
    "        C2 = C.get('Comp2')\n",
    "        print(list(C.items()))\n",
    "        #C3 = C.get('Comp3')\n",
    "        \n",
    "        for t in range(len(sim.interval_arr)):\n",
    "            C1_dataset = C1.get(str(sim.interval_arr[t]))\n",
    "            C2_dataset = C2.get(str(sim.interval_arr[t]))\n",
    "            #C3_dataset = C3.get(str(sim.interval_arr[t]))\n",
    "            C1_vm_arr.append(C1_dataset[-3])\n",
    "            C2_vm_arr.append(C2_dataset[-3])\n",
    "            #C3_vm_arr.append(C3_dataset[-3])\n",
    "            t_arr_new.append(C1_dataset[0])\n",
    "        with output_test:\n",
    "            fig_vm_test, ax_vm = mplt.subplots(1,1)\n",
    "            ax_vm.plot(t_arr_new[2:],C1_vm_arr[2:])\n",
    "            ax_vm.plot(t_arr_new[2:],C2_vm_arr[2:])\n",
    "            #ax_vm.plot(t_arr_new[2:],C3_vm_arr[2:])\n",
    "            #print(t_arr)\n",
    "       # for t in\n",
    "        \n",
    "        \n",
    "btn_test.on_click(btn_test_clicked)\n",
    "\n",
    "\"\"\"\n",
    "def plot_xchange_graph():\n",
    "    \n",
    "    fig_xchange,(ax_conc,ax_charge) = mplt.subplots(2,1)\n",
    "    fig_xchange.suptitle('Changes to intracellular Impermeant anion concentration and charge during simulation')\n",
    "    ax_conc.set_ylabel(\"Concentration (mM)\")\n",
    "    ax_charge.set_ylabel(\"Valence/Charge\")\n",
    "    ax_charge.set_xlabel(\"Time(ms)\")\n",
    "    \n",
    "    for i in range(len(comp_arr)):\n",
    "        ax_conc.plot(t_arr[0:-1:1000],comp_arr[i].x_arr[0:-1:1000], label = comp_arr[i].name)\n",
    "        ax_charge.plot(t_arr[0:-1:1000],comp_arr[i].z_arr[0:-1:1000])\n",
    "    \n",
    "    \n",
    "def btn_xchange_clicked(b):\n",
    "    output_xchange.clear_output()\n",
    "    with output_xchange:\n",
    "        plot_xchange_graph()\n",
    "    \n",
    "\n",
    "btn_xchange.on_click(btn_xchange_clicked)\"\"\""
   ]
  },
  {
   "cell_type": "code",
   "execution_count": 12,
   "metadata": {
    "extensions": {
     "jupyter_dashboards": {
      "version": 1,
      "views": {
       "grid_default": {},
       "report_default": {}
      }
     }
    },
    "scrolled": false
   },
   "outputs": [
    {
     "data": {
      "application/vnd.jupyter.widget-view+json": {
       "model_id": "491e8b0b9318430d9c02a1a9902853e3",
       "version_major": 2,
       "version_minor": 0
      },
      "text/plain": [
       "HBox(children=(VBox(children=(Dropdown(description='Compartment:', options=('ALL COMPARTMENTS', 'Comp1', 'Comp…"
      ]
     },
     "metadata": {},
     "output_type": "display_data"
    },
    {
     "data": {
      "application/vnd.jupyter.widget-view+json": {
       "model_id": "9d65be5513164bea8534d90875e752eb",
       "version_major": 2,
       "version_minor": 0
      },
      "text/plain": [
       "Button(button_style='success', description='Graph it!', style=ButtonStyle())"
      ]
     },
     "metadata": {},
     "output_type": "display_data"
    },
    {
     "data": {
      "application/vnd.jupyter.widget-view+json": {
       "model_id": "8b59a3b4bd7746dea9a1974d28e6cad4",
       "version_major": 2,
       "version_minor": 0
      },
      "text/plain": [
       "Output()"
      ]
     },
     "metadata": {},
     "output_type": "display_data"
    },
    {
     "ename": "TypeError",
     "evalue": "'NoneType' object is not iterable",
     "output_type": "error",
     "traceback": [
      "\u001b[1;31m---------------------------------------------------------------------------\u001b[0m",
      "\u001b[1;31mTypeError\u001b[0m                                 Traceback (most recent call last)",
      "\u001b[1;32m<ipython-input-12-a9bc3057bd2a>\u001b[0m in \u001b[0;36mbtn_main_graph_clicked\u001b[1;34m(b)\u001b[0m\n\u001b[0;32m    325\u001b[0m \u001b[1;33m\u001b[0m\u001b[0m\n\u001b[0;32m    326\u001b[0m             \u001b[0mparam\u001b[0m \u001b[1;33m=\u001b[0m \u001b[0mdrp_param\u001b[0m\u001b[1;33m.\u001b[0m\u001b[0mvalue\u001b[0m\u001b[1;33m\u001b[0m\u001b[1;33m\u001b[0m\u001b[0m\n\u001b[1;32m--> 327\u001b[1;33m             \u001b[0mplot_main_graph\u001b[0m\u001b[1;33m(\u001b[0m\u001b[0mparam\u001b[0m\u001b[1;33m,\u001b[0m\u001b[0mall_comps\u001b[0m\u001b[1;33m=\u001b[0m\u001b[1;32mTrue\u001b[0m\u001b[1;33m)\u001b[0m\u001b[1;33m\u001b[0m\u001b[1;33m\u001b[0m\u001b[0m\n\u001b[0m\u001b[0;32m    328\u001b[0m \u001b[1;33m\u001b[0m\u001b[0m\n\u001b[0;32m    329\u001b[0m \u001b[1;33m\u001b[0m\u001b[0m\n",
      "\u001b[1;32m<ipython-input-12-a9bc3057bd2a>\u001b[0m in \u001b[0;36mplot_main_graph\u001b[1;34m(param, comp_num, all_comps, jump)\u001b[0m\n\u001b[0;32m     67\u001b[0m                 \u001b[0mdataset\u001b[0m \u001b[1;33m=\u001b[0m \u001b[0mC_group\u001b[0m\u001b[1;33m.\u001b[0m\u001b[0mget\u001b[0m\u001b[1;33m(\u001b[0m\u001b[0mstr\u001b[0m\u001b[1;33m(\u001b[0m\u001b[0msim\u001b[0m\u001b[1;33m.\u001b[0m\u001b[0minterval_arr\u001b[0m\u001b[1;33m[\u001b[0m\u001b[0mj\u001b[0m\u001b[1;33m]\u001b[0m\u001b[1;33m)\u001b[0m\u001b[1;33m)\u001b[0m\u001b[1;33m\u001b[0m\u001b[1;33m\u001b[0m\u001b[0m\n\u001b[0;32m     68\u001b[0m                 \u001b[0mdata_arr\u001b[0m \u001b[1;33m=\u001b[0m \u001b[1;33m[\u001b[0m\u001b[1;33m]\u001b[0m\u001b[1;33m\u001b[0m\u001b[1;33m\u001b[0m\u001b[0m\n\u001b[1;32m---> 69\u001b[1;33m                 \u001b[1;32mfor\u001b[0m \u001b[0md\u001b[0m \u001b[1;32min\u001b[0m \u001b[0mrange\u001b[0m\u001b[1;33m(\u001b[0m\u001b[0mlen\u001b[0m\u001b[1;33m(\u001b[0m\u001b[0mlist\u001b[0m\u001b[1;33m(\u001b[0m\u001b[0mdataset\u001b[0m\u001b[1;33m)\u001b[0m\u001b[1;33m)\u001b[0m\u001b[1;33m)\u001b[0m\u001b[1;33m:\u001b[0m\u001b[1;33m\u001b[0m\u001b[1;33m\u001b[0m\u001b[0m\n\u001b[0m\u001b[0;32m     70\u001b[0m                     \u001b[0mdata_arr\u001b[0m\u001b[1;33m.\u001b[0m\u001b[0mappend\u001b[0m\u001b[1;33m(\u001b[0m\u001b[0mdataset\u001b[0m\u001b[1;33m[\u001b[0m\u001b[0md\u001b[0m\u001b[1;33m]\u001b[0m\u001b[1;33m)\u001b[0m\u001b[1;33m\u001b[0m\u001b[1;33m\u001b[0m\u001b[0m\n\u001b[0;32m     71\u001b[0m                 \u001b[0mdata_arr_2\u001b[0m\u001b[1;33m.\u001b[0m\u001b[0mappend\u001b[0m\u001b[1;33m(\u001b[0m\u001b[0mdata_arr\u001b[0m\u001b[1;33m)\u001b[0m\u001b[1;33m\u001b[0m\u001b[1;33m\u001b[0m\u001b[0m\n",
      "\u001b[1;31mTypeError\u001b[0m: 'NoneType' object is not iterable"
     ]
    }
   ],
   "source": [
    "SIM_OVER == True ## * Just for testing purposes\n",
    "\n",
    "#graphing module can onlt be accessed once the simulation is complete\n",
    "\n",
    "    ##### User interface:\n",
    "\n",
    "drp_comp = widgets.Dropdown(description='Compartment:')\n",
    "\n",
    "options_drp_comp = []\n",
    "options_drp_comp.append('ALL COMPARTMENTS')\n",
    "\n",
    "for i in range(len(sim.comp_arr)):\n",
    "    options_drp_comp.append(sim.comp_arr[i].name)\n",
    "\n",
    "drp_comp.options = options_drp_comp    \n",
    "\n",
    "\n",
    "drp_param = widgets.Dropdown(description='Parameter:')\n",
    "options_drp_param = ['Membrane Potential (Vm)','Cl- Reversal Potential (E-Cl)', 'K+ Reversal Potential (E-K)','Cl- Driving Force'\n",
    "                        ,'Volume (pL)','',\n",
    "                         'All ion concentrations','Na+ Conc.','K+ Conc.','Cl- Conc.','Impermeant anion Conc.']\n",
    "\n",
    "\n",
    "drp_param.options = options_drp_param\n",
    "\n",
    "intervals = 1000 #amount of time points simulated\n",
    "\n",
    "sldr_start = widgets.IntSlider(description='Starting interval',min=0,step=1,max=intervals, value=5)\n",
    "\n",
    "\n",
    "\n",
    "\n",
    "\n",
    "hbox_graph = widgets.HBox()\n",
    "vbox_graph1 = widgets.VBox()\n",
    "vbox_graph2 = widgets.VBox()\n",
    "vbox_graph1.children =[drp_comp,drp_param]\n",
    "vbox_graph2.children =[sldr_start]\n",
    "hbox_graph.children = [vbox_graph1,vbox_graph2]\n",
    "\n",
    "btn_main_graph = widgets.Button(description='Graph it!',button_style='success')\n",
    "output10 = widgets.Output()\n",
    "display(hbox_graph,btn_main_graph,output10)\n",
    "\n",
    "number_of_colors = len(sim.comp_arr)\n",
    "\n",
    "color_arr = [\"#\"+''.join([random.choice('0123456789ABCDEF') for j in range(6)])\n",
    "             for i in range(number_of_colors)]\n",
    "\n",
    "\n",
    "def plot_main_graph(param='',comp_num=0,all_comps =False,jump=1):\n",
    "    \n",
    "    with h5py.File(\"\\ Test\", mode='r') as hdf:\n",
    "        C = hdf.get('COMPARTMENTS')\n",
    "        C_group_arr =[]\n",
    "        t_arr_bool = True\n",
    "        \n",
    "    \n",
    "        global master_arr, t_arr\n",
    "        master_arr = []\n",
    "        t_arr =[]\n",
    "        for e in range(len(sim.comp_arr)):\n",
    "            C_group = C.get(sim.comp_arr[e].name)\n",
    "            C_group_arr.append(C_group)\n",
    "            data_arr_2 =[]\n",
    "            for j in range(len(sim.interval_arr)):\n",
    "                dataset = C_group.get(str(sim.interval_arr[j]))\n",
    "                data_arr = []\n",
    "                for d in range(len(list(dataset))):\n",
    "                    data_arr.append(dataset[d])\n",
    "                data_arr_2.append(data_arr)\n",
    "            \n",
    "                if t_arr_bool == True:\n",
    "                    t_arr.append(data_arr[0])\n",
    "                \n",
    "            master_arr.append(data_arr_2)\n",
    "            t_arr_bool = False\n",
    "            \n",
    "    start_t = sldr_start.value\n",
    "      \n",
    "        \n",
    "    x_sc = bqp.LinearScale()\n",
    "    y_sc = bqp.LinearScale()\n",
    "    col_sc = bqp.ColorScale(scheme=\"RdYlGn\")\n",
    "    ax_x = bqp.Axis(scale = x_sc, label=\"Time(s)\", min= start_t, max=t_arr[-1])\n",
    "    ax_y = bqp.Axis(scale = y_sc, label=param, orientation='vertical', side='left')\n",
    "    ax_y2 = bqp.Axis(scale = y_sc, label=param, orientation='vertical', side='right')\n",
    "        \n",
    "        \n",
    "        \n",
    "    if all_comps == True:\n",
    "                      \n",
    "        m_arr = []\n",
    "        output10.clear_output()\n",
    "                   \n",
    "         \n",
    "        \n",
    "        for i in range(len(sim.comp_arr)):\n",
    "            col = color_arr[i]\n",
    "            y_arr = []   \n",
    "                #f1_title = \"All Compartments\"+\" : \" + \"Time (s) vs \" + drp_param.value \n",
    "                \n",
    "            if param == 'Membrane Potential (Vm)':\n",
    "                \n",
    "                y_arr = [master_arr[i][j][-3]*1e3 for j in range(len(sim.interval_arr))]\n",
    "                \n",
    "                m_arr.append(bqp.Lines(x= t_arr[start_t:-1],y= y_arr[start_t:-1],colors = [col], \n",
    "                    display_legend=True,labels= ['Vm - '+sim.comp_arr[i].name], scales = {'x': x_sc, \"y\": y_sc}))\n",
    "                    \n",
    "            elif param == 'Cl- Reversal Potential (E-Cl)':\n",
    "                \n",
    "                \n",
    "                y_arr = [master_arr[i][j][-1]*1e3 for j in range(len(sim.interval_arr))]\n",
    "                \n",
    "                m_arr.append(bqp.Lines(x= t_arr[start_t:-1],y= y_arr[start_t:-1], colors = [col],  \n",
    "                    display_legend=True,labels= ['E-Cl - '+sim.comp_arr[i].name], scales = {'x': x_sc, \"y\": y_sc}))\n",
    "                    \n",
    "            elif param == 'K+ Reversal Potential (E-K)':\n",
    "                \n",
    "                y_arr = [master_arr[i][j][-2]*1e3 for j in range(len(sim.interval_arr))]\n",
    "                \n",
    "                m_arr.append(bqp.Lines(x= t_arr[start_t:-1], y= y_arr[start_t:-1], colors = [col],  \n",
    "                    display_legend=True,labels= ['E-K - '+sim.comp_arr[i].name], scales = {'x': x_sc, \"y\": y_sc}))\n",
    "                    \n",
    "            elif param == 'Cl- Driving Force':\n",
    "                \n",
    "                y_arr = [master_arr[i][j][-3]*1e3 - master_arr[i][j][-1]*1e3 for j in range(len(sim.interval_arr))] \n",
    "                \n",
    "                m_arr.append(bqp.Lines(x= t_arr[start_t:-1],y= y_arr[start_t:-1], colors = [col],  \n",
    "                    display_legend=True,labels= ['Cl- Driv.Force '+sim.comp_arr[i].name], scales = {'x': x_sc, \"y\": y_sc}))\n",
    "                    \n",
    "                \n",
    "                \n",
    "            elif param == 'Volume (pL)':\n",
    "                \n",
    "                y_arr = [master_arr[i][j][3]*1e12 for j in range(len(sim.interval_arr))]\n",
    "                \n",
    "                m_arr.append(bqp.Lines(x= t_arr[start_t:-1],y= y_arr[start_t:-1], colors = [col],  \n",
    "                    display_legend=True,labels= ['Vol. - '+sim.comp_arr[i].name ], scales = {'x': x_sc, \"y\": y_sc}))\n",
    "                    \n",
    "            elif param == 'Na+ Conc.':\n",
    "                \n",
    "                y_arr = [master_arr[i][j][4]*1e3 for j in range(len(sim.interval_arr))]\n",
    "                \n",
    "                m_arr.append(bqp.Lines(x= t_arr[start_t:-1],y = y_arr[start_t:-1], colors = [col],  \n",
    "                    display_legend=True,labels= ['Na+ - '+sim.comp_arr[i].name], scales = {'x': x_sc, \"y\": y_sc}))\n",
    "                    \n",
    "            elif param == 'K+ Conc.':\n",
    "                \n",
    "                y_arr = [master_arr[i][j][5]*1e3 for j in range(len(sim.interval_arr))]\n",
    "                \n",
    "                m_arr.append(bqp.Lines(x= t_arr[start_t:-1],y = y_arr[start_t:-1],colors = [col],  \n",
    "                    display_legend=True,labels= ['K+ - '+sim.comp_arr[i].name], scales = {'x': x_sc, \"y\": y_sc}))\n",
    "                    \n",
    "            elif param == 'Cl- Conc.':\n",
    "                \n",
    "                y_arr = [master_arr[i][j][6]*1e3 for j in range(len(sim.interval_arr))]\n",
    "                \n",
    "                m_arr.append(bqp.Lines(x= t_arr[start_t:-1],y = y_arr[start_t:-1],colors = [col],  \n",
    "                    display_legend=True,labels= ['Cl- - '+sim.comp_arr[i].name], scales = {'x': x_sc, \"y\": y_sc}))\n",
    "                    \n",
    "            elif param == 'Impermeant anion Conc.':\n",
    "                \n",
    "                y_arr = [master_arr[i][j][7]*1e3 for j in range(len(sim.interval_arr))]\n",
    "                \n",
    "                m_arr.append(bqp.Lines(x= t_arr[start_t:-1],y = y_arr[start_t:-1], colors = [col], \n",
    "                       display_legend=True,labels= ['X -'+sim.comp_arr[i].name], scales = {'x': x_sc, \"y\": y_sc}))        \n",
    "            \n",
    "                \n",
    "                \n",
    "                       \n",
    "                \n",
    "        f1 = bqp.Figure(title =\"\", marks=m_arr, axes=[ax_x, ax_y],legend_location='top-right',scales={'x': x_sc, 'color': col_sc, 'y': y_sc})\n",
    "    \n",
    "        f1.layout.height = '600px'\n",
    "        f1.layout.width = '800px'\n",
    "        output10.clear_output()\n",
    "        with output10:    \n",
    "            display(f1)\n",
    "        \n",
    "        \n",
    "    if all_comps == False:            \n",
    "            \n",
    "            #f1_title = sim.comp_arr[comp_num].name+\" : \" + \"Time (s) vs \" + drp_param.value \n",
    "        y_arr = []\n",
    "            \n",
    "        if param == 'Membrane Potential (Vm)':\n",
    "                \n",
    "            y_arr = [master_arr[comp_num][j][-3]*1e3 for j in range(len(sim.interval_arr))]\n",
    "                \n",
    "            m1 = bqp.Lines(x= t_arr[start_t:-1],y= y_arr[start_t:-1],colors = ['#000000'], \n",
    "                       display_legend=True,labels= ['Vm'], scales = {'x': x_sc, \"y\": y_sc})\n",
    "                \n",
    "        elif param == 'Cl- Reversal Potential (E-Cl)':\n",
    "            \n",
    "            y_arr = [master_arr[comp_num][j][-1]*1e3 for j in range(len(sim.interval_arr))]\n",
    "                \n",
    "            m1 = bm1 = bqp.Lines(x= t_arr[start_t:-1],y= y_arr[start_t:-1],colors = ['#000000'], \n",
    "                       display_legend=True,labels= ['E-Cl'], scales = {'x': x_sc, \"y\": y_sc})\n",
    "                \n",
    "        elif param == 'K+ Reversal Potential (E-K)':\n",
    "                \n",
    "            y_arr = [master_arr[comp_num][j][-2]*1e3 for j in range(len(sim.interval_arr))]\n",
    "            \n",
    "            m1 = bqp.Lines(x= t_arr[start_t:-1],y= y_arr[start_t:-1],colors = ['#000000'], \n",
    "                       display_legend=True,labels= ['E-K'], scales = {'x': x_sc, \"y\": y_sc})\n",
    "                \n",
    "        elif param == 'Cl- Driving Force':\n",
    "             \n",
    "            y_arr = [master_arr[comp_num][j][-3]*1e3 - master_arr[comp_num][-1]*1e3 for j in range(len(sim.interval_arr))]    \n",
    "            \n",
    "            m1 = bqp.Lines(x= t_arr[start_t:-1],y= y_arr[start_t:-1],colors = ['#000000'], \n",
    "                       display_legend=True,labels= ['Cl- Driv.Force '+sim.comp_arr[comp_num].name], scales = {'x': x_sc, \"y\": y_sc})\n",
    "                 \n",
    "        elif param == 'Volume (pL)':\n",
    "                \n",
    "            y_arr = [master_arr[comp_num][j][3]*1e12 for j in range(len(sim.interval_arr))]\n",
    "            \n",
    "            m1 = bqp.Lines(x= t_arr[start_t:-1],y= y_arr[start_t:-1],colors = ['#000000'],\n",
    "                       display_legend=True,labels= ['Vol.'], scales = {'x': x_sc, \"y\": y_sc})\n",
    "                \n",
    "        elif param == 'Na+ Conc.':\n",
    "                \n",
    "            y_arr = [master_arr[comp_num][j][4]*1e3 for j in range(len(sim.interval_arr))]\n",
    "            \n",
    "            m1 = bqp.Lines(x= t_arr[start_t:-1],y= y_arr[start_t:-1],colors = ['#e7298a'], \n",
    "                       display_legend=True,labels= ['Na+'], scales = {'x': x_sc, \"y\": y_sc})\n",
    "                \n",
    "        elif param == 'K+ Conc.':\n",
    "            \n",
    "            y_arr = [master_arr[comp_num][j][5]*1e3 for j in range(len(sim.interval_arr))]\n",
    "            \n",
    "            m1 = bqp.Lines(x= t_arr[start_t:-1],y= y_arr[start_t:-1],colors = ['#7570b3'], \n",
    "                       display_legend=True,labels= ['K+'], scales = {'x': x_sc, \"y\": y_sc}) \n",
    "             \n",
    "        elif param == 'Cl- Conc.':\n",
    "                \n",
    "            y_arr = [master_arr[comp_num][j][6]*1e3 for j in range(len(sim.interval_arr))]\n",
    "            \n",
    "            m1 = bqp.Lines(x= t_arr[start_t:-1],y= y_arr[start_t:-1],colors = ['#1b9e77'], \n",
    "                       display_legend=True,labels= ['Cl-'], scales = {'x': x_sc, \"y\": y_sc}) \n",
    "                \n",
    "        elif param == 'Impermeant anion Conc.':\n",
    "            \n",
    "                   \n",
    "            \n",
    "            y_arr = [master_arr[comp_num][j][7]*1e3 for j in range(len(sim.interval_arr))]\n",
    "            \n",
    "            m1 = bqp.Lines(x= t_arr[start_t:-1],y= y_arr[start_t:-1],colors = ['#000000'], \n",
    "                       display_legend=True,labels= ['X Conc.'], scales = {'x': x_sc, \"y\": y_sc}) \n",
    "            \n",
    "           \n",
    "                \n",
    "        elif param == 'All ion concentrations':\n",
    "                \n",
    "            m1 = []\n",
    "            \n",
    "            y_arr = [master_arr[comp_num][j][4]*1e3 for j in range(len(sim.interval_arr))]\n",
    "            \n",
    "            a1 = bqp.Lines(x= t_arr[start_t:-1],y= y_arr[start_t:-1],colors = ['#e7298a'], \n",
    "                       display_legend=True,labels= ['Na+'], scales = {'x': x_sc, \"y\": y_sc})\n",
    "            \n",
    "            y_arr = [master_arr[comp_num][j][5]*1e3 for j in range(len(sim.interval_arr))]\n",
    "            \n",
    "            a2 = bqp.Lines(x= t_arr[start_t:-1],y= y_arr[start_t:-1],colors = ['#7570b3'], \n",
    "                       display_legend=True,labels= ['K+'], scales = {'x': x_sc, \"y\": y_sc})\n",
    "            \n",
    "            y_arr = [master_arr[comp_num][j][6]*1e3 for j in range(len(sim.interval_arr))]\n",
    "                \n",
    "                \n",
    "            a3 = bqp.Lines(x= t_arr[start_t:-1],y= y_arr[start_t:-1],colors = ['#1b9e77'], \n",
    "                       display_legend=True,labels= ['Cl-'], scales = {'x': x_sc, \"y\": y_sc})\n",
    "            \n",
    "            y_arr = [master_arr[comp_num][j][7]*1e3 for j in range(len(sim.interval_arr))]\n",
    "                \n",
    "            a4 = bqp.Lines(x= t_arr[start_t:-1],y= y_arr[start_t:-1],colors = ['#000000'], \n",
    "                       display_legend=True,labels= ['X'], scales = {'x': x_sc, \"y\": y_sc})\n",
    "            \n",
    "            \n",
    "                \n",
    "            m1 = [a1,a2,a3,a4]\n",
    "                \n",
    "                \n",
    "                 \n",
    "            f1 = bqp.Figure(title = sim.comp_arr[comp_num].name + \": all ion concentrations vs time\", marks=m1, axes=[ax_x, ax_y],legend_location='top-right')\n",
    "            f1.layout.height = '600px'\n",
    "            f1.layout.width = '800px'\n",
    "            output10.clear_output()\n",
    "            with output10:    \n",
    "                display(f1)\n",
    "            return\n",
    "            \n",
    "    \n",
    "    \n",
    "        f1 = bqp.Figure(title = \"\", marks=[m1], axes=[ax_x, ax_y],legend_location='top-right')\n",
    "    \n",
    "        f1.layout.height = '600px'\n",
    "        f1.layout.width = '800px'\n",
    "        output10.clear_output()\n",
    "        with output10:    \n",
    "            display(f1)\n",
    "\n",
    "            \n",
    "            \n",
    "        \n",
    "                \n",
    "                \n",
    "            \n",
    "\n",
    "        #####\n",
    "\n",
    "\n",
    "def btn_main_graph_clicked(b):\n",
    "    \n",
    "    \n",
    "    start_t = int(sldr_start.value * 1000)\n",
    "\n",
    "    \n",
    "\n",
    "    \n",
    "    \n",
    "    \n",
    "    \n",
    "    if drp_comp.value == 'ALL COMPARTMENTS':\n",
    "    \n",
    "            param = drp_param.value\n",
    "            plot_main_graph(param,all_comps=True)\n",
    "\n",
    "    \n",
    "    elif drp_comp.value != 'ALL COMPARTMENTS':\n",
    "        \n",
    "        \n",
    "        for i in range(len(sim.comp_arr)):\n",
    "            if (drp_comp.value == sim.comp_arr[i].name):\n",
    "                comp_num = i\n",
    "              \n",
    "\n",
    "        param = drp_param.value\n",
    "        plot_main_graph(param,comp_num,all_comps=False)\n",
    "\n",
    "    \n",
    "    \n",
    "    #if drp_comp != 'ALL COMPARTMENTS':\n",
    "           \n",
    "        \n",
    "btn_main_graph.on_click(btn_main_graph_clicked)\n",
    "\n",
    "#print(y_arr)\n",
    "\n",
    "        \n",
    "        \n"
   ]
  },
  {
   "cell_type": "markdown",
   "metadata": {},
   "source": [
    "### Vizualize changes to impermeant anions"
   ]
  },
  {
   "cell_type": "code",
   "execution_count": 31,
   "metadata": {},
   "outputs": [
    {
     "data": {
      "application/vnd.jupyter.widget-view+json": {
       "model_id": "f81a02309e834b31a9f9fd38c193152a",
       "version_major": 2,
       "version_minor": 0
      },
      "text/plain": [
       "Label(value='Assess the changes to the concentration and charge of impermeant anions during the simulation')"
      ]
     },
     "metadata": {},
     "output_type": "display_data"
    },
    {
     "data": {
      "application/vnd.jupyter.widget-view+json": {
       "model_id": "7e0d430b930442ad9b5529021fbbc01d",
       "version_major": 2,
       "version_minor": 0
      },
      "text/plain": [
       "Button(button_style='info', description='Plot impermeant changes', style=ButtonStyle())"
      ]
     },
     "metadata": {},
     "output_type": "display_data"
    },
    {
     "data": {
      "application/vnd.jupyter.widget-view+json": {
       "model_id": "b1c36d2b1bdf43db802686a7017b09ae",
       "version_major": 2,
       "version_minor": 0
      },
      "text/plain": [
       "Output()"
      ]
     },
     "metadata": {},
     "output_type": "display_data"
    },
    {
     "data": {
      "image/png": "[encoded data removed]",
      "text/plain": [
       "<Figure size 432x288 with 2 Axes>"
      ]
     },
     "metadata": {
      "needs_background": "light"
     },
     "output_type": "display_data"
    }
   ],
   "source": [
    "##################################################################\n",
    "# WIDGET INITIALIZATION:\n",
    "\n",
    "lbl_xchange = widgets.Label(value='Assess the changes to the concentration and charge of impermeant anions during the simulation')\n",
    "btn_xchange = widgets.Button(description='Plot impermeant changes', button_style='info')\n",
    "\n",
    "output_xchange = widgets.Output()\n",
    "\n",
    "display(lbl_xchange,btn_xchange,output_xchange)\n",
    "\n",
    "\n",
    "##################################################################\n",
    "# IMPLEMENTATION:\n",
    "\n",
    "          \n",
    "\n",
    "\n",
    "\n",
    "def plot_xchange_graph():\n",
    "    \n",
    "    fig_xchange,(ax_conc,ax_charge) = mplt.subplots(2,1)\n",
    "    fig_xchange.suptitle('Changes to intracellular Impermeant anion concentration and charge during simulation')\n",
    "    ax_conc.set_ylabel(\"Concentration (mM)\")\n",
    "    ax_charge.set_ylabel(\"Valence/Charge\")\n",
    "    ax_charge.set_xlabel(\"Time(ms)\")\n",
    "    \n",
    "  \n",
    "\n",
    "    for i in range(len(sim.comp_arr)):\n",
    "        y_arr = [master_arr[i][j][7]*1e3 for j in range(len(sim.interval_arr))]\n",
    "        ax_conc.plot(t_arr,y_arr, label = sim.comp_arr[i].name)\n",
    "        y_arr = [master_arr[i][j][8] for j in range(len(sim.interval_arr))]\n",
    "        ax_charge.plot(t_arr,y_arr, label = sim.comp_arr[i].name)\n",
    "    \n",
    "    \n",
    "def btn_xchange_clicked(b):\n",
    "    output_xchange.clear_output()\n",
    "    with output_xchange:\n",
    "        plot_xchange_graph()\n",
    "    \n",
    "\n",
    "btn_xchange.on_click(btn_xchange_clicked)\n",
    "\n",
    "#l = len(comp_arr[1].z_arr)\n",
    "\n",
    "\n",
    "#print(comp_arr[1].z_diff)\n",
    "\n",
    "#for j in range (1000):\n",
    "    #print(comp_arr[0].z_arr[round(l/1000*j)])\n",
    "\n",
    "#print(comp_arr[2].z_arr)\n",
    "\n",
    "#print(xflux_rate)\n",
    "#print(comp_arr[0].flux_rate)"
   ]
  },
  {
   "cell_type": "markdown",
   "metadata": {},
   "source": [
    "### Ionic Heatmap"
   ]
  },
  {
   "cell_type": "code",
   "execution_count": 30,
   "metadata": {
    "extensions": {
     "jupyter_dashboards": {
      "version": 1,
      "views": {
       "grid_default": {},
       "report_default": {}
      }
     }
    }
   },
   "outputs": [
    {
     "data": {
      "application/vnd.jupyter.widget-view+json": {
       "model_id": "714a3164a1da46a9a52a02c9221df7ed",
       "version_major": 2,
       "version_minor": 0
      },
      "text/plain": [
       "Dropdown(description='Ion:', options=('Na', 'K', 'Cl', 'X'), value='Na')"
      ]
     },
     "metadata": {},
     "output_type": "display_data"
    },
    {
     "data": {
      "application/vnd.jupyter.widget-view+json": {
       "model_id": "fa1a3dcec7e449bda17d2327cb043515",
       "version_major": 2,
       "version_minor": 0
      },
      "text/plain": [
       "IntSlider(value=20, description='Bins', min=5, step=2)"
      ]
     },
     "metadata": {},
     "output_type": "display_data"
    },
    {
     "data": {
      "application/vnd.jupyter.widget-view+json": {
       "model_id": "216fc8ab339e4c00bd94304c5f9a2075",
       "version_major": 2,
       "version_minor": 0
      },
      "text/plain": [
       "Button(description='Show Heat Map', style=ButtonStyle())"
      ]
     },
     "metadata": {},
     "output_type": "display_data"
    },
    {
     "data": {
      "application/vnd.jupyter.widget-view+json": {
       "model_id": "3d6422a59ee5404cbc7ea3df1c5323dc",
       "version_major": 2,
       "version_minor": 0
      },
      "text/plain": [
       "Output()"
      ]
     },
     "metadata": {},
     "output_type": "display_data"
    }
   ],
   "source": [
    "### HEATMAP OF ION CHANGES DURING SIMULATION:\n",
    "\n",
    "########################\n",
    "# Widget initialization\n",
    "\n",
    "btn_heat = widgets.Button(description = 'Show Heat Map')\n",
    "drp_ion = widgets.Dropdown(description = 'Ion:',options=['Na','K','Cl','X'])\n",
    "sldr_heat = widgets.IntSlider(description= 'Bins', value= 20, min = 5, max= 100, step=2)\n",
    "output_heat = widgets.Output()\n",
    "\n",
    "###########################\n",
    "# Plotting function on click\n",
    "\n",
    "def btn_heat_clicked(b):\n",
    "\n",
    "    y_arr = []\n",
    "    x_arr = []\n",
    "    data_arr = []\n",
    "    bins = sldr_heat.value\n",
    "    ion = drp_ion.value\n",
    "    jump = int(1000/bins)\n",
    "    \n",
    "    y_arr = [sim.comp_arr[j].name for j in range(len(sim.comp_arr))]\n",
    "    x2_arr = t_arr[0:1000:jump]\n",
    "    x_arr = [round(x2_arr[j],2) for j in range(len(x_arr)) ]\n",
    "    \n",
    "    for i in range(len(sim.comp_arr)):\n",
    "        \n",
    "        temp_arr =[]\n",
    "        if ion == 'Na':\n",
    "            na_arr = [master_arr[i][k][4]*1e3 for k in range(len(sim.interval_arr))]       \n",
    "            temp_arr = na_arr[0:1000:jump]\n",
    "            \n",
    "            \n",
    "        elif ion == 'K':\n",
    "            k_arr = [master_arr[i][k][5]*1e3 for k in range(len(sim.interval_arr))]\n",
    "            temp_arr = k_arr[0:1000:jump]\n",
    "       \n",
    "        elif ion == 'Cl':\n",
    "            cl_arr = [master_arr[i][k][5]*1e3 for k in range(len(sim.interval_arr))]\n",
    "            temp_arr = cl_arr[0:1000:jump]\n",
    "        \n",
    "        elif ion == 'X':\n",
    "            x_arr = [master_arr[i][k][5]*1e3 for k in range(len(sim.interval_arr))]\n",
    "            temp_arr = x_arr[0:1000:jump]\n",
    "        \n",
    "        data_arr.append(temp_arr)\n",
    "                   \n",
    "    \n",
    "    \n",
    "    x_sc = bqp.LinearScale()\n",
    "    y_sc = bqp.LinearScale()\n",
    "    \n",
    "    \n",
    "    \n",
    "    with output_heat:\n",
    "        output_heat.clear_output()\n",
    "        mplt.figure()\n",
    "        plt_heat = sns.heatmap(data_arr,cmap=\"BuPu\", linewidth=0.5, xticklabels=x_arr, yticklabels=y_arr, cbar_kws={'label': 'Concentration (mM)'})\n",
    "        mplt.xlabel(\"Simulation time (s)\")\n",
    "        mplt.ylabel(\"Compartment\")\n",
    "        mplt.show()\n",
    "        \n",
    "    \n",
    "    #display(output_heat)\n",
    "    \n",
    "    \n",
    "##################################\n",
    "\n",
    "btn_heat.on_click(btn_heat_clicked)\n",
    "\n",
    "\n",
    "display(drp_ion, sldr_heat,btn_heat,output_heat)"
   ]
  },
  {
   "cell_type": "markdown",
   "metadata": {},
   "source": [
    "### View ion fluxes through respective membrane channels"
   ]
  },
  {
   "cell_type": "code",
   "execution_count": 19,
   "metadata": {
    "scrolled": true
   },
   "outputs": [
    {
     "ename": "SyntaxError",
     "evalue": "invalid syntax (<ipython-input-19-c52bd38e359f>, line 47)",
     "output_type": "error",
     "traceback": [
      "\u001b[1;36m  File \u001b[1;32m\"<ipython-input-19-c52bd38e359f>\"\u001b[1;36m, line \u001b[1;32m47\u001b[0m\n\u001b[1;33m    m_arr.append(bqp.Lines(x= t_arr[0:-1:100],y= ,colors = ['#247BA0'],\u001b[0m\n\u001b[1;37m                                                 ^\u001b[0m\n\u001b[1;31mSyntaxError\u001b[0m\u001b[1;31m:\u001b[0m invalid syntax\n"
     ]
    }
   ],
   "source": [
    "#############################################################################################################\n",
    "# Widget interface\n",
    "\n",
    "output_channels = widgets.Output()\n",
    "lbl_channels = widgets.Label(value='Plot the concentrations of ions flowing through each channel')\n",
    "drp_comp_channels = widgets.Dropdown()\n",
    "drp_ion_channels = widgets.Dropdown()\n",
    "btn_channels = widgets.Button(button_style='info', description = 'Plot')\n",
    "options_drp_comp_channels =[]\n",
    "options_drp_ion_channels = ['Na','K','Cl']\n",
    "\n",
    "for i in range(len(sim.comp_arr)):\n",
    "    options_drp_comp_channels.append(sim.comp_arr[i].name)\n",
    "\n",
    "drp_comp_channels.options = options_drp_comp_channels\n",
    "drp_ion_channels.options = options_drp_ion_channels\n",
    "############################################################################################################    \n",
    "\n",
    "    \n",
    "def btn_channels_clicked(b):\n",
    "    \n",
    "    output_channels.clear_output()\n",
    "    for c in range(len(sim.comp_arr)):\n",
    "        if drp_comp_channels.value == sim.comp_arr[c].name:\n",
    "            plot_channel_graph(c)\n",
    "    \n",
    "    \n",
    "    \n",
    "    \n",
    "    \n",
    "def plot_channel_graph(comp_num):\n",
    "    \n",
    "            \n",
    "    x_sc = bqp.LinearScale()\n",
    "    y_sc = bqp.LinearScale()\n",
    "    col_sc = bqp.ColorScale(scheme=\"RdYlGn\")  \n",
    "    ax_x = bqp.Axis(scale = x_sc, label=\"Time(s)\", min= t_arr[0], max=t_arr[-1])\n",
    "    ax_y = bqp.Axis(scale = y_sc, label='Concentration (mM)', orientation='vertical', side='left')\n",
    "        \n",
    "    m_arr = [] #array for all the various marks\n",
    "    y_arr = []\n",
    "    \n",
    "    if drp_ion_channels.value == 'Na':\n",
    "        \n",
    "        y_arr = master_arr[comp_num][0:-1:100]*1000\n",
    "        \n",
    "        m_arr.append(bqp.Lines(x= t_arr[0:-1:100],y= ,colors = ['#247BA0'], \n",
    "                       display_legend=True,labels= ['Leak'], scales = {'x': x_sc, \"y\": y_sc}))\n",
    "        \n",
    "        m_arr.append(bqp.Lines(x= t_arr[0:-1:100],y= master_arr[comp_num].d_na_atpase_arr[0:-1:100]*1000,colors = ['#70C1B3'], \n",
    "                       display_legend=True,labels= ['ATPase'], scales = {'x': x_sc, \"y\": y_sc}))\n",
    "    \n",
    "    \n",
    "    elif drp_ion_channels.value == 'K':\n",
    "        \n",
    "        \n",
    "        m_arr.append(bqp.Lines(x= t_arr[0:-1:100],y= comp_arr[comp_num].d_k_leak_arr[0:-1:100],colors = ['#247BA0'], \n",
    "                       display_legend=True,labels= ['Leak'], scales = {'x': x_sc, \"y\": y_sc}))\n",
    "        \n",
    "        m_arr.append(bqp.Lines(x= t_arr[0:-1:100],y= comp_arr[comp_num].d_k_atpase_arr[0:-1:100],colors = ['#70C1B3'], \n",
    "                       display_legend=True,labels= ['ATPase'], scales = {'x': x_sc, \"y\": y_sc}))\n",
    "        \n",
    "        m_arr.append(bqp.Lines(x= t_arr[0:-1:100],y= comp_arr[comp_num].d_k_kcc2_arr[0:-1:100],colors = ['#B2DBBF'], \n",
    "                       display_legend=True,labels= ['KCC2'], scales = {'x': x_sc, \"y\": y_sc}))\n",
    "                   \n",
    "    \n",
    "    elif drp_ion_channels.value == \"Cl\":\n",
    "    \n",
    "        m_arr.append(bqp.Lines(x= t_arr[0:-1:100],y= comp_arr[comp_num].d_cl_leak_arr[0:-1:100],colors = ['#247BA0'], \n",
    "                       display_legend=True,labels= ['Leak'], scales = {'x': x_sc, \"y\": y_sc}))\n",
    "        \n",
    "        m_arr.append(bqp.Lines(x= t_arr[0:-1:100],y= comp_arr[comp_num].d_cl_kcc2_arr[0:-1:100],colors = ['#B2DBBF'], \n",
    "                       display_legend=True,labels= ['KCC2'], scales = {'x': x_sc, \"y\": y_sc}))\n",
    "                   \n",
    "         \n",
    "                          \n",
    "                \n",
    "                       \n",
    "                \n",
    "    f_channels = bqp.Figure(title = 'Channel fluxes', marks=m_arr, axes=[ax_x, ax_y],legend_location='top-right',scales={'x': x_sc, 'color': col_sc, 'y': y_sc})\n",
    "    \n",
    "    f_channels.layout.height = '600px'\n",
    "    f_channels.layout.width = '800px'\n",
    "    output_channels.clear_output()\n",
    "    with output_channels:    \n",
    "        display(f_channels)\n",
    "       \n",
    "        \n",
    "        \n",
    "\n",
    "#############################################################################################################\n",
    "\n",
    "\n",
    "\n",
    "\n",
    "display(lbl_channels, drp_comp_channels,drp_ion_channels, btn_channels, output_channels )\n",
    "btn_channels.on_click(btn_channels_clicked)\n"
   ]
  },
  {
   "cell_type": "markdown",
   "metadata": {
    "extensions": {
     "jupyter_dashboards": {
      "version": 1,
      "views": {
       "grid_default": {},
       "report_default": {}
      }
     }
    }
   },
   "source": [
    "### Compartment equilibria\n"
   ]
  },
  {
   "cell_type": "code",
   "execution_count": 35,
   "metadata": {},
   "outputs": [
    {
     "data": {
      "application/vnd.jupyter.widget-view+json": {
       "model_id": "3eb7474d3dc445e499b91822ec16c17e",
       "version_major": 2,
       "version_minor": 0
      },
      "text/plain": [
       "Dropdown(description='Compartment', options=('Comp1', 'Comp2', 'Comp3'), value='Comp1')"
      ]
     },
     "metadata": {},
     "output_type": "display_data"
    },
    {
     "data": {
      "application/vnd.jupyter.widget-view+json": {
       "model_id": "90b52faa6478477a904a81540ff0c26a",
       "version_major": 2,
       "version_minor": 0
      },
      "text/plain": [
       "Button(button_style='info', description='View Equilibrium dynamic', style=ButtonStyle())"
      ]
     },
     "metadata": {},
     "output_type": "display_data"
    },
    {
     "data": {
      "application/vnd.jupyter.widget-view+json": {
       "model_id": "1c592153b2854d81b0189074bd9545ec",
       "version_major": 2,
       "version_minor": 0
      },
      "text/plain": [
       "Output(layout=Layout(border='solid'))"
      ]
     },
     "metadata": {},
     "output_type": "display_data"
    },
    {
     "data": {
      "application/vnd.jupyter.widget-view+json": {
       "model_id": "8b8bb9fd6ab44bccbd5df0b8dbe30ce8",
       "version_major": 2,
       "version_minor": 0
      },
      "text/plain": [
       "Output()"
      ]
     },
     "metadata": {},
     "output_type": "display_data"
    }
   ],
   "source": [
    "#############################################################################################################\n",
    "# Widget interface\n",
    "output_equilib = widgets.Output()\n",
    "output_equilib.layout = Layout(border='solid')\n",
    "output_equilib_save = widgets.Output(Layout=Layout(border='solid'))\n",
    "output_legend = widgets.Output()\n",
    "btn_equilib = widgets.Button(description =\"View Equilibrium dynamic\",button_style='info')\n",
    "btn_equilib_save = widgets.Button(description = \"Save Graph as png\",button_style='info')\n",
    "\n",
    "drp_equilib = widgets.Dropdown(description =\"Compartment\")\n",
    "options_arr = []\n",
    "\n",
    "\n",
    "for i in range(len(sim.comp_arr)):\n",
    "    options_arr.append(sim.comp_arr[i].name) \n",
    "    \n",
    "drp_equilib.options = options_arr\n",
    "\n",
    "\n",
    "display(drp_equilib, btn_equilib, output_equilib, output_equilib_save)\n",
    "\n",
    "#############################################################################################################\n",
    "# Creating Equilibria figures\n",
    "\n",
    "\n",
    "\n",
    "def btn_equilib_clicked(b):\n",
    "    \n",
    "    #### Instantiating figure\n",
    "    \n",
    "    \n",
    "    with output_equilib_save:\n",
    "        display(btn_equilib_save)\n",
    "    \n",
    "    \n",
    "    \n",
    "    #ISOLATING SPECIFIC COMPARTMENT\n",
    "    temp_name = drp_equilib.value \n",
    "    temp_num = 0 \n",
    "    \n",
    "    for i in range(len(sim.comp_arr)):\n",
    "        if sim.comp_arr[i].name == temp_name:\n",
    "            temp_num = i\n",
    "            \n",
    "    shapes_arr =[]\n",
    "    \n",
    "    with output_equilib:\n",
    "        \n",
    "        output_equilib.clear_output()\n",
    "        \n",
    "        f1 = mplt.figure(figsize=(25,10))\n",
    "        ax = mplt.gca()\n",
    "        \n",
    "        ######### Main compartment:\n",
    "        \n",
    "        mainx = 32 #starting x-coordinate for main rectangle if not the last compartment\n",
    "        mainy = 4  #starting y-coordinate for main rectangle\n",
    "        main_rect = mpatches.Rectangle([mainx,mainy],20,16, fc='#c4c4ff',ec='red')\n",
    "        main_atpase = mpatches.Ellipse([mainx+3,mainy+16],width=2, height=4,fc = '#964b00')\n",
    "        main_kcc2 = mpatches.Ellipse([mainx+8,mainy+16],width=4, height=2,fc = '#8f4f66')\n",
    "        shapes_arr.append(main_rect)\n",
    "        shapes_arr.append(main_atpase)\n",
    "        shapes_arr.append(main_kcc2)\n",
    "        \n",
    "        m_net_in = 0\n",
    "        m_net_out = 0\n",
    "\n",
    "        ######## Main ATPASE:\n",
    "        \n",
    "        m_na_atpase = master_arr[temp_num][-1][11]*1e10\n",
    "        if m_na_atpase >0: #Sodium coming into the compartment\n",
    "            m_na_atpase_arrow = mpatches.FancyArrow(mainx+3, mainy+16,0,-2,width=0.2,ec='#e7298a',fc='#e7298a',ls='--')\n",
    "            ax.text(mainx+2.5,mainy+12.5, str(round(m_na_atpase,1)), fontsize=11)\n",
    "            m_net_in += m_na_atpase\n",
    "        else:\n",
    "            m_na_atpase_arrow = mpatches.FancyArrow(mainx+3, mainy+16,0,+2,width=0.2,ec='#e7298a',fc='#e7298a',ls='--')\n",
    "            ax.text(mainx+2.5,mainy+19, str(round(m_na_atpase,1)*-1), fontsize=11)\n",
    "            m_net_out += -1*m_na_atpase\n",
    "        shapes_arr.append(m_na_atpase_arrow)\n",
    "        \n",
    "        m_k_atpase = master_arr[temp_num][-1][14]*1e10\n",
    "        if m_k_atpase >0: #POtassium coming into the compartment\n",
    "            m_k_atpase_arrow = mpatches.FancyArrow(mainx+3, mainy+16,0,-2,width=0.2, ec='#7570b3',fc='#7570b3',ls='--')\n",
    "            ax.text(mainx+2.5,mainy+12.5, str(round(m_k_atpase,1)), fontsize=11)\n",
    "            m_net_in += m_k_atpase\n",
    "        else:\n",
    "            m_k_atpase_arrow = mpatches.FancyArrow(mainx+3, mainy+16,0,+2,width=0.2, ec='#7570b3',fc='#7570b3',ls='--')\n",
    "            ax.text(mainx+2.5,mainy+19, str(round(m_k_atpase,1)*-1), fontsize=11)\n",
    "            m_net_out += -1*m_k_atpase\n",
    "        shapes_arr.append(m_k_atpase_arrow)\n",
    "        \n",
    "        ######## Main KCC2:\n",
    "        \n",
    "        m_k_kcc2 = master_arr[temp_num][-1][15]*1e10\n",
    "        if m_k_kcc2 >0: #Potassium entering via KCC2\n",
    "            m_k_kcc2_arrow = mpatches.FancyArrow(mainx+7, mainy+16,0,-2,width=0.2,ec='#7570b3',fc='#7570b3',ls='--')\n",
    "            ax.text(mainx+6.5,mainy+12.5, str(round(m_k_kcc2,1)), fontsize=11)\n",
    "            m_net_in += m_k_kcc2\n",
    "        else:\n",
    "            m_k_kcc2_arrow = mpatches.FancyArrow(mainx+7, mainy+16,0,+2,width=0.2,ec='#7570b3',fc='#7570b3',ls='--')\n",
    "            ax.text(mainx+6.5,mainy+19, str(round(m_k_kcc2,1)*-1), fontsize=11)\n",
    "            m_net_out += -1*m_k_kcc2\n",
    "        shapes_arr.append(m_k_kcc2_arrow)\n",
    "        \n",
    "        m_cl_kcc2 = master_arr[temp_num][-1][18]*1e10\n",
    "        if m_cl_kcc2 >0: #cl coming into the compartment\n",
    "            m_cl_kcc2_arrow = mpatches.FancyArrow(mainx+9, mainy+16,0,-2,width=0.2, ec='#1b9e77',fc='#1b9e77',ls='--')\n",
    "            ax.text(mainx+8.5,mainy+12.5, str(round(m_cl_kcc2,1)), fontsize=11)\n",
    "            m_net_in -= m_cl_kcc2\n",
    "        else:\n",
    "            m_cl_kcc2_arrow = mpatches.FancyArrow(mainx+9, mainy+16,0,+2,width=0.2, ec='#1b9e77',fc='#1b9e77',ls='--')\n",
    "            ax.text(mainx+8.5,mainy+19, str(round(m_cl_kcc2,1)*-1), fontsize=11)\n",
    "            m_net_out += m_cl_kcc2\n",
    "        shapes_arr.append(m_cl_kcc2_arrow)\n",
    "        \n",
    "            \n",
    "        ########## Main Na Leak:\n",
    "        \n",
    "        m_na_leak = mpatches.Rectangle([mainx+12, mainy+15.5], 2,1,fc='#000000')\n",
    "        shapes_arr.append(m_na_leak)\n",
    "        \n",
    "        m_d_na = master_arr[temp_num][-1][10]*1e10\n",
    "        if m_d_na >0: #sodium coming into the compartment\n",
    "            m_na_arrow = mpatches.FancyArrow(mainx+13, mainy+16, 0, -2, width=0.2,ec='#e7298a',fc='#e7298a')\n",
    "            ax.text(mainx+12.5,mainy+12,str(round(m_d_na,1)), fontsize=11)\n",
    "            m_net_in += m_d_na #adding sodium coming in\n",
    "        else:\n",
    "            m_na_arrow = mpatches.FancyArrow(mainx+13, mainy+16, 0, +2, width=0.2,ec='#e7298a',fc='#e7298a')\n",
    "            ax.text(mainx+12.5,mainy+19,str(round(m_d_na,1)), fontsize=11)\n",
    "            m_net_out += -1*m_d_na\n",
    "        shapes_arr.append(m_na_arrow)\n",
    "\n",
    "        ########## Main K Leak:\n",
    "        \n",
    "        m_k_leak = mpatches.Rectangle([mainx+15, mainy+15.5], 2,1,fc='#000000')\n",
    "        shapes_arr.append(m_k_leak)\n",
    "        \n",
    "        m_d_k = master_arr[temp_num][-1][13]*1e10\n",
    "        if m_d_k >0: #potassium coming into the compartment\n",
    "            m_k_arrow = mpatches.FancyArrow(mainx+16, mainy+16, 0, -2, width=0.2,ec='#7570b3',fc='#7570b3')\n",
    "            ax.text(mainx+15.5,mainy+12,str(round(m_d_k,1)), fontsize=11)\n",
    "            m_net_in += m_d_k\n",
    "        else:\n",
    "            m_k_arrow = mpatches.FancyArrow(mainx+16, mainy+16, 0, +2, width=0.2,ec='#7570b3',fc='#7570b3')\n",
    "            ax.text(mainx+15.5,mainy+19,str(round(m_d_k,1)), fontsize=11)\n",
    "            m_net_out += -1*m_d_k\n",
    "        shapes_arr.append(m_k_arrow)\n",
    "\n",
    "        ########## Main Cl Leak:\n",
    "        \n",
    "        m_cl_leak = mpatches.Rectangle([mainx+18, mainy+15.5], 2,1,fc='#000000')\n",
    "        shapes_arr.append(m_cl_leak)\n",
    "        \n",
    "        m_d_cl = master_arr[temp_num][-1][17]*1e10\n",
    "        if m_d_cl >0: #chloride coming into selected (main) compartment\n",
    "            m_cl_arrow = mpatches.FancyArrow(mainx+19, mainy+16, 0, -2, width=0.2,ec='#1b9e77',fc='#1b9e77')\n",
    "            ax.text(mainx+18,mainy+12,str(round(m_d_cl,1)), fontsize=11)\n",
    "            m_net_in -= m_d_cl #minus chloride coming in\n",
    "        else:\n",
    "            m_cl_arrow = mpatches.FancyArrow(mainx+19, mainy+16, 0, +2, width=0.2,ec='#1b9e77',fc='#1b9e77')\n",
    "            ax.text(mainx+18,mainy+19,str(round(m_d_cl,1)), fontsize=11)\n",
    "            m_net_out += m_d_cl\n",
    "        shapes_arr.append(m_cl_arrow)\n",
    "\n",
    "\n",
    "\n",
    "\n",
    "        ######## Right Compartment\n",
    "\n",
    "        rightx = mainx+22\n",
    "        righty = 4\n",
    "        right_comp=False\n",
    "        r_net_in =0\n",
    "        r_net_out =0\n",
    "\n",
    "        if temp_num+1 != len(comp_arr):   #if not the last componenent, make rectangle on right\n",
    "\n",
    "            right_comp = True\n",
    "            right_rect = mpatches.Rectangle([rightx,righty],20,16, fc='#ebebff')\n",
    "            right_atpase = mpatches.Ellipse([rightx+3,righty+16],width=2, height=4,fc = '#964b00')\n",
    "            right_kcc2 = mpatches.Ellipse([rightx+8,righty+16],width=4, height=2,fc = '#8f4f66')\n",
    "            shapes_arr.append(right_rect)\n",
    "            shapes_arr.append(right_atpase)\n",
    "            shapes_arr.append(right_kcc2)\n",
    "            \n",
    "            \n",
    "            #### Right ATPase\n",
    "            r_na_atpase = master_arr[temp_num+1][-1][11]*1e10\n",
    "            if r_na_atpase >0: #Sodium coming into the compartment\n",
    "                r_na_atpase_arrow = mpatches.FancyArrow(rightx+3, righty+16,0,-2,width=0.2,ec='#e7298a',fc='#e7298a',ls='--')\n",
    "                ax.text(rightx+2.5,righty+12.5, str(round(r_na_atpase,1)), fontsize=11)\n",
    "                r_net_in += r_na_atpase\n",
    "            else:\n",
    "                r_na_atpase_arrow = mpatches.FancyArrow(rightx+3, righty+16,0,+2,width=0.2,ec='#e7298a',fc='#e7298a',ls='--')\n",
    "                ax.text(rightx+2.5,righty+19, str(round(r_na_atpase,1)*-1), fontsize=11)\n",
    "                r_net_out += -1*r_na_atpase\n",
    "            shapes_arr.append(r_na_atpase_arrow)\n",
    "\n",
    "            r_k_atpase = master_arr[temp_num+1][-1][14]*1e10\n",
    "            if r_k_atpase >0: #Sodium coming into the compartment\n",
    "                r_k_atpase_arrow = mpatches.FancyArrow(rightx+3, righty+16,0,-2,width=0.2, ec='#7570b3',fc='#7570b3',ls='--')\n",
    "                ax.text(rightx+2.5,righty+12.5, str(round(r_k_atpase,1)), fontsize=11)\n",
    "                r_net_in += r_k_atpase\n",
    "            else:\n",
    "                r_k_atpase_arrow = mpatches.FancyArrow(rightx+3, righty+16,0,+2,width=0.2, ec='#7570b3',fc='#7570b3',ls='--')\n",
    "                ax.text(rightx+2.5,righty+19, str(round(r_k_atpase,1)*-1), fontsize=11)\n",
    "                r_net_out += -1*r_k_atpase\n",
    "            shapes_arr.append(r_k_atpase_arrow)\n",
    "            \n",
    "            ######## Right KCC2:\n",
    "        \n",
    "            r_k_kcc2 = master_arr[temp_num+1][-1][15]*1e10\n",
    "            if r_k_kcc2 >0: #Potassium entering via KCC2\n",
    "                r_k_kcc2_arrow = mpatches.FancyArrow(rightx+7, righty+16,0,-2,width=0.2,ec='#7570b3',fc='#7570b3',ls='--')\n",
    "                ax.text(rightx+6.5,righty+12.5, str(round(r_k_kcc2,1)), fontsize=11)\n",
    "                r_net_in += r_k_kcc2\n",
    "            else:\n",
    "                r_k_kcc2_arrow = mpatches.FancyArrow(rightx+7, righty+16,0,+2,width=0.2,ec='#7570b3',fc='#7570b3',ls='--')\n",
    "                ax.text(rightx+6.5,righty+19, str(round(r_k_kcc2,1)*-1), fontsize=11)\n",
    "                r_net_out += -1*r_k_kcc2\n",
    "            shapes_arr.append(r_k_kcc2_arrow)\n",
    "\n",
    "            r_cl_kcc2 =  master_arr[temp_num+1][-1][18]*1e10\n",
    "            if r_cl_kcc2 >0: #Cl coming into the compartment via KCC2\n",
    "                r_cl_kcc2_arrow = mpatches.FancyArrow(rightx+9, righty+16,0,-2,width=0.2, ec='#1b9e77',fc='#1b9e77',ls='--')\n",
    "                ax.text(rightx+8.5,righty+12.5, str(round(r_cl_kcc2,1)), fontsize=11)\n",
    "                r_net_in += -1*r_cl_kcc2\n",
    "            else:\n",
    "                r_cl_kcc2_arrow = mpatches.FancyArrow(rightx+9, righty+16,0,+2,width=0.2, ec='#1b9e77',fc='#1b9e77',ls='--')\n",
    "                ax.text(rightx+8.5,righty+19, str(round(r_cl_kcc2,1)*-1), fontsize=11)\n",
    "                r_net_out += r_cl_kcc2\n",
    "            shapes_arr.append(r_cl_kcc2_arrow)\n",
    "        \n",
    "            \n",
    "            #d_Na\n",
    "            \n",
    "            r_na_leak = mpatches.Rectangle([rightx+12, righty+15.5], 2,1,fc='#000000')\n",
    "            shapes_arr.append(r_na_leak)\n",
    "            \n",
    "            r_d_na = master_arr[temp_num+1][-1][10]*1e10\n",
    "            if r_d_na >0: #sodium coming into the compartment\n",
    "                r_na_arrow = mpatches.FancyArrow(rightx+13, righty+16, 0, -2, width=0.2,ec='#e7298a',fc='#e7298a')\n",
    "                ax.text(rightx+12.5,righty+12,str(round(r_d_na,1)), fontsize=11)\n",
    "                r_net_in +=r_d_na\n",
    "            else:\n",
    "                r_na_arrow = mpatches.FancyArrow(rightx+13, righty+16, 0, +2, width=0.2,ec='#e7298a',fc='#e7298a')\n",
    "                ax.text(rightx+12.5,righty+19,str(round(r_d_na,1)), fontsize=11)\n",
    "                r_net_out += -1*r_d_na\n",
    "            shapes_arr.append(r_na_arrow)\n",
    "\n",
    "            #d_K\n",
    "            \n",
    "            r_k_leak = mpatches.Rectangle([rightx+15, righty+15.5], 2,1,fc='#000000')\n",
    "            shapes_arr.append(r_k_leak)\n",
    "            \n",
    "            r_d_k = master_arr[temp_num+1][-1][13]*1e10\n",
    "            if r_d_k >0: #potassium coming into the compartment\n",
    "                r_k_arrow = mpatches.FancyArrow(rightx+16, righty+16, 0, -2, width=0.2,ec='#7570b3',fc='#7570b3')\n",
    "                ax.text(rightx+15.5,righty+12,str(round(r_d_k,1)), fontsize=11)\n",
    "                r_net_in += r_d_k\n",
    "            else:\n",
    "                r_k_arrow = mpatches.FancyArrow(rightx+16, righty+16, 0, +2, width=0.2,ec='#7570b3',fc='#7570b3')\n",
    "                ax.text(rightx+15.5,righty+19,str(round(r_d_k,1)), fontsize=11)\n",
    "                r_net_out += -1*r_d_k\n",
    "            shapes_arr.append(r_k_arrow)\n",
    "\n",
    "\n",
    "            #d_Cl\n",
    "            \n",
    "            r_cl_leak = mpatches.Rectangle([rightx+18, righty+15.5], 2,1,fc='#000000')\n",
    "            shapes_arr.append(r_cl_leak)\n",
    "            \n",
    "            r_d_cl = master_arr[temp_num+1][-1][17]*1e10\n",
    "            if r_d_cl >0: #chloride coming into the compartment\n",
    "                r_cl_arrow = mpatches.FancyArrow(rightx+19, righty+16, 0, -2, width=0.2,ec='#1b9e77',fc='#1b9e77')\n",
    "                ax.text(rightx+18,righty+12,str(round(r_d_cl,1)), fontsize=11)\n",
    "                r_net_in -= r_d_cl\n",
    "            else:\n",
    "                r_cl_arrow = mpatches.FancyArrow(rightx+19, righty+16, 0, +2, width=0.2,ec='#1b9e77',fc='#1b9e77')\n",
    "                ax.text(rightx+18,righty+19,str(round(r_d_cl,1)), fontsize=11)\n",
    "                r_net_out += r_d_cl\n",
    "            shapes_arr.append(r_cl_arrow)\n",
    "\n",
    "            #Right Electrodiffusion\n",
    "            r_ed_dict = sim.ed_conc_changes_arr[temp_num]\n",
    "            \n",
    "            r_ed_na = r_ed_dict[\"na\"]*1e10\n",
    "            if r_ed_na >0: \n",
    "                r_ed_na_arrow = mpatches.FancyArrow(rightx+2, righty+8, -5, 0, width=0.2,ec='#e7298a',fc='#e7298a',ls='dotted')\n",
    "                ax.text(rightx+2,righty+7.75,str(round(r_ed_na,1)), fontsize=11)\n",
    "                shapes_arr.append(r_ed_na_arrow)\n",
    "                r_net_out += r_ed_na\n",
    "                m_net_in += r_ed_na\n",
    "\n",
    "            else: #Sodium moving out of cell\n",
    "                r_ed_na_arrow = mpatches.FancyArrow(rightx-4, righty+8, +5, 0, width=0.2,ec='#e7298a',fc='#e7298a',ls ='dotted')\n",
    "                ax.text(rightx+2,righty+7.75,str(round(r_ed_na,1)), fontsize=11)\n",
    "                shapes_arr.append(r_ed_na_arrow)\n",
    "                r_net_in += -1*r_ed_na\n",
    "                m_net_out += -1*r_ed_na\n",
    "\n",
    "            r_ed_k = r_ed_dict[\"k\"]*1e10\n",
    "            if r_ed_k >0: \n",
    "                r_ed_k_arrow = mpatches.FancyArrow(rightx+2, righty+6, -5, 0, width=0.2,ec='#7570b3',fc='#7570b3')\n",
    "                ax.text(rightx-7,righty+5.75,str(round(r_ed_k,1)), fontsize=11)\n",
    "                shapes_arr.append(r_ed_k_arrow)\n",
    "                r_net_out += r_ed_k\n",
    "                m_net_in += r_ed_k\n",
    "            else:\n",
    "                r_ed_k_arrow = mpatches.FancyArrow(rightx-4, righty+6, +5, 0, width=0.2,ec='#7570b3',fc='#7570b3')\n",
    "                ax.text(rightx+2,righty+5.75,str(round(r_ed_k,1)), fontsize=11)\n",
    "                shapes_arr.append(r_ed_k_arrow)\n",
    "                r_net_in -= r_ed_k\n",
    "                m_net_out -= r_ed_k\n",
    "\n",
    "            r_ed_cl = r_ed_dict[\"cl\"]*1e10\n",
    "            if r_ed_cl >0: \n",
    "                r_ed_cl_arrow = mpatches.FancyArrow(rightx+2, righty+4, -5, 0, width=0.2,ec='#1b9e77',fc='#1b9e77')\n",
    "                ax.text(rightx-7,righty+3.75,str(round(r_ed_cl,1)),fontsize=11)\n",
    "                shapes_arr.append(r_ed_cl_arrow)\n",
    "                r_net_out -= r_ed_cl\n",
    "                m_net_in -= r_ed_cl\n",
    "            else:\n",
    "                r_ed_cl_arrow = mpatches.FancyArrow(rightx-4, righty+4, +5, 0, width=0.2,ec='#1b9e77',fc='#1b9e77')\n",
    "                ax.text(rightx+2,righty+3.75,str(round(r_ed_cl,1)),fontsize=11)\n",
    "                shapes_arr.append(r_ed_cl_arrow)\n",
    "                r_net_in += r_ed_cl\n",
    "                m_net_out += r_ed_cl\n",
    "\n",
    "            #Right Ion square:\n",
    "            #r_net_rect = mpatches.Rectangle([rightx+8,righty+7],5,2.5, fc='#ebebff')\n",
    "            #shapes_arr.append(r_net_rect)\n",
    "            ax.text(rightx+7.5, righty+8.5,\"Net in: \" + str(round(r_net_in,2)),fontsize=11)\n",
    "            ax.text(rightx+7.5, righty+7.5,\"Net out: \" + str(round(r_net_out,2)),fontsize=11) \n",
    "\n",
    "\n",
    "        ######## Left Compartment\n",
    "\n",
    "        leftx = mainx-22\n",
    "        lefty=4\n",
    "        left_comp=False\n",
    "        l_net_in =0\n",
    "        l_net_out =0\n",
    "\n",
    "        if temp_num+1 != 1:   #if not the first componenent, make rectangle on left\n",
    "\n",
    "            left_comp = True\n",
    "            left_rect = mpatches.Rectangle([leftx,lefty],20,16, fc='#ebebff')\n",
    "            shapes_arr.append(left_rect)\n",
    "            left_atpase = mpatches.Ellipse([leftx+3,lefty+16],width=2, height=4,fc = '#964b00')\n",
    "            left_kcc2 = mpatches.Ellipse([leftx+8,lefty+16],width=4, height=2,fc = '#8f4f66')\n",
    "            shapes_arr.append(left_atpase)\n",
    "            shapes_arr.append(left_kcc2)\n",
    "            \n",
    "            #### Left ATPase\n",
    "            l_na_atpase = master_arr[temp_num-1][-1][11]*1e10\n",
    "            if l_na_atpase >0: #Sodium coming into the compartment\n",
    "                l_na_atpase_arrow = mpatches.FancyArrow(leftx+3, lefty+16,0,-2,width=0.2,ec='#e7298a',fc='#e7298a',ls='--')\n",
    "                ax.text(leftx+2.5,lefty+12.5, str(round(l_na_atpase,1)), fontsize=11)\n",
    "                l_net_in += l_na_atpase\n",
    "            else:\n",
    "                l_na_atpase_arrow = mpatches.FancyArrow(leftx+3, lefty+16,0,+2,width=0.2,ec='#e7298a',fc='#e7298a',ls='--')\n",
    "                ax.text(leftx+2.5,lefty+19, str(round(l_na_atpase,1)*-1), fontsize=11)\n",
    "                l_net_out -= l_na_atpase\n",
    "            shapes_arr.append(l_na_atpase_arrow)\n",
    "\n",
    "            l_k_atpase = master_arr[temp_num-1][-1][14]*1e10\n",
    "            if l_k_atpase >0: #Sodium coming into the compartment\n",
    "                l_k_atpase_arrow = mpatches.FancyArrow(leftx+3, lefty+16,0,-2,width=0.2, ec='#7570b3',fc='#7570b3',ls='--')\n",
    "                ax.text(leftx+2.5,lefty+12.5, str(round(l_k_atpase,1)),fontsize=11)\n",
    "                l_net_in += l_k_atpase\n",
    "            else:\n",
    "                l_k_atpase_arrow = mpatches.FancyArrow(leftx+3, lefty+16,0,+2,width=0.2, ec='#7570b3',fc='#7570b3',ls='--')\n",
    "                ax.text(leftx+2.5,lefty+19, str(round(l_k_atpase,1)*-1), fontsize=11)\n",
    "                l_net_out -= l_k_atpase\n",
    "            shapes_arr.append(l_k_atpase_arrow)\n",
    "            \n",
    "            ######## Left KCC2:\n",
    "        \n",
    "            l_k_kcc2 = master_arr[temp_num-1][-1][15]*1e10\n",
    "            if l_k_kcc2 >0: #Potassium entering via KCC2\n",
    "                l_k_kcc2_arrow = mpatches.FancyArrow(leftx+7, lefty+16,0,-2,width=0.2,ec='#7570b3',fc='#7570b3',ls='--')\n",
    "                ax.text(leftx+6.5,lefty+12.5, str(round(l_k_kcc2,1)),fontsize=11)\n",
    "                l_net_in += l_k_kcc2\n",
    "            else:\n",
    "                l_k_kcc2_arrow = mpatches.FancyArrow(leftx+7, lefty+16,0,+2,width=0.2,ec='#7570b3',fc='#7570b3',ls='--')\n",
    "                ax.text(leftx+6.5,lefty+19, str(round(l_k_kcc2,1)*-1),fontsize=11)\n",
    "                l_net_out -= l_k_kcc2\n",
    "            shapes_arr.append(l_k_kcc2_arrow)\n",
    "\n",
    "            l_cl_kcc2 = master_arr[temp_num-1][-1][18]*1e10\n",
    "            if l_cl_kcc2 >0: #Sodium coming into the compartment\n",
    "                l_cl_kcc2_arrow = mpatches.FancyArrow(leftx+9, lefty+16,0,-2,width=0.2, ec='#1b9e77',fc='#1b9e77',ls='--')\n",
    "                ax.text(leftx+8.5,lefty+12.5, str(round(l_cl_kcc2,1)),fontsize=11)\n",
    "                l_net_in -= l_cl_kcc2\n",
    "            else:\n",
    "                l_cl_kcc2_arrow = mpatches.FancyArrow(leftx+9, lefty+16,0,+2,width=0.2, ec='#1b9e77',fc='#1b9e77',ls='--')\n",
    "                ax.text(leftx+8.5,lefty+19, str(round(l_cl_kcc2,1)*-1),fontsize=11)\n",
    "                l_net_out += l_cl_kcc2\n",
    "            shapes_arr.append(l_cl_kcc2_arrow)\n",
    "            \n",
    "            #d_Na\n",
    "            \n",
    "            l_na_leak = mpatches.Rectangle([leftx+12, lefty+15.5], 2,1,fc='#000000')\n",
    "            shapes_arr.append(l_na_leak)\n",
    "            \n",
    "            l_d_na = master_arr[temp_num-1][-1][10]*1e10\n",
    "            if l_d_na >0: #sodium coming into the left compartment\n",
    "                l_na_arrow = mpatches.FancyArrow(leftx+13, lefty+16, 0, -2, width=0.2, ec='#e7298a',fc='#e7298a')\n",
    "                ax.text(leftx+12.5,lefty+12,str(round(l_d_na,1)), fontsize=11)\n",
    "                l_net_in += l_d_na\n",
    "            else:\n",
    "                l_na_arrow = mpatches.FancyArrow(leftx+13, lefty+16, 0, +2, width=0.2,ec='#e7298a',fc='#e7298a')\n",
    "                ax.text(leftx+12.5,lefty+19,str(round(l_d_na,1)), fontsize=11)\n",
    "                l_net_out += -1*l_d_na\n",
    "            shapes_arr.append(l_na_arrow)\n",
    "\n",
    "            #d_K\n",
    "            \n",
    "            l_k_leak = mpatches.Rectangle([leftx+15, lefty+15.5], 2,1,fc='#000000')\n",
    "            shapes_arr.append(l_k_leak)\n",
    "            \n",
    "            l_d_k = master_arr[temp_num-1][-1][13]*1e10\n",
    "            if l_d_k >0: #potassium coming into the compartment\n",
    "                l_k_arrow = mpatches.FancyArrow(leftx+16, lefty+16, 0, -2, width=0.2,ec='#7570b3',fc='#7570b3')\n",
    "                ax.text(leftx+15.5,lefty+12,str(round(l_d_k,1)),fontsize=11)\n",
    "                l_net_in += l_d_k\n",
    "            else:\n",
    "                l_k_arrow = mpatches.FancyArrow(leftx+16, lefty+16, 0, +2, width=0.2,ec='#7570b3',fc='#7570b3')\n",
    "                ax.text(leftx+15.5,lefty+19,str(round(l_d_k,1)), fontsize=11)\n",
    "                l_net_out += -1*l_d_k\n",
    "            shapes_arr.append(l_k_arrow)\n",
    "\n",
    "\n",
    "            #d_Cl\n",
    "            \n",
    "            l_cl_leak = mpatches.Rectangle([leftx+18, lefty+15.5], 2,1,fc='#000000')\n",
    "            shapes_arr.append(l_cl_leak)\n",
    "            \n",
    "            l_d_cl = master_arr[temp_num-1][-1][17]*1e10\n",
    "            if l_d_cl >0: #chloride coming into the compartment\n",
    "                l_cl_arrow = mpatches.FancyArrow(leftx+19, lefty+16, 0, -2, width=0.2,ec='#1b9e77',fc='#1b9e77')\n",
    "                ax.text(leftx+18,lefty+12,str(round(l_d_cl,1)), fontsize=11)\n",
    "                l_net_in += -1*l_d_cl\n",
    "            else:\n",
    "                l_cl_arrow = mpatches.FancyArrow(leftx+19, lefty+16, 0, +2, width=0.2,ec='#1b9e77',fc='#1b9e77')\n",
    "                ax.text(leftx+18,lefty+19,str(round(l_d_cl,1)), fontsize=11)\n",
    "                l_net_out += l_d_cl\n",
    "            shapes_arr.append(l_cl_arrow)\n",
    "\n",
    "\n",
    "            #Left compartment boundary (electrodiffusion):\n",
    "            \n",
    "            l_ed_dict = sim.ed_conc_changes_arr[temp_num-1]\n",
    "\n",
    "            l_ed_na = l_ed_dict[\"na\"]*1e10\n",
    "            if l_ed_na >0: #sodium leaving the L compartment, entering main compartment via ED\n",
    "                l_ed_na_arrow = mpatches.FancyArrow(mainx+2, mainy+8, -5, 0, width=0.2,ec='#e7298a',fc='#e7298a',hatch ='+')\n",
    "                ax.text(mainx-7,mainy+7.75,str(round(l_ed_na,1)),fontsize=11)\n",
    "                shapes_arr.append(l_ed_na_arrow)\n",
    "                l_net_in += l_ed_na\n",
    "                m_net_out += l_ed_na\n",
    "            else: # sodium entering via ED\n",
    "                l_ed_na_arrow = mpatches.FancyArrow(mainx-4, mainy+8, +5, 0, width=0.2,ec='#e7298a',fc='#e7298a',ls =':')\n",
    "                ax.text(mainx+2,mainy+7.75,str(round(l_ed_na,1)), fontsize=11)\n",
    "                shapes_arr.append(l_ed_na_arrow)\n",
    "                l_net_out -= l_ed_na\n",
    "                m_net_in -= l_ed_na\n",
    "\n",
    "            l_ed_k = l_ed_dict[\"k\"]*1e10\n",
    "            if l_ed_k >0: #K leaving the compartment via ED\n",
    "                l_ed_k_arrow = mpatches.FancyArrow(mainx+2, mainy+6, -5, 0, width=0.2,ec='#7570b3',fc='#7570b3')\n",
    "                ax.text(mainx-7,mainy+5.75,str(round(l_ed_k,1)), fontsize=11)\n",
    "                shapes_arr.append(l_ed_k_arrow)\n",
    "                l_net_in += l_ed_k\n",
    "                m_net_out += l_ed_k\n",
    "            else:\n",
    "                l_ed_k_arrow = mpatches.FancyArrow(mainx-4, mainy+6, +5, 0, width=0.2,ec='#7570b3',fc='#7570b3')\n",
    "                ax.text(mainx+2,mainy+5.75,str(round(l_ed_k,1)), fontsize=11)\n",
    "                shapes_arr.append(l_ed_k_arrow)\n",
    "                l_net_out -= l_ed_k\n",
    "                m_net_in -= l_ed_k\n",
    "\n",
    "            l_ed_cl = l_ed_dict[\"cl\"]*1e10\n",
    "            if l_ed_cl >0: #sodium coming into the compartment\n",
    "                l_ed_cl_arrow = mpatches.FancyArrow(mainx+2, mainy+4, -5, 0, width=0.2,ec='#1b9e77',fc='#1b9e77')\n",
    "                ax.text(mainx-7,mainy+3.75,str(round(l_ed_cl,1)), fontsize=11)\n",
    "                shapes_arr.append(l_ed_cl_arrow)\n",
    "                l_net_in -= l_ed_cl\n",
    "                m_net_out -= l_ed_cl\n",
    "            else:\n",
    "                l_ed_cl_arrow = mpatches.FancyArrow(mainx-4, mainy+4, +5, 0, width=0.2,ec='#1b9e77',fc='#1b9e77')\n",
    "                ax.text(mainx+2,mainy+3.75,str(round(l_ed_cl,1)), fontsize=11)\n",
    "                shapes_arr.append(l_ed_cl_arrow)\n",
    "                l_net_out += l_ed_cl\n",
    "                m_net_in += l_ed_cl\n",
    "\n",
    "\n",
    "\n",
    "            #Left Ion square:\n",
    "            #l_net_rect = mpatches.Rectangle([leftx+8,lefty+7],5,2.5, fc='#ebebff')\n",
    "            #shapes_arr.append(l_net_rect)\n",
    "            ax.text(leftx+7.5, lefty+8.5,\"Net in: \" + str(round(l_net_in,2)),fontsize=11)\n",
    "            ax.text(leftx+7.5, lefty+7.5,\"Net out: \" + str(round(l_net_out,2)),fontsize=11)\n",
    "\n",
    "        #Net Ion square:\n",
    "        #m_net_rect = mpatches.Rectangle([mainx+8,mainy+7],5,2.5,fc='#ebebff')\n",
    "        #shapes_arr.append(m_net_rect)\n",
    "        ax.text(mainx+7.5, mainy+8.5,\"Net in: \" + str(round(m_net_in,2)),fontsize=11)\n",
    "        ax.text(mainx+7.5, mainy+7.5,\"Net out: \" + str(round(m_net_out,2)),fontsize=11)\n",
    "\n",
    "\n",
    "\n",
    "        ######### legend\n",
    "        leg_rect = mpatches.Rectangle([65,32],8,12, fc='white', ec='black')\n",
    "        shapes_arr.append(leg_rect)\n",
    "        ax.text(65.5,44.2,\"Legend\", fontsize=13)\n",
    "        \n",
    "        leg_na_arrow = mpatches.FancyArrow(69, 42.5, 2, 0, width=0.1,ec='#e7298a',fc='#e7298a')\n",
    "        shapes_arr.append(leg_na_arrow)\n",
    "        ax.text(65.5,42.5,\"Na+\", fontsize=12)\n",
    "        \n",
    "        leg_k_arrow = mpatches.FancyArrow(69, 41, 2, 0, width=0.1,ec='#7570b3',fc='#7570b3')\n",
    "        shapes_arr.append(leg_k_arrow)\n",
    "        ax.text(65.5,41,\"K+\", fontsize=12)\n",
    "        \n",
    "        leg_cl_arrow = mpatches.FancyArrow(69, 39.5, 2, 0, width=0.1,ec='#1b9e77',fc='#1b9e77')\n",
    "        shapes_arr.append(leg_cl_arrow)\n",
    "        ax.text(65.5,39.5,\"Cl-\", fontsize=12)\n",
    "        \n",
    "        leg_atpase = mpatches.Ellipse([71,37],width=1, height=2,fc = '#964b00')\n",
    "        shapes_arr.append(leg_atpase)\n",
    "        ax.text(65.5,37,\"ATPase\", fontsize=12)\n",
    "        \n",
    "        leg_kcc2 = mpatches.Ellipse([71,35],width=2, height=1,fc = '#8f4f66')\n",
    "        shapes_arr.append(leg_kcc2)\n",
    "        ax.text(65.5,35,\"KCC2\", fontsize=12)\n",
    "        \n",
    "        leg_leak = mpatches.Rectangle([70, 33], 2,1,fc='#000000')\n",
    "        shapes_arr.append(leg_leak)\n",
    "        ax.text(65.5,33,\"Leak\", fontsize=12)\n",
    "\n",
    "\n",
    "\n",
    "\n",
    "        for j in range(len(shapes_arr)):\n",
    "            ax.add_patch(shapes_arr[j])\n",
    "\n",
    "        \n",
    "\n",
    "        ax.text(mainx+8.5,mainy+1,temp_name, fontsize=16)\n",
    "\n",
    "        if left_comp == True: \n",
    "            ax.text(leftx+8.5,lefty+1,sim.comp_arr[temp_num-1].name, fontsize=16)\n",
    "\n",
    "        if right_comp == True: \n",
    "            ax.text(rightx+8.5,righty+1,sim.comp_arr[temp_num+1].name, fontsize=16)\n",
    "\n",
    "        mplt.axis(\"Scaled\")\n",
    "        #ax.text(mainx,30,\"**All values are in 10^6 mM\", fontsize=16)\n",
    "        ax.axis(\"off\")\n",
    "        \n",
    "        mplt.show()\n",
    "        \n",
    "        def btn_equilib_save_clicked(b):\n",
    "    \n",
    "            f1.savefig(\"BOUNDARY\",format='png')\n",
    "            print(\"Figure titled BOUNDARY saved in local directory\")\n",
    "                       \n",
    "        btn_equilib_save.on_click(btn_equilib_save_clicked)\n",
    "\n",
    "\n",
    "        \n",
    "###########################################################################################################        \n",
    "        \n",
    "\n",
    "        \n",
    "        \n",
    "\n",
    "#############################################################################################################    \n",
    "# Connecting button to backend\n",
    "\n",
    "btn_equilib.on_click(btn_equilib_clicked)\n"
   ]
  },
  {
   "cell_type": "markdown",
   "metadata": {},
   "source": [
    "## D) Generate Simulation Report"
   ]
  },
  {
   "cell_type": "code",
   "execution_count": null,
   "metadata": {},
   "outputs": [],
   "source": [
    "##################################\n",
    "# WIDGET INITIALIZATION:\n",
    "##################################\n",
    "\n",
    "btn_report = widgets.Button(description = \"Generate Report\", button_style = 'info' )\n",
    "output_report = widgets.Output()\n",
    "\n",
    "display(btn_report, output_report)\n",
    "\n",
    "\n",
    "\n",
    "\n",
    "df_start = pd.DataFrame()\n",
    "#df_start.index = ['Radius', 'Length', 'Volume', 'Na_i', 'K_i', 'Cl_i', 'X_i', 'z_i', 'ATP pump rate', 'KCC2 pump rate',\n",
    " #               'Vm', 'Ek', 'ECl']\n",
    "\n",
    "\n",
    "def btn_report_clicked(b):\n",
    "    output_report.clear_output\n",
    "    print(df_start)\n",
    "    \n",
    "btn_report.on_click(btn_report_clicked)"
   ]
  }
 ],
 "metadata": {
  "colab": {
   "authorship_tag": "ABX9TyNvA/g06WRyf+z+DY1D61E0",
   "include_colab_link": true,
   "name": "Multicompartment Sim V1.ipynb",
   "provenance": []
  },
  "extensions": {
   "jupyter_dashboards": {
    "activeView": "grid_default",
    "version": 1,
    "views": {
     "grid_default": {
      "cellMargin": 10,
      "defaultCellHeight": 20,
      "maxColumns": 12,
      "name": "grid",
      "type": "grid"
     },
     "report_default": {
      "name": "report",
      "type": "report"
     }
    }
   }
  },
  "kernelspec": {
   "display_name": "Python 3",
   "language": "python",
   "name": "python3"
  },
  "language_info": {
   "codemirror_mode": {
    "name": "ipython",
    "version": 3
   },
   "file_extension": ".py",
   "mimetype": "text/x-python",
   "name": "python",
   "nbconvert_exporter": "python",
   "pygments_lexer": "ipython3",
   "version": "3.8.5"
  }
 },
 "nbformat": 4,
 "nbformat_minor": 4
}
