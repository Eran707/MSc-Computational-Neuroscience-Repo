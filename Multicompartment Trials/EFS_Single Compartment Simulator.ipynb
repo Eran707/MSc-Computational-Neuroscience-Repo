{
 "cells": [
  {
   "cell_type": "markdown",
   "metadata": {},
   "source": [
    "# Single Compartment Neural Simulator\n"
   ]
  },
  {
   "cell_type": "markdown",
   "metadata": {},
   "source": [
    "## Importing relavant python libraries\n"
   ]
  },
  {
   "cell_type": "code",
   "execution_count": 1,
   "metadata": {},
   "outputs": [
    {
     "name": "stdout",
     "output_type": "stream",
     "text": [
      "All relevant classes imported\n"
     ]
    }
   ],
   "source": [
    "import pandas as pd\n",
    "\n",
    "try:\n",
    "    from ipywidgets import widgets, Layout, interact, interactive, interactive_output, Dropdown\n",
    "    from IPython.display import display\n",
    "    import bqplot as bqp\n",
    "    from bqplot import pyplot as plt # bqplot is a plotting for jupyter\n",
    "    import matplotlib.pyplot as mplt\n",
    "    import common\n",
    "    import constants\n",
    "    import compartment\n",
    "    import electrodiffusion\n",
    "    import numpy as np\n",
    "    import random\n",
    "    import seaborn as sns \n",
    "    import pandas as pd\n",
    "    import graphing as gr\n",
    "    #!pip install viola\n",
    "    ########## Modules required for artist drawing on matplotlib\n",
    "    import matplotlib.path as mpath\n",
    "    import matplotlib.lines as mlines\n",
    "    import matplotlib.patches as mpatches\n",
    "    from matplotlib.collections import PatchCollection\n",
    "    \n",
    "  \n",
    "    \n",
    "    \n",
    "except ModuleNotFoundError:\n",
    "        print(\"A class you are trying to import is not present in the directory\")\n",
    "    \n",
    "except Exception:\n",
    "        print(\"Something went wrong - modules have not been imported\")\n",
    "\n",
    "else: \n",
    "        print(\"All relevant classes imported\")\n",
    "    \n"
   ]
  },
  {
   "cell_type": "markdown",
   "metadata": {},
   "source": [
    "## Setting Compartment parameters\n"
   ]
  },
  {
   "cell_type": "code",
   "execution_count": 31,
   "metadata": {},
   "outputs": [
    {
     "data": {
      "application/vnd.jupyter.widget-view+json": {
       "model_id": "486686ee830d476cb9b467687c49389a",
       "version_major": 2,
       "version_minor": 0
      },
      "text/plain": [
       "Output()"
      ]
     },
     "metadata": {},
     "output_type": "display_data"
    },
    {
     "data": {
      "application/vnd.jupyter.widget-view+json": {
       "model_id": "6c7aa9a5b9c24ea893c4907db983ba21",
       "version_major": 2,
       "version_minor": 0
      },
      "text/plain": [
       "VBox(children=(HBox(children=(Label(value='Compartment Radius (um): '), FloatSlider(value=5.0, continuous_upda…"
      ]
     },
     "metadata": {},
     "output_type": "display_data"
    }
   ],
   "source": [
    "### WIDGET INITIALIZATION ################################################################################\n",
    "\n",
    "lbl_rad = widgets.Label(value = \"Compartment Radius (um): \")\n",
    "sldr_rad = widgets.FloatSlider(value=5, min=1, max=11.0, step=0.5, disabled=False, continuous_update=False,\n",
    "    orientation='horizontal', readout=True, readout_format='.1f')\n",
    "rad_box = widgets.HBox(children = [lbl_rad,sldr_rad])\n",
    "\n",
    "lbl_len = widgets.Label(value = \"Compartment Length (um): \")\n",
    "sldr_len = widgets.FloatSlider(value=100, min=50, max=200, step=20, disabled=False, continuous_update=False,\n",
    "    orientation='horizontal', readout=True, readout_format='.1f')\n",
    "len_box = widgets.HBox(children = [lbl_len,sldr_len])\n",
    "\n",
    "lbl_nai = widgets.Label(value = \"Na+ concentration (mM): \")\n",
    "sldr_nai = widgets.FloatSlider(value=14, min=0, max=100, step=10, disabled=False, continuous_update=False,\n",
    "    orientation='horizontal', readout=True, readout_format='.1f')\n",
    "hbox_nai = widgets.HBox(children = [lbl_nai,sldr_nai])\n",
    "\n",
    "lbl_ki = widgets.Label(value = \"K+ concentration (mM): \")\n",
    "sldr_ki = widgets.FloatSlider(value=122.9, min=0, max=250, step=5, disabled=False, continuous_update=False,\n",
    "    orientation='horizontal', readout=True, readout_format='.1f')\n",
    "hbox_ki = widgets.HBox(children = [lbl_ki,sldr_ki])\n",
    "\n",
    "lbl_cli = widgets.Label(value = \"Cl- concentration (mM): \")\n",
    "sldr_cli = widgets.FloatSlider(value=5.2, min=0, max=50, step=5, disabled=False, continuous_update=False,\n",
    "    orientation='horizontal', readout=True, readout_format='.1f')\n",
    "hbox_cli = widgets.HBox(children = [lbl_cli,sldr_cli])\n",
    "\n",
    "lbl_xi = widgets.Label(value = \"Impermeant anion concentration (mM): \")\n",
    "sldr_xi = widgets.FloatSlider(value=154.9, min=0, max=300, step=10, disabled=False, continuous_update=False,\n",
    "    orientation='horizontal', readout=True, readout_format='.1f')\n",
    "hbox_xi = widgets.HBox(children = [lbl_xi,sldr_xi])\n",
    "\n",
    "lbl_zi = widgets.Label(value = \"Impermeant anion average charge: \")\n",
    "sldr_zi = widgets.FloatSlider(value=-0.85, min=-3, max=0, step=0.05, disabled=False, continuous_update=False,\n",
    "    orientation='horizontal', readout=True, readout_format='.2f')\n",
    "hbox_zi = widgets.HBox(children = [lbl_zi,sldr_zi])\n",
    "\n",
    "\n",
    "lbl_p = widgets.Label(value = \"ATPase pump constant (C/dm^2*s): \")\n",
    "sldr_p = widgets.FloatSlider(value=0.1, min=0.05, max=1, step=0.05, disabled=False, continuous_update=False,\n",
    "    orientation='horizontal', readout=True, readout_format='.2f')\n",
    "hbox_p = widgets.HBox(children = [lbl_p,sldr_p])\n",
    "\n",
    "\n",
    "btn_new_comp = widgets.Button(description = \"Create Compartment\",button_style =\"success\")\n",
    "btn_defaults = widgets.Button(description = \"Reset to defaults\")\n",
    "hbox_btns = widgets.HBox(children = [btn_new_comp, btn_defaults])\n",
    "\n",
    "output1 = widgets.Output()\n",
    "\n",
    "########################################################################################################\n",
    "\n",
    "\n",
    "\n",
    "\n",
    "global R,F,T,RTF,g_x,g_na,g_k,g_cl\n",
    "R = 8.31446 # gas constant\n",
    "F = 96485.33  # Faraday's constant        C mol-1\n",
    "T = 37 + 273.15 #Temperature\n",
    "RTF = R * T / F\n",
    "gx =0\n",
    "gna = 2e-3/F #ionic conductances for each ion\n",
    "gk =  7e-3/F\n",
    "gcl = 2e-3/F \n",
    "\n",
    "\n",
    "\n",
    "df_sim = pd.DataFrame()\n",
    "\n",
    "\n",
    "def new_comp_clicked(b):\n",
    "    \n",
    "    \n",
    "    global df_sim\n",
    "    \n",
    "    radius = sldr_rad.value*1e-5\n",
    "    length = sldr_len.value*1e-5\n",
    "    w = np.pi * (radius ** 2) * length\n",
    "    sa = 2 * np.pi * radius * length\n",
    "    ar = sa/w #area scaling constant\n",
    "    cm = 2e-4 #membrane capacitance \n",
    "    finvcar = F / (cm*ar)\n",
    "    pkcc2 = 2e-3 / F\n",
    "    p = sldr_p.value / F ### LOOK AT KIRAS SINGLE COMP\n",
    "    \n",
    "    nai = sldr_nai.value*1e-3\n",
    "    ki = sldr_ki.value*1e-3\n",
    "    cli = sldr_cli.value*1e-3\n",
    "    xi = sldr_xi.value*1e-3\n",
    "    zi = sldr_zi.value\n",
    "    \n",
    "    df_sim = [radius, length, w, sa, ar, finvar, pkcc2, p, nai, ki,cli,xi,zi ]\n",
    "    df_sim.index = ['Radius', 'Length', 'Volume', 'Surface area', 'Finvar','pkcc2','p',Na_i', 'K_i', 'Cl_i', 'X_i', 'z_i', 'ATP pump rate', 'KCC2 pump rate',\n",
    "                'Vm', 'Ek', 'ECl']\n",
    "    \n",
    "    \n",
    "    with output1: \n",
    "        print(\"Compartment created\")\n",
    "    \n",
    "    \n",
    "    \n",
    "      \n",
    "btn_new_comp.on_click(new_comp_clicked)\n",
    "\n",
    "def btn_defaults_clicked(b):\n",
    "    \n",
    "    \n",
    "    sldr_rad.value=5\n",
    "    sldr_len.value = 100\n",
    "    sldr_nai.value= 14\n",
    "    sldr_ki.value = 122.9\n",
    "    sldr_cli.value = 5.2\n",
    "    sldr_xi.value = 154.9\n",
    "    sldr_zi.value = -0.85\n",
    "    sldr_p.value = 0.1\n",
    "    \n",
    "btn_defaults.on_click(btn_defaults_clicked)\n",
    "\n",
    "\n",
    "vbox_grand = widgets.VBox(children = [rad_box,len_box, hbox_nai,hbox_ki,hbox_cli,hbox_xi,hbox_zi,hbox_p,hbox_btns], layout=Layout(border =\"solid\"))\n",
    "\n",
    "display(output1,vbox_grand)\n",
    "\n",
    "\n",
    "\n",
    "\n",
    "\n"
   ]
  },
  {
   "cell_type": "markdown",
   "metadata": {},
   "source": [
    "# Set timing\n"
   ]
  },
  {
   "cell_type": "code",
   "execution_count": 32,
   "metadata": {},
   "outputs": [
    {
     "data": {
      "application/vnd.jupyter.widget-view+json": {
       "model_id": "1dadf94f2b3d45cc959187edec9c878b",
       "version_major": 2,
       "version_minor": 0
      },
      "text/plain": [
       "VBox(children=(HBox(children=(Label(value='Set the simulation run time (minutes):'), FloatSlider(value=1.0, co…"
      ]
     },
     "metadata": {},
     "output_type": "display_data"
    }
   ],
   "source": [
    "global total_t,dt,t_arr\n",
    "\n",
    "### TOTAL TIME\n",
    "lbl_total_t = widgets.Label(value=\"Set the simulation run time (minutes):\")\n",
    "\n",
    "sldr_total_t = widgets.FloatSlider(value=1, min=0.5, max=20, step=0.5, disabled=False, continuous_update=False, orientation='horizontal',\n",
    "    readout=True, readout_format='.2f')\n",
    "HBox_total_t = widgets.HBox(children = [lbl_total_t,sldr_total_t])\n",
    "\n",
    "\n",
    "### TIME STEP\n",
    "lbl_dt = widgets.Label(value=\"Set the simulation time step (milliseconds):\")\n",
    "sldr_dt = widgets.FloatSlider(value=1, min=1, max=5, step=0.2, disabled=False, continuous_update=False, orientation='horizontal',\n",
    "    readout=True, readout_format='.2f')\n",
    "HBox_dt = widgets.HBox(children = [lbl_dt,sldr_dt])\n",
    "\n",
    "    \n",
    "t_arr = [0]\n",
    "\n",
    "\n",
    "vbox_t = widgets.VBox([HBox_total_t,HBox_dt], layout=Layout(border='solid'))\n",
    "\n",
    "\n",
    "\n",
    "display(vbox_t)\n",
    "\n",
    "\n",
    "#print(\"Set total simulation time (minutes):\")\n",
    "\n",
    "#print(\"Set time step (milliseconds):\")"
   ]
  },
  {
   "cell_type": "markdown",
   "metadata": {},
   "source": [
    "# Run Simulation"
   ]
  },
  {
   "cell_type": "code",
   "execution_count": 33,
   "metadata": {},
   "outputs": [
    {
     "data": {
      "application/vnd.jupyter.widget-view+json": {
       "model_id": "bd29dd2d770141eb930604dbe4d11a76",
       "version_major": 2,
       "version_minor": 0
      },
      "text/plain": [
       "Button(button_style='danger', description='Run Simulation', style=ButtonStyle())"
      ]
     },
     "metadata": {},
     "output_type": "display_data"
    },
    {
     "data": {
      "application/vnd.jupyter.widget-view+json": {
       "model_id": "d334192f336c486a9a20d32797253902",
       "version_major": 2,
       "version_minor": 0
      },
      "text/plain": [
       "Output()"
      ]
     },
     "metadata": {},
     "output_type": "display_data"
    },
    {
     "data": {
      "application/vnd.jupyter.widget-view+json": {
       "model_id": "fa0fe6cd67f144afb5c9abe5901b08cc",
       "version_major": 2,
       "version_minor": 0
      },
      "text/plain": [
       "Output()"
      ]
     },
     "metadata": {},
     "output_type": "display_data"
    },
    {
     "ename": "UnboundLocalError",
     "evalue": "local variable 'ar' referenced before assignment",
     "output_type": "error",
     "traceback": [
      "\u001b[1;31m---------------------------------------------------------------------------\u001b[0m",
      "\u001b[1;31mUnboundLocalError\u001b[0m                         Traceback (most recent call last)",
      "\u001b[1;32m<ipython-input-33-b23f44a80f86>\u001b[0m in \u001b[0;36mbtn_sim_clicked\u001b[1;34m(b)\u001b[0m\n\u001b[0;32m     37\u001b[0m     \u001b[0minterval\u001b[0m \u001b[1;33m=\u001b[0m \u001b[0mtotal_t\u001b[0m\u001b[1;33m/\u001b[0m\u001b[0mdt\u001b[0m\u001b[1;33m\u001b[0m\u001b[1;33m\u001b[0m\u001b[0m\n\u001b[0;32m     38\u001b[0m     \u001b[0mrun_t\u001b[0m\u001b[1;33m=\u001b[0m\u001b[1;36m0\u001b[0m\u001b[1;33m\u001b[0m\u001b[1;33m\u001b[0m\u001b[0m\n\u001b[1;32m---> 39\u001b[1;33m     \u001b[0mfinvcar\u001b[0m \u001b[1;33m=\u001b[0m \u001b[0mF\u001b[0m \u001b[1;33m/\u001b[0m \u001b[1;33m(\u001b[0m\u001b[0mcm\u001b[0m\u001b[1;33m*\u001b[0m\u001b[0mar\u001b[0m\u001b[1;33m)\u001b[0m\u001b[1;33m\u001b[0m\u001b[1;33m\u001b[0m\u001b[0m\n\u001b[0m\u001b[0;32m     40\u001b[0m \u001b[1;33m\u001b[0m\u001b[0m\n\u001b[0;32m     41\u001b[0m \u001b[1;33m\u001b[0m\u001b[0m\n",
      "\u001b[1;31mUnboundLocalError\u001b[0m: local variable 'ar' referenced before assignment"
     ]
    }
   ],
   "source": [
    "\n",
    "btn_sim = widgets.Button(description =\"Run Simulation\", button_style=\"Danger\",disabled=False)\n",
    "output_sim = widgets.Output()\n",
    "output_prg = widgets.Output()\n",
    "\n",
    "\n",
    "global SIM_OVER,na_arr, k_arr, cl_arr, x_arr, vm_arr, ecl_arr, ek_arr, w_arr, dna_arr, dk_arr, dcl_arr \n",
    "SIM_OVER = False\n",
    "\n",
    "nao = 145e-3\n",
    "clo = 119e-3\n",
    "ko = 3.5e-3\n",
    "xo = 29.5e-3\n",
    "\n",
    "\n",
    "na_arr =[nai]\n",
    "k_arr =[ki]\n",
    "cl_arr =[cli]\n",
    "x_arr =[xi]\n",
    "vm_arr= [finvcar * (nai +ki + (zi*xi)-cli)]\n",
    "ecl_arr =[RTF * np.log(ki/ko)]\n",
    "ek_arr =[RTF *np.log(cli/clo)]\n",
    "dna_arr =[0]\n",
    "dk_arr =[0]\n",
    "dcl_arr =[0]\n",
    "w_arr =[w]\n",
    "\n",
    "\n",
    "\n",
    "\n",
    "\n",
    "def btn_sim_clicked(b):\n",
    "  \n",
    "       \n",
    "    global dt,total_t\n",
    "    dt=sldr_dt.value*1e-3\n",
    "    total_t= sldr_total_t.value *60\n",
    "    interval = total_t/dt\n",
    "    run_t=0\n",
    "    finvcar = F / (cm*ar)\n",
    "    \n",
    "  \n",
    "    prg = widgets.FloatProgress(description='Simulating...', min=0,step=dt,max=total_t,value=0,continuous_update=True)\n",
    "    with output_prg:\n",
    "        display(prg)\n",
    "    \n",
    "        \n",
    "\n",
    "    while run_t < total_t:\n",
    "\n",
    "        dna = 0\n",
    "        dk = 0\n",
    "        dcl = 0\n",
    "        \n",
    "        vm =  finvcar * (nai +ki + (zi*xi)-cli)\n",
    "        ek =  RTF * np.log(ki/ko)\n",
    "        ecl = RTF *np.log(cli/clo)\n",
    "        \n",
    "        jp = p * (nai/nao)**3\n",
    "        jkkc2 = pkcc2 *(ek-ecl)\n",
    "        \n",
    "        dna = -dt * ar * (gna * (vm + RTF*np.log(nai/nao)) +3*jp ) \n",
    "        dk = -dt * ar * (gk * (vm + RTF*np.log(ki/ko)) -2*jp -jkk2) \n",
    "        dcl = dt * ar * (gcl * (vm + RTF*np.log(cli/clo)) +jkkc2 ) \n",
    "        \n",
    "        na += dna\n",
    "        k += dk\n",
    "        cl += dcl\n",
    "        \n",
    "        \n",
    "        osmi = nai + ki + cli +xi \n",
    "        osmo = nao + ko + clo +xo\n",
    "        dw = dt * 0.018 * 0.018 *sa * (osmi - osmo)\n",
    "        w2 = w + dw\n",
    "        \n",
    "        nai = nai * (w/w2)\n",
    "        ki = ki * (w/w2)\n",
    "        cli = cli * (w/w2)\n",
    "        xi = xi * (w/w2)\n",
    "        \n",
    "        w =w2\n",
    "        radius = np.sqrt(w/ (np.pi * length))\n",
    "        sa = 2 * np.pi * radius * length\n",
    "        ar = sa/w\n",
    "        finvcar = F / (cm*ar)\n",
    "        \n",
    "        vm_arr.append(vm)\n",
    "        ek_arr.append(ek)\n",
    "        ecl_arr.append(ecl)\n",
    "        na_arr.append(nai)\n",
    "        k_arr.append(ki)\n",
    "        cl_arr.append(cli)\n",
    "        x_arr.append(xi)\n",
    "        t_att.append(run_t)\n",
    "               \n",
    "        \n",
    "        run_t += dt\n",
    "        \n",
    "        \n",
    "\n",
    "       \n",
    "    SIM_OVER = True\n",
    "    btn_sim.disabled=True\n",
    "    \n",
    "    with output7:  \n",
    "        print(\"Simulation complete!\")\n",
    "        \n",
    "        \n",
    "        \n",
    "\n",
    "\n",
    "\n",
    "display(btn_sim,output_prg,output_sim)\n",
    "        \n",
    "btn_sim.on_click(btn_sim_clicked)  \n",
    "\n"
   ]
  },
  {
   "cell_type": "code",
   "execution_count": null,
   "metadata": {},
   "outputs": [],
   "source": []
  }
 ],
 "metadata": {
  "kernelspec": {
   "display_name": "Python 3",
   "language": "python",
   "name": "python3"
  },
  "language_info": {
   "codemirror_mode": {
    "name": "ipython",
    "version": 3
   },
   "file_extension": ".py",
   "mimetype": "text/x-python",
   "name": "python",
   "nbconvert_exporter": "python",
   "pygments_lexer": "ipython3",
   "version": "3.8.3"
  }
 },
 "nbformat": 4,
 "nbformat_minor": 4
}
