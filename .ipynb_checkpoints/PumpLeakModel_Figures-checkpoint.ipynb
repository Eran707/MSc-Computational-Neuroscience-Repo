{
 "cells": [
  {
   "cell_type": "markdown",
   "metadata": {
    "colab_type": "text",
    "id": "view-in-github"
   },
   "source": [
    "<a href=\"https://colab.research.google.com/github/Eran707/MSc-Computational-Neuroscience-Repo/blob/master/PumpLeakModel_Figures.ipynb\" target=\"_parent\"><img src=\"https://colab.research.google.com/assets/colab-badge.svg\" alt=\"Open In Colab\"/></a>"
   ]
  },
  {
   "cell_type": "code",
   "execution_count": 6,
   "metadata": {
    "colab": {},
    "colab_type": "code",
    "id": "uVYUSjVw9RjJ"
   },
   "outputs": [],
   "source": [
    "import matplotlib.pyplot as plt\n",
    "import seaborn as sns\n",
    "from Graphing import clcolor, kcolor, xcolor,nacolor,wcolor\n",
    "import Class_Single_Compartment_PLM as PLM"
   ]
  },
  {
   "cell_type": "code",
   "execution_count": null,
   "metadata": {},
   "outputs": [],
   "source": [
    "def F1b(init_cl=[1e-3,15e-3,50e-3,90e-3]):\n",
    "    \n",
    "    Figure_1 = plt.figure()\n",
    "    \n",
    "    Subplot_1 = Figure_1.add_subplot(2,1,1)\n",
    "    Subplot_2 = Figure_1.add_subplot(2,1,2)\n",
    "    Subplot_1.set_ylabel = '[Cl-] (mM)'\n",
    "    Subplot_2.set_ylabel = 'Volume (pL)'\n",
    "    Subplot_1.set_axis_off\n",
    "    sns.despine\n",
    "    \n",
    "    for i in range(len(init_cl)):\n",
    "        Fig1B_Sim = PLM.SingleCompartment_PumpLeak()\n",
    "        Fig1B_Sim.Set_Concentrations(Cl=[init_cl[i],119e-3],K=[0,3.5e-3])\n",
    "        Fig1B_Sim.Set_LeakConductances()\n",
    "        Fig1B_Sim.Initialize_Arrays()\n",
    "        Fig1B_Sim.Set_NaKATPase_Properties(time_off=1000000,time_on=0)\n",
    "        Fig1B_Sim.Set_KCC2_Properties()\n",
    "        Fig1B_Sim.Set_Timing(duration = 5000 ,time_step = 1e-3)\n",
    "        Fig1B_Sim.Simulate_PLM()\n",
    "        if i ==0:\n",
    "            Subplot_1.plot(Fig1B_Sim.t_arr,Fig1B_Sim.cl_arr,color=clcolor,ls='solid')\n",
    "            Subplot_2.plot(Fig1B_Sim.t_arr,Fig1B_Sim.volume_arr,color='k',ls='solid')\n",
    "        else: \n",
    "            Subplot_1.plot(Fig1B_Sim.t_arr,Fig1B_Sim.cl_arr,color=clcolor,ls='--')\n",
    "            Subplot_2.plot(Fig1B_Sim.t_arr,Fig1B_Sim.volume_arr,color='k',ls='--')\n",
    "       \n",
    "\n",
    "F1b()"
   ]
  },
  {
   "cell_type": "code",
   "execution_count": null,
   "metadata": {},
   "outputs": [],
   "source": []
  }
 ],
 "metadata": {
  "colab": {
   "authorship_tag": "ABX9TyNfQ0KagwSlpLl/mt/LCrlf",
   "collapsed_sections": [],
   "include_colab_link": true,
   "name": "PumpLeakModel_Figures",
   "provenance": []
  },
  "kernelspec": {
   "display_name": "Python 3",
   "language": "python",
   "name": "python3"
  },
  "language_info": {
   "codemirror_mode": {
    "name": "ipython",
    "version": 3
   },
   "file_extension": ".py",
   "mimetype": "text/x-python",
   "name": "python",
   "nbconvert_exporter": "python",
   "pygments_lexer": "ipython3",
   "version": "3.7.1"
  }
 },
 "nbformat": 4,
 "nbformat_minor": 1
}
